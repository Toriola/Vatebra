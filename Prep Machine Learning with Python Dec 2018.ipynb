{
 "cells": [
  {
   "cell_type": "code",
   "execution_count": 721,
   "metadata": {},
   "outputs": [
    {
     "data": {
      "text/html": [
       "<script type=\"text/javascript\">window.PlotlyConfig = {MathJaxConfig: 'local'};</script><script type=\"text/javascript\">if (window.MathJax) {MathJax.Hub.Config({SVG: {font: \"STIX-Web\"}});}</script><script>requirejs.config({paths: { 'plotly': ['https://cdn.plot.ly/plotly-latest.min']},});if(!window._Plotly) {require(['plotly'],function(plotly) {window._Plotly=plotly;});}</script>"
      ],
      "text/vnd.plotly.v1+html": [
       "<script type=\"text/javascript\">window.PlotlyConfig = {MathJaxConfig: 'local'};</script><script type=\"text/javascript\">if (window.MathJax) {MathJax.Hub.Config({SVG: {font: \"STIX-Web\"}});}</script><script>requirejs.config({paths: { 'plotly': ['https://cdn.plot.ly/plotly-latest.min']},});if(!window._Plotly) {require(['plotly'],function(plotly) {window._Plotly=plotly;});}</script>"
      ]
     },
     "metadata": {},
     "output_type": "display_data"
    }
   ],
   "source": [
    "import numpy as np\n",
    "import pandas as pd\n",
    "import matplotlib.pyplot as plot\n",
    "import matplotlib.pyplot as plt\n",
    "import matplotlib.cm as cm\n",
    "import seaborn as sns\n",
    "import sklearn.feature_selection\n",
    "from sklearn.decomposition import PCA\n",
    "from sklearn.cluster import KMeans\n",
    "from sklearn.linear_model import LogisticRegression\n",
    "from sklearn.ensemble import RandomForestClassifier\n",
    "from sklearn.neighbors import KNeighborsClassifier\n",
    "from sklearn.model_selection import train_test_split\n",
    "from sklearn.model_selection import KFold\n",
    "import warnings\n",
    "warnings.filterwarnings(\"ignore\")\n",
    "import io\n",
    "import os\n",
    "import plotly.offline as py\n",
    "py.init_notebook_mode(connected=True)\n",
    "import plotly.graph_objs as go\n",
    "import plotly.tools as tls\n",
    "import plotly.figure_factory as ff\n",
    "from sklearn.model_selection import cross_val_score\n",
    "from sklearn import model_selection\n",
    "from sklearn import tree\n",
    "from sklearn.metrics import roc_curve, roc_auc_score, accuracy_score,classification_report, confusion_matrix\n",
    "% matplotlib inline\n",
    "sns.set()"
   ]
  },
  {
   "cell_type": "code",
   "execution_count": 722,
   "metadata": {},
   "outputs": [],
   "source": [
    "traindata = pd.read_csv('loan-train.csv')"
   ]
  },
  {
   "cell_type": "code",
   "execution_count": 723,
   "metadata": {},
   "outputs": [
    {
     "data": {
      "text/html": [
       "<div>\n",
       "<style scoped>\n",
       "    .dataframe tbody tr th:only-of-type {\n",
       "        vertical-align: middle;\n",
       "    }\n",
       "\n",
       "    .dataframe tbody tr th {\n",
       "        vertical-align: top;\n",
       "    }\n",
       "\n",
       "    .dataframe thead th {\n",
       "        text-align: right;\n",
       "    }\n",
       "</style>\n",
       "<table border=\"1\" class=\"dataframe\">\n",
       "  <thead>\n",
       "    <tr style=\"text-align: right;\">\n",
       "      <th></th>\n",
       "      <th>Loan_ID</th>\n",
       "      <th>Gender</th>\n",
       "      <th>Married</th>\n",
       "      <th>Dependents</th>\n",
       "      <th>Education</th>\n",
       "      <th>Self_Employed</th>\n",
       "      <th>ApplicantIncome</th>\n",
       "      <th>CoapplicantIncome</th>\n",
       "      <th>LoanAmount</th>\n",
       "      <th>Loan_Amount_Term</th>\n",
       "      <th>Credit_History</th>\n",
       "      <th>Property_Area</th>\n",
       "      <th>Loan_Status</th>\n",
       "    </tr>\n",
       "  </thead>\n",
       "  <tbody>\n",
       "    <tr>\n",
       "      <th>0</th>\n",
       "      <td>LP001002</td>\n",
       "      <td>Male</td>\n",
       "      <td>No</td>\n",
       "      <td>0</td>\n",
       "      <td>Graduate</td>\n",
       "      <td>No</td>\n",
       "      <td>5849</td>\n",
       "      <td>0.0</td>\n",
       "      <td>NaN</td>\n",
       "      <td>360.0</td>\n",
       "      <td>1.0</td>\n",
       "      <td>Urban</td>\n",
       "      <td>Y</td>\n",
       "    </tr>\n",
       "    <tr>\n",
       "      <th>1</th>\n",
       "      <td>LP001003</td>\n",
       "      <td>Male</td>\n",
       "      <td>Yes</td>\n",
       "      <td>1</td>\n",
       "      <td>Graduate</td>\n",
       "      <td>No</td>\n",
       "      <td>4583</td>\n",
       "      <td>1508.0</td>\n",
       "      <td>128.0</td>\n",
       "      <td>360.0</td>\n",
       "      <td>1.0</td>\n",
       "      <td>Rural</td>\n",
       "      <td>N</td>\n",
       "    </tr>\n",
       "    <tr>\n",
       "      <th>2</th>\n",
       "      <td>LP001005</td>\n",
       "      <td>Male</td>\n",
       "      <td>Yes</td>\n",
       "      <td>0</td>\n",
       "      <td>Graduate</td>\n",
       "      <td>Yes</td>\n",
       "      <td>3000</td>\n",
       "      <td>0.0</td>\n",
       "      <td>66.0</td>\n",
       "      <td>360.0</td>\n",
       "      <td>1.0</td>\n",
       "      <td>Urban</td>\n",
       "      <td>Y</td>\n",
       "    </tr>\n",
       "    <tr>\n",
       "      <th>3</th>\n",
       "      <td>LP001006</td>\n",
       "      <td>Male</td>\n",
       "      <td>Yes</td>\n",
       "      <td>0</td>\n",
       "      <td>Not Graduate</td>\n",
       "      <td>No</td>\n",
       "      <td>2583</td>\n",
       "      <td>2358.0</td>\n",
       "      <td>120.0</td>\n",
       "      <td>360.0</td>\n",
       "      <td>1.0</td>\n",
       "      <td>Urban</td>\n",
       "      <td>Y</td>\n",
       "    </tr>\n",
       "    <tr>\n",
       "      <th>4</th>\n",
       "      <td>LP001008</td>\n",
       "      <td>Male</td>\n",
       "      <td>No</td>\n",
       "      <td>0</td>\n",
       "      <td>Graduate</td>\n",
       "      <td>No</td>\n",
       "      <td>6000</td>\n",
       "      <td>0.0</td>\n",
       "      <td>141.0</td>\n",
       "      <td>360.0</td>\n",
       "      <td>1.0</td>\n",
       "      <td>Urban</td>\n",
       "      <td>Y</td>\n",
       "    </tr>\n",
       "  </tbody>\n",
       "</table>\n",
       "</div>"
      ],
      "text/plain": [
       "    Loan_ID Gender Married Dependents     Education Self_Employed  \\\n",
       "0  LP001002   Male      No          0      Graduate            No   \n",
       "1  LP001003   Male     Yes          1      Graduate            No   \n",
       "2  LP001005   Male     Yes          0      Graduate           Yes   \n",
       "3  LP001006   Male     Yes          0  Not Graduate            No   \n",
       "4  LP001008   Male      No          0      Graduate            No   \n",
       "\n",
       "   ApplicantIncome  CoapplicantIncome  LoanAmount  Loan_Amount_Term  \\\n",
       "0             5849                0.0         NaN             360.0   \n",
       "1             4583             1508.0       128.0             360.0   \n",
       "2             3000                0.0        66.0             360.0   \n",
       "3             2583             2358.0       120.0             360.0   \n",
       "4             6000                0.0       141.0             360.0   \n",
       "\n",
       "   Credit_History Property_Area Loan_Status  \n",
       "0             1.0         Urban           Y  \n",
       "1             1.0         Rural           N  \n",
       "2             1.0         Urban           Y  \n",
       "3             1.0         Urban           Y  \n",
       "4             1.0         Urban           Y  "
      ]
     },
     "execution_count": 723,
     "metadata": {},
     "output_type": "execute_result"
    }
   ],
   "source": [
    "traindata.head()"
   ]
  },
  {
   "cell_type": "code",
   "execution_count": 724,
   "metadata": {},
   "outputs": [],
   "source": [
    "#Loan Status = Y represents performing loans\n",
    "#Loan Status = N represents non-performing loans"
   ]
  },
  {
   "cell_type": "code",
   "execution_count": 725,
   "metadata": {},
   "outputs": [
    {
     "data": {
      "image/png": "[encoded data removed]",
      "text/plain": [
       "<Figure size 936x432 with 2 Axes>"
      ]
     },
     "metadata": {},
     "output_type": "display_data"
    }
   ],
   "source": [
    "plt.figure(figsize=(13,6))\n",
    "plt.subplot(121)\n",
    "traindata[\"Loan_Status\"].value_counts().plot.pie(autopct  = \"%1.0f%%\",\n",
    "                                        fontsize = 12,\n",
    "                                        wedgeprops = {\"linewidth\" : 2,\n",
    "                                                      \"edgecolor\" : \"w\"},\n",
    "                                       )\n",
    "plt.title(\"Proportion of Customer Loan Status\")\n",
    "plt.ylabel(\"\")\n",
    "\n",
    "plt.subplot(122)\n",
    "ax = sns.countplot(y = traindata[\"Loan_Status\"],linewidth = 2,\n",
    "                   edgecolor = \"k\"*traindata[\"Loan_Status\"].nunique())\n",
    "for i,j in enumerate(traindata[\"Loan_Status\"].value_counts().values) : \n",
    "    ax.text(.1,i,j,fontsize = 15,color = \"k\")\n",
    "plt.title(\"Proportion of Customer Loan Status\")\n",
    "plt.grid(True,alpha = .1)\n",
    "    \n",
    "plt.show()"
   ]
  },
  {
   "cell_type": "code",
   "execution_count": 726,
   "metadata": {},
   "outputs": [
    {
     "data": {
      "text/html": [
       "<div>\n",
       "<style scoped>\n",
       "    .dataframe tbody tr th:only-of-type {\n",
       "        vertical-align: middle;\n",
       "    }\n",
       "\n",
       "    .dataframe tbody tr th {\n",
       "        vertical-align: top;\n",
       "    }\n",
       "\n",
       "    .dataframe thead th {\n",
       "        text-align: right;\n",
       "    }\n",
       "</style>\n",
       "<table border=\"1\" class=\"dataframe\">\n",
       "  <thead>\n",
       "    <tr style=\"text-align: right;\">\n",
       "      <th></th>\n",
       "      <th>ApplicantIncome</th>\n",
       "      <th>CoapplicantIncome</th>\n",
       "      <th>LoanAmount</th>\n",
       "      <th>Loan_Amount_Term</th>\n",
       "      <th>Credit_History</th>\n",
       "    </tr>\n",
       "  </thead>\n",
       "  <tbody>\n",
       "    <tr>\n",
       "      <th>count</th>\n",
       "      <td>614.000000</td>\n",
       "      <td>614.000000</td>\n",
       "      <td>592.000000</td>\n",
       "      <td>600.00000</td>\n",
       "      <td>564.000000</td>\n",
       "    </tr>\n",
       "    <tr>\n",
       "      <th>mean</th>\n",
       "      <td>5403.459283</td>\n",
       "      <td>1621.245798</td>\n",
       "      <td>146.412162</td>\n",
       "      <td>342.00000</td>\n",
       "      <td>0.842199</td>\n",
       "    </tr>\n",
       "    <tr>\n",
       "      <th>std</th>\n",
       "      <td>6109.041673</td>\n",
       "      <td>2926.248369</td>\n",
       "      <td>85.587325</td>\n",
       "      <td>65.12041</td>\n",
       "      <td>0.364878</td>\n",
       "    </tr>\n",
       "    <tr>\n",
       "      <th>min</th>\n",
       "      <td>150.000000</td>\n",
       "      <td>0.000000</td>\n",
       "      <td>9.000000</td>\n",
       "      <td>12.00000</td>\n",
       "      <td>0.000000</td>\n",
       "    </tr>\n",
       "    <tr>\n",
       "      <th>25%</th>\n",
       "      <td>2877.500000</td>\n",
       "      <td>0.000000</td>\n",
       "      <td>100.000000</td>\n",
       "      <td>360.00000</td>\n",
       "      <td>1.000000</td>\n",
       "    </tr>\n",
       "    <tr>\n",
       "      <th>50%</th>\n",
       "      <td>3812.500000</td>\n",
       "      <td>1188.500000</td>\n",
       "      <td>128.000000</td>\n",
       "      <td>360.00000</td>\n",
       "      <td>1.000000</td>\n",
       "    </tr>\n",
       "    <tr>\n",
       "      <th>75%</th>\n",
       "      <td>5795.000000</td>\n",
       "      <td>2297.250000</td>\n",
       "      <td>168.000000</td>\n",
       "      <td>360.00000</td>\n",
       "      <td>1.000000</td>\n",
       "    </tr>\n",
       "    <tr>\n",
       "      <th>max</th>\n",
       "      <td>81000.000000</td>\n",
       "      <td>41667.000000</td>\n",
       "      <td>700.000000</td>\n",
       "      <td>480.00000</td>\n",
       "      <td>1.000000</td>\n",
       "    </tr>\n",
       "  </tbody>\n",
       "</table>\n",
       "</div>"
      ],
      "text/plain": [
       "       ApplicantIncome  CoapplicantIncome  LoanAmount  Loan_Amount_Term  \\\n",
       "count       614.000000         614.000000  592.000000         600.00000   \n",
       "mean       5403.459283        1621.245798  146.412162         342.00000   \n",
       "std        6109.041673        2926.248369   85.587325          65.12041   \n",
       "min         150.000000           0.000000    9.000000          12.00000   \n",
       "25%        2877.500000           0.000000  100.000000         360.00000   \n",
       "50%        3812.500000        1188.500000  128.000000         360.00000   \n",
       "75%        5795.000000        2297.250000  168.000000         360.00000   \n",
       "max       81000.000000       41667.000000  700.000000         480.00000   \n",
       "\n",
       "       Credit_History  \n",
       "count      564.000000  \n",
       "mean         0.842199  \n",
       "std          0.364878  \n",
       "min          0.000000  \n",
       "25%          1.000000  \n",
       "50%          1.000000  \n",
       "75%          1.000000  \n",
       "max          1.000000  "
      ]
     },
     "execution_count": 726,
     "metadata": {},
     "output_type": "execute_result"
    }
   ],
   "source": [
    "traindata.describe()"
   ]
  },
  {
   "cell_type": "code",
   "execution_count": 727,
   "metadata": {},
   "outputs": [
    {
     "name": "stdout",
     "output_type": "stream",
     "text": [
      "<class 'pandas.core.frame.DataFrame'>\n",
      "RangeIndex: 614 entries, 0 to 613\n",
      "Data columns (total 13 columns):\n",
      "Loan_ID              614 non-null object\n",
      "Gender               601 non-null object\n",
      "Married              611 non-null object\n",
      "Dependents           599 non-null object\n",
      "Education            614 non-null object\n",
      "Self_Employed        582 non-null object\n",
      "ApplicantIncome      614 non-null int64\n",
      "CoapplicantIncome    614 non-null float64\n",
      "LoanAmount           592 non-null float64\n",
      "Loan_Amount_Term     600 non-null float64\n",
      "Credit_History       564 non-null float64\n",
      "Property_Area        614 non-null object\n",
      "Loan_Status          614 non-null object\n",
      "dtypes: float64(4), int64(1), object(8)\n",
      "memory usage: 62.4+ KB\n"
     ]
    }
   ],
   "source": [
    "traindata.info()"
   ]
  },
  {
   "cell_type": "code",
   "execution_count": 728,
   "metadata": {},
   "outputs": [
    {
     "data": {
      "text/plain": [
       "0"
      ]
     },
     "execution_count": 728,
     "metadata": {},
     "output_type": "execute_result"
    }
   ],
   "source": [
    "traindata.duplicated().sum()"
   ]
  },
  {
   "cell_type": "code",
   "execution_count": 729,
   "metadata": {},
   "outputs": [
    {
     "data": {
      "text/plain": [
       "Loan_ID               0\n",
       "Gender               13\n",
       "Married               3\n",
       "Dependents           15\n",
       "Education             0\n",
       "Self_Employed        32\n",
       "ApplicantIncome       0\n",
       "CoapplicantIncome     0\n",
       "LoanAmount           22\n",
       "Loan_Amount_Term     14\n",
       "Credit_History       50\n",
       "Property_Area         0\n",
       "Loan_Status           0\n",
       "dtype: int64"
      ]
     },
     "execution_count": 729,
     "metadata": {},
     "output_type": "execute_result"
    }
   ],
   "source": [
    "traindata.isnull().sum()"
   ]
  },
  {
   "cell_type": "code",
   "execution_count": 730,
   "metadata": {},
   "outputs": [
    {
     "data": {
      "text/plain": [
       "0    Male\n",
       "dtype: object"
      ]
     },
     "execution_count": 730,
     "metadata": {},
     "output_type": "execute_result"
    }
   ],
   "source": [
    "traindata.Gender.mode()"
   ]
  },
  {
   "cell_type": "code",
   "execution_count": 731,
   "metadata": {},
   "outputs": [],
   "source": [
    "train_data = traindata"
   ]
  },
  {
   "cell_type": "code",
   "execution_count": 732,
   "metadata": {},
   "outputs": [],
   "source": [
    "train_data.Gender.fillna('Male', inplace = True)"
   ]
  },
  {
   "cell_type": "code",
   "execution_count": 733,
   "metadata": {},
   "outputs": [
    {
     "data": {
      "text/plain": [
       "0"
      ]
     },
     "execution_count": 733,
     "metadata": {},
     "output_type": "execute_result"
    }
   ],
   "source": [
    "train_data.Gender.isnull().sum()"
   ]
  },
  {
   "cell_type": "code",
   "execution_count": 734,
   "metadata": {},
   "outputs": [
    {
     "data": {
      "text/plain": [
       "0    Yes\n",
       "dtype: object"
      ]
     },
     "execution_count": 734,
     "metadata": {},
     "output_type": "execute_result"
    }
   ],
   "source": [
    "traindata.Married.mode()"
   ]
  },
  {
   "cell_type": "code",
   "execution_count": 735,
   "metadata": {},
   "outputs": [],
   "source": [
    "train_data.Married.fillna('Yes', inplace = True)"
   ]
  },
  {
   "cell_type": "code",
   "execution_count": 736,
   "metadata": {},
   "outputs": [
    {
     "data": {
      "text/plain": [
       "0"
      ]
     },
     "execution_count": 736,
     "metadata": {},
     "output_type": "execute_result"
    }
   ],
   "source": [
    "train_data.Married.isnull().sum()"
   ]
  },
  {
   "cell_type": "code",
   "execution_count": 737,
   "metadata": {},
   "outputs": [
    {
     "data": {
      "text/plain": [
       "0    0\n",
       "dtype: object"
      ]
     },
     "execution_count": 737,
     "metadata": {},
     "output_type": "execute_result"
    }
   ],
   "source": [
    "traindata.Dependents.mode()"
   ]
  },
  {
   "cell_type": "code",
   "execution_count": 738,
   "metadata": {},
   "outputs": [],
   "source": [
    "train_data.Dependents.fillna('0', inplace = True)"
   ]
  },
  {
   "cell_type": "code",
   "execution_count": 739,
   "metadata": {},
   "outputs": [
    {
     "data": {
      "text/plain": [
       "0"
      ]
     },
     "execution_count": 739,
     "metadata": {},
     "output_type": "execute_result"
    }
   ],
   "source": [
    "train_data.Married.isnull().sum()"
   ]
  },
  {
   "cell_type": "code",
   "execution_count": 740,
   "metadata": {},
   "outputs": [
    {
     "data": {
      "text/plain": [
       "0    No\n",
       "dtype: object"
      ]
     },
     "execution_count": 740,
     "metadata": {},
     "output_type": "execute_result"
    }
   ],
   "source": [
    "traindata.Self_Employed.mode()"
   ]
  },
  {
   "cell_type": "code",
   "execution_count": 741,
   "metadata": {},
   "outputs": [
    {
     "data": {
      "text/plain": [
       "0"
      ]
     },
     "execution_count": 741,
     "metadata": {},
     "output_type": "execute_result"
    }
   ],
   "source": [
    "train_data.Self_Employed.fillna('No', inplace = True)\n",
    "train_data.Married.isnull().sum()"
   ]
  },
  {
   "cell_type": "code",
   "execution_count": 742,
   "metadata": {},
   "outputs": [
    {
     "data": {
      "text/plain": [
       "146.41216216216216"
      ]
     },
     "execution_count": 742,
     "metadata": {},
     "output_type": "execute_result"
    }
   ],
   "source": [
    "traindata.LoanAmount.mean()"
   ]
  },
  {
   "cell_type": "code",
   "execution_count": 743,
   "metadata": {},
   "outputs": [
    {
     "data": {
      "text/plain": [
       "0"
      ]
     },
     "execution_count": 743,
     "metadata": {},
     "output_type": "execute_result"
    }
   ],
   "source": [
    "train_data.LoanAmount.fillna(146.41, inplace = True)\n",
    "train_data.LoanAmount.isnull().sum()"
   ]
  },
  {
   "cell_type": "code",
   "execution_count": 744,
   "metadata": {},
   "outputs": [
    {
     "data": {
      "text/plain": [
       "342.0"
      ]
     },
     "execution_count": 744,
     "metadata": {},
     "output_type": "execute_result"
    }
   ],
   "source": [
    "traindata.Loan_Amount_Term.mean()"
   ]
  },
  {
   "cell_type": "code",
   "execution_count": 745,
   "metadata": {},
   "outputs": [
    {
     "data": {
      "text/plain": [
       "0"
      ]
     },
     "execution_count": 745,
     "metadata": {},
     "output_type": "execute_result"
    }
   ],
   "source": [
    "train_data.Loan_Amount_Term.fillna(342.20, inplace = True)\n",
    "train_data.Loan_Amount_Term.isnull().sum()"
   ]
  },
  {
   "cell_type": "code",
   "execution_count": 746,
   "metadata": {},
   "outputs": [
    {
     "data": {
      "text/plain": [
       "0    1.0\n",
       "dtype: float64"
      ]
     },
     "execution_count": 746,
     "metadata": {},
     "output_type": "execute_result"
    }
   ],
   "source": [
    "traindata.Credit_History.mode()"
   ]
  },
  {
   "cell_type": "code",
   "execution_count": 747,
   "metadata": {},
   "outputs": [
    {
     "data": {
      "text/plain": [
       "0"
      ]
     },
     "execution_count": 747,
     "metadata": {},
     "output_type": "execute_result"
    }
   ],
   "source": [
    "train_data.Credit_History.fillna(1.0, inplace = True)\n",
    "train_data.Credit_History.isnull().sum()"
   ]
  },
  {
   "cell_type": "code",
   "execution_count": 748,
   "metadata": {},
   "outputs": [
    {
     "data": {
      "image/png": "[encoded data removed]",
      "text/plain": [
       "<Figure size 432x288 with 1 Axes>"
      ]
     },
     "metadata": {},
     "output_type": "display_data"
    }
   ],
   "source": [
    "train_data['ApplicantIncome'].hist()\n",
    "plt.show()"
   ]
  },
  {
   "cell_type": "code",
   "execution_count": 749,
   "metadata": {},
   "outputs": [
    {
     "data": {
      "image/png": "[encoded data removed]",
      "text/plain": [
       "<Figure size 432x288 with 1 Axes>"
      ]
     },
     "metadata": {},
     "output_type": "display_data"
    }
   ],
   "source": [
    "train_data['CoapplicantIncome'].hist()\n",
    "plt.show()"
   ]
  },
  {
   "cell_type": "code",
   "execution_count": 750,
   "metadata": {},
   "outputs": [
    {
     "data": {
      "image/png": "[encoded data removed]",
      "text/plain": [
       "<Figure size 432x288 with 1 Axes>"
      ]
     },
     "metadata": {},
     "output_type": "display_data"
    }
   ],
   "source": [
    "train_data['LoanAmount'].hist()\n",
    "plt.show()"
   ]
  },
  {
   "cell_type": "code",
   "execution_count": 751,
   "metadata": {},
   "outputs": [
    {
     "data": {
      "image/png": "[encoded data removed]",
      "text/plain": [
       "<Figure size 432x288 with 1 Axes>"
      ]
     },
     "metadata": {},
     "output_type": "display_data"
    }
   ],
   "source": [
    "train_data['Loan_Amount_Term'].hist()\n",
    "plt.show()"
   ]
  },
  {
   "cell_type": "code",
   "execution_count": 752,
   "metadata": {},
   "outputs": [
    {
     "data": {
      "image/png": "[encoded data removed]",
      "text/plain": [
       "<Figure size 432x288 with 1 Axes>"
      ]
     },
     "metadata": {},
     "output_type": "display_data"
    }
   ],
   "source": [
    "train_data['Credit_History'].hist()\n",
    "plt.show()"
   ]
  },
  {
   "cell_type": "code",
   "execution_count": 753,
   "metadata": {},
   "outputs": [
    {
     "data": {
      "image/png": "[encoded data removed]",
      "text/plain": [
       "<Figure size 792x792 with 6 Axes>"
      ]
     },
     "metadata": {},
     "output_type": "display_data"
    }
   ],
   "source": [
    "#Try to plot these variables in a chart to see their spread, a quick check for skeweness in the data\n",
    "\n",
    "train_data[train_data.dtypes[(train_data.dtypes==\"float64\")|(train_data.dtypes==\"int64\")]\n",
    "                        .index.values].hist(figsize=[11,11])\n",
    "plt.show()"
   ]
  },
  {
   "cell_type": "code",
   "execution_count": 754,
   "metadata": {},
   "outputs": [
    {
     "data": {
      "text/html": [
       "<div>\n",
       "<style scoped>\n",
       "    .dataframe tbody tr th:only-of-type {\n",
       "        vertical-align: middle;\n",
       "    }\n",
       "\n",
       "    .dataframe tbody tr th {\n",
       "        vertical-align: top;\n",
       "    }\n",
       "\n",
       "    .dataframe thead th {\n",
       "        text-align: right;\n",
       "    }\n",
       "</style>\n",
       "<table border=\"1\" class=\"dataframe\">\n",
       "  <thead>\n",
       "    <tr style=\"text-align: right;\">\n",
       "      <th></th>\n",
       "      <th>ApplicantIncome</th>\n",
       "      <th>CoapplicantIncome</th>\n",
       "      <th>LoanAmount</th>\n",
       "      <th>Loan_Amount_Term</th>\n",
       "      <th>Credit_History</th>\n",
       "    </tr>\n",
       "  </thead>\n",
       "  <tbody>\n",
       "    <tr>\n",
       "      <th>count</th>\n",
       "      <td>614.000000</td>\n",
       "      <td>614.000000</td>\n",
       "      <td>614.000000</td>\n",
       "      <td>614.000000</td>\n",
       "      <td>614.000000</td>\n",
       "    </tr>\n",
       "    <tr>\n",
       "      <th>mean</th>\n",
       "      <td>5403.459283</td>\n",
       "      <td>1621.245798</td>\n",
       "      <td>146.412085</td>\n",
       "      <td>342.004560</td>\n",
       "      <td>0.855049</td>\n",
       "    </tr>\n",
       "    <tr>\n",
       "      <th>std</th>\n",
       "      <td>6109.041673</td>\n",
       "      <td>2926.248369</td>\n",
       "      <td>84.037468</td>\n",
       "      <td>64.372496</td>\n",
       "      <td>0.352339</td>\n",
       "    </tr>\n",
       "    <tr>\n",
       "      <th>min</th>\n",
       "      <td>150.000000</td>\n",
       "      <td>0.000000</td>\n",
       "      <td>9.000000</td>\n",
       "      <td>12.000000</td>\n",
       "      <td>0.000000</td>\n",
       "    </tr>\n",
       "    <tr>\n",
       "      <th>25%</th>\n",
       "      <td>2877.500000</td>\n",
       "      <td>0.000000</td>\n",
       "      <td>100.250000</td>\n",
       "      <td>360.000000</td>\n",
       "      <td>1.000000</td>\n",
       "    </tr>\n",
       "    <tr>\n",
       "      <th>50%</th>\n",
       "      <td>3812.500000</td>\n",
       "      <td>1188.500000</td>\n",
       "      <td>129.000000</td>\n",
       "      <td>360.000000</td>\n",
       "      <td>1.000000</td>\n",
       "    </tr>\n",
       "    <tr>\n",
       "      <th>75%</th>\n",
       "      <td>5795.000000</td>\n",
       "      <td>2297.250000</td>\n",
       "      <td>164.750000</td>\n",
       "      <td>360.000000</td>\n",
       "      <td>1.000000</td>\n",
       "    </tr>\n",
       "    <tr>\n",
       "      <th>max</th>\n",
       "      <td>81000.000000</td>\n",
       "      <td>41667.000000</td>\n",
       "      <td>700.000000</td>\n",
       "      <td>480.000000</td>\n",
       "      <td>1.000000</td>\n",
       "    </tr>\n",
       "  </tbody>\n",
       "</table>\n",
       "</div>"
      ],
      "text/plain": [
       "       ApplicantIncome  CoapplicantIncome  LoanAmount  Loan_Amount_Term  \\\n",
       "count       614.000000         614.000000  614.000000        614.000000   \n",
       "mean       5403.459283        1621.245798  146.412085        342.004560   \n",
       "std        6109.041673        2926.248369   84.037468         64.372496   \n",
       "min         150.000000           0.000000    9.000000         12.000000   \n",
       "25%        2877.500000           0.000000  100.250000        360.000000   \n",
       "50%        3812.500000        1188.500000  129.000000        360.000000   \n",
       "75%        5795.000000        2297.250000  164.750000        360.000000   \n",
       "max       81000.000000       41667.000000  700.000000        480.000000   \n",
       "\n",
       "       Credit_History  \n",
       "count      614.000000  \n",
       "mean         0.855049  \n",
       "std          0.352339  \n",
       "min          0.000000  \n",
       "25%          1.000000  \n",
       "50%          1.000000  \n",
       "75%          1.000000  \n",
       "max          1.000000  "
      ]
     },
     "execution_count": 754,
     "metadata": {},
     "output_type": "execute_result"
    }
   ],
   "source": [
    "train_data.describe()"
   ]
  },
  {
   "cell_type": "code",
   "execution_count": 755,
   "metadata": {},
   "outputs": [],
   "source": [
    "Income_Band_new = []\n",
    "for ApplicantIncome in train_data['ApplicantIncome']:\n",
    "    if ApplicantIncome >=0 and ApplicantIncome <=3200:\n",
    "        Income_Band_new.append('Low Inc')\n",
    "    elif ApplicantIncome >3200 and ApplicantIncome <= 5404:\n",
    "        Income_Band_new.append('Mid Inc')\n",
    "    elif ApplicantIncome >5404 and ApplicantIncome <= 10000:\n",
    "        Income_Band_new.append('High Inc')\n",
    "    else:\n",
    "        Income_Band_new.append('Very High Inc')\n",
    "\n",
    "train_data['Income_Band_new'] = np.asarray(Income_Band_new)"
   ]
  },
  {
   "cell_type": "code",
   "execution_count": 756,
   "metadata": {},
   "outputs": [],
   "source": [
    "train_data['Income_Band_new'] = Income_Band_new"
   ]
  },
  {
   "cell_type": "code",
   "execution_count": 757,
   "metadata": {},
   "outputs": [
    {
     "data": {
      "text/html": [
       "<div>\n",
       "<style scoped>\n",
       "    .dataframe tbody tr th:only-of-type {\n",
       "        vertical-align: middle;\n",
       "    }\n",
       "\n",
       "    .dataframe tbody tr th {\n",
       "        vertical-align: top;\n",
       "    }\n",
       "\n",
       "    .dataframe thead th {\n",
       "        text-align: right;\n",
       "    }\n",
       "</style>\n",
       "<table border=\"1\" class=\"dataframe\">\n",
       "  <thead>\n",
       "    <tr style=\"text-align: right;\">\n",
       "      <th></th>\n",
       "      <th>Loan_ID</th>\n",
       "      <th>Gender</th>\n",
       "      <th>Married</th>\n",
       "      <th>Dependents</th>\n",
       "      <th>Education</th>\n",
       "      <th>Self_Employed</th>\n",
       "      <th>ApplicantIncome</th>\n",
       "      <th>CoapplicantIncome</th>\n",
       "      <th>LoanAmount</th>\n",
       "      <th>Loan_Amount_Term</th>\n",
       "      <th>Credit_History</th>\n",
       "      <th>Property_Area</th>\n",
       "      <th>Loan_Status</th>\n",
       "      <th>Income_Band_new</th>\n",
       "    </tr>\n",
       "  </thead>\n",
       "  <tbody>\n",
       "    <tr>\n",
       "      <th>0</th>\n",
       "      <td>LP001002</td>\n",
       "      <td>Male</td>\n",
       "      <td>No</td>\n",
       "      <td>0</td>\n",
       "      <td>Graduate</td>\n",
       "      <td>No</td>\n",
       "      <td>5849</td>\n",
       "      <td>0.0</td>\n",
       "      <td>146.41</td>\n",
       "      <td>360.0</td>\n",
       "      <td>1.0</td>\n",
       "      <td>Urban</td>\n",
       "      <td>Y</td>\n",
       "      <td>High Inc</td>\n",
       "    </tr>\n",
       "    <tr>\n",
       "      <th>1</th>\n",
       "      <td>LP001003</td>\n",
       "      <td>Male</td>\n",
       "      <td>Yes</td>\n",
       "      <td>1</td>\n",
       "      <td>Graduate</td>\n",
       "      <td>No</td>\n",
       "      <td>4583</td>\n",
       "      <td>1508.0</td>\n",
       "      <td>128.00</td>\n",
       "      <td>360.0</td>\n",
       "      <td>1.0</td>\n",
       "      <td>Rural</td>\n",
       "      <td>N</td>\n",
       "      <td>Mid Inc</td>\n",
       "    </tr>\n",
       "    <tr>\n",
       "      <th>2</th>\n",
       "      <td>LP001005</td>\n",
       "      <td>Male</td>\n",
       "      <td>Yes</td>\n",
       "      <td>0</td>\n",
       "      <td>Graduate</td>\n",
       "      <td>Yes</td>\n",
       "      <td>3000</td>\n",
       "      <td>0.0</td>\n",
       "      <td>66.00</td>\n",
       "      <td>360.0</td>\n",
       "      <td>1.0</td>\n",
       "      <td>Urban</td>\n",
       "      <td>Y</td>\n",
       "      <td>Low Inc</td>\n",
       "    </tr>\n",
       "    <tr>\n",
       "      <th>3</th>\n",
       "      <td>LP001006</td>\n",
       "      <td>Male</td>\n",
       "      <td>Yes</td>\n",
       "      <td>0</td>\n",
       "      <td>Not Graduate</td>\n",
       "      <td>No</td>\n",
       "      <td>2583</td>\n",
       "      <td>2358.0</td>\n",
       "      <td>120.00</td>\n",
       "      <td>360.0</td>\n",
       "      <td>1.0</td>\n",
       "      <td>Urban</td>\n",
       "      <td>Y</td>\n",
       "      <td>Low Inc</td>\n",
       "    </tr>\n",
       "    <tr>\n",
       "      <th>4</th>\n",
       "      <td>LP001008</td>\n",
       "      <td>Male</td>\n",
       "      <td>No</td>\n",
       "      <td>0</td>\n",
       "      <td>Graduate</td>\n",
       "      <td>No</td>\n",
       "      <td>6000</td>\n",
       "      <td>0.0</td>\n",
       "      <td>141.00</td>\n",
       "      <td>360.0</td>\n",
       "      <td>1.0</td>\n",
       "      <td>Urban</td>\n",
       "      <td>Y</td>\n",
       "      <td>High Inc</td>\n",
       "    </tr>\n",
       "  </tbody>\n",
       "</table>\n",
       "</div>"
      ],
      "text/plain": [
       "    Loan_ID Gender Married Dependents     Education Self_Employed  \\\n",
       "0  LP001002   Male      No          0      Graduate            No   \n",
       "1  LP001003   Male     Yes          1      Graduate            No   \n",
       "2  LP001005   Male     Yes          0      Graduate           Yes   \n",
       "3  LP001006   Male     Yes          0  Not Graduate            No   \n",
       "4  LP001008   Male      No          0      Graduate            No   \n",
       "\n",
       "   ApplicantIncome  CoapplicantIncome  LoanAmount  Loan_Amount_Term  \\\n",
       "0             5849                0.0      146.41             360.0   \n",
       "1             4583             1508.0      128.00             360.0   \n",
       "2             3000                0.0       66.00             360.0   \n",
       "3             2583             2358.0      120.00             360.0   \n",
       "4             6000                0.0      141.00             360.0   \n",
       "\n",
       "   Credit_History Property_Area Loan_Status Income_Band_new  \n",
       "0             1.0         Urban           Y        High Inc  \n",
       "1             1.0         Rural           N         Mid Inc  \n",
       "2             1.0         Urban           Y         Low Inc  \n",
       "3             1.0         Urban           Y         Low Inc  \n",
       "4             1.0         Urban           Y        High Inc  "
      ]
     },
     "execution_count": 757,
     "metadata": {},
     "output_type": "execute_result"
    }
   ],
   "source": [
    "train_data.head()"
   ]
  },
  {
   "cell_type": "code",
   "execution_count": 758,
   "metadata": {},
   "outputs": [
    {
     "name": "stdout",
     "output_type": "stream",
     "text": [
      "<class 'pandas.core.frame.DataFrame'>\n",
      "RangeIndex: 614 entries, 0 to 613\n",
      "Data columns (total 14 columns):\n",
      "Loan_ID              614 non-null object\n",
      "Gender               614 non-null object\n",
      "Married              614 non-null object\n",
      "Dependents           614 non-null object\n",
      "Education            614 non-null object\n",
      "Self_Employed        614 non-null object\n",
      "ApplicantIncome      614 non-null int64\n",
      "CoapplicantIncome    614 non-null float64\n",
      "LoanAmount           614 non-null float64\n",
      "Loan_Amount_Term     614 non-null float64\n",
      "Credit_History       614 non-null float64\n",
      "Property_Area        614 non-null object\n",
      "Loan_Status          614 non-null object\n",
      "Income_Band_new      614 non-null object\n",
      "dtypes: float64(4), int64(1), object(9)\n",
      "memory usage: 67.2+ KB\n"
     ]
    }
   ],
   "source": [
    "train_data.info()"
   ]
  },
  {
   "cell_type": "code",
   "execution_count": 759,
   "metadata": {},
   "outputs": [],
   "source": [
    "new = traindata.sort_values(by = 'ApplicantIncome', ascending=1)"
   ]
  },
  {
   "cell_type": "code",
   "execution_count": 760,
   "metadata": {},
   "outputs": [
    {
     "data": {
      "image/png": "[encoded data removed]",
      "text/plain": [
       "<Figure size 432x288 with 1 Axes>"
      ]
     },
     "metadata": {},
     "output_type": "display_data"
    }
   ],
   "source": [
    "ax=sns.countplot(x = 'Income_Band_new', data = traindata.sort_values(by ='ApplicantIncome'))\n",
    "\n",
    "plt.setp(ax.get_xticklabels(), rotation=45);"
   ]
  },
  {
   "cell_type": "code",
   "execution_count": 761,
   "metadata": {
    "scrolled": true
   },
   "outputs": [
    {
     "data": {
      "text/html": [
       "<div>\n",
       "<style scoped>\n",
       "    .dataframe tbody tr th:only-of-type {\n",
       "        vertical-align: middle;\n",
       "    }\n",
       "\n",
       "    .dataframe tbody tr th {\n",
       "        vertical-align: top;\n",
       "    }\n",
       "\n",
       "    .dataframe thead th {\n",
       "        text-align: right;\n",
       "    }\n",
       "</style>\n",
       "<table border=\"1\" class=\"dataframe\">\n",
       "  <thead>\n",
       "    <tr style=\"text-align: right;\">\n",
       "      <th></th>\n",
       "      <th>Loan_ID</th>\n",
       "      <th>Gender</th>\n",
       "      <th>Married</th>\n",
       "      <th>Dependents</th>\n",
       "      <th>Education</th>\n",
       "      <th>Self_Employed</th>\n",
       "      <th>ApplicantIncome</th>\n",
       "      <th>CoapplicantIncome</th>\n",
       "      <th>LoanAmount</th>\n",
       "      <th>Loan_Amount_Term</th>\n",
       "      <th>Credit_History</th>\n",
       "      <th>Property_Area</th>\n",
       "      <th>Loan_Status</th>\n",
       "      <th>Income_Band_new</th>\n",
       "    </tr>\n",
       "  </thead>\n",
       "  <tbody>\n",
       "    <tr>\n",
       "      <th>171</th>\n",
       "      <td>LP001585</td>\n",
       "      <td>Male</td>\n",
       "      <td>Yes</td>\n",
       "      <td>3+</td>\n",
       "      <td>Graduate</td>\n",
       "      <td>No</td>\n",
       "      <td>51763</td>\n",
       "      <td>0.0</td>\n",
       "      <td>700.0</td>\n",
       "      <td>300.0</td>\n",
       "      <td>1.0</td>\n",
       "      <td>Urban</td>\n",
       "      <td>Y</td>\n",
       "      <td>Very High Inc</td>\n",
       "    </tr>\n",
       "    <tr>\n",
       "      <th>130</th>\n",
       "      <td>LP001469</td>\n",
       "      <td>Male</td>\n",
       "      <td>No</td>\n",
       "      <td>0</td>\n",
       "      <td>Graduate</td>\n",
       "      <td>Yes</td>\n",
       "      <td>20166</td>\n",
       "      <td>0.0</td>\n",
       "      <td>650.0</td>\n",
       "      <td>480.0</td>\n",
       "      <td>1.0</td>\n",
       "      <td>Urban</td>\n",
       "      <td>Y</td>\n",
       "      <td>Very High Inc</td>\n",
       "    </tr>\n",
       "    <tr>\n",
       "      <th>155</th>\n",
       "      <td>LP001536</td>\n",
       "      <td>Male</td>\n",
       "      <td>Yes</td>\n",
       "      <td>3+</td>\n",
       "      <td>Graduate</td>\n",
       "      <td>No</td>\n",
       "      <td>39999</td>\n",
       "      <td>0.0</td>\n",
       "      <td>600.0</td>\n",
       "      <td>180.0</td>\n",
       "      <td>0.0</td>\n",
       "      <td>Semiurban</td>\n",
       "      <td>Y</td>\n",
       "      <td>Very High Inc</td>\n",
       "    </tr>\n",
       "    <tr>\n",
       "      <th>561</th>\n",
       "      <td>LP002813</td>\n",
       "      <td>Female</td>\n",
       "      <td>Yes</td>\n",
       "      <td>1</td>\n",
       "      <td>Graduate</td>\n",
       "      <td>Yes</td>\n",
       "      <td>19484</td>\n",
       "      <td>0.0</td>\n",
       "      <td>600.0</td>\n",
       "      <td>360.0</td>\n",
       "      <td>1.0</td>\n",
       "      <td>Semiurban</td>\n",
       "      <td>Y</td>\n",
       "      <td>Very High Inc</td>\n",
       "    </tr>\n",
       "    <tr>\n",
       "      <th>369</th>\n",
       "      <td>LP002191</td>\n",
       "      <td>Male</td>\n",
       "      <td>Yes</td>\n",
       "      <td>0</td>\n",
       "      <td>Graduate</td>\n",
       "      <td>No</td>\n",
       "      <td>19730</td>\n",
       "      <td>5266.0</td>\n",
       "      <td>570.0</td>\n",
       "      <td>360.0</td>\n",
       "      <td>1.0</td>\n",
       "      <td>Rural</td>\n",
       "      <td>N</td>\n",
       "      <td>Very High Inc</td>\n",
       "    </tr>\n",
       "    <tr>\n",
       "      <th>487</th>\n",
       "      <td>LP002547</td>\n",
       "      <td>Male</td>\n",
       "      <td>Yes</td>\n",
       "      <td>1</td>\n",
       "      <td>Graduate</td>\n",
       "      <td>No</td>\n",
       "      <td>18333</td>\n",
       "      <td>0.0</td>\n",
       "      <td>500.0</td>\n",
       "      <td>360.0</td>\n",
       "      <td>1.0</td>\n",
       "      <td>Urban</td>\n",
       "      <td>N</td>\n",
       "      <td>Very High Inc</td>\n",
       "    </tr>\n",
       "    <tr>\n",
       "      <th>604</th>\n",
       "      <td>LP002959</td>\n",
       "      <td>Female</td>\n",
       "      <td>Yes</td>\n",
       "      <td>1</td>\n",
       "      <td>Graduate</td>\n",
       "      <td>No</td>\n",
       "      <td>12000</td>\n",
       "      <td>0.0</td>\n",
       "      <td>496.0</td>\n",
       "      <td>360.0</td>\n",
       "      <td>1.0</td>\n",
       "      <td>Semiurban</td>\n",
       "      <td>Y</td>\n",
       "      <td>Very High Inc</td>\n",
       "    </tr>\n",
       "    <tr>\n",
       "      <th>177</th>\n",
       "      <td>LP001610</td>\n",
       "      <td>Male</td>\n",
       "      <td>Yes</td>\n",
       "      <td>3+</td>\n",
       "      <td>Graduate</td>\n",
       "      <td>No</td>\n",
       "      <td>5516</td>\n",
       "      <td>11300.0</td>\n",
       "      <td>495.0</td>\n",
       "      <td>360.0</td>\n",
       "      <td>0.0</td>\n",
       "      <td>Semiurban</td>\n",
       "      <td>N</td>\n",
       "      <td>High Inc</td>\n",
       "    </tr>\n",
       "    <tr>\n",
       "      <th>333</th>\n",
       "      <td>LP002101</td>\n",
       "      <td>Male</td>\n",
       "      <td>Yes</td>\n",
       "      <td>0</td>\n",
       "      <td>Graduate</td>\n",
       "      <td>No</td>\n",
       "      <td>63337</td>\n",
       "      <td>0.0</td>\n",
       "      <td>490.0</td>\n",
       "      <td>180.0</td>\n",
       "      <td>1.0</td>\n",
       "      <td>Urban</td>\n",
       "      <td>Y</td>\n",
       "      <td>Very High Inc</td>\n",
       "    </tr>\n",
       "    <tr>\n",
       "      <th>308</th>\n",
       "      <td>LP001996</td>\n",
       "      <td>Male</td>\n",
       "      <td>No</td>\n",
       "      <td>0</td>\n",
       "      <td>Graduate</td>\n",
       "      <td>No</td>\n",
       "      <td>20233</td>\n",
       "      <td>0.0</td>\n",
       "      <td>480.0</td>\n",
       "      <td>360.0</td>\n",
       "      <td>1.0</td>\n",
       "      <td>Rural</td>\n",
       "      <td>N</td>\n",
       "      <td>Very High Inc</td>\n",
       "    </tr>\n",
       "    <tr>\n",
       "      <th>506</th>\n",
       "      <td>LP002624</td>\n",
       "      <td>Male</td>\n",
       "      <td>Yes</td>\n",
       "      <td>0</td>\n",
       "      <td>Graduate</td>\n",
       "      <td>No</td>\n",
       "      <td>20833</td>\n",
       "      <td>6667.0</td>\n",
       "      <td>480.0</td>\n",
       "      <td>360.0</td>\n",
       "      <td>1.0</td>\n",
       "      <td>Urban</td>\n",
       "      <td>Y</td>\n",
       "      <td>Very High Inc</td>\n",
       "    </tr>\n",
       "    <tr>\n",
       "      <th>523</th>\n",
       "      <td>LP002693</td>\n",
       "      <td>Male</td>\n",
       "      <td>Yes</td>\n",
       "      <td>2</td>\n",
       "      <td>Graduate</td>\n",
       "      <td>Yes</td>\n",
       "      <td>7948</td>\n",
       "      <td>7166.0</td>\n",
       "      <td>480.0</td>\n",
       "      <td>360.0</td>\n",
       "      <td>1.0</td>\n",
       "      <td>Rural</td>\n",
       "      <td>Y</td>\n",
       "      <td>High Inc</td>\n",
       "    </tr>\n",
       "    <tr>\n",
       "      <th>278</th>\n",
       "      <td>LP001907</td>\n",
       "      <td>Male</td>\n",
       "      <td>Yes</td>\n",
       "      <td>0</td>\n",
       "      <td>Graduate</td>\n",
       "      <td>No</td>\n",
       "      <td>14583</td>\n",
       "      <td>0.0</td>\n",
       "      <td>436.0</td>\n",
       "      <td>360.0</td>\n",
       "      <td>1.0</td>\n",
       "      <td>Semiurban</td>\n",
       "      <td>Y</td>\n",
       "      <td>Very High Inc</td>\n",
       "    </tr>\n",
       "    <tr>\n",
       "      <th>432</th>\n",
       "      <td>LP002386</td>\n",
       "      <td>Male</td>\n",
       "      <td>No</td>\n",
       "      <td>0</td>\n",
       "      <td>Graduate</td>\n",
       "      <td>No</td>\n",
       "      <td>12876</td>\n",
       "      <td>0.0</td>\n",
       "      <td>405.0</td>\n",
       "      <td>360.0</td>\n",
       "      <td>1.0</td>\n",
       "      <td>Semiurban</td>\n",
       "      <td>Y</td>\n",
       "      <td>Very High Inc</td>\n",
       "    </tr>\n",
       "    <tr>\n",
       "      <th>525</th>\n",
       "      <td>LP002699</td>\n",
       "      <td>Male</td>\n",
       "      <td>Yes</td>\n",
       "      <td>2</td>\n",
       "      <td>Graduate</td>\n",
       "      <td>Yes</td>\n",
       "      <td>17500</td>\n",
       "      <td>0.0</td>\n",
       "      <td>400.0</td>\n",
       "      <td>360.0</td>\n",
       "      <td>1.0</td>\n",
       "      <td>Rural</td>\n",
       "      <td>Y</td>\n",
       "      <td>Very High Inc</td>\n",
       "    </tr>\n",
       "    <tr>\n",
       "      <th>372</th>\n",
       "      <td>LP002201</td>\n",
       "      <td>Male</td>\n",
       "      <td>Yes</td>\n",
       "      <td>2</td>\n",
       "      <td>Graduate</td>\n",
       "      <td>Yes</td>\n",
       "      <td>9323</td>\n",
       "      <td>7873.0</td>\n",
       "      <td>380.0</td>\n",
       "      <td>300.0</td>\n",
       "      <td>1.0</td>\n",
       "      <td>Rural</td>\n",
       "      <td>Y</td>\n",
       "      <td>High Inc</td>\n",
       "    </tr>\n",
       "    <tr>\n",
       "      <th>325</th>\n",
       "      <td>LP002067</td>\n",
       "      <td>Male</td>\n",
       "      <td>Yes</td>\n",
       "      <td>1</td>\n",
       "      <td>Graduate</td>\n",
       "      <td>Yes</td>\n",
       "      <td>8666</td>\n",
       "      <td>4983.0</td>\n",
       "      <td>376.0</td>\n",
       "      <td>360.0</td>\n",
       "      <td>0.0</td>\n",
       "      <td>Rural</td>\n",
       "      <td>N</td>\n",
       "      <td>High Inc</td>\n",
       "    </tr>\n",
       "    <tr>\n",
       "      <th>126</th>\n",
       "      <td>LP001448</td>\n",
       "      <td>Male</td>\n",
       "      <td>Yes</td>\n",
       "      <td>3+</td>\n",
       "      <td>Graduate</td>\n",
       "      <td>No</td>\n",
       "      <td>23803</td>\n",
       "      <td>0.0</td>\n",
       "      <td>370.0</td>\n",
       "      <td>360.0</td>\n",
       "      <td>1.0</td>\n",
       "      <td>Rural</td>\n",
       "      <td>Y</td>\n",
       "      <td>Very High Inc</td>\n",
       "    </tr>\n",
       "    <tr>\n",
       "      <th>409</th>\n",
       "      <td>LP002317</td>\n",
       "      <td>Male</td>\n",
       "      <td>Yes</td>\n",
       "      <td>3+</td>\n",
       "      <td>Graduate</td>\n",
       "      <td>No</td>\n",
       "      <td>81000</td>\n",
       "      <td>0.0</td>\n",
       "      <td>360.0</td>\n",
       "      <td>360.0</td>\n",
       "      <td>0.0</td>\n",
       "      <td>Rural</td>\n",
       "      <td>N</td>\n",
       "      <td>Very High Inc</td>\n",
       "    </tr>\n",
       "    <tr>\n",
       "      <th>600</th>\n",
       "      <td>LP002949</td>\n",
       "      <td>Female</td>\n",
       "      <td>No</td>\n",
       "      <td>3+</td>\n",
       "      <td>Graduate</td>\n",
       "      <td>No</td>\n",
       "      <td>416</td>\n",
       "      <td>41667.0</td>\n",
       "      <td>350.0</td>\n",
       "      <td>180.0</td>\n",
       "      <td>1.0</td>\n",
       "      <td>Urban</td>\n",
       "      <td>N</td>\n",
       "      <td>Low Inc</td>\n",
       "    </tr>\n",
       "    <tr>\n",
       "      <th>9</th>\n",
       "      <td>LP001020</td>\n",
       "      <td>Male</td>\n",
       "      <td>Yes</td>\n",
       "      <td>1</td>\n",
       "      <td>Graduate</td>\n",
       "      <td>No</td>\n",
       "      <td>12841</td>\n",
       "      <td>10968.0</td>\n",
       "      <td>349.0</td>\n",
       "      <td>360.0</td>\n",
       "      <td>1.0</td>\n",
       "      <td>Semiurban</td>\n",
       "      <td>N</td>\n",
       "      <td>Very High Inc</td>\n",
       "    </tr>\n",
       "    <tr>\n",
       "      <th>260</th>\n",
       "      <td>LP001865</td>\n",
       "      <td>Male</td>\n",
       "      <td>Yes</td>\n",
       "      <td>1</td>\n",
       "      <td>Graduate</td>\n",
       "      <td>No</td>\n",
       "      <td>6083</td>\n",
       "      <td>4250.0</td>\n",
       "      <td>330.0</td>\n",
       "      <td>360.0</td>\n",
       "      <td>1.0</td>\n",
       "      <td>Urban</td>\n",
       "      <td>Y</td>\n",
       "      <td>High Inc</td>\n",
       "    </tr>\n",
       "    <tr>\n",
       "      <th>536</th>\n",
       "      <td>LP002734</td>\n",
       "      <td>Male</td>\n",
       "      <td>Yes</td>\n",
       "      <td>0</td>\n",
       "      <td>Graduate</td>\n",
       "      <td>No</td>\n",
       "      <td>6133</td>\n",
       "      <td>3906.0</td>\n",
       "      <td>324.0</td>\n",
       "      <td>360.0</td>\n",
       "      <td>1.0</td>\n",
       "      <td>Urban</td>\n",
       "      <td>Y</td>\n",
       "      <td>High Inc</td>\n",
       "    </tr>\n",
       "    <tr>\n",
       "      <th>34</th>\n",
       "      <td>LP001100</td>\n",
       "      <td>Male</td>\n",
       "      <td>No</td>\n",
       "      <td>3+</td>\n",
       "      <td>Graduate</td>\n",
       "      <td>No</td>\n",
       "      <td>12500</td>\n",
       "      <td>3000.0</td>\n",
       "      <td>320.0</td>\n",
       "      <td>360.0</td>\n",
       "      <td>1.0</td>\n",
       "      <td>Rural</td>\n",
       "      <td>N</td>\n",
       "      <td>Very High Inc</td>\n",
       "    </tr>\n",
       "    <tr>\n",
       "      <th>21</th>\n",
       "      <td>LP001046</td>\n",
       "      <td>Male</td>\n",
       "      <td>Yes</td>\n",
       "      <td>1</td>\n",
       "      <td>Graduate</td>\n",
       "      <td>No</td>\n",
       "      <td>5955</td>\n",
       "      <td>5625.0</td>\n",
       "      <td>315.0</td>\n",
       "      <td>360.0</td>\n",
       "      <td>1.0</td>\n",
       "      <td>Urban</td>\n",
       "      <td>Y</td>\n",
       "      <td>High Inc</td>\n",
       "    </tr>\n",
       "    <tr>\n",
       "      <th>67</th>\n",
       "      <td>LP001233</td>\n",
       "      <td>Male</td>\n",
       "      <td>Yes</td>\n",
       "      <td>1</td>\n",
       "      <td>Graduate</td>\n",
       "      <td>No</td>\n",
       "      <td>10750</td>\n",
       "      <td>0.0</td>\n",
       "      <td>312.0</td>\n",
       "      <td>360.0</td>\n",
       "      <td>1.0</td>\n",
       "      <td>Urban</td>\n",
       "      <td>Y</td>\n",
       "      <td>Very High Inc</td>\n",
       "    </tr>\n",
       "    <tr>\n",
       "      <th>514</th>\n",
       "      <td>LP002652</td>\n",
       "      <td>Male</td>\n",
       "      <td>No</td>\n",
       "      <td>0</td>\n",
       "      <td>Graduate</td>\n",
       "      <td>No</td>\n",
       "      <td>5815</td>\n",
       "      <td>3666.0</td>\n",
       "      <td>311.0</td>\n",
       "      <td>360.0</td>\n",
       "      <td>1.0</td>\n",
       "      <td>Rural</td>\n",
       "      <td>N</td>\n",
       "      <td>High Inc</td>\n",
       "    </tr>\n",
       "    <tr>\n",
       "      <th>351</th>\n",
       "      <td>LP002140</td>\n",
       "      <td>Male</td>\n",
       "      <td>No</td>\n",
       "      <td>0</td>\n",
       "      <td>Graduate</td>\n",
       "      <td>No</td>\n",
       "      <td>8750</td>\n",
       "      <td>4167.0</td>\n",
       "      <td>308.0</td>\n",
       "      <td>360.0</td>\n",
       "      <td>1.0</td>\n",
       "      <td>Rural</td>\n",
       "      <td>N</td>\n",
       "      <td>High Inc</td>\n",
       "    </tr>\n",
       "    <tr>\n",
       "      <th>258</th>\n",
       "      <td>LP001859</td>\n",
       "      <td>Male</td>\n",
       "      <td>Yes</td>\n",
       "      <td>0</td>\n",
       "      <td>Graduate</td>\n",
       "      <td>No</td>\n",
       "      <td>14683</td>\n",
       "      <td>2100.0</td>\n",
       "      <td>304.0</td>\n",
       "      <td>360.0</td>\n",
       "      <td>1.0</td>\n",
       "      <td>Rural</td>\n",
       "      <td>N</td>\n",
       "      <td>Very High Inc</td>\n",
       "    </tr>\n",
       "    <tr>\n",
       "      <th>324</th>\n",
       "      <td>LP002065</td>\n",
       "      <td>Male</td>\n",
       "      <td>Yes</td>\n",
       "      <td>3+</td>\n",
       "      <td>Graduate</td>\n",
       "      <td>No</td>\n",
       "      <td>15000</td>\n",
       "      <td>0.0</td>\n",
       "      <td>300.0</td>\n",
       "      <td>360.0</td>\n",
       "      <td>1.0</td>\n",
       "      <td>Rural</td>\n",
       "      <td>Y</td>\n",
       "      <td>Very High Inc</td>\n",
       "    </tr>\n",
       "    <tr>\n",
       "      <th>...</th>\n",
       "      <td>...</td>\n",
       "      <td>...</td>\n",
       "      <td>...</td>\n",
       "      <td>...</td>\n",
       "      <td>...</td>\n",
       "      <td>...</td>\n",
       "      <td>...</td>\n",
       "      <td>...</td>\n",
       "      <td>...</td>\n",
       "      <td>...</td>\n",
       "      <td>...</td>\n",
       "      <td>...</td>\n",
       "      <td>...</td>\n",
       "      <td>...</td>\n",
       "    </tr>\n",
       "    <tr>\n",
       "      <th>312</th>\n",
       "      <td>LP002006</td>\n",
       "      <td>Female</td>\n",
       "      <td>No</td>\n",
       "      <td>0</td>\n",
       "      <td>Graduate</td>\n",
       "      <td>No</td>\n",
       "      <td>2507</td>\n",
       "      <td>0.0</td>\n",
       "      <td>56.0</td>\n",
       "      <td>360.0</td>\n",
       "      <td>1.0</td>\n",
       "      <td>Rural</td>\n",
       "      <td>Y</td>\n",
       "      <td>Low Inc</td>\n",
       "    </tr>\n",
       "    <tr>\n",
       "      <th>447</th>\n",
       "      <td>LP002435</td>\n",
       "      <td>Male</td>\n",
       "      <td>Yes</td>\n",
       "      <td>0</td>\n",
       "      <td>Graduate</td>\n",
       "      <td>No</td>\n",
       "      <td>3539</td>\n",
       "      <td>1376.0</td>\n",
       "      <td>55.0</td>\n",
       "      <td>360.0</td>\n",
       "      <td>1.0</td>\n",
       "      <td>Rural</td>\n",
       "      <td>N</td>\n",
       "      <td>Mid Inc</td>\n",
       "    </tr>\n",
       "    <tr>\n",
       "      <th>521</th>\n",
       "      <td>LP002690</td>\n",
       "      <td>Male</td>\n",
       "      <td>No</td>\n",
       "      <td>0</td>\n",
       "      <td>Graduate</td>\n",
       "      <td>No</td>\n",
       "      <td>2500</td>\n",
       "      <td>0.0</td>\n",
       "      <td>55.0</td>\n",
       "      <td>360.0</td>\n",
       "      <td>1.0</td>\n",
       "      <td>Semiurban</td>\n",
       "      <td>Y</td>\n",
       "      <td>Low Inc</td>\n",
       "    </tr>\n",
       "    <tr>\n",
       "      <th>207</th>\n",
       "      <td>LP001698</td>\n",
       "      <td>Male</td>\n",
       "      <td>No</td>\n",
       "      <td>0</td>\n",
       "      <td>Not Graduate</td>\n",
       "      <td>No</td>\n",
       "      <td>3975</td>\n",
       "      <td>2531.0</td>\n",
       "      <td>55.0</td>\n",
       "      <td>360.0</td>\n",
       "      <td>1.0</td>\n",
       "      <td>Rural</td>\n",
       "      <td>Y</td>\n",
       "      <td>Mid Inc</td>\n",
       "    </tr>\n",
       "    <tr>\n",
       "      <th>370</th>\n",
       "      <td>LP002194</td>\n",
       "      <td>Female</td>\n",
       "      <td>No</td>\n",
       "      <td>0</td>\n",
       "      <td>Graduate</td>\n",
       "      <td>Yes</td>\n",
       "      <td>15759</td>\n",
       "      <td>0.0</td>\n",
       "      <td>55.0</td>\n",
       "      <td>360.0</td>\n",
       "      <td>1.0</td>\n",
       "      <td>Semiurban</td>\n",
       "      <td>Y</td>\n",
       "      <td>Very High Inc</td>\n",
       "    </tr>\n",
       "    <tr>\n",
       "      <th>283</th>\n",
       "      <td>LP001917</td>\n",
       "      <td>Female</td>\n",
       "      <td>No</td>\n",
       "      <td>0</td>\n",
       "      <td>Graduate</td>\n",
       "      <td>No</td>\n",
       "      <td>1811</td>\n",
       "      <td>1666.0</td>\n",
       "      <td>54.0</td>\n",
       "      <td>360.0</td>\n",
       "      <td>1.0</td>\n",
       "      <td>Urban</td>\n",
       "      <td>Y</td>\n",
       "      <td>Low Inc</td>\n",
       "    </tr>\n",
       "    <tr>\n",
       "      <th>403</th>\n",
       "      <td>LP002300</td>\n",
       "      <td>Female</td>\n",
       "      <td>No</td>\n",
       "      <td>0</td>\n",
       "      <td>Not Graduate</td>\n",
       "      <td>No</td>\n",
       "      <td>1963</td>\n",
       "      <td>0.0</td>\n",
       "      <td>53.0</td>\n",
       "      <td>360.0</td>\n",
       "      <td>1.0</td>\n",
       "      <td>Semiurban</td>\n",
       "      <td>Y</td>\n",
       "      <td>Low Inc</td>\n",
       "    </tr>\n",
       "    <tr>\n",
       "      <th>84</th>\n",
       "      <td>LP001275</td>\n",
       "      <td>Male</td>\n",
       "      <td>Yes</td>\n",
       "      <td>1</td>\n",
       "      <td>Graduate</td>\n",
       "      <td>No</td>\n",
       "      <td>3988</td>\n",
       "      <td>0.0</td>\n",
       "      <td>50.0</td>\n",
       "      <td>240.0</td>\n",
       "      <td>1.0</td>\n",
       "      <td>Urban</td>\n",
       "      <td>Y</td>\n",
       "      <td>Mid Inc</td>\n",
       "    </tr>\n",
       "    <tr>\n",
       "      <th>154</th>\n",
       "      <td>LP001535</td>\n",
       "      <td>Male</td>\n",
       "      <td>No</td>\n",
       "      <td>0</td>\n",
       "      <td>Graduate</td>\n",
       "      <td>No</td>\n",
       "      <td>3254</td>\n",
       "      <td>0.0</td>\n",
       "      <td>50.0</td>\n",
       "      <td>360.0</td>\n",
       "      <td>1.0</td>\n",
       "      <td>Urban</td>\n",
       "      <td>Y</td>\n",
       "      <td>Mid Inc</td>\n",
       "    </tr>\n",
       "    <tr>\n",
       "      <th>436</th>\n",
       "      <td>LP002398</td>\n",
       "      <td>Male</td>\n",
       "      <td>No</td>\n",
       "      <td>0</td>\n",
       "      <td>Graduate</td>\n",
       "      <td>No</td>\n",
       "      <td>1926</td>\n",
       "      <td>1851.0</td>\n",
       "      <td>50.0</td>\n",
       "      <td>360.0</td>\n",
       "      <td>1.0</td>\n",
       "      <td>Semiurban</td>\n",
       "      <td>Y</td>\n",
       "      <td>Low Inc</td>\n",
       "    </tr>\n",
       "    <tr>\n",
       "      <th>97</th>\n",
       "      <td>LP001333</td>\n",
       "      <td>Male</td>\n",
       "      <td>Yes</td>\n",
       "      <td>0</td>\n",
       "      <td>Graduate</td>\n",
       "      <td>No</td>\n",
       "      <td>1977</td>\n",
       "      <td>997.0</td>\n",
       "      <td>50.0</td>\n",
       "      <td>360.0</td>\n",
       "      <td>1.0</td>\n",
       "      <td>Semiurban</td>\n",
       "      <td>Y</td>\n",
       "      <td>Low Inc</td>\n",
       "    </tr>\n",
       "    <tr>\n",
       "      <th>190</th>\n",
       "      <td>LP001653</td>\n",
       "      <td>Male</td>\n",
       "      <td>No</td>\n",
       "      <td>0</td>\n",
       "      <td>Not Graduate</td>\n",
       "      <td>No</td>\n",
       "      <td>4885</td>\n",
       "      <td>0.0</td>\n",
       "      <td>48.0</td>\n",
       "      <td>360.0</td>\n",
       "      <td>1.0</td>\n",
       "      <td>Rural</td>\n",
       "      <td>Y</td>\n",
       "      <td>Mid Inc</td>\n",
       "    </tr>\n",
       "    <tr>\n",
       "      <th>41</th>\n",
       "      <td>LP001120</td>\n",
       "      <td>Male</td>\n",
       "      <td>No</td>\n",
       "      <td>0</td>\n",
       "      <td>Graduate</td>\n",
       "      <td>No</td>\n",
       "      <td>1800</td>\n",
       "      <td>1213.0</td>\n",
       "      <td>47.0</td>\n",
       "      <td>360.0</td>\n",
       "      <td>1.0</td>\n",
       "      <td>Urban</td>\n",
       "      <td>Y</td>\n",
       "      <td>Low Inc</td>\n",
       "    </tr>\n",
       "    <tr>\n",
       "      <th>341</th>\n",
       "      <td>LP002116</td>\n",
       "      <td>Female</td>\n",
       "      <td>No</td>\n",
       "      <td>0</td>\n",
       "      <td>Graduate</td>\n",
       "      <td>No</td>\n",
       "      <td>2378</td>\n",
       "      <td>0.0</td>\n",
       "      <td>46.0</td>\n",
       "      <td>360.0</td>\n",
       "      <td>1.0</td>\n",
       "      <td>Rural</td>\n",
       "      <td>N</td>\n",
       "      <td>Low Inc</td>\n",
       "    </tr>\n",
       "    <tr>\n",
       "      <th>400</th>\n",
       "      <td>LP002288</td>\n",
       "      <td>Male</td>\n",
       "      <td>Yes</td>\n",
       "      <td>2</td>\n",
       "      <td>Not Graduate</td>\n",
       "      <td>No</td>\n",
       "      <td>2889</td>\n",
       "      <td>0.0</td>\n",
       "      <td>45.0</td>\n",
       "      <td>180.0</td>\n",
       "      <td>0.0</td>\n",
       "      <td>Urban</td>\n",
       "      <td>N</td>\n",
       "      <td>Low Inc</td>\n",
       "    </tr>\n",
       "    <tr>\n",
       "      <th>520</th>\n",
       "      <td>LP002689</td>\n",
       "      <td>Male</td>\n",
       "      <td>Yes</td>\n",
       "      <td>2</td>\n",
       "      <td>Not Graduate</td>\n",
       "      <td>No</td>\n",
       "      <td>2192</td>\n",
       "      <td>1742.0</td>\n",
       "      <td>45.0</td>\n",
       "      <td>360.0</td>\n",
       "      <td>1.0</td>\n",
       "      <td>Semiurban</td>\n",
       "      <td>Y</td>\n",
       "      <td>Low Inc</td>\n",
       "    </tr>\n",
       "    <tr>\n",
       "      <th>46</th>\n",
       "      <td>LP001138</td>\n",
       "      <td>Male</td>\n",
       "      <td>Yes</td>\n",
       "      <td>1</td>\n",
       "      <td>Graduate</td>\n",
       "      <td>No</td>\n",
       "      <td>5649</td>\n",
       "      <td>0.0</td>\n",
       "      <td>44.0</td>\n",
       "      <td>360.0</td>\n",
       "      <td>1.0</td>\n",
       "      <td>Urban</td>\n",
       "      <td>Y</td>\n",
       "      <td>High Inc</td>\n",
       "    </tr>\n",
       "    <tr>\n",
       "      <th>121</th>\n",
       "      <td>LP001430</td>\n",
       "      <td>Female</td>\n",
       "      <td>No</td>\n",
       "      <td>0</td>\n",
       "      <td>Graduate</td>\n",
       "      <td>No</td>\n",
       "      <td>4166</td>\n",
       "      <td>0.0</td>\n",
       "      <td>44.0</td>\n",
       "      <td>360.0</td>\n",
       "      <td>1.0</td>\n",
       "      <td>Semiurban</td>\n",
       "      <td>Y</td>\n",
       "      <td>Mid Inc</td>\n",
       "    </tr>\n",
       "    <tr>\n",
       "      <th>231</th>\n",
       "      <td>LP001768</td>\n",
       "      <td>Male</td>\n",
       "      <td>Yes</td>\n",
       "      <td>0</td>\n",
       "      <td>Graduate</td>\n",
       "      <td>No</td>\n",
       "      <td>3716</td>\n",
       "      <td>0.0</td>\n",
       "      <td>42.0</td>\n",
       "      <td>180.0</td>\n",
       "      <td>1.0</td>\n",
       "      <td>Rural</td>\n",
       "      <td>Y</td>\n",
       "      <td>Mid Inc</td>\n",
       "    </tr>\n",
       "    <tr>\n",
       "      <th>509</th>\n",
       "      <td>LP002634</td>\n",
       "      <td>Female</td>\n",
       "      <td>No</td>\n",
       "      <td>1</td>\n",
       "      <td>Graduate</td>\n",
       "      <td>No</td>\n",
       "      <td>13262</td>\n",
       "      <td>0.0</td>\n",
       "      <td>40.0</td>\n",
       "      <td>360.0</td>\n",
       "      <td>1.0</td>\n",
       "      <td>Urban</td>\n",
       "      <td>Y</td>\n",
       "      <td>Very High Inc</td>\n",
       "    </tr>\n",
       "    <tr>\n",
       "      <th>610</th>\n",
       "      <td>LP002979</td>\n",
       "      <td>Male</td>\n",
       "      <td>Yes</td>\n",
       "      <td>3+</td>\n",
       "      <td>Graduate</td>\n",
       "      <td>No</td>\n",
       "      <td>4106</td>\n",
       "      <td>0.0</td>\n",
       "      <td>40.0</td>\n",
       "      <td>180.0</td>\n",
       "      <td>1.0</td>\n",
       "      <td>Rural</td>\n",
       "      <td>Y</td>\n",
       "      <td>Mid Inc</td>\n",
       "    </tr>\n",
       "    <tr>\n",
       "      <th>582</th>\n",
       "      <td>LP002894</td>\n",
       "      <td>Female</td>\n",
       "      <td>Yes</td>\n",
       "      <td>0</td>\n",
       "      <td>Graduate</td>\n",
       "      <td>No</td>\n",
       "      <td>3166</td>\n",
       "      <td>0.0</td>\n",
       "      <td>36.0</td>\n",
       "      <td>360.0</td>\n",
       "      <td>1.0</td>\n",
       "      <td>Semiurban</td>\n",
       "      <td>Y</td>\n",
       "      <td>Low Inc</td>\n",
       "    </tr>\n",
       "    <tr>\n",
       "      <th>28</th>\n",
       "      <td>LP001086</td>\n",
       "      <td>Male</td>\n",
       "      <td>No</td>\n",
       "      <td>0</td>\n",
       "      <td>Not Graduate</td>\n",
       "      <td>No</td>\n",
       "      <td>1442</td>\n",
       "      <td>0.0</td>\n",
       "      <td>35.0</td>\n",
       "      <td>360.0</td>\n",
       "      <td>1.0</td>\n",
       "      <td>Urban</td>\n",
       "      <td>N</td>\n",
       "      <td>Low Inc</td>\n",
       "    </tr>\n",
       "    <tr>\n",
       "      <th>147</th>\n",
       "      <td>LP001518</td>\n",
       "      <td>Male</td>\n",
       "      <td>Yes</td>\n",
       "      <td>1</td>\n",
       "      <td>Graduate</td>\n",
       "      <td>No</td>\n",
       "      <td>1538</td>\n",
       "      <td>1425.0</td>\n",
       "      <td>30.0</td>\n",
       "      <td>360.0</td>\n",
       "      <td>1.0</td>\n",
       "      <td>Urban</td>\n",
       "      <td>Y</td>\n",
       "      <td>Low Inc</td>\n",
       "    </tr>\n",
       "    <tr>\n",
       "      <th>270</th>\n",
       "      <td>LP001888</td>\n",
       "      <td>Female</td>\n",
       "      <td>No</td>\n",
       "      <td>0</td>\n",
       "      <td>Graduate</td>\n",
       "      <td>No</td>\n",
       "      <td>3237</td>\n",
       "      <td>0.0</td>\n",
       "      <td>30.0</td>\n",
       "      <td>360.0</td>\n",
       "      <td>1.0</td>\n",
       "      <td>Urban</td>\n",
       "      <td>Y</td>\n",
       "      <td>Mid Inc</td>\n",
       "    </tr>\n",
       "    <tr>\n",
       "      <th>555</th>\n",
       "      <td>LP002792</td>\n",
       "      <td>Male</td>\n",
       "      <td>Yes</td>\n",
       "      <td>1</td>\n",
       "      <td>Graduate</td>\n",
       "      <td>No</td>\n",
       "      <td>5468</td>\n",
       "      <td>1032.0</td>\n",
       "      <td>26.0</td>\n",
       "      <td>360.0</td>\n",
       "      <td>1.0</td>\n",
       "      <td>Semiurban</td>\n",
       "      <td>Y</td>\n",
       "      <td>High Inc</td>\n",
       "    </tr>\n",
       "    <tr>\n",
       "      <th>94</th>\n",
       "      <td>LP001325</td>\n",
       "      <td>Male</td>\n",
       "      <td>No</td>\n",
       "      <td>0</td>\n",
       "      <td>Not Graduate</td>\n",
       "      <td>No</td>\n",
       "      <td>3620</td>\n",
       "      <td>0.0</td>\n",
       "      <td>25.0</td>\n",
       "      <td>120.0</td>\n",
       "      <td>1.0</td>\n",
       "      <td>Semiurban</td>\n",
       "      <td>Y</td>\n",
       "      <td>Mid Inc</td>\n",
       "    </tr>\n",
       "    <tr>\n",
       "      <th>133</th>\n",
       "      <td>LP001482</td>\n",
       "      <td>Male</td>\n",
       "      <td>Yes</td>\n",
       "      <td>0</td>\n",
       "      <td>Graduate</td>\n",
       "      <td>Yes</td>\n",
       "      <td>3459</td>\n",
       "      <td>0.0</td>\n",
       "      <td>25.0</td>\n",
       "      <td>120.0</td>\n",
       "      <td>1.0</td>\n",
       "      <td>Semiurban</td>\n",
       "      <td>Y</td>\n",
       "      <td>Mid Inc</td>\n",
       "    </tr>\n",
       "    <tr>\n",
       "      <th>14</th>\n",
       "      <td>LP001030</td>\n",
       "      <td>Male</td>\n",
       "      <td>Yes</td>\n",
       "      <td>2</td>\n",
       "      <td>Graduate</td>\n",
       "      <td>No</td>\n",
       "      <td>1299</td>\n",
       "      <td>1086.0</td>\n",
       "      <td>17.0</td>\n",
       "      <td>120.0</td>\n",
       "      <td>1.0</td>\n",
       "      <td>Urban</td>\n",
       "      <td>Y</td>\n",
       "      <td>Low Inc</td>\n",
       "    </tr>\n",
       "    <tr>\n",
       "      <th>568</th>\n",
       "      <td>LP002840</td>\n",
       "      <td>Female</td>\n",
       "      <td>No</td>\n",
       "      <td>0</td>\n",
       "      <td>Graduate</td>\n",
       "      <td>No</td>\n",
       "      <td>2378</td>\n",
       "      <td>0.0</td>\n",
       "      <td>9.0</td>\n",
       "      <td>360.0</td>\n",
       "      <td>1.0</td>\n",
       "      <td>Urban</td>\n",
       "      <td>N</td>\n",
       "      <td>Low Inc</td>\n",
       "    </tr>\n",
       "  </tbody>\n",
       "</table>\n",
       "<p>614 rows × 14 columns</p>\n",
       "</div>"
      ],
      "text/plain": [
       "      Loan_ID  Gender Married Dependents     Education Self_Employed  \\\n",
       "171  LP001585    Male     Yes         3+      Graduate            No   \n",
       "130  LP001469    Male      No          0      Graduate           Yes   \n",
       "155  LP001536    Male     Yes         3+      Graduate            No   \n",
       "561  LP002813  Female     Yes          1      Graduate           Yes   \n",
       "369  LP002191    Male     Yes          0      Graduate            No   \n",
       "487  LP002547    Male     Yes          1      Graduate            No   \n",
       "604  LP002959  Female     Yes          1      Graduate            No   \n",
       "177  LP001610    Male     Yes         3+      Graduate            No   \n",
       "333  LP002101    Male     Yes          0      Graduate            No   \n",
       "308  LP001996    Male      No          0      Graduate            No   \n",
       "506  LP002624    Male     Yes          0      Graduate            No   \n",
       "523  LP002693    Male     Yes          2      Graduate           Yes   \n",
       "278  LP001907    Male     Yes          0      Graduate            No   \n",
       "432  LP002386    Male      No          0      Graduate            No   \n",
       "525  LP002699    Male     Yes          2      Graduate           Yes   \n",
       "372  LP002201    Male     Yes          2      Graduate           Yes   \n",
       "325  LP002067    Male     Yes          1      Graduate           Yes   \n",
       "126  LP001448    Male     Yes         3+      Graduate            No   \n",
       "409  LP002317    Male     Yes         3+      Graduate            No   \n",
       "600  LP002949  Female      No         3+      Graduate            No   \n",
       "9    LP001020    Male     Yes          1      Graduate            No   \n",
       "260  LP001865    Male     Yes          1      Graduate            No   \n",
       "536  LP002734    Male     Yes          0      Graduate            No   \n",
       "34   LP001100    Male      No         3+      Graduate            No   \n",
       "21   LP001046    Male     Yes          1      Graduate            No   \n",
       "67   LP001233    Male     Yes          1      Graduate            No   \n",
       "514  LP002652    Male      No          0      Graduate            No   \n",
       "351  LP002140    Male      No          0      Graduate            No   \n",
       "258  LP001859    Male     Yes          0      Graduate            No   \n",
       "324  LP002065    Male     Yes         3+      Graduate            No   \n",
       "..        ...     ...     ...        ...           ...           ...   \n",
       "312  LP002006  Female      No          0      Graduate            No   \n",
       "447  LP002435    Male     Yes          0      Graduate            No   \n",
       "521  LP002690    Male      No          0      Graduate            No   \n",
       "207  LP001698    Male      No          0  Not Graduate            No   \n",
       "370  LP002194  Female      No          0      Graduate           Yes   \n",
       "283  LP001917  Female      No          0      Graduate            No   \n",
       "403  LP002300  Female      No          0  Not Graduate            No   \n",
       "84   LP001275    Male     Yes          1      Graduate            No   \n",
       "154  LP001535    Male      No          0      Graduate            No   \n",
       "436  LP002398    Male      No          0      Graduate            No   \n",
       "97   LP001333    Male     Yes          0      Graduate            No   \n",
       "190  LP001653    Male      No          0  Not Graduate            No   \n",
       "41   LP001120    Male      No          0      Graduate            No   \n",
       "341  LP002116  Female      No          0      Graduate            No   \n",
       "400  LP002288    Male     Yes          2  Not Graduate            No   \n",
       "520  LP002689    Male     Yes          2  Not Graduate            No   \n",
       "46   LP001138    Male     Yes          1      Graduate            No   \n",
       "121  LP001430  Female      No          0      Graduate            No   \n",
       "231  LP001768    Male     Yes          0      Graduate            No   \n",
       "509  LP002634  Female      No          1      Graduate            No   \n",
       "610  LP002979    Male     Yes         3+      Graduate            No   \n",
       "582  LP002894  Female     Yes          0      Graduate            No   \n",
       "28   LP001086    Male      No          0  Not Graduate            No   \n",
       "147  LP001518    Male     Yes          1      Graduate            No   \n",
       "270  LP001888  Female      No          0      Graduate            No   \n",
       "555  LP002792    Male     Yes          1      Graduate            No   \n",
       "94   LP001325    Male      No          0  Not Graduate            No   \n",
       "133  LP001482    Male     Yes          0      Graduate           Yes   \n",
       "14   LP001030    Male     Yes          2      Graduate            No   \n",
       "568  LP002840  Female      No          0      Graduate            No   \n",
       "\n",
       "     ApplicantIncome  CoapplicantIncome  LoanAmount  Loan_Amount_Term  \\\n",
       "171            51763                0.0       700.0             300.0   \n",
       "130            20166                0.0       650.0             480.0   \n",
       "155            39999                0.0       600.0             180.0   \n",
       "561            19484                0.0       600.0             360.0   \n",
       "369            19730             5266.0       570.0             360.0   \n",
       "487            18333                0.0       500.0             360.0   \n",
       "604            12000                0.0       496.0             360.0   \n",
       "177             5516            11300.0       495.0             360.0   \n",
       "333            63337                0.0       490.0             180.0   \n",
       "308            20233                0.0       480.0             360.0   \n",
       "506            20833             6667.0       480.0             360.0   \n",
       "523             7948             7166.0       480.0             360.0   \n",
       "278            14583                0.0       436.0             360.0   \n",
       "432            12876                0.0       405.0             360.0   \n",
       "525            17500                0.0       400.0             360.0   \n",
       "372             9323             7873.0       380.0             300.0   \n",
       "325             8666             4983.0       376.0             360.0   \n",
       "126            23803                0.0       370.0             360.0   \n",
       "409            81000                0.0       360.0             360.0   \n",
       "600              416            41667.0       350.0             180.0   \n",
       "9              12841            10968.0       349.0             360.0   \n",
       "260             6083             4250.0       330.0             360.0   \n",
       "536             6133             3906.0       324.0             360.0   \n",
       "34             12500             3000.0       320.0             360.0   \n",
       "21              5955             5625.0       315.0             360.0   \n",
       "67             10750                0.0       312.0             360.0   \n",
       "514             5815             3666.0       311.0             360.0   \n",
       "351             8750             4167.0       308.0             360.0   \n",
       "258            14683             2100.0       304.0             360.0   \n",
       "324            15000                0.0       300.0             360.0   \n",
       "..               ...                ...         ...               ...   \n",
       "312             2507                0.0        56.0             360.0   \n",
       "447             3539             1376.0        55.0             360.0   \n",
       "521             2500                0.0        55.0             360.0   \n",
       "207             3975             2531.0        55.0             360.0   \n",
       "370            15759                0.0        55.0             360.0   \n",
       "283             1811             1666.0        54.0             360.0   \n",
       "403             1963                0.0        53.0             360.0   \n",
       "84              3988                0.0        50.0             240.0   \n",
       "154             3254                0.0        50.0             360.0   \n",
       "436             1926             1851.0        50.0             360.0   \n",
       "97              1977              997.0        50.0             360.0   \n",
       "190             4885                0.0        48.0             360.0   \n",
       "41              1800             1213.0        47.0             360.0   \n",
       "341             2378                0.0        46.0             360.0   \n",
       "400             2889                0.0        45.0             180.0   \n",
       "520             2192             1742.0        45.0             360.0   \n",
       "46              5649                0.0        44.0             360.0   \n",
       "121             4166                0.0        44.0             360.0   \n",
       "231             3716                0.0        42.0             180.0   \n",
       "509            13262                0.0        40.0             360.0   \n",
       "610             4106                0.0        40.0             180.0   \n",
       "582             3166                0.0        36.0             360.0   \n",
       "28              1442                0.0        35.0             360.0   \n",
       "147             1538             1425.0        30.0             360.0   \n",
       "270             3237                0.0        30.0             360.0   \n",
       "555             5468             1032.0        26.0             360.0   \n",
       "94              3620                0.0        25.0             120.0   \n",
       "133             3459                0.0        25.0             120.0   \n",
       "14              1299             1086.0        17.0             120.0   \n",
       "568             2378                0.0         9.0             360.0   \n",
       "\n",
       "     Credit_History Property_Area Loan_Status Income_Band_new  \n",
       "171             1.0         Urban           Y   Very High Inc  \n",
       "130             1.0         Urban           Y   Very High Inc  \n",
       "155             0.0     Semiurban           Y   Very High Inc  \n",
       "561             1.0     Semiurban           Y   Very High Inc  \n",
       "369             1.0         Rural           N   Very High Inc  \n",
       "487             1.0         Urban           N   Very High Inc  \n",
       "604             1.0     Semiurban           Y   Very High Inc  \n",
       "177             0.0     Semiurban           N        High Inc  \n",
       "333             1.0         Urban           Y   Very High Inc  \n",
       "308             1.0         Rural           N   Very High Inc  \n",
       "506             1.0         Urban           Y   Very High Inc  \n",
       "523             1.0         Rural           Y        High Inc  \n",
       "278             1.0     Semiurban           Y   Very High Inc  \n",
       "432             1.0     Semiurban           Y   Very High Inc  \n",
       "525             1.0         Rural           Y   Very High Inc  \n",
       "372             1.0         Rural           Y        High Inc  \n",
       "325             0.0         Rural           N        High Inc  \n",
       "126             1.0         Rural           Y   Very High Inc  \n",
       "409             0.0         Rural           N   Very High Inc  \n",
       "600             1.0         Urban           N         Low Inc  \n",
       "9               1.0     Semiurban           N   Very High Inc  \n",
       "260             1.0         Urban           Y        High Inc  \n",
       "536             1.0         Urban           Y        High Inc  \n",
       "34              1.0         Rural           N   Very High Inc  \n",
       "21              1.0         Urban           Y        High Inc  \n",
       "67              1.0         Urban           Y   Very High Inc  \n",
       "514             1.0         Rural           N        High Inc  \n",
       "351             1.0         Rural           N        High Inc  \n",
       "258             1.0         Rural           N   Very High Inc  \n",
       "324             1.0         Rural           Y   Very High Inc  \n",
       "..              ...           ...         ...             ...  \n",
       "312             1.0         Rural           Y         Low Inc  \n",
       "447             1.0         Rural           N         Mid Inc  \n",
       "521             1.0     Semiurban           Y         Low Inc  \n",
       "207             1.0         Rural           Y         Mid Inc  \n",
       "370             1.0     Semiurban           Y   Very High Inc  \n",
       "283             1.0         Urban           Y         Low Inc  \n",
       "403             1.0     Semiurban           Y         Low Inc  \n",
       "84              1.0         Urban           Y         Mid Inc  \n",
       "154             1.0         Urban           Y         Mid Inc  \n",
       "436             1.0     Semiurban           Y         Low Inc  \n",
       "97              1.0     Semiurban           Y         Low Inc  \n",
       "190             1.0         Rural           Y         Mid Inc  \n",
       "41              1.0         Urban           Y         Low Inc  \n",
       "341             1.0         Rural           N         Low Inc  \n",
       "400             0.0         Urban           N         Low Inc  \n",
       "520             1.0     Semiurban           Y         Low Inc  \n",
       "46              1.0         Urban           Y        High Inc  \n",
       "121             1.0     Semiurban           Y         Mid Inc  \n",
       "231             1.0         Rural           Y         Mid Inc  \n",
       "509             1.0         Urban           Y   Very High Inc  \n",
       "610             1.0         Rural           Y         Mid Inc  \n",
       "582             1.0     Semiurban           Y         Low Inc  \n",
       "28              1.0         Urban           N         Low Inc  \n",
       "147             1.0         Urban           Y         Low Inc  \n",
       "270             1.0         Urban           Y         Mid Inc  \n",
       "555             1.0     Semiurban           Y        High Inc  \n",
       "94              1.0     Semiurban           Y         Mid Inc  \n",
       "133             1.0     Semiurban           Y         Mid Inc  \n",
       "14              1.0         Urban           Y         Low Inc  \n",
       "568             1.0         Urban           N         Low Inc  \n",
       "\n",
       "[614 rows x 14 columns]"
      ]
     },
     "execution_count": 761,
     "metadata": {},
     "output_type": "execute_result"
    }
   ],
   "source": [
    "train_data.sort_values(by = 'LoanAmount', ascending=0)"
   ]
  },
  {
   "cell_type": "code",
   "execution_count": 762,
   "metadata": {},
   "outputs": [
    {
     "data": {
      "image/png": "[encoded data removed]",
      "text/plain": [
       "<Figure size 432x288 with 1 Axes>"
      ]
     },
     "metadata": {},
     "output_type": "display_data"
    },
    {
     "data": {
      "image/png": "[encoded data removed]",
      "text/plain": [
       "<Figure size 432x288 with 1 Axes>"
      ]
     },
     "metadata": {},
     "output_type": "display_data"
    }
   ],
   "source": [
    "train_data['LoanAmount'].hist(bins=20)\n",
    "plt.show()\n",
    "\n",
    "sns.distplot(train_data['LoanAmount'])\n",
    "plt.show()"
   ]
  },
  {
   "cell_type": "code",
   "execution_count": 763,
   "metadata": {},
   "outputs": [],
   "source": [
    "train_data['LoanAmount_log'] = np.log(train_data['LoanAmount'])"
   ]
  },
  {
   "cell_type": "code",
   "execution_count": 764,
   "metadata": {},
   "outputs": [
    {
     "data": {
      "image/png": "[encoded data removed]",
      "text/plain": [
       "<Figure size 432x288 with 1 Axes>"
      ]
     },
     "metadata": {},
     "output_type": "display_data"
    },
    {
     "data": {
      "image/png": "[encoded data removed]",
      "text/plain": [
       "<Figure size 432x288 with 1 Axes>"
      ]
     },
     "metadata": {},
     "output_type": "display_data"
    }
   ],
   "source": [
    "train_data['LoanAmount_log'].hist(bins=20)\n",
    "plt.show()\n",
    "sns.distplot(train_data['LoanAmount_log'])\n",
    "plt.show()"
   ]
  },
  {
   "cell_type": "code",
   "execution_count": 765,
   "metadata": {},
   "outputs": [
    {
     "data": {
      "image/png": "[encoded data removed]",
      "text/plain": [
       "<Figure size 432x288 with 1 Axes>"
      ]
     },
     "metadata": {},
     "output_type": "display_data"
    },
    {
     "data": {
      "image/png": "[encoded data removed]",
      "text/plain": [
       "<Figure size 432x288 with 1 Axes>"
      ]
     },
     "metadata": {},
     "output_type": "display_data"
    }
   ],
   "source": [
    "train_data['LoanAmount_log10'] = np.log10(train_data['LoanAmount'])\n",
    "train_data['LoanAmount_log10'].hist(bins=20)\n",
    "plt.show()\n",
    "sns.distplot(train_data['LoanAmount_log10'])\n",
    "plt.show()"
   ]
  },
  {
   "cell_type": "code",
   "execution_count": 766,
   "metadata": {},
   "outputs": [],
   "source": [
    "train_data['TotalIncome'] = train_data['ApplicantIncome'] + train_data['CoapplicantIncome']"
   ]
  },
  {
   "cell_type": "code",
   "execution_count": 767,
   "metadata": {},
   "outputs": [
    {
     "data": {
      "image/png": "[encoded data removed]",
      "text/plain": [
       "<Figure size 432x288 with 1 Axes>"
      ]
     },
     "metadata": {},
     "output_type": "display_data"
    }
   ],
   "source": [
    "train_data['TotalIncome_log'] = np.log(train_data['TotalIncome'])\n",
    "train_data['TotalIncome_log'].hist(bins=20)\n",
    "plt.show()"
   ]
  },
  {
   "cell_type": "code",
   "execution_count": 768,
   "metadata": {},
   "outputs": [
    {
     "data": {
      "text/html": [
       "<div>\n",
       "<style scoped>\n",
       "    .dataframe tbody tr th:only-of-type {\n",
       "        vertical-align: middle;\n",
       "    }\n",
       "\n",
       "    .dataframe tbody tr th {\n",
       "        vertical-align: top;\n",
       "    }\n",
       "\n",
       "    .dataframe thead th {\n",
       "        text-align: right;\n",
       "    }\n",
       "</style>\n",
       "<table border=\"1\" class=\"dataframe\">\n",
       "  <thead>\n",
       "    <tr style=\"text-align: right;\">\n",
       "      <th></th>\n",
       "      <th>Loan_ID</th>\n",
       "      <th>Gender</th>\n",
       "      <th>Married</th>\n",
       "      <th>Dependents</th>\n",
       "      <th>Education</th>\n",
       "      <th>Self_Employed</th>\n",
       "      <th>ApplicantIncome</th>\n",
       "      <th>CoapplicantIncome</th>\n",
       "      <th>LoanAmount</th>\n",
       "      <th>Loan_Amount_Term</th>\n",
       "      <th>Credit_History</th>\n",
       "      <th>Property_Area</th>\n",
       "      <th>Loan_Status</th>\n",
       "      <th>Income_Band_new</th>\n",
       "      <th>LoanAmount_log</th>\n",
       "      <th>LoanAmount_log10</th>\n",
       "      <th>TotalIncome</th>\n",
       "      <th>TotalIncome_log</th>\n",
       "    </tr>\n",
       "  </thead>\n",
       "  <tbody>\n",
       "    <tr>\n",
       "      <th>0</th>\n",
       "      <td>LP001002</td>\n",
       "      <td>Male</td>\n",
       "      <td>No</td>\n",
       "      <td>0</td>\n",
       "      <td>Graduate</td>\n",
       "      <td>No</td>\n",
       "      <td>5849</td>\n",
       "      <td>0.0</td>\n",
       "      <td>146.41</td>\n",
       "      <td>360.0</td>\n",
       "      <td>1.0</td>\n",
       "      <td>Urban</td>\n",
       "      <td>Y</td>\n",
       "      <td>High Inc</td>\n",
       "      <td>4.986411</td>\n",
       "      <td>2.165571</td>\n",
       "      <td>5849.0</td>\n",
       "      <td>8.674026</td>\n",
       "    </tr>\n",
       "    <tr>\n",
       "      <th>1</th>\n",
       "      <td>LP001003</td>\n",
       "      <td>Male</td>\n",
       "      <td>Yes</td>\n",
       "      <td>1</td>\n",
       "      <td>Graduate</td>\n",
       "      <td>No</td>\n",
       "      <td>4583</td>\n",
       "      <td>1508.0</td>\n",
       "      <td>128.00</td>\n",
       "      <td>360.0</td>\n",
       "      <td>1.0</td>\n",
       "      <td>Rural</td>\n",
       "      <td>N</td>\n",
       "      <td>Mid Inc</td>\n",
       "      <td>4.852030</td>\n",
       "      <td>2.107210</td>\n",
       "      <td>6091.0</td>\n",
       "      <td>8.714568</td>\n",
       "    </tr>\n",
       "    <tr>\n",
       "      <th>2</th>\n",
       "      <td>LP001005</td>\n",
       "      <td>Male</td>\n",
       "      <td>Yes</td>\n",
       "      <td>0</td>\n",
       "      <td>Graduate</td>\n",
       "      <td>Yes</td>\n",
       "      <td>3000</td>\n",
       "      <td>0.0</td>\n",
       "      <td>66.00</td>\n",
       "      <td>360.0</td>\n",
       "      <td>1.0</td>\n",
       "      <td>Urban</td>\n",
       "      <td>Y</td>\n",
       "      <td>Low Inc</td>\n",
       "      <td>4.189655</td>\n",
       "      <td>1.819544</td>\n",
       "      <td>3000.0</td>\n",
       "      <td>8.006368</td>\n",
       "    </tr>\n",
       "    <tr>\n",
       "      <th>3</th>\n",
       "      <td>LP001006</td>\n",
       "      <td>Male</td>\n",
       "      <td>Yes</td>\n",
       "      <td>0</td>\n",
       "      <td>Not Graduate</td>\n",
       "      <td>No</td>\n",
       "      <td>2583</td>\n",
       "      <td>2358.0</td>\n",
       "      <td>120.00</td>\n",
       "      <td>360.0</td>\n",
       "      <td>1.0</td>\n",
       "      <td>Urban</td>\n",
       "      <td>Y</td>\n",
       "      <td>Low Inc</td>\n",
       "      <td>4.787492</td>\n",
       "      <td>2.079181</td>\n",
       "      <td>4941.0</td>\n",
       "      <td>8.505323</td>\n",
       "    </tr>\n",
       "    <tr>\n",
       "      <th>4</th>\n",
       "      <td>LP001008</td>\n",
       "      <td>Male</td>\n",
       "      <td>No</td>\n",
       "      <td>0</td>\n",
       "      <td>Graduate</td>\n",
       "      <td>No</td>\n",
       "      <td>6000</td>\n",
       "      <td>0.0</td>\n",
       "      <td>141.00</td>\n",
       "      <td>360.0</td>\n",
       "      <td>1.0</td>\n",
       "      <td>Urban</td>\n",
       "      <td>Y</td>\n",
       "      <td>High Inc</td>\n",
       "      <td>4.948760</td>\n",
       "      <td>2.149219</td>\n",
       "      <td>6000.0</td>\n",
       "      <td>8.699515</td>\n",
       "    </tr>\n",
       "  </tbody>\n",
       "</table>\n",
       "</div>"
      ],
      "text/plain": [
       "    Loan_ID Gender Married Dependents     Education Self_Employed  \\\n",
       "0  LP001002   Male      No          0      Graduate            No   \n",
       "1  LP001003   Male     Yes          1      Graduate            No   \n",
       "2  LP001005   Male     Yes          0      Graduate           Yes   \n",
       "3  LP001006   Male     Yes          0  Not Graduate            No   \n",
       "4  LP001008   Male      No          0      Graduate            No   \n",
       "\n",
       "   ApplicantIncome  CoapplicantIncome  LoanAmount  Loan_Amount_Term  \\\n",
       "0             5849                0.0      146.41             360.0   \n",
       "1             4583             1508.0      128.00             360.0   \n",
       "2             3000                0.0       66.00             360.0   \n",
       "3             2583             2358.0      120.00             360.0   \n",
       "4             6000                0.0      141.00             360.0   \n",
       "\n",
       "   Credit_History Property_Area Loan_Status Income_Band_new  LoanAmount_log  \\\n",
       "0             1.0         Urban           Y        High Inc        4.986411   \n",
       "1             1.0         Rural           N         Mid Inc        4.852030   \n",
       "2             1.0         Urban           Y         Low Inc        4.189655   \n",
       "3             1.0         Urban           Y         Low Inc        4.787492   \n",
       "4             1.0         Urban           Y        High Inc        4.948760   \n",
       "\n",
       "   LoanAmount_log10  TotalIncome  TotalIncome_log  \n",
       "0          2.165571       5849.0         8.674026  \n",
       "1          2.107210       6091.0         8.714568  \n",
       "2          1.819544       3000.0         8.006368  \n",
       "3          2.079181       4941.0         8.505323  \n",
       "4          2.149219       6000.0         8.699515  "
      ]
     },
     "execution_count": 768,
     "metadata": {},
     "output_type": "execute_result"
    }
   ],
   "source": [
    "train_data.head()"
   ]
  },
  {
   "cell_type": "code",
   "execution_count": 769,
   "metadata": {},
   "outputs": [
    {
     "data": {
      "text/plain": [
       "Male      502\n",
       "Female    112\n",
       "Name: Gender, dtype: int64"
      ]
     },
     "execution_count": 769,
     "metadata": {},
     "output_type": "execute_result"
    }
   ],
   "source": [
    "train_data.Gender.value_counts()"
   ]
  },
  {
   "cell_type": "code",
   "execution_count": 770,
   "metadata": {},
   "outputs": [
    {
     "data": {
      "text/html": [
       "<div>\n",
       "<style scoped>\n",
       "    .dataframe tbody tr th:only-of-type {\n",
       "        vertical-align: middle;\n",
       "    }\n",
       "\n",
       "    .dataframe tbody tr th {\n",
       "        vertical-align: top;\n",
       "    }\n",
       "\n",
       "    .dataframe thead th {\n",
       "        text-align: right;\n",
       "    }\n",
       "</style>\n",
       "<table border=\"1\" class=\"dataframe\">\n",
       "  <thead>\n",
       "    <tr style=\"text-align: right;\">\n",
       "      <th></th>\n",
       "      <th>Loan_ID</th>\n",
       "      <th>Married</th>\n",
       "      <th>Dependents</th>\n",
       "      <th>Education</th>\n",
       "      <th>Self_Employed</th>\n",
       "      <th>ApplicantIncome</th>\n",
       "      <th>CoapplicantIncome</th>\n",
       "      <th>LoanAmount</th>\n",
       "      <th>Loan_Amount_Term</th>\n",
       "      <th>Credit_History</th>\n",
       "      <th>Property_Area</th>\n",
       "      <th>Loan_Status</th>\n",
       "      <th>Income_Band_new</th>\n",
       "      <th>LoanAmount_log</th>\n",
       "      <th>LoanAmount_log10</th>\n",
       "      <th>TotalIncome</th>\n",
       "      <th>TotalIncome_log</th>\n",
       "      <th>Gender_Female</th>\n",
       "      <th>Gender_Male</th>\n",
       "    </tr>\n",
       "  </thead>\n",
       "  <tbody>\n",
       "    <tr>\n",
       "      <th>0</th>\n",
       "      <td>LP001002</td>\n",
       "      <td>No</td>\n",
       "      <td>0</td>\n",
       "      <td>Graduate</td>\n",
       "      <td>No</td>\n",
       "      <td>5849</td>\n",
       "      <td>0.0</td>\n",
       "      <td>146.41</td>\n",
       "      <td>360.0</td>\n",
       "      <td>1.0</td>\n",
       "      <td>Urban</td>\n",
       "      <td>Y</td>\n",
       "      <td>High Inc</td>\n",
       "      <td>4.986411</td>\n",
       "      <td>2.165571</td>\n",
       "      <td>5849.0</td>\n",
       "      <td>8.674026</td>\n",
       "      <td>0</td>\n",
       "      <td>1</td>\n",
       "    </tr>\n",
       "    <tr>\n",
       "      <th>1</th>\n",
       "      <td>LP001003</td>\n",
       "      <td>Yes</td>\n",
       "      <td>1</td>\n",
       "      <td>Graduate</td>\n",
       "      <td>No</td>\n",
       "      <td>4583</td>\n",
       "      <td>1508.0</td>\n",
       "      <td>128.00</td>\n",
       "      <td>360.0</td>\n",
       "      <td>1.0</td>\n",
       "      <td>Rural</td>\n",
       "      <td>N</td>\n",
       "      <td>Mid Inc</td>\n",
       "      <td>4.852030</td>\n",
       "      <td>2.107210</td>\n",
       "      <td>6091.0</td>\n",
       "      <td>8.714568</td>\n",
       "      <td>0</td>\n",
       "      <td>1</td>\n",
       "    </tr>\n",
       "    <tr>\n",
       "      <th>2</th>\n",
       "      <td>LP001005</td>\n",
       "      <td>Yes</td>\n",
       "      <td>0</td>\n",
       "      <td>Graduate</td>\n",
       "      <td>Yes</td>\n",
       "      <td>3000</td>\n",
       "      <td>0.0</td>\n",
       "      <td>66.00</td>\n",
       "      <td>360.0</td>\n",
       "      <td>1.0</td>\n",
       "      <td>Urban</td>\n",
       "      <td>Y</td>\n",
       "      <td>Low Inc</td>\n",
       "      <td>4.189655</td>\n",
       "      <td>1.819544</td>\n",
       "      <td>3000.0</td>\n",
       "      <td>8.006368</td>\n",
       "      <td>0</td>\n",
       "      <td>1</td>\n",
       "    </tr>\n",
       "    <tr>\n",
       "      <th>3</th>\n",
       "      <td>LP001006</td>\n",
       "      <td>Yes</td>\n",
       "      <td>0</td>\n",
       "      <td>Not Graduate</td>\n",
       "      <td>No</td>\n",
       "      <td>2583</td>\n",
       "      <td>2358.0</td>\n",
       "      <td>120.00</td>\n",
       "      <td>360.0</td>\n",
       "      <td>1.0</td>\n",
       "      <td>Urban</td>\n",
       "      <td>Y</td>\n",
       "      <td>Low Inc</td>\n",
       "      <td>4.787492</td>\n",
       "      <td>2.079181</td>\n",
       "      <td>4941.0</td>\n",
       "      <td>8.505323</td>\n",
       "      <td>0</td>\n",
       "      <td>1</td>\n",
       "    </tr>\n",
       "    <tr>\n",
       "      <th>4</th>\n",
       "      <td>LP001008</td>\n",
       "      <td>No</td>\n",
       "      <td>0</td>\n",
       "      <td>Graduate</td>\n",
       "      <td>No</td>\n",
       "      <td>6000</td>\n",
       "      <td>0.0</td>\n",
       "      <td>141.00</td>\n",
       "      <td>360.0</td>\n",
       "      <td>1.0</td>\n",
       "      <td>Urban</td>\n",
       "      <td>Y</td>\n",
       "      <td>High Inc</td>\n",
       "      <td>4.948760</td>\n",
       "      <td>2.149219</td>\n",
       "      <td>6000.0</td>\n",
       "      <td>8.699515</td>\n",
       "      <td>0</td>\n",
       "      <td>1</td>\n",
       "    </tr>\n",
       "  </tbody>\n",
       "</table>\n",
       "</div>"
      ],
      "text/plain": [
       "    Loan_ID Married Dependents     Education Self_Employed  ApplicantIncome  \\\n",
       "0  LP001002      No          0      Graduate            No             5849   \n",
       "1  LP001003     Yes          1      Graduate            No             4583   \n",
       "2  LP001005     Yes          0      Graduate           Yes             3000   \n",
       "3  LP001006     Yes          0  Not Graduate            No             2583   \n",
       "4  LP001008      No          0      Graduate            No             6000   \n",
       "\n",
       "   CoapplicantIncome  LoanAmount  Loan_Amount_Term  Credit_History  \\\n",
       "0                0.0      146.41             360.0             1.0   \n",
       "1             1508.0      128.00             360.0             1.0   \n",
       "2                0.0       66.00             360.0             1.0   \n",
       "3             2358.0      120.00             360.0             1.0   \n",
       "4                0.0      141.00             360.0             1.0   \n",
       "\n",
       "  Property_Area Loan_Status Income_Band_new  LoanAmount_log  LoanAmount_log10  \\\n",
       "0         Urban           Y        High Inc        4.986411          2.165571   \n",
       "1         Rural           N         Mid Inc        4.852030          2.107210   \n",
       "2         Urban           Y         Low Inc        4.189655          1.819544   \n",
       "3         Urban           Y         Low Inc        4.787492          2.079181   \n",
       "4         Urban           Y        High Inc        4.948760          2.149219   \n",
       "\n",
       "   TotalIncome  TotalIncome_log  Gender_Female  Gender_Male  \n",
       "0       5849.0         8.674026              0            1  \n",
       "1       6091.0         8.714568              0            1  \n",
       "2       3000.0         8.006368              0            1  \n",
       "3       4941.0         8.505323              0            1  \n",
       "4       6000.0         8.699515              0            1  "
      ]
     },
     "execution_count": 770,
     "metadata": {},
     "output_type": "execute_result"
    }
   ],
   "source": [
    "gender_cat = pd.get_dummies(train_data, columns = ['Gender'], drop_first = False)\n",
    "gender_cat.head()"
   ]
  },
  {
   "cell_type": "code",
   "execution_count": 771,
   "metadata": {},
   "outputs": [
    {
     "data": {
      "text/plain": [
       "0    502\n",
       "1    112\n",
       "Name: Gender_Female, dtype: int64"
      ]
     },
     "execution_count": 771,
     "metadata": {},
     "output_type": "execute_result"
    }
   ],
   "source": [
    "gender_cat.Gender_Female.value_counts()"
   ]
  },
  {
   "cell_type": "code",
   "execution_count": 772,
   "metadata": {},
   "outputs": [
    {
     "data": {
      "text/plain": [
       "1    502\n",
       "0    112\n",
       "Name: Gender_Male, dtype: int64"
      ]
     },
     "execution_count": 772,
     "metadata": {},
     "output_type": "execute_result"
    }
   ],
   "source": [
    "gender_cat.Gender_Male.value_counts()"
   ]
  },
  {
   "cell_type": "code",
   "execution_count": 773,
   "metadata": {},
   "outputs": [
    {
     "data": {
      "text/plain": [
       "Index(['Loan_ID', 'Gender', 'Married', 'Dependents', 'Education',\n",
       "       'Self_Employed', 'ApplicantIncome', 'CoapplicantIncome', 'LoanAmount',\n",
       "       'Loan_Amount_Term', 'Credit_History', 'Property_Area', 'Loan_Status',\n",
       "       'Income_Band_new', 'LoanAmount_log', 'LoanAmount_log10', 'TotalIncome',\n",
       "       'TotalIncome_log'],\n",
       "      dtype='object')"
      ]
     },
     "execution_count": 773,
     "metadata": {},
     "output_type": "execute_result"
    }
   ],
   "source": [
    "train_data.columns"
   ]
  },
  {
   "cell_type": "code",
   "execution_count": 774,
   "metadata": {},
   "outputs": [],
   "source": [
    "train_New = pd.get_dummies(train_data, columns = ['Gender', 'Married','Dependents', 'Education',\n",
    "                                               'Self_Employed','Property_Area','Income_Band_new'], drop_first = True)"
   ]
  },
  {
   "cell_type": "code",
   "execution_count": 775,
   "metadata": {},
   "outputs": [
    {
     "data": {
      "text/plain": [
       "(614, 23)"
      ]
     },
     "execution_count": 775,
     "metadata": {},
     "output_type": "execute_result"
    }
   ],
   "source": [
    "train_New.shape"
   ]
  },
  {
   "cell_type": "code",
   "execution_count": 776,
   "metadata": {},
   "outputs": [
    {
     "data": {
      "text/html": [
       "<div>\n",
       "<style scoped>\n",
       "    .dataframe tbody tr th:only-of-type {\n",
       "        vertical-align: middle;\n",
       "    }\n",
       "\n",
       "    .dataframe tbody tr th {\n",
       "        vertical-align: top;\n",
       "    }\n",
       "\n",
       "    .dataframe thead th {\n",
       "        text-align: right;\n",
       "    }\n",
       "</style>\n",
       "<table border=\"1\" class=\"dataframe\">\n",
       "  <thead>\n",
       "    <tr style=\"text-align: right;\">\n",
       "      <th></th>\n",
       "      <th>Loan_ID</th>\n",
       "      <th>ApplicantIncome</th>\n",
       "      <th>CoapplicantIncome</th>\n",
       "      <th>LoanAmount</th>\n",
       "      <th>Loan_Amount_Term</th>\n",
       "      <th>Credit_History</th>\n",
       "      <th>Loan_Status</th>\n",
       "      <th>LoanAmount_log</th>\n",
       "      <th>LoanAmount_log10</th>\n",
       "      <th>TotalIncome</th>\n",
       "      <th>...</th>\n",
       "      <th>Dependents_1</th>\n",
       "      <th>Dependents_2</th>\n",
       "      <th>Dependents_3+</th>\n",
       "      <th>Education_Not Graduate</th>\n",
       "      <th>Self_Employed_Yes</th>\n",
       "      <th>Property_Area_Semiurban</th>\n",
       "      <th>Property_Area_Urban</th>\n",
       "      <th>Income_Band_new_Low Inc</th>\n",
       "      <th>Income_Band_new_Mid Inc</th>\n",
       "      <th>Income_Band_new_Very High Inc</th>\n",
       "    </tr>\n",
       "  </thead>\n",
       "  <tbody>\n",
       "    <tr>\n",
       "      <th>0</th>\n",
       "      <td>LP001002</td>\n",
       "      <td>5849</td>\n",
       "      <td>0.0</td>\n",
       "      <td>146.41</td>\n",
       "      <td>360.0</td>\n",
       "      <td>1.0</td>\n",
       "      <td>Y</td>\n",
       "      <td>4.986411</td>\n",
       "      <td>2.165571</td>\n",
       "      <td>5849.0</td>\n",
       "      <td>...</td>\n",
       "      <td>0</td>\n",
       "      <td>0</td>\n",
       "      <td>0</td>\n",
       "      <td>0</td>\n",
       "      <td>0</td>\n",
       "      <td>0</td>\n",
       "      <td>1</td>\n",
       "      <td>0</td>\n",
       "      <td>0</td>\n",
       "      <td>0</td>\n",
       "    </tr>\n",
       "    <tr>\n",
       "      <th>1</th>\n",
       "      <td>LP001003</td>\n",
       "      <td>4583</td>\n",
       "      <td>1508.0</td>\n",
       "      <td>128.00</td>\n",
       "      <td>360.0</td>\n",
       "      <td>1.0</td>\n",
       "      <td>N</td>\n",
       "      <td>4.852030</td>\n",
       "      <td>2.107210</td>\n",
       "      <td>6091.0</td>\n",
       "      <td>...</td>\n",
       "      <td>1</td>\n",
       "      <td>0</td>\n",
       "      <td>0</td>\n",
       "      <td>0</td>\n",
       "      <td>0</td>\n",
       "      <td>0</td>\n",
       "      <td>0</td>\n",
       "      <td>0</td>\n",
       "      <td>1</td>\n",
       "      <td>0</td>\n",
       "    </tr>\n",
       "  </tbody>\n",
       "</table>\n",
       "<p>2 rows × 23 columns</p>\n",
       "</div>"
      ],
      "text/plain": [
       "    Loan_ID  ApplicantIncome  CoapplicantIncome  LoanAmount  Loan_Amount_Term  \\\n",
       "0  LP001002             5849                0.0      146.41             360.0   \n",
       "1  LP001003             4583             1508.0      128.00             360.0   \n",
       "\n",
       "   Credit_History Loan_Status  LoanAmount_log  LoanAmount_log10  TotalIncome  \\\n",
       "0             1.0           Y        4.986411          2.165571       5849.0   \n",
       "1             1.0           N        4.852030          2.107210       6091.0   \n",
       "\n",
       "               ...                Dependents_1  Dependents_2  Dependents_3+  \\\n",
       "0              ...                           0             0              0   \n",
       "1              ...                           1             0              0   \n",
       "\n",
       "   Education_Not Graduate  Self_Employed_Yes  Property_Area_Semiurban  \\\n",
       "0                       0                  0                        0   \n",
       "1                       0                  0                        0   \n",
       "\n",
       "   Property_Area_Urban  Income_Band_new_Low Inc  Income_Band_new_Mid Inc  \\\n",
       "0                    1                        0                        0   \n",
       "1                    0                        0                        1   \n",
       "\n",
       "   Income_Band_new_Very High Inc  \n",
       "0                              0  \n",
       "1                              0  \n",
       "\n",
       "[2 rows x 23 columns]"
      ]
     },
     "execution_count": 776,
     "metadata": {},
     "output_type": "execute_result"
    }
   ],
   "source": [
    "train_New.head(2)"
   ]
  },
  {
   "cell_type": "code",
   "execution_count": 777,
   "metadata": {},
   "outputs": [
    {
     "data": {
      "text/plain": [
       "Index(['Loan_ID', 'ApplicantIncome', 'CoapplicantIncome', 'LoanAmount',\n",
       "       'Loan_Amount_Term', 'Credit_History', 'Loan_Status', 'LoanAmount_log',\n",
       "       'LoanAmount_log10', 'TotalIncome', 'TotalIncome_log', 'Gender_Male',\n",
       "       'Married_Yes', 'Dependents_1', 'Dependents_2', 'Dependents_3+',\n",
       "       'Education_Not Graduate', 'Self_Employed_Yes',\n",
       "       'Property_Area_Semiurban', 'Property_Area_Urban',\n",
       "       'Income_Band_new_Low Inc', 'Income_Band_new_Mid Inc',\n",
       "       'Income_Band_new_Very High Inc'],\n",
       "      dtype='object')"
      ]
     },
     "execution_count": 777,
     "metadata": {},
     "output_type": "execute_result"
    }
   ],
   "source": [
    "train_New.columns"
   ]
  },
  {
   "cell_type": "code",
   "execution_count": 778,
   "metadata": {},
   "outputs": [],
   "source": [
    "feature_columns = train_New[['ApplicantIncome', 'CoapplicantIncome', 'LoanAmount',\n",
    "       'Loan_Amount_Term', 'Credit_History', 'LoanAmount_log',\n",
    "       'TotalIncome', 'TotalIncome_log','LoanAmount_log10',\n",
    "       'Gender_Male', 'Married_Yes', 'Dependents_1', 'Dependents_2', 'Dependents_3+', \n",
    "       'Education_Not Graduate','Self_Employed_Yes','Property_Area_Semiurban', 'Property_Area_Urban',\n",
    "        'Income_Band_new_Low Inc','Income_Band_new_Mid Inc', 'Income_Band_new_Very High Inc']]"
   ]
  },
  {
   "cell_type": "code",
   "execution_count": 779,
   "metadata": {},
   "outputs": [
    {
     "data": {
      "text/html": [
       "<div>\n",
       "<style scoped>\n",
       "    .dataframe tbody tr th:only-of-type {\n",
       "        vertical-align: middle;\n",
       "    }\n",
       "\n",
       "    .dataframe tbody tr th {\n",
       "        vertical-align: top;\n",
       "    }\n",
       "\n",
       "    .dataframe thead th {\n",
       "        text-align: right;\n",
       "    }\n",
       "</style>\n",
       "<table border=\"1\" class=\"dataframe\">\n",
       "  <thead>\n",
       "    <tr style=\"text-align: right;\">\n",
       "      <th></th>\n",
       "      <th>ApplicantIncome</th>\n",
       "      <th>CoapplicantIncome</th>\n",
       "      <th>LoanAmount</th>\n",
       "      <th>Loan_Amount_Term</th>\n",
       "      <th>Credit_History</th>\n",
       "      <th>LoanAmount_log</th>\n",
       "      <th>TotalIncome</th>\n",
       "      <th>TotalIncome_log</th>\n",
       "      <th>LoanAmount_log10</th>\n",
       "      <th>Gender_Male</th>\n",
       "      <th>...</th>\n",
       "      <th>Dependents_1</th>\n",
       "      <th>Dependents_2</th>\n",
       "      <th>Dependents_3+</th>\n",
       "      <th>Education_Not Graduate</th>\n",
       "      <th>Self_Employed_Yes</th>\n",
       "      <th>Property_Area_Semiurban</th>\n",
       "      <th>Property_Area_Urban</th>\n",
       "      <th>Income_Band_new_Low Inc</th>\n",
       "      <th>Income_Band_new_Mid Inc</th>\n",
       "      <th>Income_Band_new_Very High Inc</th>\n",
       "    </tr>\n",
       "  </thead>\n",
       "  <tbody>\n",
       "    <tr>\n",
       "      <th>0</th>\n",
       "      <td>5849</td>\n",
       "      <td>0.0</td>\n",
       "      <td>146.41</td>\n",
       "      <td>360.0</td>\n",
       "      <td>1.0</td>\n",
       "      <td>4.986411</td>\n",
       "      <td>5849.0</td>\n",
       "      <td>8.674026</td>\n",
       "      <td>2.165571</td>\n",
       "      <td>1</td>\n",
       "      <td>...</td>\n",
       "      <td>0</td>\n",
       "      <td>0</td>\n",
       "      <td>0</td>\n",
       "      <td>0</td>\n",
       "      <td>0</td>\n",
       "      <td>0</td>\n",
       "      <td>1</td>\n",
       "      <td>0</td>\n",
       "      <td>0</td>\n",
       "      <td>0</td>\n",
       "    </tr>\n",
       "    <tr>\n",
       "      <th>1</th>\n",
       "      <td>4583</td>\n",
       "      <td>1508.0</td>\n",
       "      <td>128.00</td>\n",
       "      <td>360.0</td>\n",
       "      <td>1.0</td>\n",
       "      <td>4.852030</td>\n",
       "      <td>6091.0</td>\n",
       "      <td>8.714568</td>\n",
       "      <td>2.107210</td>\n",
       "      <td>1</td>\n",
       "      <td>...</td>\n",
       "      <td>1</td>\n",
       "      <td>0</td>\n",
       "      <td>0</td>\n",
       "      <td>0</td>\n",
       "      <td>0</td>\n",
       "      <td>0</td>\n",
       "      <td>0</td>\n",
       "      <td>0</td>\n",
       "      <td>1</td>\n",
       "      <td>0</td>\n",
       "    </tr>\n",
       "    <tr>\n",
       "      <th>2</th>\n",
       "      <td>3000</td>\n",
       "      <td>0.0</td>\n",
       "      <td>66.00</td>\n",
       "      <td>360.0</td>\n",
       "      <td>1.0</td>\n",
       "      <td>4.189655</td>\n",
       "      <td>3000.0</td>\n",
       "      <td>8.006368</td>\n",
       "      <td>1.819544</td>\n",
       "      <td>1</td>\n",
       "      <td>...</td>\n",
       "      <td>0</td>\n",
       "      <td>0</td>\n",
       "      <td>0</td>\n",
       "      <td>0</td>\n",
       "      <td>1</td>\n",
       "      <td>0</td>\n",
       "      <td>1</td>\n",
       "      <td>1</td>\n",
       "      <td>0</td>\n",
       "      <td>0</td>\n",
       "    </tr>\n",
       "    <tr>\n",
       "      <th>3</th>\n",
       "      <td>2583</td>\n",
       "      <td>2358.0</td>\n",
       "      <td>120.00</td>\n",
       "      <td>360.0</td>\n",
       "      <td>1.0</td>\n",
       "      <td>4.787492</td>\n",
       "      <td>4941.0</td>\n",
       "      <td>8.505323</td>\n",
       "      <td>2.079181</td>\n",
       "      <td>1</td>\n",
       "      <td>...</td>\n",
       "      <td>0</td>\n",
       "      <td>0</td>\n",
       "      <td>0</td>\n",
       "      <td>1</td>\n",
       "      <td>0</td>\n",
       "      <td>0</td>\n",
       "      <td>1</td>\n",
       "      <td>1</td>\n",
       "      <td>0</td>\n",
       "      <td>0</td>\n",
       "    </tr>\n",
       "    <tr>\n",
       "      <th>4</th>\n",
       "      <td>6000</td>\n",
       "      <td>0.0</td>\n",
       "      <td>141.00</td>\n",
       "      <td>360.0</td>\n",
       "      <td>1.0</td>\n",
       "      <td>4.948760</td>\n",
       "      <td>6000.0</td>\n",
       "      <td>8.699515</td>\n",
       "      <td>2.149219</td>\n",
       "      <td>1</td>\n",
       "      <td>...</td>\n",
       "      <td>0</td>\n",
       "      <td>0</td>\n",
       "      <td>0</td>\n",
       "      <td>0</td>\n",
       "      <td>0</td>\n",
       "      <td>0</td>\n",
       "      <td>1</td>\n",
       "      <td>0</td>\n",
       "      <td>0</td>\n",
       "      <td>0</td>\n",
       "    </tr>\n",
       "  </tbody>\n",
       "</table>\n",
       "<p>5 rows × 21 columns</p>\n",
       "</div>"
      ],
      "text/plain": [
       "   ApplicantIncome  CoapplicantIncome  LoanAmount  Loan_Amount_Term  \\\n",
       "0             5849                0.0      146.41             360.0   \n",
       "1             4583             1508.0      128.00             360.0   \n",
       "2             3000                0.0       66.00             360.0   \n",
       "3             2583             2358.0      120.00             360.0   \n",
       "4             6000                0.0      141.00             360.0   \n",
       "\n",
       "   Credit_History  LoanAmount_log  TotalIncome  TotalIncome_log  \\\n",
       "0             1.0        4.986411       5849.0         8.674026   \n",
       "1             1.0        4.852030       6091.0         8.714568   \n",
       "2             1.0        4.189655       3000.0         8.006368   \n",
       "3             1.0        4.787492       4941.0         8.505323   \n",
       "4             1.0        4.948760       6000.0         8.699515   \n",
       "\n",
       "   LoanAmount_log10  Gender_Male              ...                Dependents_1  \\\n",
       "0          2.165571            1              ...                           0   \n",
       "1          2.107210            1              ...                           1   \n",
       "2          1.819544            1              ...                           0   \n",
       "3          2.079181            1              ...                           0   \n",
       "4          2.149219            1              ...                           0   \n",
       "\n",
       "   Dependents_2  Dependents_3+  Education_Not Graduate  Self_Employed_Yes  \\\n",
       "0             0              0                       0                  0   \n",
       "1             0              0                       0                  0   \n",
       "2             0              0                       0                  1   \n",
       "3             0              0                       1                  0   \n",
       "4             0              0                       0                  0   \n",
       "\n",
       "   Property_Area_Semiurban  Property_Area_Urban  Income_Band_new_Low Inc  \\\n",
       "0                        0                    1                        0   \n",
       "1                        0                    0                        0   \n",
       "2                        0                    1                        1   \n",
       "3                        0                    1                        1   \n",
       "4                        0                    1                        0   \n",
       "\n",
       "   Income_Band_new_Mid Inc  Income_Band_new_Very High Inc  \n",
       "0                        0                              0  \n",
       "1                        1                              0  \n",
       "2                        0                              0  \n",
       "3                        0                              0  \n",
       "4                        0                              0  \n",
       "\n",
       "[5 rows x 21 columns]"
      ]
     },
     "execution_count": 779,
     "metadata": {},
     "output_type": "execute_result"
    }
   ],
   "source": [
    "feature_columns.head()"
   ]
  },
  {
   "cell_type": "code",
   "execution_count": 780,
   "metadata": {},
   "outputs": [
    {
     "data": {
      "text/html": [
       "<div>\n",
       "<style scoped>\n",
       "    .dataframe tbody tr th:only-of-type {\n",
       "        vertical-align: middle;\n",
       "    }\n",
       "\n",
       "    .dataframe tbody tr th {\n",
       "        vertical-align: top;\n",
       "    }\n",
       "\n",
       "    .dataframe thead th {\n",
       "        text-align: right;\n",
       "    }\n",
       "</style>\n",
       "<table border=\"1\" class=\"dataframe\">\n",
       "  <thead>\n",
       "    <tr style=\"text-align: right;\">\n",
       "      <th></th>\n",
       "      <th>Loan_Status</th>\n",
       "    </tr>\n",
       "  </thead>\n",
       "  <tbody>\n",
       "    <tr>\n",
       "      <th>0</th>\n",
       "      <td>Y</td>\n",
       "    </tr>\n",
       "    <tr>\n",
       "      <th>1</th>\n",
       "      <td>N</td>\n",
       "    </tr>\n",
       "    <tr>\n",
       "      <th>2</th>\n",
       "      <td>Y</td>\n",
       "    </tr>\n",
       "    <tr>\n",
       "      <th>3</th>\n",
       "      <td>Y</td>\n",
       "    </tr>\n",
       "    <tr>\n",
       "      <th>4</th>\n",
       "      <td>Y</td>\n",
       "    </tr>\n",
       "  </tbody>\n",
       "</table>\n",
       "</div>"
      ],
      "text/plain": [
       "  Loan_Status\n",
       "0           Y\n",
       "1           N\n",
       "2           Y\n",
       "3           Y\n",
       "4           Y"
      ]
     },
     "execution_count": 780,
     "metadata": {},
     "output_type": "execute_result"
    }
   ],
   "source": [
    "target = train_New[['Loan_Status']]\n",
    "target.head()"
   ]
  },
  {
   "cell_type": "code",
   "execution_count": 781,
   "metadata": {},
   "outputs": [
    {
     "data": {
      "image/png": "[encoded data removed]",
      "text/plain": [
       "<Figure size 432x288 with 1 Axes>"
      ]
     },
     "metadata": {},
     "output_type": "display_data"
    }
   ],
   "source": [
    "sns.countplot(x='Loan_Status',data=train_New);"
   ]
  },
  {
   "cell_type": "code",
   "execution_count": 782,
   "metadata": {},
   "outputs": [
    {
     "data": {
      "image/png": "[encoded data removed]",
      "text/plain": [
       "<Figure size 720x360 with 2 Axes>"
      ]
     },
     "metadata": {},
     "output_type": "display_data"
    }
   ],
   "source": [
    "sns.factorplot(x='Loan_Status', col='Gender_Male', kind='count', data=train_New ).set_xticklabels(rotation=30);"
   ]
  },
  {
   "cell_type": "code",
   "execution_count": 783,
   "metadata": {},
   "outputs": [
    {
     "data": {
      "image/png": "[encoded data removed]",
      "text/plain": [
       "<Figure size 720x360 with 2 Axes>"
      ]
     },
     "metadata": {},
     "output_type": "display_data"
    }
   ],
   "source": [
    "sns.factorplot(x='Loan_Status', col='Married_Yes', kind='count', data=train_New ).set_xticklabels(rotation=30);"
   ]
  },
  {
   "cell_type": "code",
   "execution_count": 784,
   "metadata": {},
   "outputs": [],
   "source": [
    "K_Best=sklearn.feature_selection.SelectKBest(k=8)\n",
    "selected_features=K_Best.fit(feature_columns,target)\n",
    "indices_selected=selected_features.get_support(indices=True)\n",
    "chosen_cols=[feature_columns.columns[i] for i in indices_selected]"
   ]
  },
  {
   "cell_type": "code",
   "execution_count": 785,
   "metadata": {},
   "outputs": [
    {
     "data": {
      "text/plain": [
       "['CoapplicantIncome',\n",
       " 'Credit_History',\n",
       " 'LoanAmount_log',\n",
       " 'Married_Yes',\n",
       " 'Dependents_2',\n",
       " 'Education_Not Graduate',\n",
       " 'Property_Area_Semiurban',\n",
       " 'Property_Area_Urban']"
      ]
     },
     "execution_count": 785,
     "metadata": {},
     "output_type": "execute_result"
    }
   ],
   "source": [
    "chosen_cols"
   ]
  },
  {
   "cell_type": "code",
   "execution_count": 786,
   "metadata": {},
   "outputs": [],
   "source": [
    "X = train_New[chosen_cols]"
   ]
  },
  {
   "cell_type": "code",
   "execution_count": 787,
   "metadata": {},
   "outputs": [
    {
     "data": {
      "text/html": [
       "<div>\n",
       "<style scoped>\n",
       "    .dataframe tbody tr th:only-of-type {\n",
       "        vertical-align: middle;\n",
       "    }\n",
       "\n",
       "    .dataframe tbody tr th {\n",
       "        vertical-align: top;\n",
       "    }\n",
       "\n",
       "    .dataframe thead th {\n",
       "        text-align: right;\n",
       "    }\n",
       "</style>\n",
       "<table border=\"1\" class=\"dataframe\">\n",
       "  <thead>\n",
       "    <tr style=\"text-align: right;\">\n",
       "      <th></th>\n",
       "      <th>CoapplicantIncome</th>\n",
       "      <th>Credit_History</th>\n",
       "      <th>LoanAmount_log</th>\n",
       "      <th>Married_Yes</th>\n",
       "      <th>Dependents_2</th>\n",
       "      <th>Education_Not Graduate</th>\n",
       "      <th>Property_Area_Semiurban</th>\n",
       "      <th>Property_Area_Urban</th>\n",
       "    </tr>\n",
       "  </thead>\n",
       "  <tbody>\n",
       "    <tr>\n",
       "      <th>0</th>\n",
       "      <td>0.0</td>\n",
       "      <td>1.0</td>\n",
       "      <td>4.986411</td>\n",
       "      <td>0</td>\n",
       "      <td>0</td>\n",
       "      <td>0</td>\n",
       "      <td>0</td>\n",
       "      <td>1</td>\n",
       "    </tr>\n",
       "    <tr>\n",
       "      <th>1</th>\n",
       "      <td>1508.0</td>\n",
       "      <td>1.0</td>\n",
       "      <td>4.852030</td>\n",
       "      <td>1</td>\n",
       "      <td>0</td>\n",
       "      <td>0</td>\n",
       "      <td>0</td>\n",
       "      <td>0</td>\n",
       "    </tr>\n",
       "  </tbody>\n",
       "</table>\n",
       "</div>"
      ],
      "text/plain": [
       "   CoapplicantIncome  Credit_History  LoanAmount_log  Married_Yes  \\\n",
       "0                0.0             1.0        4.986411            0   \n",
       "1             1508.0             1.0        4.852030            1   \n",
       "\n",
       "   Dependents_2  Education_Not Graduate  Property_Area_Semiurban  \\\n",
       "0             0                       0                        0   \n",
       "1             0                       0                        0   \n",
       "\n",
       "   Property_Area_Urban  \n",
       "0                    1  \n",
       "1                    0  "
      ]
     },
     "execution_count": 787,
     "metadata": {},
     "output_type": "execute_result"
    }
   ],
   "source": [
    "X.head(2)"
   ]
  },
  {
   "cell_type": "code",
   "execution_count": 788,
   "metadata": {},
   "outputs": [],
   "source": [
    "y = target['Loan_Status']"
   ]
  },
  {
   "cell_type": "code",
   "execution_count": 789,
   "metadata": {},
   "outputs": [
    {
     "data": {
      "text/plain": [
       "0    Y\n",
       "1    N\n",
       "2    Y\n",
       "3    Y\n",
       "4    Y\n",
       "Name: Loan_Status, dtype: object"
      ]
     },
     "execution_count": 789,
     "metadata": {},
     "output_type": "execute_result"
    }
   ],
   "source": [
    "y.head()"
   ]
  },
  {
   "cell_type": "code",
   "execution_count": 790,
   "metadata": {},
   "outputs": [],
   "source": [
    "from sklearn.model_selection import train_test_split\n",
    "\n",
    "X_train,X_test,y_train,y_test = train_test_split(X,y,test_size=0.4,random_state=42)"
   ]
  },
  {
   "cell_type": "code",
   "execution_count": 791,
   "metadata": {},
   "outputs": [
    {
     "data": {
      "text/plain": [
       "(368, 8)"
      ]
     },
     "execution_count": 791,
     "metadata": {},
     "output_type": "execute_result"
    }
   ],
   "source": [
    "X_train.shape"
   ]
  },
  {
   "cell_type": "code",
   "execution_count": 792,
   "metadata": {},
   "outputs": [
    {
     "data": {
      "text/plain": [
       "(246, 8)"
      ]
     },
     "execution_count": 792,
     "metadata": {},
     "output_type": "execute_result"
    }
   ],
   "source": [
    "X_test.shape"
   ]
  },
  {
   "cell_type": "code",
   "execution_count": 793,
   "metadata": {},
   "outputs": [
    {
     "data": {
      "text/plain": [
       "(368,)"
      ]
     },
     "execution_count": 793,
     "metadata": {},
     "output_type": "execute_result"
    }
   ],
   "source": [
    "y_train.shape"
   ]
  },
  {
   "cell_type": "code",
   "execution_count": 794,
   "metadata": {},
   "outputs": [
    {
     "data": {
      "text/plain": [
       "(246,)"
      ]
     },
     "execution_count": 794,
     "metadata": {},
     "output_type": "execute_result"
    }
   ],
   "source": [
    "y_test.shape"
   ]
  },
  {
   "cell_type": "markdown",
   "metadata": {
    "collapsed": true
   },
   "source": [
    "# MODELLING"
   ]
  },
  {
   "cell_type": "markdown",
   "metadata": {},
   "source": [
    "## Random Forest"
   ]
  },
  {
   "cell_type": "code",
   "execution_count": 795,
   "metadata": {},
   "outputs": [],
   "source": [
    "randForest = RandomForestClassifier(n_estimators=25, min_samples_split=25, max_depth=7, \n",
    "                                    max_features=1)"
   ]
  },
  {
   "cell_type": "code",
   "execution_count": 796,
   "metadata": {},
   "outputs": [
    {
     "data": {
      "text/plain": [
       "RandomForestClassifier(bootstrap=True, class_weight=None, criterion='gini',\n",
       "            max_depth=7, max_features=1, max_leaf_nodes=None,\n",
       "            min_impurity_decrease=0.0, min_impurity_split=None,\n",
       "            min_samples_leaf=1, min_samples_split=25,\n",
       "            min_weight_fraction_leaf=0.0, n_estimators=25, n_jobs=1,\n",
       "            oob_score=False, random_state=None, verbose=0,\n",
       "            warm_start=False)"
      ]
     },
     "execution_count": 796,
     "metadata": {},
     "output_type": "execute_result"
    }
   ],
   "source": [
    "randForest.fit(X_train,y_train.values)"
   ]
  },
  {
   "cell_type": "code",
   "execution_count": 797,
   "metadata": {},
   "outputs": [],
   "source": [
    "y_pred_RF  = randForest.predict(X_test)"
   ]
  },
  {
   "cell_type": "code",
   "execution_count": 798,
   "metadata": {},
   "outputs": [],
   "source": [
    "randForestScore = accuracy_score(y_test,y_pred_RF)"
   ]
  },
  {
   "cell_type": "code",
   "execution_count": 799,
   "metadata": {},
   "outputs": [
    {
     "name": "stdout",
     "output_type": "stream",
     "text": [
      "The Random forest accuraccy score is: 0.7560975609756098\n"
     ]
    }
   ],
   "source": [
    "print(\"The Random forest accuraccy score is:\", randForestScore)"
   ]
  },
  {
   "cell_type": "code",
   "execution_count": 800,
   "metadata": {},
   "outputs": [
    {
     "data": {
      "text/html": [
       "<div>\n",
       "<style scoped>\n",
       "    .dataframe tbody tr th:only-of-type {\n",
       "        vertical-align: middle;\n",
       "    }\n",
       "\n",
       "    .dataframe tbody tr th {\n",
       "        vertical-align: top;\n",
       "    }\n",
       "\n",
       "    .dataframe thead th {\n",
       "        text-align: right;\n",
       "    }\n",
       "</style>\n",
       "<table border=\"1\" class=\"dataframe\">\n",
       "  <thead>\n",
       "    <tr style=\"text-align: right;\">\n",
       "      <th>Predicted</th>\n",
       "      <th>N</th>\n",
       "      <th>Y</th>\n",
       "    </tr>\n",
       "    <tr>\n",
       "      <th>Actual</th>\n",
       "      <th></th>\n",
       "      <th></th>\n",
       "    </tr>\n",
       "  </thead>\n",
       "  <tbody>\n",
       "    <tr>\n",
       "      <th>N</th>\n",
       "      <td>27</td>\n",
       "      <td>58</td>\n",
       "    </tr>\n",
       "    <tr>\n",
       "      <th>Y</th>\n",
       "      <td>2</td>\n",
       "      <td>159</td>\n",
       "    </tr>\n",
       "  </tbody>\n",
       "</table>\n",
       "</div>"
      ],
      "text/plain": [
       "Predicted   N    Y\n",
       "Actual            \n",
       "N          27   58\n",
       "Y           2  159"
      ]
     },
     "execution_count": 800,
     "metadata": {},
     "output_type": "execute_result"
    }
   ],
   "source": [
    "pd.crosstab(y_test, y_pred_RF, rownames = ['Actual'], colnames = ['Predicted'])"
   ]
  },
  {
   "cell_type": "code",
   "execution_count": 801,
   "metadata": {},
   "outputs": [],
   "source": [
    "conf_m = confusion_matrix(y_test, y_pred_RF)\n",
    "cf_mat_p = conf_m/conf_m.sum()"
   ]
  },
  {
   "cell_type": "code",
   "execution_count": 802,
   "metadata": {},
   "outputs": [
    {
     "data": {
      "image/png": "[encoded data removed]",
      "text/plain": [
       "<Figure size 864x576 with 2 Axes>"
      ]
     },
     "metadata": {},
     "output_type": "display_data"
    }
   ],
   "source": [
    "plt.figure(figsize=(12,8))\n",
    "sns.heatmap(cf_mat_p, annot=True, linewidths=.5, cmap=cm.summer,xticklabels=['No','Yes'], yticklabels=['No','Yes'])\n",
    "plt.ylabel('Actual')\n",
    "plt.xlabel('Predicted label')\n",
    "plt.title(\"Normalized Confusion Matrix\")\n",
    "plt.show()"
   ]
  },
  {
   "cell_type": "code",
   "execution_count": 807,
   "metadata": {},
   "outputs": [],
   "source": [
    "from sklearn.linear_model import LogisticRegression"
   ]
  },
  {
   "cell_type": "code",
   "execution_count": 808,
   "metadata": {},
   "outputs": [],
   "source": [
    "logReg = LogisticRegression()"
   ]
  },
  {
   "cell_type": "code",
   "execution_count": 809,
   "metadata": {},
   "outputs": [
    {
     "data": {
      "text/plain": [
       "LogisticRegression(C=1.0, class_weight=None, dual=False, fit_intercept=True,\n",
       "          intercept_scaling=1, max_iter=100, multi_class='ovr', n_jobs=1,\n",
       "          penalty='l2', random_state=None, solver='liblinear', tol=0.0001,\n",
       "          verbose=0, warm_start=False)"
      ]
     },
     "execution_count": 809,
     "metadata": {},
     "output_type": "execute_result"
    }
   ],
   "source": [
    "logReg.fit(X_train,y_train.values)"
   ]
  },
  {
   "cell_type": "code",
   "execution_count": 810,
   "metadata": {},
   "outputs": [],
   "source": [
    "logReg_predict =logReg.predict(X_test)"
   ]
  },
  {
   "cell_type": "code",
   "execution_count": 811,
   "metadata": {},
   "outputs": [
    {
     "data": {
      "text/plain": [
       "0.7967479674796748"
      ]
     },
     "execution_count": 811,
     "metadata": {},
     "output_type": "execute_result"
    }
   ],
   "source": [
    "accuracy_score(y_test,logReg_predict)"
   ]
  },
  {
   "cell_type": "code",
   "execution_count": 812,
   "metadata": {},
   "outputs": [
    {
     "data": {
      "text/html": [
       "<div>\n",
       "<style scoped>\n",
       "    .dataframe tbody tr th:only-of-type {\n",
       "        vertical-align: middle;\n",
       "    }\n",
       "\n",
       "    .dataframe tbody tr th {\n",
       "        vertical-align: top;\n",
       "    }\n",
       "\n",
       "    .dataframe thead th {\n",
       "        text-align: right;\n",
       "    }\n",
       "</style>\n",
       "<table border=\"1\" class=\"dataframe\">\n",
       "  <thead>\n",
       "    <tr style=\"text-align: right;\">\n",
       "      <th>Predicted</th>\n",
       "      <th>N</th>\n",
       "      <th>Y</th>\n",
       "    </tr>\n",
       "    <tr>\n",
       "      <th>Actual</th>\n",
       "      <th></th>\n",
       "      <th></th>\n",
       "    </tr>\n",
       "  </thead>\n",
       "  <tbody>\n",
       "    <tr>\n",
       "      <th>N</th>\n",
       "      <td>37</td>\n",
       "      <td>48</td>\n",
       "    </tr>\n",
       "    <tr>\n",
       "      <th>Y</th>\n",
       "      <td>2</td>\n",
       "      <td>159</td>\n",
       "    </tr>\n",
       "  </tbody>\n",
       "</table>\n",
       "</div>"
      ],
      "text/plain": [
       "Predicted   N    Y\n",
       "Actual            \n",
       "N          37   48\n",
       "Y           2  159"
      ]
     },
     "execution_count": 812,
     "metadata": {},
     "output_type": "execute_result"
    }
   ],
   "source": [
    "pd.crosstab(y_test,logReg_predict, rownames = ['Actual'], colnames = ['Predicted'])"
   ]
  },
  {
   "cell_type": "code",
   "execution_count": 813,
   "metadata": {},
   "outputs": [],
   "source": [
    "from sklearn import tree\n",
    "from sklearn.tree import DecisionTreeClassifier"
   ]
  },
  {
   "cell_type": "code",
   "execution_count": 814,
   "metadata": {},
   "outputs": [],
   "source": [
    "DecTree = tree.DecisionTreeClassifier(max_depth=10,max_features=4 )"
   ]
  },
  {
   "cell_type": "code",
   "execution_count": 815,
   "metadata": {},
   "outputs": [
    {
     "data": {
      "text/plain": [
       "DecisionTreeClassifier(class_weight=None, criterion='gini', max_depth=10,\n",
       "            max_features=4, max_leaf_nodes=None, min_impurity_decrease=0.0,\n",
       "            min_impurity_split=None, min_samples_leaf=1,\n",
       "            min_samples_split=2, min_weight_fraction_leaf=0.0,\n",
       "            presort=False, random_state=None, splitter='best')"
      ]
     },
     "execution_count": 815,
     "metadata": {},
     "output_type": "execute_result"
    }
   ],
   "source": [
    "DecTree.fit(X_train,y_train)"
   ]
  },
  {
   "cell_type": "code",
   "execution_count": 816,
   "metadata": {},
   "outputs": [],
   "source": [
    "DecTree_pred = DecTree.predict(X_test)"
   ]
  },
  {
   "cell_type": "code",
   "execution_count": 817,
   "metadata": {},
   "outputs": [
    {
     "data": {
      "text/plain": [
       "Index(['CoapplicantIncome', 'Credit_History', 'LoanAmount_log', 'Married_Yes',\n",
       "       'Dependents_2', 'Education_Not Graduate', 'Property_Area_Semiurban',\n",
       "       'Property_Area_Urban'],\n",
       "      dtype='object')"
      ]
     },
     "execution_count": 817,
     "metadata": {},
     "output_type": "execute_result"
    }
   ],
   "source": [
    "X_test.columns"
   ]
  },
  {
   "cell_type": "code",
   "execution_count": 818,
   "metadata": {},
   "outputs": [
    {
     "data": {
      "text/plain": [
       "0.7276422764227642"
      ]
     },
     "execution_count": 818,
     "metadata": {},
     "output_type": "execute_result"
    }
   ],
   "source": [
    "accuracy_score(y_test,DecTree_pred)"
   ]
  },
  {
   "cell_type": "code",
   "execution_count": 819,
   "metadata": {},
   "outputs": [
    {
     "data": {
      "text/html": [
       "<div>\n",
       "<style scoped>\n",
       "    .dataframe tbody tr th:only-of-type {\n",
       "        vertical-align: middle;\n",
       "    }\n",
       "\n",
       "    .dataframe tbody tr th {\n",
       "        vertical-align: top;\n",
       "    }\n",
       "\n",
       "    .dataframe thead th {\n",
       "        text-align: right;\n",
       "    }\n",
       "</style>\n",
       "<table border=\"1\" class=\"dataframe\">\n",
       "  <thead>\n",
       "    <tr style=\"text-align: right;\">\n",
       "      <th>Predicted</th>\n",
       "      <th>N</th>\n",
       "      <th>Y</th>\n",
       "    </tr>\n",
       "    <tr>\n",
       "      <th>Actual</th>\n",
       "      <th></th>\n",
       "      <th></th>\n",
       "    </tr>\n",
       "  </thead>\n",
       "  <tbody>\n",
       "    <tr>\n",
       "      <th>N</th>\n",
       "      <td>37</td>\n",
       "      <td>48</td>\n",
       "    </tr>\n",
       "    <tr>\n",
       "      <th>Y</th>\n",
       "      <td>19</td>\n",
       "      <td>142</td>\n",
       "    </tr>\n",
       "  </tbody>\n",
       "</table>\n",
       "</div>"
      ],
      "text/plain": [
       "Predicted   N    Y\n",
       "Actual            \n",
       "N          37   48\n",
       "Y          19  142"
      ]
     },
     "execution_count": 819,
     "metadata": {},
     "output_type": "execute_result"
    }
   ],
   "source": [
    "pd.crosstab(y_test,DecTree_pred, rownames = ['Actual'], colnames = ['Predicted'])"
   ]
  },
  {
   "cell_type": "code",
   "execution_count": 820,
   "metadata": {},
   "outputs": [],
   "source": [
    "import graphviz "
   ]
  },
  {
   "cell_type": "code",
   "execution_count": 821,
   "metadata": {},
   "outputs": [
    {
     "data": {
      "image/svg+xml": [
       "<?xml version=\"1.0\" encoding=\"UTF-8\" standalone=\"no\"?>\r\n",
       "<!DOCTYPE svg PUBLIC \"-//W3C//DTD SVG 1.1//EN\"\r\n",
       " \"http://www.w3.org/Graphics/SVG/1.1/DTD/svg11.dtd\">\r\n",
       "<!-- Generated by graphviz version 2.38.0 (20140413.2041)\r\n",
       " -->\r\n",
       "<!-- Title: Tree Pages: 1 -->\r\n",
       "<svg width=\"2654pt\" height=\"848pt\"\r\n",
       " viewBox=\"0.00 0.00 2653.50 848.00\" xmlns=\"http://www.w3.org/2000/svg\" xmlns:xlink=\"http://www.w3.org/1999/xlink\">\r\n",
       "<g id=\"graph0\" class=\"graph\" transform=\"scale(1 1) rotate(0) translate(4 844)\">\r\n",
       "<title>Tree</title>\r\n",
       "<polygon fill=\"white\" stroke=\"none\" points=\"-4,4 -4,-844 2649.5,-844 2649.5,4 -4,4\"/>\r\n",
       "<!-- 0 -->\r\n",
       "<g id=\"node1\" class=\"node\"><title>0</title>\r\n",
       "<path fill=\"#399de5\" fill-opacity=\"0.588235\" stroke=\"black\" d=\"M988.5,-840C988.5,-840 870.5,-840 870.5,-840 864.5,-840 858.5,-834 858.5,-828 858.5,-828 858.5,-754 858.5,-754 858.5,-748 864.5,-742 870.5,-742 870.5,-742 988.5,-742 988.5,-742 994.5,-742 1000.5,-748 1000.5,-754 1000.5,-754 1000.5,-828 1000.5,-828 1000.5,-834 994.5,-840 988.5,-840\"/>\r\n",
       "<text text-anchor=\"start\" x=\"903\" y=\"-824.8\" font-family=\"Helvetica,sans-Serif\" font-size=\"14.00\">node #0</text>\r\n",
       "<text text-anchor=\"start\" x=\"866.5\" y=\"-809.8\" font-family=\"Helvetica,sans-Serif\" font-size=\"14.00\">Credit_History ≤ 0.5</text>\r\n",
       "<text text-anchor=\"start\" x=\"892\" y=\"-794.8\" font-family=\"Helvetica,sans-Serif\" font-size=\"14.00\">gini = 0.412</text>\r\n",
       "<text text-anchor=\"start\" x=\"882\" y=\"-779.8\" font-family=\"Helvetica,sans-Serif\" font-size=\"14.00\">samples = 368</text>\r\n",
       "<text text-anchor=\"start\" x=\"872.5\" y=\"-764.8\" font-family=\"Helvetica,sans-Serif\" font-size=\"14.00\">value = [107, 261]</text>\r\n",
       "<text text-anchor=\"start\" x=\"900\" y=\"-749.8\" font-family=\"Helvetica,sans-Serif\" font-size=\"14.00\">class = N</text>\r\n",
       "</g>\r\n",
       "<!-- 1 -->\r\n",
       "<g id=\"node2\" class=\"node\"><title>1</title>\r\n",
       "<path fill=\"#e58139\" fill-opacity=\"0.890196\" stroke=\"black\" d=\"M647.5,-706C647.5,-706 495.5,-706 495.5,-706 489.5,-706 483.5,-700 483.5,-694 483.5,-694 483.5,-620 483.5,-620 483.5,-614 489.5,-608 495.5,-608 495.5,-608 647.5,-608 647.5,-608 653.5,-608 659.5,-614 659.5,-620 659.5,-620 659.5,-694 659.5,-694 659.5,-700 653.5,-706 647.5,-706\"/>\r\n",
       "<text text-anchor=\"start\" x=\"545\" y=\"-690.8\" font-family=\"Helvetica,sans-Serif\" font-size=\"14.00\">node #1</text>\r\n",
       "<text text-anchor=\"start\" x=\"491.5\" y=\"-675.8\" font-family=\"Helvetica,sans-Serif\" font-size=\"14.00\">LoanAmount_log ≤ 4.844</text>\r\n",
       "<text text-anchor=\"start\" x=\"538\" y=\"-660.8\" font-family=\"Helvetica,sans-Serif\" font-size=\"14.00\">gini = 0.18</text>\r\n",
       "<text text-anchor=\"start\" x=\"528\" y=\"-645.8\" font-family=\"Helvetica,sans-Serif\" font-size=\"14.00\">samples = 50</text>\r\n",
       "<text text-anchor=\"start\" x=\"527\" y=\"-630.8\" font-family=\"Helvetica,sans-Serif\" font-size=\"14.00\">value = [45, 5]</text>\r\n",
       "<text text-anchor=\"start\" x=\"542.5\" y=\"-615.8\" font-family=\"Helvetica,sans-Serif\" font-size=\"14.00\">class = Y</text>\r\n",
       "</g>\r\n",
       "<!-- 0&#45;&gt;1 -->\r\n",
       "<g id=\"edge1\" class=\"edge\"><title>0&#45;&gt;1</title>\r\n",
       "<path fill=\"none\" stroke=\"black\" d=\"M858.343,-763.763C804.146,-743.78 728.922,-716.044 669.105,-693.988\"/>\r\n",
       "<polygon fill=\"black\" stroke=\"black\" points=\"670.236,-690.675 659.643,-690.5 667.814,-697.243 670.236,-690.675\"/>\r\n",
       "<text text-anchor=\"middle\" x=\"670.113\" y=\"-709.501\" font-family=\"Helvetica,sans-Serif\" font-size=\"14.00\">True</text>\r\n",
       "</g>\r\n",
       "<!-- 22 -->\r\n",
       "<g id=\"node23\" class=\"node\"><title>22</title>\r\n",
       "<path fill=\"#399de5\" fill-opacity=\"0.756863\" stroke=\"black\" d=\"M1386,-706C1386,-706 1189,-706 1189,-706 1183,-706 1177,-700 1177,-694 1177,-694 1177,-620 1177,-620 1177,-614 1183,-608 1189,-608 1189,-608 1386,-608 1386,-608 1392,-608 1398,-614 1398,-620 1398,-620 1398,-694 1398,-694 1398,-700 1392,-706 1386,-706\"/>\r\n",
       "<text text-anchor=\"start\" x=\"1257\" y=\"-690.8\" font-family=\"Helvetica,sans-Serif\" font-size=\"14.00\">node #22</text>\r\n",
       "<text text-anchor=\"start\" x=\"1185\" y=\"-675.8\" font-family=\"Helvetica,sans-Serif\" font-size=\"14.00\">Property_Area_Semiurban ≤ 0.5</text>\r\n",
       "<text text-anchor=\"start\" x=\"1250\" y=\"-660.8\" font-family=\"Helvetica,sans-Serif\" font-size=\"14.00\">gini = 0.314</text>\r\n",
       "<text text-anchor=\"start\" x=\"1240\" y=\"-645.8\" font-family=\"Helvetica,sans-Serif\" font-size=\"14.00\">samples = 318</text>\r\n",
       "<text text-anchor=\"start\" x=\"1234.5\" y=\"-630.8\" font-family=\"Helvetica,sans-Serif\" font-size=\"14.00\">value = [62, 256]</text>\r\n",
       "<text text-anchor=\"start\" x=\"1258\" y=\"-615.8\" font-family=\"Helvetica,sans-Serif\" font-size=\"14.00\">class = N</text>\r\n",
       "</g>\r\n",
       "<!-- 0&#45;&gt;22 -->\r\n",
       "<g id=\"edge22\" class=\"edge\"><title>0&#45;&gt;22</title>\r\n",
       "<path fill=\"none\" stroke=\"black\" d=\"M1000.66,-763.763C1048.27,-746.208 1112.11,-722.669 1167.48,-702.254\"/>\r\n",
       "<polygon fill=\"black\" stroke=\"black\" points=\"1168.82,-705.488 1177,-698.744 1166.4,-698.92 1168.82,-705.488\"/>\r\n",
       "<text text-anchor=\"middle\" x=\"1166.53\" y=\"-717.746\" font-family=\"Helvetica,sans-Serif\" font-size=\"14.00\">False</text>\r\n",
       "</g>\r\n",
       "<!-- 2 -->\r\n",
       "<g id=\"node3\" class=\"node\"><title>2</title>\r\n",
       "<path fill=\"#e58139\" fill-opacity=\"0.964706\" stroke=\"black\" d=\"M311.5,-572C311.5,-572 135.5,-572 135.5,-572 129.5,-572 123.5,-566 123.5,-560 123.5,-560 123.5,-486 123.5,-486 123.5,-480 129.5,-474 135.5,-474 135.5,-474 311.5,-474 311.5,-474 317.5,-474 323.5,-480 323.5,-486 323.5,-486 323.5,-560 323.5,-560 323.5,-566 317.5,-572 311.5,-572\"/>\r\n",
       "<text text-anchor=\"start\" x=\"197\" y=\"-556.8\" font-family=\"Helvetica,sans-Serif\" font-size=\"14.00\">node #2</text>\r\n",
       "<text text-anchor=\"start\" x=\"131.5\" y=\"-541.8\" font-family=\"Helvetica,sans-Serif\" font-size=\"14.00\">CoapplicantIncome ≤ 2311.5</text>\r\n",
       "<text text-anchor=\"start\" x=\"186\" y=\"-526.8\" font-family=\"Helvetica,sans-Serif\" font-size=\"14.00\">gini = 0.069</text>\r\n",
       "<text text-anchor=\"start\" x=\"180\" y=\"-511.8\" font-family=\"Helvetica,sans-Serif\" font-size=\"14.00\">samples = 28</text>\r\n",
       "<text text-anchor=\"start\" x=\"179\" y=\"-496.8\" font-family=\"Helvetica,sans-Serif\" font-size=\"14.00\">value = [27, 1]</text>\r\n",
       "<text text-anchor=\"start\" x=\"194.5\" y=\"-481.8\" font-family=\"Helvetica,sans-Serif\" font-size=\"14.00\">class = Y</text>\r\n",
       "</g>\r\n",
       "<!-- 1&#45;&gt;2 -->\r\n",
       "<g id=\"edge2\" class=\"edge\"><title>1&#45;&gt;2</title>\r\n",
       "<path fill=\"none\" stroke=\"black\" d=\"M483.235,-622.52C437.645,-605.227 381.586,-583.964 333.231,-565.622\"/>\r\n",
       "<polygon fill=\"black\" stroke=\"black\" points=\"334.26,-562.269 323.669,-561.995 331.777,-568.814 334.26,-562.269\"/>\r\n",
       "</g>\r\n",
       "<!-- 7 -->\r\n",
       "<g id=\"node8\" class=\"node\"><title>7</title>\r\n",
       "<path fill=\"#e58139\" fill-opacity=\"0.776471\" stroke=\"black\" d=\"M625.5,-572C625.5,-572 517.5,-572 517.5,-572 511.5,-572 505.5,-566 505.5,-560 505.5,-560 505.5,-486 505.5,-486 505.5,-480 511.5,-474 517.5,-474 517.5,-474 625.5,-474 625.5,-474 631.5,-474 637.5,-480 637.5,-486 637.5,-486 637.5,-560 637.5,-560 637.5,-566 631.5,-572 625.5,-572\"/>\r\n",
       "<text text-anchor=\"start\" x=\"545\" y=\"-556.8\" font-family=\"Helvetica,sans-Serif\" font-size=\"14.00\">node #7</text>\r\n",
       "<text text-anchor=\"start\" x=\"513.5\" y=\"-541.8\" font-family=\"Helvetica,sans-Serif\" font-size=\"14.00\">Married_Yes ≤ 0.5</text>\r\n",
       "<text text-anchor=\"start\" x=\"534\" y=\"-526.8\" font-family=\"Helvetica,sans-Serif\" font-size=\"14.00\">gini = 0.298</text>\r\n",
       "<text text-anchor=\"start\" x=\"528\" y=\"-511.8\" font-family=\"Helvetica,sans-Serif\" font-size=\"14.00\">samples = 22</text>\r\n",
       "<text text-anchor=\"start\" x=\"527\" y=\"-496.8\" font-family=\"Helvetica,sans-Serif\" font-size=\"14.00\">value = [18, 4]</text>\r\n",
       "<text text-anchor=\"start\" x=\"542.5\" y=\"-481.8\" font-family=\"Helvetica,sans-Serif\" font-size=\"14.00\">class = Y</text>\r\n",
       "</g>\r\n",
       "<!-- 1&#45;&gt;7 -->\r\n",
       "<g id=\"edge7\" class=\"edge\"><title>1&#45;&gt;7</title>\r\n",
       "<path fill=\"none\" stroke=\"black\" d=\"M571.5,-607.972C571.5,-599.691 571.5,-591.003 571.5,-582.483\"/>\r\n",
       "<polygon fill=\"black\" stroke=\"black\" points=\"575,-582.214 571.5,-572.214 568,-582.214 575,-582.214\"/>\r\n",
       "</g>\r\n",
       "<!-- 3 -->\r\n",
       "<g id=\"node4\" class=\"node\"><title>3</title>\r\n",
       "<path fill=\"#e58139\" stroke=\"black\" d=\"M93,-430.5C93,-430.5 12,-430.5 12,-430.5 6,-430.5 0,-424.5 0,-418.5 0,-418.5 0,-359.5 0,-359.5 0,-353.5 6,-347.5 12,-347.5 12,-347.5 93,-347.5 93,-347.5 99,-347.5 105,-353.5 105,-359.5 105,-359.5 105,-418.5 105,-418.5 105,-424.5 99,-430.5 93,-430.5\"/>\r\n",
       "<text text-anchor=\"start\" x=\"26\" y=\"-415.3\" font-family=\"Helvetica,sans-Serif\" font-size=\"14.00\">node #3</text>\r\n",
       "<text text-anchor=\"start\" x=\"23.5\" y=\"-400.3\" font-family=\"Helvetica,sans-Serif\" font-size=\"14.00\">gini = 0.0</text>\r\n",
       "<text text-anchor=\"start\" x=\"9\" y=\"-385.3\" font-family=\"Helvetica,sans-Serif\" font-size=\"14.00\">samples = 25</text>\r\n",
       "<text text-anchor=\"start\" x=\"8\" y=\"-370.3\" font-family=\"Helvetica,sans-Serif\" font-size=\"14.00\">value = [25, 0]</text>\r\n",
       "<text text-anchor=\"start\" x=\"23.5\" y=\"-355.3\" font-family=\"Helvetica,sans-Serif\" font-size=\"14.00\">class = Y</text>\r\n",
       "</g>\r\n",
       "<!-- 2&#45;&gt;3 -->\r\n",
       "<g id=\"edge3\" class=\"edge\"><title>2&#45;&gt;3</title>\r\n",
       "<path fill=\"none\" stroke=\"black\" d=\"M160.942,-473.828C145.739,-462.111 129.531,-449.61 114.5,-438 114.012,-437.623 113.522,-437.244 113.029,-436.864\"/>\r\n",
       "<polygon fill=\"black\" stroke=\"black\" points=\"114.977,-433.945 104.924,-430.599 110.696,-439.484 114.977,-433.945\"/>\r\n",
       "</g>\r\n",
       "<!-- 4 -->\r\n",
       "<g id=\"node5\" class=\"node\"><title>4</title>\r\n",
       "<path fill=\"#e58139\" fill-opacity=\"0.498039\" stroke=\"black\" d=\"M311.5,-438C311.5,-438 135.5,-438 135.5,-438 129.5,-438 123.5,-432 123.5,-426 123.5,-426 123.5,-352 123.5,-352 123.5,-346 129.5,-340 135.5,-340 135.5,-340 311.5,-340 311.5,-340 317.5,-340 323.5,-346 323.5,-352 323.5,-352 323.5,-426 323.5,-426 323.5,-432 317.5,-438 311.5,-438\"/>\r\n",
       "<text text-anchor=\"start\" x=\"197\" y=\"-422.8\" font-family=\"Helvetica,sans-Serif\" font-size=\"14.00\">node #4</text>\r\n",
       "<text text-anchor=\"start\" x=\"131.5\" y=\"-407.8\" font-family=\"Helvetica,sans-Serif\" font-size=\"14.00\">CoapplicantIncome ≤ 2483.0</text>\r\n",
       "<text text-anchor=\"start\" x=\"186\" y=\"-392.8\" font-family=\"Helvetica,sans-Serif\" font-size=\"14.00\">gini = 0.444</text>\r\n",
       "<text text-anchor=\"start\" x=\"184\" y=\"-377.8\" font-family=\"Helvetica,sans-Serif\" font-size=\"14.00\">samples = 3</text>\r\n",
       "<text text-anchor=\"start\" x=\"183\" y=\"-362.8\" font-family=\"Helvetica,sans-Serif\" font-size=\"14.00\">value = [2, 1]</text>\r\n",
       "<text text-anchor=\"start\" x=\"194.5\" y=\"-347.8\" font-family=\"Helvetica,sans-Serif\" font-size=\"14.00\">class = Y</text>\r\n",
       "</g>\r\n",
       "<!-- 2&#45;&gt;4 -->\r\n",
       "<g id=\"edge4\" class=\"edge\"><title>2&#45;&gt;4</title>\r\n",
       "<path fill=\"none\" stroke=\"black\" d=\"M223.5,-473.972C223.5,-465.691 223.5,-457.003 223.5,-448.483\"/>\r\n",
       "<polygon fill=\"black\" stroke=\"black\" points=\"227,-448.214 223.5,-438.214 220,-448.214 227,-448.214\"/>\r\n",
       "</g>\r\n",
       "<!-- 5 -->\r\n",
       "<g id=\"node6\" class=\"node\"><title>5</title>\r\n",
       "<path fill=\"#399de5\" stroke=\"black\" d=\"M145,-296.5C145,-296.5 72,-296.5 72,-296.5 66,-296.5 60,-290.5 60,-284.5 60,-284.5 60,-225.5 60,-225.5 60,-219.5 66,-213.5 72,-213.5 72,-213.5 145,-213.5 145,-213.5 151,-213.5 157,-219.5 157,-225.5 157,-225.5 157,-284.5 157,-284.5 157,-290.5 151,-296.5 145,-296.5\"/>\r\n",
       "<text text-anchor=\"start\" x=\"82\" y=\"-281.3\" font-family=\"Helvetica,sans-Serif\" font-size=\"14.00\">node #5</text>\r\n",
       "<text text-anchor=\"start\" x=\"79.5\" y=\"-266.3\" font-family=\"Helvetica,sans-Serif\" font-size=\"14.00\">gini = 0.0</text>\r\n",
       "<text text-anchor=\"start\" x=\"69\" y=\"-251.3\" font-family=\"Helvetica,sans-Serif\" font-size=\"14.00\">samples = 1</text>\r\n",
       "<text text-anchor=\"start\" x=\"68\" y=\"-236.3\" font-family=\"Helvetica,sans-Serif\" font-size=\"14.00\">value = [0, 1]</text>\r\n",
       "<text text-anchor=\"start\" x=\"79\" y=\"-221.3\" font-family=\"Helvetica,sans-Serif\" font-size=\"14.00\">class = N</text>\r\n",
       "</g>\r\n",
       "<!-- 4&#45;&gt;5 -->\r\n",
       "<g id=\"edge5\" class=\"edge\"><title>4&#45;&gt;5</title>\r\n",
       "<path fill=\"none\" stroke=\"black\" d=\"M181.657,-339.972C171.639,-328.472 160.934,-316.185 150.89,-304.657\"/>\r\n",
       "<polygon fill=\"black\" stroke=\"black\" points=\"153.268,-302.057 144.06,-296.817 147.99,-306.656 153.268,-302.057\"/>\r\n",
       "</g>\r\n",
       "<!-- 6 -->\r\n",
       "<g id=\"node7\" class=\"node\"><title>6</title>\r\n",
       "<path fill=\"#e58139\" stroke=\"black\" d=\"M260,-296.5C260,-296.5 187,-296.5 187,-296.5 181,-296.5 175,-290.5 175,-284.5 175,-284.5 175,-225.5 175,-225.5 175,-219.5 181,-213.5 187,-213.5 187,-213.5 260,-213.5 260,-213.5 266,-213.5 272,-219.5 272,-225.5 272,-225.5 272,-284.5 272,-284.5 272,-290.5 266,-296.5 260,-296.5\"/>\r\n",
       "<text text-anchor=\"start\" x=\"197\" y=\"-281.3\" font-family=\"Helvetica,sans-Serif\" font-size=\"14.00\">node #6</text>\r\n",
       "<text text-anchor=\"start\" x=\"194.5\" y=\"-266.3\" font-family=\"Helvetica,sans-Serif\" font-size=\"14.00\">gini = 0.0</text>\r\n",
       "<text text-anchor=\"start\" x=\"184\" y=\"-251.3\" font-family=\"Helvetica,sans-Serif\" font-size=\"14.00\">samples = 2</text>\r\n",
       "<text text-anchor=\"start\" x=\"183\" y=\"-236.3\" font-family=\"Helvetica,sans-Serif\" font-size=\"14.00\">value = [2, 0]</text>\r\n",
       "<text text-anchor=\"start\" x=\"194.5\" y=\"-221.3\" font-family=\"Helvetica,sans-Serif\" font-size=\"14.00\">class = Y</text>\r\n",
       "</g>\r\n",
       "<!-- 4&#45;&gt;6 -->\r\n",
       "<g id=\"edge6\" class=\"edge\"><title>4&#45;&gt;6</title>\r\n",
       "<path fill=\"none\" stroke=\"black\" d=\"M223.5,-339.972C223.5,-329.246 223.5,-317.835 223.5,-306.994\"/>\r\n",
       "<polygon fill=\"black\" stroke=\"black\" points=\"227,-306.817 223.5,-296.817 220,-306.817 227,-306.817\"/>\r\n",
       "</g>\r\n",
       "<!-- 8 -->\r\n",
       "<g id=\"node9\" class=\"node\"><title>8</title>\r\n",
       "<path fill=\"#e58139\" fill-opacity=\"0.400000\" stroke=\"black\" d=\"M552.5,-438C552.5,-438 400.5,-438 400.5,-438 394.5,-438 388.5,-432 388.5,-426 388.5,-426 388.5,-352 388.5,-352 388.5,-346 394.5,-340 400.5,-340 400.5,-340 552.5,-340 552.5,-340 558.5,-340 564.5,-346 564.5,-352 564.5,-352 564.5,-426 564.5,-426 564.5,-432 558.5,-438 552.5,-438\"/>\r\n",
       "<text text-anchor=\"start\" x=\"450\" y=\"-422.8\" font-family=\"Helvetica,sans-Serif\" font-size=\"14.00\">node #8</text>\r\n",
       "<text text-anchor=\"start\" x=\"396.5\" y=\"-407.8\" font-family=\"Helvetica,sans-Serif\" font-size=\"14.00\">LoanAmount_log ≤ 4.941</text>\r\n",
       "<text text-anchor=\"start\" x=\"439\" y=\"-392.8\" font-family=\"Helvetica,sans-Serif\" font-size=\"14.00\">gini = 0.469</text>\r\n",
       "<text text-anchor=\"start\" x=\"437\" y=\"-377.8\" font-family=\"Helvetica,sans-Serif\" font-size=\"14.00\">samples = 8</text>\r\n",
       "<text text-anchor=\"start\" x=\"436\" y=\"-362.8\" font-family=\"Helvetica,sans-Serif\" font-size=\"14.00\">value = [5, 3]</text>\r\n",
       "<text text-anchor=\"start\" x=\"447.5\" y=\"-347.8\" font-family=\"Helvetica,sans-Serif\" font-size=\"14.00\">class = Y</text>\r\n",
       "</g>\r\n",
       "<!-- 7&#45;&gt;8 -->\r\n",
       "<g id=\"edge8\" class=\"edge\"><title>7&#45;&gt;8</title>\r\n",
       "<path fill=\"none\" stroke=\"black\" d=\"M536.934,-473.972C530.516,-465.054 523.758,-455.663 517.177,-446.52\"/>\r\n",
       "<polygon fill=\"black\" stroke=\"black\" points=\"519.882,-444.286 511.199,-438.214 514.2,-448.375 519.882,-444.286\"/>\r\n",
       "</g>\r\n",
       "<!-- 15 -->\r\n",
       "<g id=\"node16\" class=\"node\"><title>15</title>\r\n",
       "<path fill=\"#e58139\" fill-opacity=\"0.921569\" stroke=\"black\" d=\"M738.5,-438C738.5,-438 594.5,-438 594.5,-438 588.5,-438 582.5,-432 582.5,-426 582.5,-426 582.5,-352 582.5,-352 582.5,-346 588.5,-340 594.5,-340 594.5,-340 738.5,-340 738.5,-340 744.5,-340 750.5,-346 750.5,-352 750.5,-352 750.5,-426 750.5,-426 750.5,-432 744.5,-438 738.5,-438\"/>\r\n",
       "<text text-anchor=\"start\" x=\"636\" y=\"-422.8\" font-family=\"Helvetica,sans-Serif\" font-size=\"14.00\">node #15</text>\r\n",
       "<text text-anchor=\"start\" x=\"590.5\" y=\"-407.8\" font-family=\"Helvetica,sans-Serif\" font-size=\"14.00\">LoanAmount_log ≤ 5.05</text>\r\n",
       "<text text-anchor=\"start\" x=\"629\" y=\"-392.8\" font-family=\"Helvetica,sans-Serif\" font-size=\"14.00\">gini = 0.133</text>\r\n",
       "<text text-anchor=\"start\" x=\"623\" y=\"-377.8\" font-family=\"Helvetica,sans-Serif\" font-size=\"14.00\">samples = 14</text>\r\n",
       "<text text-anchor=\"start\" x=\"622\" y=\"-362.8\" font-family=\"Helvetica,sans-Serif\" font-size=\"14.00\">value = [13, 1]</text>\r\n",
       "<text text-anchor=\"start\" x=\"637.5\" y=\"-347.8\" font-family=\"Helvetica,sans-Serif\" font-size=\"14.00\">class = Y</text>\r\n",
       "</g>\r\n",
       "<!-- 7&#45;&gt;15 -->\r\n",
       "<g id=\"edge15\" class=\"edge\"><title>7&#45;&gt;15</title>\r\n",
       "<path fill=\"none\" stroke=\"black\" d=\"M606.066,-473.972C612.484,-465.054 619.242,-455.663 625.823,-446.52\"/>\r\n",
       "<polygon fill=\"black\" stroke=\"black\" points=\"628.8,-448.375 631.801,-438.214 623.118,-444.286 628.8,-448.375\"/>\r\n",
       "</g>\r\n",
       "<!-- 9 -->\r\n",
       "<g id=\"node10\" class=\"node\"><title>9</title>\r\n",
       "<path fill=\"#399de5\" stroke=\"black\" d=\"M375,-296.5C375,-296.5 302,-296.5 302,-296.5 296,-296.5 290,-290.5 290,-284.5 290,-284.5 290,-225.5 290,-225.5 290,-219.5 296,-213.5 302,-213.5 302,-213.5 375,-213.5 375,-213.5 381,-213.5 387,-219.5 387,-225.5 387,-225.5 387,-284.5 387,-284.5 387,-290.5 381,-296.5 375,-296.5\"/>\r\n",
       "<text text-anchor=\"start\" x=\"312\" y=\"-281.3\" font-family=\"Helvetica,sans-Serif\" font-size=\"14.00\">node #9</text>\r\n",
       "<text text-anchor=\"start\" x=\"309.5\" y=\"-266.3\" font-family=\"Helvetica,sans-Serif\" font-size=\"14.00\">gini = 0.0</text>\r\n",
       "<text text-anchor=\"start\" x=\"299\" y=\"-251.3\" font-family=\"Helvetica,sans-Serif\" font-size=\"14.00\">samples = 2</text>\r\n",
       "<text text-anchor=\"start\" x=\"298\" y=\"-236.3\" font-family=\"Helvetica,sans-Serif\" font-size=\"14.00\">value = [0, 2]</text>\r\n",
       "<text text-anchor=\"start\" x=\"309\" y=\"-221.3\" font-family=\"Helvetica,sans-Serif\" font-size=\"14.00\">class = N</text>\r\n",
       "</g>\r\n",
       "<!-- 8&#45;&gt;9 -->\r\n",
       "<g id=\"edge9\" class=\"edge\"><title>8&#45;&gt;9</title>\r\n",
       "<path fill=\"none\" stroke=\"black\" d=\"M426.288,-339.972C414.035,-328.251 400.926,-315.712 388.674,-303.993\"/>\r\n",
       "<polygon fill=\"black\" stroke=\"black\" points=\"390.818,-301.2 381.172,-296.817 385.979,-306.258 390.818,-301.2\"/>\r\n",
       "</g>\r\n",
       "<!-- 10 -->\r\n",
       "<g id=\"node11\" class=\"node\"><title>10</title>\r\n",
       "<path fill=\"#e58139\" fill-opacity=\"0.800000\" stroke=\"black\" d=\"M569.5,-304C569.5,-304 417.5,-304 417.5,-304 411.5,-304 405.5,-298 405.5,-292 405.5,-292 405.5,-218 405.5,-218 405.5,-212 411.5,-206 417.5,-206 417.5,-206 569.5,-206 569.5,-206 575.5,-206 581.5,-212 581.5,-218 581.5,-218 581.5,-292 581.5,-292 581.5,-298 575.5,-304 569.5,-304\"/>\r\n",
       "<text text-anchor=\"start\" x=\"463\" y=\"-288.8\" font-family=\"Helvetica,sans-Serif\" font-size=\"14.00\">node #10</text>\r\n",
       "<text text-anchor=\"start\" x=\"413.5\" y=\"-273.8\" font-family=\"Helvetica,sans-Serif\" font-size=\"14.00\">LoanAmount_log ≤ 5.172</text>\r\n",
       "<text text-anchor=\"start\" x=\"456\" y=\"-258.8\" font-family=\"Helvetica,sans-Serif\" font-size=\"14.00\">gini = 0.278</text>\r\n",
       "<text text-anchor=\"start\" x=\"454\" y=\"-243.8\" font-family=\"Helvetica,sans-Serif\" font-size=\"14.00\">samples = 6</text>\r\n",
       "<text text-anchor=\"start\" x=\"453\" y=\"-228.8\" font-family=\"Helvetica,sans-Serif\" font-size=\"14.00\">value = [5, 1]</text>\r\n",
       "<text text-anchor=\"start\" x=\"464.5\" y=\"-213.8\" font-family=\"Helvetica,sans-Serif\" font-size=\"14.00\">class = Y</text>\r\n",
       "</g>\r\n",
       "<!-- 8&#45;&gt;10 -->\r\n",
       "<g id=\"edge10\" class=\"edge\"><title>8&#45;&gt;10</title>\r\n",
       "<path fill=\"none\" stroke=\"black\" d=\"M482.685,-339.972C483.764,-331.6 484.895,-322.812 486.004,-314.202\"/>\r\n",
       "<polygon fill=\"black\" stroke=\"black\" points=\"489.485,-314.579 487.291,-304.214 482.542,-313.685 489.485,-314.579\"/>\r\n",
       "</g>\r\n",
       "<!-- 11 -->\r\n",
       "<g id=\"node12\" class=\"node\"><title>11</title>\r\n",
       "<path fill=\"#e58139\" fill-opacity=\"0.498039\" stroke=\"black\" d=\"M420.5,-170C420.5,-170 254.5,-170 254.5,-170 248.5,-170 242.5,-164 242.5,-158 242.5,-158 242.5,-84 242.5,-84 242.5,-78 248.5,-72 254.5,-72 254.5,-72 420.5,-72 420.5,-72 426.5,-72 432.5,-78 432.5,-84 432.5,-84 432.5,-158 432.5,-158 432.5,-164 426.5,-170 420.5,-170\"/>\r\n",
       "<text text-anchor=\"start\" x=\"307\" y=\"-154.8\" font-family=\"Helvetica,sans-Serif\" font-size=\"14.00\">node #11</text>\r\n",
       "<text text-anchor=\"start\" x=\"250.5\" y=\"-139.8\" font-family=\"Helvetica,sans-Serif\" font-size=\"14.00\">Property_Area_Urban ≤ 0.5</text>\r\n",
       "<text text-anchor=\"start\" x=\"300\" y=\"-124.8\" font-family=\"Helvetica,sans-Serif\" font-size=\"14.00\">gini = 0.444</text>\r\n",
       "<text text-anchor=\"start\" x=\"298\" y=\"-109.8\" font-family=\"Helvetica,sans-Serif\" font-size=\"14.00\">samples = 3</text>\r\n",
       "<text text-anchor=\"start\" x=\"297\" y=\"-94.8\" font-family=\"Helvetica,sans-Serif\" font-size=\"14.00\">value = [2, 1]</text>\r\n",
       "<text text-anchor=\"start\" x=\"308.5\" y=\"-79.8\" font-family=\"Helvetica,sans-Serif\" font-size=\"14.00\">class = Y</text>\r\n",
       "</g>\r\n",
       "<!-- 10&#45;&gt;11 -->\r\n",
       "<g id=\"edge11\" class=\"edge\"><title>10&#45;&gt;11</title>\r\n",
       "<path fill=\"none\" stroke=\"black\" d=\"M436.739,-205.972C425.555,-196.508 413.741,-186.512 402.315,-176.844\"/>\r\n",
       "<polygon fill=\"black\" stroke=\"black\" points=\"404.375,-174.001 394.48,-170.214 399.853,-179.345 404.375,-174.001\"/>\r\n",
       "</g>\r\n",
       "<!-- 14 -->\r\n",
       "<g id=\"node15\" class=\"node\"><title>14</title>\r\n",
       "<path fill=\"#e58139\" stroke=\"black\" d=\"M536,-162.5C536,-162.5 463,-162.5 463,-162.5 457,-162.5 451,-156.5 451,-150.5 451,-150.5 451,-91.5 451,-91.5 451,-85.5 457,-79.5 463,-79.5 463,-79.5 536,-79.5 536,-79.5 542,-79.5 548,-85.5 548,-91.5 548,-91.5 548,-150.5 548,-150.5 548,-156.5 542,-162.5 536,-162.5\"/>\r\n",
       "<text text-anchor=\"start\" x=\"469\" y=\"-147.3\" font-family=\"Helvetica,sans-Serif\" font-size=\"14.00\">node #14</text>\r\n",
       "<text text-anchor=\"start\" x=\"470.5\" y=\"-132.3\" font-family=\"Helvetica,sans-Serif\" font-size=\"14.00\">gini = 0.0</text>\r\n",
       "<text text-anchor=\"start\" x=\"460\" y=\"-117.3\" font-family=\"Helvetica,sans-Serif\" font-size=\"14.00\">samples = 3</text>\r\n",
       "<text text-anchor=\"start\" x=\"459\" y=\"-102.3\" font-family=\"Helvetica,sans-Serif\" font-size=\"14.00\">value = [3, 0]</text>\r\n",
       "<text text-anchor=\"start\" x=\"470.5\" y=\"-87.3\" font-family=\"Helvetica,sans-Serif\" font-size=\"14.00\">class = Y</text>\r\n",
       "</g>\r\n",
       "<!-- 10&#45;&gt;14 -->\r\n",
       "<g id=\"edge14\" class=\"edge\"><title>10&#45;&gt;14</title>\r\n",
       "<path fill=\"none\" stroke=\"black\" d=\"M495.683,-205.972C496.171,-195.246 496.689,-183.835 497.182,-172.994\"/>\r\n",
       "<polygon fill=\"black\" stroke=\"black\" points=\"500.687,-172.965 497.645,-162.817 493.694,-172.647 500.687,-172.965\"/>\r\n",
       "</g>\r\n",
       "<!-- 12 -->\r\n",
       "<g id=\"node13\" class=\"node\"><title>12</title>\r\n",
       "<path fill=\"#c0c0c0\" stroke=\"black\" d=\"M316.5,-36C316.5,-36 286.5,-36 286.5,-36 280.5,-36 274.5,-30 274.5,-24 274.5,-24 274.5,-12 274.5,-12 274.5,-6 280.5,-0 286.5,-0 286.5,-0 316.5,-0 316.5,-0 322.5,-0 328.5,-6 328.5,-12 328.5,-12 328.5,-24 328.5,-24 328.5,-30 322.5,-36 316.5,-36\"/>\r\n",
       "<text text-anchor=\"middle\" x=\"301.5\" y=\"-14.3\" font-family=\"Helvetica,sans-Serif\" font-size=\"14.00\">(...)</text>\r\n",
       "</g>\r\n",
       "<!-- 11&#45;&gt;12 -->\r\n",
       "<g id=\"edge12\" class=\"edge\"><title>11&#45;&gt;12</title>\r\n",
       "<path fill=\"none\" stroke=\"black\" d=\"M320.343,-71.8664C317.135,-62.8639 313.89,-53.7609 311.019,-45.7051\"/>\r\n",
       "<polygon fill=\"black\" stroke=\"black\" points=\"314.266,-44.392 307.612,-36.1476 307.673,-46.7422 314.266,-44.392\"/>\r\n",
       "</g>\r\n",
       "<!-- 13 -->\r\n",
       "<g id=\"node14\" class=\"node\"><title>13</title>\r\n",
       "<path fill=\"#c0c0c0\" stroke=\"black\" d=\"M388.5,-36C388.5,-36 358.5,-36 358.5,-36 352.5,-36 346.5,-30 346.5,-24 346.5,-24 346.5,-12 346.5,-12 346.5,-6 352.5,-0 358.5,-0 358.5,-0 388.5,-0 388.5,-0 394.5,-0 400.5,-6 400.5,-12 400.5,-12 400.5,-24 400.5,-24 400.5,-30 394.5,-36 388.5,-36\"/>\r\n",
       "<text text-anchor=\"middle\" x=\"373.5\" y=\"-14.3\" font-family=\"Helvetica,sans-Serif\" font-size=\"14.00\">(...)</text>\r\n",
       "</g>\r\n",
       "<!-- 11&#45;&gt;13 -->\r\n",
       "<g id=\"edge13\" class=\"edge\"><title>11&#45;&gt;13</title>\r\n",
       "<path fill=\"none\" stroke=\"black\" d=\"M354.657,-71.8664C357.865,-62.8639 361.11,-53.7609 363.981,-45.7051\"/>\r\n",
       "<polygon fill=\"black\" stroke=\"black\" points=\"367.327,-46.7422 367.388,-36.1476 360.734,-44.392 367.327,-46.7422\"/>\r\n",
       "</g>\r\n",
       "<!-- 16 -->\r\n",
       "<g id=\"node17\" class=\"node\"><title>16</title>\r\n",
       "<path fill=\"#e58139\" stroke=\"black\" d=\"M685,-296.5C685,-296.5 612,-296.5 612,-296.5 606,-296.5 600,-290.5 600,-284.5 600,-284.5 600,-225.5 600,-225.5 600,-219.5 606,-213.5 612,-213.5 612,-213.5 685,-213.5 685,-213.5 691,-213.5 697,-219.5 697,-225.5 697,-225.5 697,-284.5 697,-284.5 697,-290.5 691,-296.5 685,-296.5\"/>\r\n",
       "<text text-anchor=\"start\" x=\"618\" y=\"-281.3\" font-family=\"Helvetica,sans-Serif\" font-size=\"14.00\">node #16</text>\r\n",
       "<text text-anchor=\"start\" x=\"619.5\" y=\"-266.3\" font-family=\"Helvetica,sans-Serif\" font-size=\"14.00\">gini = 0.0</text>\r\n",
       "<text text-anchor=\"start\" x=\"609\" y=\"-251.3\" font-family=\"Helvetica,sans-Serif\" font-size=\"14.00\">samples = 6</text>\r\n",
       "<text text-anchor=\"start\" x=\"608\" y=\"-236.3\" font-family=\"Helvetica,sans-Serif\" font-size=\"14.00\">value = [6, 0]</text>\r\n",
       "<text text-anchor=\"start\" x=\"619.5\" y=\"-221.3\" font-family=\"Helvetica,sans-Serif\" font-size=\"14.00\">class = Y</text>\r\n",
       "</g>\r\n",
       "<!-- 15&#45;&gt;16 -->\r\n",
       "<g id=\"edge16\" class=\"edge\"><title>15&#45;&gt;16</title>\r\n",
       "<path fill=\"none\" stroke=\"black\" d=\"M659.951,-339.972C658.488,-329.246 656.932,-317.835 655.454,-306.994\"/>\r\n",
       "<polygon fill=\"black\" stroke=\"black\" points=\"658.885,-306.252 654.066,-296.817 651.949,-307.198 658.885,-306.252\"/>\r\n",
       "</g>\r\n",
       "<!-- 17 -->\r\n",
       "<g id=\"node18\" class=\"node\"><title>17</title>\r\n",
       "<path fill=\"#e58139\" fill-opacity=\"0.858824\" stroke=\"black\" d=\"M903.5,-304C903.5,-304 727.5,-304 727.5,-304 721.5,-304 715.5,-298 715.5,-292 715.5,-292 715.5,-218 715.5,-218 715.5,-212 721.5,-206 727.5,-206 727.5,-206 903.5,-206 903.5,-206 909.5,-206 915.5,-212 915.5,-218 915.5,-218 915.5,-292 915.5,-292 915.5,-298 909.5,-304 903.5,-304\"/>\r\n",
       "<text text-anchor=\"start\" x=\"785\" y=\"-288.8\" font-family=\"Helvetica,sans-Serif\" font-size=\"14.00\">node #17</text>\r\n",
       "<text text-anchor=\"start\" x=\"723.5\" y=\"-273.8\" font-family=\"Helvetica,sans-Serif\" font-size=\"14.00\">CoapplicantIncome ≤ 2630.0</text>\r\n",
       "<text text-anchor=\"start\" x=\"778\" y=\"-258.8\" font-family=\"Helvetica,sans-Serif\" font-size=\"14.00\">gini = 0.219</text>\r\n",
       "<text text-anchor=\"start\" x=\"776\" y=\"-243.8\" font-family=\"Helvetica,sans-Serif\" font-size=\"14.00\">samples = 8</text>\r\n",
       "<text text-anchor=\"start\" x=\"775\" y=\"-228.8\" font-family=\"Helvetica,sans-Serif\" font-size=\"14.00\">value = [7, 1]</text>\r\n",
       "<text text-anchor=\"start\" x=\"786.5\" y=\"-213.8\" font-family=\"Helvetica,sans-Serif\" font-size=\"14.00\">class = Y</text>\r\n",
       "</g>\r\n",
       "<!-- 15&#45;&gt;17 -->\r\n",
       "<g id=\"edge17\" class=\"edge\"><title>15&#45;&gt;17</title>\r\n",
       "<path fill=\"none\" stroke=\"black\" d=\"M720.714,-339.972C731.293,-330.599 742.463,-320.704 753.278,-311.123\"/>\r\n",
       "<polygon fill=\"black\" stroke=\"black\" points=\"755.912,-313.465 761.077,-304.214 751.271,-308.225 755.912,-313.465\"/>\r\n",
       "</g>\r\n",
       "<!-- 18 -->\r\n",
       "<g id=\"node19\" class=\"node\"><title>18</title>\r\n",
       "<path fill=\"#e58139\" fill-opacity=\"0.666667\" stroke=\"black\" d=\"M736.5,-170C736.5,-170 584.5,-170 584.5,-170 578.5,-170 572.5,-164 572.5,-158 572.5,-158 572.5,-84 572.5,-84 572.5,-78 578.5,-72 584.5,-72 584.5,-72 736.5,-72 736.5,-72 742.5,-72 748.5,-78 748.5,-84 748.5,-84 748.5,-158 748.5,-158 748.5,-164 742.5,-170 736.5,-170\"/>\r\n",
       "<text text-anchor=\"start\" x=\"630\" y=\"-154.8\" font-family=\"Helvetica,sans-Serif\" font-size=\"14.00\">node #18</text>\r\n",
       "<text text-anchor=\"start\" x=\"580.5\" y=\"-139.8\" font-family=\"Helvetica,sans-Serif\" font-size=\"14.00\">LoanAmount_log ≤ 5.091</text>\r\n",
       "<text text-anchor=\"start\" x=\"623\" y=\"-124.8\" font-family=\"Helvetica,sans-Serif\" font-size=\"14.00\">gini = 0.375</text>\r\n",
       "<text text-anchor=\"start\" x=\"621\" y=\"-109.8\" font-family=\"Helvetica,sans-Serif\" font-size=\"14.00\">samples = 4</text>\r\n",
       "<text text-anchor=\"start\" x=\"620\" y=\"-94.8\" font-family=\"Helvetica,sans-Serif\" font-size=\"14.00\">value = [3, 1]</text>\r\n",
       "<text text-anchor=\"start\" x=\"631.5\" y=\"-79.8\" font-family=\"Helvetica,sans-Serif\" font-size=\"14.00\">class = Y</text>\r\n",
       "</g>\r\n",
       "<!-- 17&#45;&gt;18 -->\r\n",
       "<g id=\"edge18\" class=\"edge\"><title>17&#45;&gt;18</title>\r\n",
       "<path fill=\"none\" stroke=\"black\" d=\"M759.103,-205.972C747.991,-196.508 736.252,-186.512 724.9,-176.844\"/>\r\n",
       "<polygon fill=\"black\" stroke=\"black\" points=\"726.997,-174.033 717.115,-170.214 722.459,-179.362 726.997,-174.033\"/>\r\n",
       "</g>\r\n",
       "<!-- 21 -->\r\n",
       "<g id=\"node22\" class=\"node\"><title>21</title>\r\n",
       "<path fill=\"#e58139\" stroke=\"black\" d=\"M852,-162.5C852,-162.5 779,-162.5 779,-162.5 773,-162.5 767,-156.5 767,-150.5 767,-150.5 767,-91.5 767,-91.5 767,-85.5 773,-79.5 779,-79.5 779,-79.5 852,-79.5 852,-79.5 858,-79.5 864,-85.5 864,-91.5 864,-91.5 864,-150.5 864,-150.5 864,-156.5 858,-162.5 852,-162.5\"/>\r\n",
       "<text text-anchor=\"start\" x=\"785\" y=\"-147.3\" font-family=\"Helvetica,sans-Serif\" font-size=\"14.00\">node #21</text>\r\n",
       "<text text-anchor=\"start\" x=\"786.5\" y=\"-132.3\" font-family=\"Helvetica,sans-Serif\" font-size=\"14.00\">gini = 0.0</text>\r\n",
       "<text text-anchor=\"start\" x=\"776\" y=\"-117.3\" font-family=\"Helvetica,sans-Serif\" font-size=\"14.00\">samples = 4</text>\r\n",
       "<text text-anchor=\"start\" x=\"775\" y=\"-102.3\" font-family=\"Helvetica,sans-Serif\" font-size=\"14.00\">value = [4, 0]</text>\r\n",
       "<text text-anchor=\"start\" x=\"786.5\" y=\"-87.3\" font-family=\"Helvetica,sans-Serif\" font-size=\"14.00\">class = Y</text>\r\n",
       "</g>\r\n",
       "<!-- 17&#45;&gt;21 -->\r\n",
       "<g id=\"edge21\" class=\"edge\"><title>17&#45;&gt;21</title>\r\n",
       "<path fill=\"none\" stroke=\"black\" d=\"M815.5,-205.972C815.5,-195.246 815.5,-183.835 815.5,-172.994\"/>\r\n",
       "<polygon fill=\"black\" stroke=\"black\" points=\"819,-172.817 815.5,-162.817 812,-172.817 819,-172.817\"/>\r\n",
       "</g>\r\n",
       "<!-- 19 -->\r\n",
       "<g id=\"node20\" class=\"node\"><title>19</title>\r\n",
       "<path fill=\"#c0c0c0\" stroke=\"black\" d=\"M639.5,-36C639.5,-36 609.5,-36 609.5,-36 603.5,-36 597.5,-30 597.5,-24 597.5,-24 597.5,-12 597.5,-12 597.5,-6 603.5,-0 609.5,-0 609.5,-0 639.5,-0 639.5,-0 645.5,-0 651.5,-6 651.5,-12 651.5,-12 651.5,-24 651.5,-24 651.5,-30 645.5,-36 639.5,-36\"/>\r\n",
       "<text text-anchor=\"middle\" x=\"624.5\" y=\"-14.3\" font-family=\"Helvetica,sans-Serif\" font-size=\"14.00\">(...)</text>\r\n",
       "</g>\r\n",
       "<!-- 18&#45;&gt;19 -->\r\n",
       "<g id=\"edge19\" class=\"edge\"><title>18&#45;&gt;19</title>\r\n",
       "<path fill=\"none\" stroke=\"black\" d=\"M643.343,-71.8664C640.135,-62.8639 636.89,-53.7609 634.019,-45.7051\"/>\r\n",
       "<polygon fill=\"black\" stroke=\"black\" points=\"637.266,-44.392 630.612,-36.1476 630.673,-46.7422 637.266,-44.392\"/>\r\n",
       "</g>\r\n",
       "<!-- 20 -->\r\n",
       "<g id=\"node21\" class=\"node\"><title>20</title>\r\n",
       "<path fill=\"#c0c0c0\" stroke=\"black\" d=\"M711.5,-36C711.5,-36 681.5,-36 681.5,-36 675.5,-36 669.5,-30 669.5,-24 669.5,-24 669.5,-12 669.5,-12 669.5,-6 675.5,-0 681.5,-0 681.5,-0 711.5,-0 711.5,-0 717.5,-0 723.5,-6 723.5,-12 723.5,-12 723.5,-24 723.5,-24 723.5,-30 717.5,-36 711.5,-36\"/>\r\n",
       "<text text-anchor=\"middle\" x=\"696.5\" y=\"-14.3\" font-family=\"Helvetica,sans-Serif\" font-size=\"14.00\">(...)</text>\r\n",
       "</g>\r\n",
       "<!-- 18&#45;&gt;20 -->\r\n",
       "<g id=\"edge20\" class=\"edge\"><title>18&#45;&gt;20</title>\r\n",
       "<path fill=\"none\" stroke=\"black\" d=\"M677.657,-71.8664C680.865,-62.8639 684.11,-53.7609 686.981,-45.7051\"/>\r\n",
       "<polygon fill=\"black\" stroke=\"black\" points=\"690.327,-46.7422 690.388,-36.1476 683.734,-44.392 690.327,-46.7422\"/>\r\n",
       "</g>\r\n",
       "<!-- 23 -->\r\n",
       "<g id=\"node24\" class=\"node\"><title>23</title>\r\n",
       "<path fill=\"#399de5\" fill-opacity=\"0.670588\" stroke=\"black\" d=\"M1379,-572C1379,-572 1196,-572 1196,-572 1190,-572 1184,-566 1184,-560 1184,-560 1184,-486 1184,-486 1184,-480 1190,-474 1196,-474 1196,-474 1379,-474 1379,-474 1385,-474 1391,-480 1391,-486 1391,-486 1391,-560 1391,-560 1391,-566 1385,-572 1379,-572\"/>\r\n",
       "<text text-anchor=\"start\" x=\"1257\" y=\"-556.8\" font-family=\"Helvetica,sans-Serif\" font-size=\"14.00\">node #23</text>\r\n",
       "<text text-anchor=\"start\" x=\"1192\" y=\"-541.8\" font-family=\"Helvetica,sans-Serif\" font-size=\"14.00\">Education_Not Graduate ≤ 0.5</text>\r\n",
       "<text text-anchor=\"start\" x=\"1250\" y=\"-526.8\" font-family=\"Helvetica,sans-Serif\" font-size=\"14.00\">gini = 0.372</text>\r\n",
       "<text text-anchor=\"start\" x=\"1240\" y=\"-511.8\" font-family=\"Helvetica,sans-Serif\" font-size=\"14.00\">samples = 194</text>\r\n",
       "<text text-anchor=\"start\" x=\"1234.5\" y=\"-496.8\" font-family=\"Helvetica,sans-Serif\" font-size=\"14.00\">value = [48, 146]</text>\r\n",
       "<text text-anchor=\"start\" x=\"1258\" y=\"-481.8\" font-family=\"Helvetica,sans-Serif\" font-size=\"14.00\">class = N</text>\r\n",
       "</g>\r\n",
       "<!-- 22&#45;&gt;23 -->\r\n",
       "<g id=\"edge23\" class=\"edge\"><title>22&#45;&gt;23</title>\r\n",
       "<path fill=\"none\" stroke=\"black\" d=\"M1287.5,-607.972C1287.5,-599.691 1287.5,-591.003 1287.5,-582.483\"/>\r\n",
       "<polygon fill=\"black\" stroke=\"black\" points=\"1291,-582.214 1287.5,-572.214 1284,-582.214 1291,-582.214\"/>\r\n",
       "</g>\r\n",
       "<!-- 90 -->\r\n",
       "<g id=\"node41\" class=\"node\"><title>90</title>\r\n",
       "<path fill=\"#399de5\" fill-opacity=\"0.874510\" stroke=\"black\" d=\"M1918.5,-572C1918.5,-572 1810.5,-572 1810.5,-572 1804.5,-572 1798.5,-566 1798.5,-560 1798.5,-560 1798.5,-486 1798.5,-486 1798.5,-480 1804.5,-474 1810.5,-474 1810.5,-474 1918.5,-474 1918.5,-474 1924.5,-474 1930.5,-480 1930.5,-486 1930.5,-486 1930.5,-560 1930.5,-560 1930.5,-566 1924.5,-572 1918.5,-572\"/>\r\n",
       "<text text-anchor=\"start\" x=\"1834\" y=\"-556.8\" font-family=\"Helvetica,sans-Serif\" font-size=\"14.00\">node #90</text>\r\n",
       "<text text-anchor=\"start\" x=\"1806.5\" y=\"-541.8\" font-family=\"Helvetica,sans-Serif\" font-size=\"14.00\">Married_Yes ≤ 0.5</text>\r\n",
       "<text text-anchor=\"start\" x=\"1835.5\" y=\"-526.8\" font-family=\"Helvetica,sans-Serif\" font-size=\"14.00\">gini = 0.2</text>\r\n",
       "<text text-anchor=\"start\" x=\"1817\" y=\"-511.8\" font-family=\"Helvetica,sans-Serif\" font-size=\"14.00\">samples = 124</text>\r\n",
       "<text text-anchor=\"start\" x=\"1811.5\" y=\"-496.8\" font-family=\"Helvetica,sans-Serif\" font-size=\"14.00\">value = [14, 110]</text>\r\n",
       "<text text-anchor=\"start\" x=\"1835\" y=\"-481.8\" font-family=\"Helvetica,sans-Serif\" font-size=\"14.00\">class = N</text>\r\n",
       "</g>\r\n",
       "<!-- 22&#45;&gt;90 -->\r\n",
       "<g id=\"edge40\" class=\"edge\"><title>22&#45;&gt;90</title>\r\n",
       "<path fill=\"none\" stroke=\"black\" d=\"M1398.07,-630.705C1512.59,-604.506 1688.49,-564.266 1788.34,-541.422\"/>\r\n",
       "<polygon fill=\"black\" stroke=\"black\" points=\"1789.39,-544.774 1798.36,-539.132 1787.83,-537.95 1789.39,-544.774\"/>\r\n",
       "</g>\r\n",
       "<!-- 24 -->\r\n",
       "<g id=\"node25\" class=\"node\"><title>24</title>\r\n",
       "<path fill=\"#399de5\" fill-opacity=\"0.701961\" stroke=\"black\" d=\"M1268.5,-438C1268.5,-438 1084.5,-438 1084.5,-438 1078.5,-438 1072.5,-432 1072.5,-426 1072.5,-426 1072.5,-352 1072.5,-352 1072.5,-346 1078.5,-340 1084.5,-340 1084.5,-340 1268.5,-340 1268.5,-340 1274.5,-340 1280.5,-346 1280.5,-352 1280.5,-352 1280.5,-426 1280.5,-426 1280.5,-432 1274.5,-438 1268.5,-438\"/>\r\n",
       "<text text-anchor=\"start\" x=\"1146\" y=\"-422.8\" font-family=\"Helvetica,sans-Serif\" font-size=\"14.00\">node #24</text>\r\n",
       "<text text-anchor=\"start\" x=\"1080.5\" y=\"-407.8\" font-family=\"Helvetica,sans-Serif\" font-size=\"14.00\">CoapplicantIncome ≤ 21085.0</text>\r\n",
       "<text text-anchor=\"start\" x=\"1139\" y=\"-392.8\" font-family=\"Helvetica,sans-Serif\" font-size=\"14.00\">gini = 0.353</text>\r\n",
       "<text text-anchor=\"start\" x=\"1129\" y=\"-377.8\" font-family=\"Helvetica,sans-Serif\" font-size=\"14.00\">samples = 153</text>\r\n",
       "<text text-anchor=\"start\" x=\"1123.5\" y=\"-362.8\" font-family=\"Helvetica,sans-Serif\" font-size=\"14.00\">value = [35, 118]</text>\r\n",
       "<text text-anchor=\"start\" x=\"1147\" y=\"-347.8\" font-family=\"Helvetica,sans-Serif\" font-size=\"14.00\">class = N</text>\r\n",
       "</g>\r\n",
       "<!-- 23&#45;&gt;24 -->\r\n",
       "<g id=\"edge24\" class=\"edge\"><title>23&#45;&gt;24</title>\r\n",
       "<path fill=\"none\" stroke=\"black\" d=\"M1247.11,-473.972C1239.46,-464.872 1231.39,-455.28 1223.56,-445.961\"/>\r\n",
       "<polygon fill=\"black\" stroke=\"black\" points=\"1226.16,-443.615 1217.04,-438.214 1220.8,-448.12 1226.16,-443.615\"/>\r\n",
       "</g>\r\n",
       "<!-- 61 -->\r\n",
       "<g id=\"node32\" class=\"node\"><title>61</title>\r\n",
       "<path fill=\"#399de5\" fill-opacity=\"0.537255\" stroke=\"black\" d=\"M1486.5,-438C1486.5,-438 1310.5,-438 1310.5,-438 1304.5,-438 1298.5,-432 1298.5,-426 1298.5,-426 1298.5,-352 1298.5,-352 1298.5,-346 1304.5,-340 1310.5,-340 1310.5,-340 1486.5,-340 1486.5,-340 1492.5,-340 1498.5,-346 1498.5,-352 1498.5,-352 1498.5,-426 1498.5,-426 1498.5,-432 1492.5,-438 1486.5,-438\"/>\r\n",
       "<text text-anchor=\"start\" x=\"1368\" y=\"-422.8\" font-family=\"Helvetica,sans-Serif\" font-size=\"14.00\">node #61</text>\r\n",
       "<text text-anchor=\"start\" x=\"1306.5\" y=\"-407.8\" font-family=\"Helvetica,sans-Serif\" font-size=\"14.00\">CoapplicantIncome ≤ 2008.0</text>\r\n",
       "<text text-anchor=\"start\" x=\"1361\" y=\"-392.8\" font-family=\"Helvetica,sans-Serif\" font-size=\"14.00\">gini = 0.433</text>\r\n",
       "<text text-anchor=\"start\" x=\"1355\" y=\"-377.8\" font-family=\"Helvetica,sans-Serif\" font-size=\"14.00\">samples = 41</text>\r\n",
       "<text text-anchor=\"start\" x=\"1350\" y=\"-362.8\" font-family=\"Helvetica,sans-Serif\" font-size=\"14.00\">value = [13, 28]</text>\r\n",
       "<text text-anchor=\"start\" x=\"1369\" y=\"-347.8\" font-family=\"Helvetica,sans-Serif\" font-size=\"14.00\">class = N</text>\r\n",
       "</g>\r\n",
       "<!-- 23&#45;&gt;61 -->\r\n",
       "<g id=\"edge31\" class=\"edge\"><title>23&#45;&gt;61</title>\r\n",
       "<path fill=\"none\" stroke=\"black\" d=\"M1327.89,-473.972C1335.54,-464.872 1343.61,-455.28 1351.44,-445.961\"/>\r\n",
       "<polygon fill=\"black\" stroke=\"black\" points=\"1354.2,-448.12 1357.96,-438.214 1348.84,-443.615 1354.2,-448.12\"/>\r\n",
       "</g>\r\n",
       "<!-- 25 -->\r\n",
       "<g id=\"node26\" class=\"node\"><title>25</title>\r\n",
       "<path fill=\"#399de5\" fill-opacity=\"0.713725\" stroke=\"black\" d=\"M1123.5,-304C1123.5,-304 947.5,-304 947.5,-304 941.5,-304 935.5,-298 935.5,-292 935.5,-292 935.5,-218 935.5,-218 935.5,-212 941.5,-206 947.5,-206 947.5,-206 1123.5,-206 1123.5,-206 1129.5,-206 1135.5,-212 1135.5,-218 1135.5,-218 1135.5,-292 1135.5,-292 1135.5,-298 1129.5,-304 1123.5,-304\"/>\r\n",
       "<text text-anchor=\"start\" x=\"1005\" y=\"-288.8\" font-family=\"Helvetica,sans-Serif\" font-size=\"14.00\">node #25</text>\r\n",
       "<text text-anchor=\"start\" x=\"943.5\" y=\"-273.8\" font-family=\"Helvetica,sans-Serif\" font-size=\"14.00\">CoapplicantIncome ≤ 4466.5</text>\r\n",
       "<text text-anchor=\"start\" x=\"998\" y=\"-258.8\" font-family=\"Helvetica,sans-Serif\" font-size=\"14.00\">gini = 0.347</text>\r\n",
       "<text text-anchor=\"start\" x=\"988\" y=\"-243.8\" font-family=\"Helvetica,sans-Serif\" font-size=\"14.00\">samples = 152</text>\r\n",
       "<text text-anchor=\"start\" x=\"982.5\" y=\"-228.8\" font-family=\"Helvetica,sans-Serif\" font-size=\"14.00\">value = [34, 118]</text>\r\n",
       "<text text-anchor=\"start\" x=\"1006\" y=\"-213.8\" font-family=\"Helvetica,sans-Serif\" font-size=\"14.00\">class = N</text>\r\n",
       "</g>\r\n",
       "<!-- 24&#45;&gt;25 -->\r\n",
       "<g id=\"edge25\" class=\"edge\"><title>24&#45;&gt;25</title>\r\n",
       "<path fill=\"none\" stroke=\"black\" d=\"M1125.2,-339.972C1115.19,-330.599 1104.62,-320.704 1094.38,-311.123\"/>\r\n",
       "<polygon fill=\"black\" stroke=\"black\" points=\"1096.69,-308.493 1087,-304.214 1091.91,-313.603 1096.69,-308.493\"/>\r\n",
       "</g>\r\n",
       "<!-- 60 -->\r\n",
       "<g id=\"node31\" class=\"node\"><title>60</title>\r\n",
       "<path fill=\"#e58139\" stroke=\"black\" d=\"M1239,-296.5C1239,-296.5 1166,-296.5 1166,-296.5 1160,-296.5 1154,-290.5 1154,-284.5 1154,-284.5 1154,-225.5 1154,-225.5 1154,-219.5 1160,-213.5 1166,-213.5 1166,-213.5 1239,-213.5 1239,-213.5 1245,-213.5 1251,-219.5 1251,-225.5 1251,-225.5 1251,-284.5 1251,-284.5 1251,-290.5 1245,-296.5 1239,-296.5\"/>\r\n",
       "<text text-anchor=\"start\" x=\"1172\" y=\"-281.3\" font-family=\"Helvetica,sans-Serif\" font-size=\"14.00\">node #60</text>\r\n",
       "<text text-anchor=\"start\" x=\"1173.5\" y=\"-266.3\" font-family=\"Helvetica,sans-Serif\" font-size=\"14.00\">gini = 0.0</text>\r\n",
       "<text text-anchor=\"start\" x=\"1163\" y=\"-251.3\" font-family=\"Helvetica,sans-Serif\" font-size=\"14.00\">samples = 1</text>\r\n",
       "<text text-anchor=\"start\" x=\"1162\" y=\"-236.3\" font-family=\"Helvetica,sans-Serif\" font-size=\"14.00\">value = [1, 0]</text>\r\n",
       "<text text-anchor=\"start\" x=\"1173.5\" y=\"-221.3\" font-family=\"Helvetica,sans-Serif\" font-size=\"14.00\">class = Y</text>\r\n",
       "</g>\r\n",
       "<!-- 24&#45;&gt;60 -->\r\n",
       "<g id=\"edge30\" class=\"edge\"><title>24&#45;&gt;60</title>\r\n",
       "<path fill=\"none\" stroke=\"black\" d=\"M1185.96,-339.972C1188.09,-329.135 1190.37,-317.6 1192.52,-306.659\"/>\r\n",
       "<polygon fill=\"black\" stroke=\"black\" points=\"1195.96,-307.304 1194.46,-296.817 1189.09,-305.952 1195.96,-307.304\"/>\r\n",
       "</g>\r\n",
       "<!-- 26 -->\r\n",
       "<g id=\"node27\" class=\"node\"><title>26</title>\r\n",
       "<path fill=\"#399de5\" fill-opacity=\"0.674510\" stroke=\"black\" d=\"M1002.5,-170C1002.5,-170 894.5,-170 894.5,-170 888.5,-170 882.5,-164 882.5,-158 882.5,-158 882.5,-84 882.5,-84 882.5,-78 888.5,-72 894.5,-72 894.5,-72 1002.5,-72 1002.5,-72 1008.5,-72 1014.5,-78 1014.5,-84 1014.5,-84 1014.5,-158 1014.5,-158 1014.5,-164 1008.5,-170 1002.5,-170\"/>\r\n",
       "<text text-anchor=\"start\" x=\"918\" y=\"-154.8\" font-family=\"Helvetica,sans-Serif\" font-size=\"14.00\">node #26</text>\r\n",
       "<text text-anchor=\"start\" x=\"890.5\" y=\"-139.8\" font-family=\"Helvetica,sans-Serif\" font-size=\"14.00\">Married_Yes ≤ 0.5</text>\r\n",
       "<text text-anchor=\"start\" x=\"915\" y=\"-124.8\" font-family=\"Helvetica,sans-Serif\" font-size=\"14.00\">gini = 0.37</text>\r\n",
       "<text text-anchor=\"start\" x=\"901\" y=\"-109.8\" font-family=\"Helvetica,sans-Serif\" font-size=\"14.00\">samples = 139</text>\r\n",
       "<text text-anchor=\"start\" x=\"895.5\" y=\"-94.8\" font-family=\"Helvetica,sans-Serif\" font-size=\"14.00\">value = [34, 105]</text>\r\n",
       "<text text-anchor=\"start\" x=\"919\" y=\"-79.8\" font-family=\"Helvetica,sans-Serif\" font-size=\"14.00\">class = N</text>\r\n",
       "</g>\r\n",
       "<!-- 25&#45;&gt;26 -->\r\n",
       "<g id=\"edge26\" class=\"edge\"><title>25&#45;&gt;26</title>\r\n",
       "<path fill=\"none\" stroke=\"black\" d=\"M1003.84,-205.972C998.028,-197.145 991.904,-187.855 985.937,-178.8\"/>\r\n",
       "<polygon fill=\"black\" stroke=\"black\" points=\"988.703,-176.637 980.277,-170.214 982.858,-180.49 988.703,-176.637\"/>\r\n",
       "</g>\r\n",
       "<!-- 59 -->\r\n",
       "<g id=\"node30\" class=\"node\"><title>59</title>\r\n",
       "<path fill=\"#399de5\" stroke=\"black\" d=\"M1126,-162.5C1126,-162.5 1045,-162.5 1045,-162.5 1039,-162.5 1033,-156.5 1033,-150.5 1033,-150.5 1033,-91.5 1033,-91.5 1033,-85.5 1039,-79.5 1045,-79.5 1045,-79.5 1126,-79.5 1126,-79.5 1132,-79.5 1138,-85.5 1138,-91.5 1138,-91.5 1138,-150.5 1138,-150.5 1138,-156.5 1132,-162.5 1126,-162.5\"/>\r\n",
       "<text text-anchor=\"start\" x=\"1055\" y=\"-147.3\" font-family=\"Helvetica,sans-Serif\" font-size=\"14.00\">node #59</text>\r\n",
       "<text text-anchor=\"start\" x=\"1056.5\" y=\"-132.3\" font-family=\"Helvetica,sans-Serif\" font-size=\"14.00\">gini = 0.0</text>\r\n",
       "<text text-anchor=\"start\" x=\"1042\" y=\"-117.3\" font-family=\"Helvetica,sans-Serif\" font-size=\"14.00\">samples = 13</text>\r\n",
       "<text text-anchor=\"start\" x=\"1041\" y=\"-102.3\" font-family=\"Helvetica,sans-Serif\" font-size=\"14.00\">value = [0, 13]</text>\r\n",
       "<text text-anchor=\"start\" x=\"1056\" y=\"-87.3\" font-family=\"Helvetica,sans-Serif\" font-size=\"14.00\">class = N</text>\r\n",
       "</g>\r\n",
       "<!-- 25&#45;&gt;59 -->\r\n",
       "<g id=\"edge29\" class=\"edge\"><title>25&#45;&gt;59</title>\r\n",
       "<path fill=\"none\" stroke=\"black\" d=\"M1053.69,-205.972C1057.84,-195.025 1062.26,-183.364 1066.44,-172.325\"/>\r\n",
       "<polygon fill=\"black\" stroke=\"black\" points=\"1069.77,-173.408 1070.04,-162.817 1063.22,-170.928 1069.77,-173.408\"/>\r\n",
       "</g>\r\n",
       "<!-- 27 -->\r\n",
       "<g id=\"node28\" class=\"node\"><title>27</title>\r\n",
       "<path fill=\"#c0c0c0\" stroke=\"black\" d=\"M927.5,-36C927.5,-36 897.5,-36 897.5,-36 891.5,-36 885.5,-30 885.5,-24 885.5,-24 885.5,-12 885.5,-12 885.5,-6 891.5,-0 897.5,-0 897.5,-0 927.5,-0 927.5,-0 933.5,-0 939.5,-6 939.5,-12 939.5,-12 939.5,-24 939.5,-24 939.5,-30 933.5,-36 927.5,-36\"/>\r\n",
       "<text text-anchor=\"middle\" x=\"912.5\" y=\"-14.3\" font-family=\"Helvetica,sans-Serif\" font-size=\"14.00\">(...)</text>\r\n",
       "</g>\r\n",
       "<!-- 26&#45;&gt;27 -->\r\n",
       "<g id=\"edge27\" class=\"edge\"><title>26&#45;&gt;27</title>\r\n",
       "<path fill=\"none\" stroke=\"black\" d=\"M931.343,-71.8664C928.135,-62.8639 924.89,-53.7609 922.019,-45.7051\"/>\r\n",
       "<polygon fill=\"black\" stroke=\"black\" points=\"925.266,-44.392 918.612,-36.1476 918.673,-46.7422 925.266,-44.392\"/>\r\n",
       "</g>\r\n",
       "<!-- 40 -->\r\n",
       "<g id=\"node29\" class=\"node\"><title>40</title>\r\n",
       "<path fill=\"#c0c0c0\" stroke=\"black\" d=\"M999.5,-36C999.5,-36 969.5,-36 969.5,-36 963.5,-36 957.5,-30 957.5,-24 957.5,-24 957.5,-12 957.5,-12 957.5,-6 963.5,-0 969.5,-0 969.5,-0 999.5,-0 999.5,-0 1005.5,-0 1011.5,-6 1011.5,-12 1011.5,-12 1011.5,-24 1011.5,-24 1011.5,-30 1005.5,-36 999.5,-36\"/>\r\n",
       "<text text-anchor=\"middle\" x=\"984.5\" y=\"-14.3\" font-family=\"Helvetica,sans-Serif\" font-size=\"14.00\">(...)</text>\r\n",
       "</g>\r\n",
       "<!-- 26&#45;&gt;40 -->\r\n",
       "<g id=\"edge28\" class=\"edge\"><title>26&#45;&gt;40</title>\r\n",
       "<path fill=\"none\" stroke=\"black\" d=\"M965.657,-71.8664C968.865,-62.8639 972.11,-53.7609 974.981,-45.7051\"/>\r\n",
       "<polygon fill=\"black\" stroke=\"black\" points=\"978.327,-46.7422 978.388,-36.1476 971.734,-44.392 978.327,-46.7422\"/>\r\n",
       "</g>\r\n",
       "<!-- 62 -->\r\n",
       "<g id=\"node33\" class=\"node\"><title>62</title>\r\n",
       "<path fill=\"#399de5\" fill-opacity=\"0.294118\" stroke=\"black\" d=\"M1461.5,-304C1461.5,-304 1285.5,-304 1285.5,-304 1279.5,-304 1273.5,-298 1273.5,-292 1273.5,-292 1273.5,-218 1273.5,-218 1273.5,-212 1279.5,-206 1285.5,-206 1285.5,-206 1461.5,-206 1461.5,-206 1467.5,-206 1473.5,-212 1473.5,-218 1473.5,-218 1473.5,-292 1473.5,-292 1473.5,-298 1467.5,-304 1461.5,-304\"/>\r\n",
       "<text text-anchor=\"start\" x=\"1343\" y=\"-288.8\" font-family=\"Helvetica,sans-Serif\" font-size=\"14.00\">node #62</text>\r\n",
       "<text text-anchor=\"start\" x=\"1281.5\" y=\"-273.8\" font-family=\"Helvetica,sans-Serif\" font-size=\"14.00\">CoapplicantIncome ≤ 1876.0</text>\r\n",
       "<text text-anchor=\"start\" x=\"1336\" y=\"-258.8\" font-family=\"Helvetica,sans-Serif\" font-size=\"14.00\">gini = 0.485</text>\r\n",
       "<text text-anchor=\"start\" x=\"1330\" y=\"-243.8\" font-family=\"Helvetica,sans-Serif\" font-size=\"14.00\">samples = 29</text>\r\n",
       "<text text-anchor=\"start\" x=\"1325\" y=\"-228.8\" font-family=\"Helvetica,sans-Serif\" font-size=\"14.00\">value = [12, 17]</text>\r\n",
       "<text text-anchor=\"start\" x=\"1344\" y=\"-213.8\" font-family=\"Helvetica,sans-Serif\" font-size=\"14.00\">class = N</text>\r\n",
       "</g>\r\n",
       "<!-- 61&#45;&gt;62 -->\r\n",
       "<g id=\"edge32\" class=\"edge\"><title>61&#45;&gt;62</title>\r\n",
       "<path fill=\"none\" stroke=\"black\" d=\"M1389.4,-339.972C1387.82,-331.6 1386.15,-322.812 1384.52,-314.202\"/>\r\n",
       "<polygon fill=\"black\" stroke=\"black\" points=\"1387.93,-313.388 1382.63,-304.214 1381.05,-314.691 1387.93,-313.388\"/>\r\n",
       "</g>\r\n",
       "<!-- 87 -->\r\n",
       "<g id=\"node38\" class=\"node\"><title>87</title>\r\n",
       "<path fill=\"#399de5\" fill-opacity=\"0.909804\" stroke=\"black\" d=\"M1679.5,-304C1679.5,-304 1503.5,-304 1503.5,-304 1497.5,-304 1491.5,-298 1491.5,-292 1491.5,-292 1491.5,-218 1491.5,-218 1491.5,-212 1497.5,-206 1503.5,-206 1503.5,-206 1679.5,-206 1679.5,-206 1685.5,-206 1691.5,-212 1691.5,-218 1691.5,-218 1691.5,-292 1691.5,-292 1691.5,-298 1685.5,-304 1679.5,-304\"/>\r\n",
       "<text text-anchor=\"start\" x=\"1561\" y=\"-288.8\" font-family=\"Helvetica,sans-Serif\" font-size=\"14.00\">node #87</text>\r\n",
       "<text text-anchor=\"start\" x=\"1499.5\" y=\"-273.8\" font-family=\"Helvetica,sans-Serif\" font-size=\"14.00\">CoapplicantIncome ≤ 4282.5</text>\r\n",
       "<text text-anchor=\"start\" x=\"1554\" y=\"-258.8\" font-family=\"Helvetica,sans-Serif\" font-size=\"14.00\">gini = 0.153</text>\r\n",
       "<text text-anchor=\"start\" x=\"1548\" y=\"-243.8\" font-family=\"Helvetica,sans-Serif\" font-size=\"14.00\">samples = 12</text>\r\n",
       "<text text-anchor=\"start\" x=\"1547\" y=\"-228.8\" font-family=\"Helvetica,sans-Serif\" font-size=\"14.00\">value = [1, 11]</text>\r\n",
       "<text text-anchor=\"start\" x=\"1562\" y=\"-213.8\" font-family=\"Helvetica,sans-Serif\" font-size=\"14.00\">class = N</text>\r\n",
       "</g>\r\n",
       "<!-- 61&#45;&gt;87 -->\r\n",
       "<g id=\"edge37\" class=\"edge\"><title>61&#45;&gt;87</title>\r\n",
       "<path fill=\"none\" stroke=\"black\" d=\"M1468.72,-339.972C1482.96,-330.235 1498.02,-319.934 1512.53,-310.008\"/>\r\n",
       "<polygon fill=\"black\" stroke=\"black\" points=\"1514.73,-312.748 1521.01,-304.214 1510.78,-306.97 1514.73,-312.748\"/>\r\n",
       "</g>\r\n",
       "<!-- 63 -->\r\n",
       "<g id=\"node34\" class=\"node\"><title>63</title>\r\n",
       "<path fill=\"#399de5\" fill-opacity=\"0.352941\" stroke=\"black\" d=\"M1320.5,-170C1320.5,-170 1168.5,-170 1168.5,-170 1162.5,-170 1156.5,-164 1156.5,-158 1156.5,-158 1156.5,-84 1156.5,-84 1156.5,-78 1162.5,-72 1168.5,-72 1168.5,-72 1320.5,-72 1320.5,-72 1326.5,-72 1332.5,-78 1332.5,-84 1332.5,-84 1332.5,-158 1332.5,-158 1332.5,-164 1326.5,-170 1320.5,-170\"/>\r\n",
       "<text text-anchor=\"start\" x=\"1214\" y=\"-154.8\" font-family=\"Helvetica,sans-Serif\" font-size=\"14.00\">node #63</text>\r\n",
       "<text text-anchor=\"start\" x=\"1164.5\" y=\"-139.8\" font-family=\"Helvetica,sans-Serif\" font-size=\"14.00\">LoanAmount_log ≤ 4.844</text>\r\n",
       "<text text-anchor=\"start\" x=\"1207\" y=\"-124.8\" font-family=\"Helvetica,sans-Serif\" font-size=\"14.00\">gini = 0.477</text>\r\n",
       "<text text-anchor=\"start\" x=\"1201\" y=\"-109.8\" font-family=\"Helvetica,sans-Serif\" font-size=\"14.00\">samples = 28</text>\r\n",
       "<text text-anchor=\"start\" x=\"1196\" y=\"-94.8\" font-family=\"Helvetica,sans-Serif\" font-size=\"14.00\">value = [11, 17]</text>\r\n",
       "<text text-anchor=\"start\" x=\"1215\" y=\"-79.8\" font-family=\"Helvetica,sans-Serif\" font-size=\"14.00\">class = N</text>\r\n",
       "</g>\r\n",
       "<!-- 62&#45;&gt;63 -->\r\n",
       "<g id=\"edge33\" class=\"edge\"><title>62&#45;&gt;63</title>\r\n",
       "<path fill=\"none\" stroke=\"black\" d=\"M1326.56,-205.972C1317.49,-196.69 1307.92,-186.896 1298.64,-177.402\"/>\r\n",
       "<polygon fill=\"black\" stroke=\"black\" points=\"1301.11,-174.92 1291.62,-170.214 1296.1,-179.812 1301.11,-174.92\"/>\r\n",
       "</g>\r\n",
       "<!-- 86 -->\r\n",
       "<g id=\"node37\" class=\"node\"><title>86</title>\r\n",
       "<path fill=\"#e58139\" stroke=\"black\" d=\"M1436,-162.5C1436,-162.5 1363,-162.5 1363,-162.5 1357,-162.5 1351,-156.5 1351,-150.5 1351,-150.5 1351,-91.5 1351,-91.5 1351,-85.5 1357,-79.5 1363,-79.5 1363,-79.5 1436,-79.5 1436,-79.5 1442,-79.5 1448,-85.5 1448,-91.5 1448,-91.5 1448,-150.5 1448,-150.5 1448,-156.5 1442,-162.5 1436,-162.5\"/>\r\n",
       "<text text-anchor=\"start\" x=\"1369\" y=\"-147.3\" font-family=\"Helvetica,sans-Serif\" font-size=\"14.00\">node #86</text>\r\n",
       "<text text-anchor=\"start\" x=\"1370.5\" y=\"-132.3\" font-family=\"Helvetica,sans-Serif\" font-size=\"14.00\">gini = 0.0</text>\r\n",
       "<text text-anchor=\"start\" x=\"1360\" y=\"-117.3\" font-family=\"Helvetica,sans-Serif\" font-size=\"14.00\">samples = 1</text>\r\n",
       "<text text-anchor=\"start\" x=\"1359\" y=\"-102.3\" font-family=\"Helvetica,sans-Serif\" font-size=\"14.00\">value = [1, 0]</text>\r\n",
       "<text text-anchor=\"start\" x=\"1370.5\" y=\"-87.3\" font-family=\"Helvetica,sans-Serif\" font-size=\"14.00\">class = Y</text>\r\n",
       "</g>\r\n",
       "<!-- 62&#45;&gt;86 -->\r\n",
       "<g id=\"edge36\" class=\"edge\"><title>62&#45;&gt;86</title>\r\n",
       "<path fill=\"none\" stroke=\"black\" d=\"M1382.96,-205.972C1385.09,-195.135 1387.37,-183.6 1389.52,-172.659\"/>\r\n",
       "<polygon fill=\"black\" stroke=\"black\" points=\"1392.96,-173.304 1391.46,-162.817 1386.09,-171.952 1392.96,-173.304\"/>\r\n",
       "</g>\r\n",
       "<!-- 64 -->\r\n",
       "<g id=\"node35\" class=\"node\"><title>64</title>\r\n",
       "<path fill=\"#c0c0c0\" stroke=\"black\" d=\"M1223.5,-36C1223.5,-36 1193.5,-36 1193.5,-36 1187.5,-36 1181.5,-30 1181.5,-24 1181.5,-24 1181.5,-12 1181.5,-12 1181.5,-6 1187.5,-0 1193.5,-0 1193.5,-0 1223.5,-0 1223.5,-0 1229.5,-0 1235.5,-6 1235.5,-12 1235.5,-12 1235.5,-24 1235.5,-24 1235.5,-30 1229.5,-36 1223.5,-36\"/>\r\n",
       "<text text-anchor=\"middle\" x=\"1208.5\" y=\"-14.3\" font-family=\"Helvetica,sans-Serif\" font-size=\"14.00\">(...)</text>\r\n",
       "</g>\r\n",
       "<!-- 63&#45;&gt;64 -->\r\n",
       "<g id=\"edge34\" class=\"edge\"><title>63&#45;&gt;64</title>\r\n",
       "<path fill=\"none\" stroke=\"black\" d=\"M1227.34,-71.8664C1224.13,-62.8639 1220.89,-53.7609 1218.02,-45.7051\"/>\r\n",
       "<polygon fill=\"black\" stroke=\"black\" points=\"1221.27,-44.392 1214.61,-36.1476 1214.67,-46.7422 1221.27,-44.392\"/>\r\n",
       "</g>\r\n",
       "<!-- 75 -->\r\n",
       "<g id=\"node36\" class=\"node\"><title>75</title>\r\n",
       "<path fill=\"#c0c0c0\" stroke=\"black\" d=\"M1295.5,-36C1295.5,-36 1265.5,-36 1265.5,-36 1259.5,-36 1253.5,-30 1253.5,-24 1253.5,-24 1253.5,-12 1253.5,-12 1253.5,-6 1259.5,-0 1265.5,-0 1265.5,-0 1295.5,-0 1295.5,-0 1301.5,-0 1307.5,-6 1307.5,-12 1307.5,-12 1307.5,-24 1307.5,-24 1307.5,-30 1301.5,-36 1295.5,-36\"/>\r\n",
       "<text text-anchor=\"middle\" x=\"1280.5\" y=\"-14.3\" font-family=\"Helvetica,sans-Serif\" font-size=\"14.00\">(...)</text>\r\n",
       "</g>\r\n",
       "<!-- 63&#45;&gt;75 -->\r\n",
       "<g id=\"edge35\" class=\"edge\"><title>63&#45;&gt;75</title>\r\n",
       "<path fill=\"none\" stroke=\"black\" d=\"M1261.66,-71.8664C1264.87,-62.8639 1268.11,-53.7609 1270.98,-45.7051\"/>\r\n",
       "<polygon fill=\"black\" stroke=\"black\" points=\"1274.33,-46.7422 1274.39,-36.1476 1267.73,-44.392 1274.33,-46.7422\"/>\r\n",
       "</g>\r\n",
       "<!-- 88 -->\r\n",
       "<g id=\"node39\" class=\"node\"><title>88</title>\r\n",
       "<path fill=\"#399de5\" stroke=\"black\" d=\"M1559,-162.5C1559,-162.5 1478,-162.5 1478,-162.5 1472,-162.5 1466,-156.5 1466,-150.5 1466,-150.5 1466,-91.5 1466,-91.5 1466,-85.5 1472,-79.5 1478,-79.5 1478,-79.5 1559,-79.5 1559,-79.5 1565,-79.5 1571,-85.5 1571,-91.5 1571,-91.5 1571,-150.5 1571,-150.5 1571,-156.5 1565,-162.5 1559,-162.5\"/>\r\n",
       "<text text-anchor=\"start\" x=\"1488\" y=\"-147.3\" font-family=\"Helvetica,sans-Serif\" font-size=\"14.00\">node #88</text>\r\n",
       "<text text-anchor=\"start\" x=\"1489.5\" y=\"-132.3\" font-family=\"Helvetica,sans-Serif\" font-size=\"14.00\">gini = 0.0</text>\r\n",
       "<text text-anchor=\"start\" x=\"1475\" y=\"-117.3\" font-family=\"Helvetica,sans-Serif\" font-size=\"14.00\">samples = 11</text>\r\n",
       "<text text-anchor=\"start\" x=\"1474\" y=\"-102.3\" font-family=\"Helvetica,sans-Serif\" font-size=\"14.00\">value = [0, 11]</text>\r\n",
       "<text text-anchor=\"start\" x=\"1489\" y=\"-87.3\" font-family=\"Helvetica,sans-Serif\" font-size=\"14.00\">class = N</text>\r\n",
       "</g>\r\n",
       "<!-- 87&#45;&gt;88 -->\r\n",
       "<g id=\"edge38\" class=\"edge\"><title>87&#45;&gt;88</title>\r\n",
       "<path fill=\"none\" stroke=\"black\" d=\"M1564.94,-205.972C1558.76,-194.804 1552.18,-182.893 1545.96,-171.656\"/>\r\n",
       "<polygon fill=\"black\" stroke=\"black\" points=\"1548.98,-169.874 1541.07,-162.817 1542.85,-173.261 1548.98,-169.874\"/>\r\n",
       "</g>\r\n",
       "<!-- 89 -->\r\n",
       "<g id=\"node40\" class=\"node\"><title>89</title>\r\n",
       "<path fill=\"#e58139\" stroke=\"black\" d=\"M1674,-162.5C1674,-162.5 1601,-162.5 1601,-162.5 1595,-162.5 1589,-156.5 1589,-150.5 1589,-150.5 1589,-91.5 1589,-91.5 1589,-85.5 1595,-79.5 1601,-79.5 1601,-79.5 1674,-79.5 1674,-79.5 1680,-79.5 1686,-85.5 1686,-91.5 1686,-91.5 1686,-150.5 1686,-150.5 1686,-156.5 1680,-162.5 1674,-162.5\"/>\r\n",
       "<text text-anchor=\"start\" x=\"1607\" y=\"-147.3\" font-family=\"Helvetica,sans-Serif\" font-size=\"14.00\">node #89</text>\r\n",
       "<text text-anchor=\"start\" x=\"1608.5\" y=\"-132.3\" font-family=\"Helvetica,sans-Serif\" font-size=\"14.00\">gini = 0.0</text>\r\n",
       "<text text-anchor=\"start\" x=\"1598\" y=\"-117.3\" font-family=\"Helvetica,sans-Serif\" font-size=\"14.00\">samples = 1</text>\r\n",
       "<text text-anchor=\"start\" x=\"1597\" y=\"-102.3\" font-family=\"Helvetica,sans-Serif\" font-size=\"14.00\">value = [1, 0]</text>\r\n",
       "<text text-anchor=\"start\" x=\"1608.5\" y=\"-87.3\" font-family=\"Helvetica,sans-Serif\" font-size=\"14.00\">class = Y</text>\r\n",
       "</g>\r\n",
       "<!-- 87&#45;&gt;89 -->\r\n",
       "<g id=\"edge39\" class=\"edge\"><title>87&#45;&gt;89</title>\r\n",
       "<path fill=\"none\" stroke=\"black\" d=\"M1608.24,-205.972C1612.05,-195.025 1616.12,-183.364 1619.96,-172.325\"/>\r\n",
       "<polygon fill=\"black\" stroke=\"black\" points=\"1623.29,-173.411 1623.28,-162.817 1616.68,-171.108 1623.29,-173.411\"/>\r\n",
       "</g>\r\n",
       "<!-- 91 -->\r\n",
       "<g id=\"node42\" class=\"node\"><title>91</title>\r\n",
       "<path fill=\"#399de5\" fill-opacity=\"0.768627\" stroke=\"black\" d=\"M1952.5,-438C1952.5,-438 1776.5,-438 1776.5,-438 1770.5,-438 1764.5,-432 1764.5,-426 1764.5,-426 1764.5,-352 1764.5,-352 1764.5,-346 1770.5,-340 1776.5,-340 1776.5,-340 1952.5,-340 1952.5,-340 1958.5,-340 1964.5,-346 1964.5,-352 1964.5,-352 1964.5,-426 1964.5,-426 1964.5,-432 1958.5,-438 1952.5,-438\"/>\r\n",
       "<text text-anchor=\"start\" x=\"1834\" y=\"-422.8\" font-family=\"Helvetica,sans-Serif\" font-size=\"14.00\">node #91</text>\r\n",
       "<text text-anchor=\"start\" x=\"1772.5\" y=\"-407.8\" font-family=\"Helvetica,sans-Serif\" font-size=\"14.00\">CoapplicantIncome ≤ 2181.0</text>\r\n",
       "<text text-anchor=\"start\" x=\"1827\" y=\"-392.8\" font-family=\"Helvetica,sans-Serif\" font-size=\"14.00\">gini = 0.305</text>\r\n",
       "<text text-anchor=\"start\" x=\"1821\" y=\"-377.8\" font-family=\"Helvetica,sans-Serif\" font-size=\"14.00\">samples = 48</text>\r\n",
       "<text text-anchor=\"start\" x=\"1820\" y=\"-362.8\" font-family=\"Helvetica,sans-Serif\" font-size=\"14.00\">value = [9, 39]</text>\r\n",
       "<text text-anchor=\"start\" x=\"1835\" y=\"-347.8\" font-family=\"Helvetica,sans-Serif\" font-size=\"14.00\">class = N</text>\r\n",
       "</g>\r\n",
       "<!-- 90&#45;&gt;91 -->\r\n",
       "<g id=\"edge41\" class=\"edge\"><title>90&#45;&gt;91</title>\r\n",
       "<path fill=\"none\" stroke=\"black\" d=\"M1864.5,-473.972C1864.5,-465.691 1864.5,-457.003 1864.5,-448.483\"/>\r\n",
       "<polygon fill=\"black\" stroke=\"black\" points=\"1868,-448.214 1864.5,-438.214 1861,-448.214 1868,-448.214\"/>\r\n",
       "</g>\r\n",
       "<!-- 110 -->\r\n",
       "<g id=\"node49\" class=\"node\"><title>110</title>\r\n",
       "<path fill=\"#399de5\" fill-opacity=\"0.929412\" stroke=\"black\" d=\"M2238.5,-438C2238.5,-438 2086.5,-438 2086.5,-438 2080.5,-438 2074.5,-432 2074.5,-426 2074.5,-426 2074.5,-352 2074.5,-352 2074.5,-346 2080.5,-340 2086.5,-340 2086.5,-340 2238.5,-340 2238.5,-340 2244.5,-340 2250.5,-346 2250.5,-352 2250.5,-352 2250.5,-426 2250.5,-426 2250.5,-432 2244.5,-438 2238.5,-438\"/>\r\n",
       "<text text-anchor=\"start\" x=\"2127.5\" y=\"-422.8\" font-family=\"Helvetica,sans-Serif\" font-size=\"14.00\">node #110</text>\r\n",
       "<text text-anchor=\"start\" x=\"2082.5\" y=\"-407.8\" font-family=\"Helvetica,sans-Serif\" font-size=\"14.00\">LoanAmount_log ≤ 5.547</text>\r\n",
       "<text text-anchor=\"start\" x=\"2125\" y=\"-392.8\" font-family=\"Helvetica,sans-Serif\" font-size=\"14.00\">gini = 0.123</text>\r\n",
       "<text text-anchor=\"start\" x=\"2119\" y=\"-377.8\" font-family=\"Helvetica,sans-Serif\" font-size=\"14.00\">samples = 76</text>\r\n",
       "<text text-anchor=\"start\" x=\"2118\" y=\"-362.8\" font-family=\"Helvetica,sans-Serif\" font-size=\"14.00\">value = [5, 71]</text>\r\n",
       "<text text-anchor=\"start\" x=\"2133\" y=\"-347.8\" font-family=\"Helvetica,sans-Serif\" font-size=\"14.00\">class = N</text>\r\n",
       "</g>\r\n",
       "<!-- 90&#45;&gt;110 -->\r\n",
       "<g id=\"edge48\" class=\"edge\"><title>90&#45;&gt;110</title>\r\n",
       "<path fill=\"none\" stroke=\"black\" d=\"M1930.64,-492.705C1970.18,-475.19 2021.13,-452.619 2065.2,-433.098\"/>\r\n",
       "<polygon fill=\"black\" stroke=\"black\" points=\"2066.77,-436.232 2074.49,-428.982 2063.93,-429.832 2066.77,-436.232\"/>\r\n",
       "</g>\r\n",
       "<!-- 92 -->\r\n",
       "<g id=\"node43\" class=\"node\"><title>92</title>\r\n",
       "<path fill=\"#399de5\" fill-opacity=\"0.709804\" stroke=\"black\" d=\"M1881.5,-304C1881.5,-304 1729.5,-304 1729.5,-304 1723.5,-304 1717.5,-298 1717.5,-292 1717.5,-292 1717.5,-218 1717.5,-218 1717.5,-212 1723.5,-206 1729.5,-206 1729.5,-206 1881.5,-206 1881.5,-206 1887.5,-206 1893.5,-212 1893.5,-218 1893.5,-218 1893.5,-292 1893.5,-292 1893.5,-298 1887.5,-304 1881.5,-304\"/>\r\n",
       "<text text-anchor=\"start\" x=\"1775\" y=\"-288.8\" font-family=\"Helvetica,sans-Serif\" font-size=\"14.00\">node #92</text>\r\n",
       "<text text-anchor=\"start\" x=\"1725.5\" y=\"-273.8\" font-family=\"Helvetica,sans-Serif\" font-size=\"14.00\">LoanAmount_log ≤ 4.067</text>\r\n",
       "<text text-anchor=\"start\" x=\"1768\" y=\"-258.8\" font-family=\"Helvetica,sans-Serif\" font-size=\"14.00\">gini = 0.349</text>\r\n",
       "<text text-anchor=\"start\" x=\"1762\" y=\"-243.8\" font-family=\"Helvetica,sans-Serif\" font-size=\"14.00\">samples = 40</text>\r\n",
       "<text text-anchor=\"start\" x=\"1761\" y=\"-228.8\" font-family=\"Helvetica,sans-Serif\" font-size=\"14.00\">value = [9, 31]</text>\r\n",
       "<text text-anchor=\"start\" x=\"1776\" y=\"-213.8\" font-family=\"Helvetica,sans-Serif\" font-size=\"14.00\">class = N</text>\r\n",
       "</g>\r\n",
       "<!-- 91&#45;&gt;92 -->\r\n",
       "<g id=\"edge42\" class=\"edge\"><title>91&#45;&gt;92</title>\r\n",
       "<path fill=\"none\" stroke=\"black\" d=\"M1843.03,-339.972C1839.17,-331.327 1835.11,-322.238 1831.14,-313.361\"/>\r\n",
       "<polygon fill=\"black\" stroke=\"black\" points=\"1834.33,-311.915 1827.05,-304.214 1827.94,-314.772 1834.33,-311.915\"/>\r\n",
       "</g>\r\n",
       "<!-- 109 -->\r\n",
       "<g id=\"node48\" class=\"node\"><title>109</title>\r\n",
       "<path fill=\"#399de5\" stroke=\"black\" d=\"M1997,-296.5C1997,-296.5 1924,-296.5 1924,-296.5 1918,-296.5 1912,-290.5 1912,-284.5 1912,-284.5 1912,-225.5 1912,-225.5 1912,-219.5 1918,-213.5 1924,-213.5 1924,-213.5 1997,-213.5 1997,-213.5 2003,-213.5 2009,-219.5 2009,-225.5 2009,-225.5 2009,-284.5 2009,-284.5 2009,-290.5 2003,-296.5 1997,-296.5\"/>\r\n",
       "<text text-anchor=\"start\" x=\"1925.5\" y=\"-281.3\" font-family=\"Helvetica,sans-Serif\" font-size=\"14.00\">node #109</text>\r\n",
       "<text text-anchor=\"start\" x=\"1931.5\" y=\"-266.3\" font-family=\"Helvetica,sans-Serif\" font-size=\"14.00\">gini = 0.0</text>\r\n",
       "<text text-anchor=\"start\" x=\"1921\" y=\"-251.3\" font-family=\"Helvetica,sans-Serif\" font-size=\"14.00\">samples = 8</text>\r\n",
       "<text text-anchor=\"start\" x=\"1920\" y=\"-236.3\" font-family=\"Helvetica,sans-Serif\" font-size=\"14.00\">value = [0, 8]</text>\r\n",
       "<text text-anchor=\"start\" x=\"1931\" y=\"-221.3\" font-family=\"Helvetica,sans-Serif\" font-size=\"14.00\">class = N</text>\r\n",
       "</g>\r\n",
       "<!-- 91&#45;&gt;109 -->\r\n",
       "<g id=\"edge47\" class=\"edge\"><title>91&#45;&gt;109</title>\r\n",
       "<path fill=\"none\" stroke=\"black\" d=\"M1899.43,-339.972C1907.71,-328.583 1916.56,-316.421 1924.87,-304.99\"/>\r\n",
       "<polygon fill=\"black\" stroke=\"black\" points=\"1927.76,-306.963 1930.82,-296.817 1922.1,-302.845 1927.76,-306.963\"/>\r\n",
       "</g>\r\n",
       "<!-- 93 -->\r\n",
       "<g id=\"node44\" class=\"node\"><title>93</title>\r\n",
       "<path fill=\"#399de5\" stroke=\"black\" d=\"M1789,-162.5C1789,-162.5 1716,-162.5 1716,-162.5 1710,-162.5 1704,-156.5 1704,-150.5 1704,-150.5 1704,-91.5 1704,-91.5 1704,-85.5 1710,-79.5 1716,-79.5 1716,-79.5 1789,-79.5 1789,-79.5 1795,-79.5 1801,-85.5 1801,-91.5 1801,-91.5 1801,-150.5 1801,-150.5 1801,-156.5 1795,-162.5 1789,-162.5\"/>\r\n",
       "<text text-anchor=\"start\" x=\"1722\" y=\"-147.3\" font-family=\"Helvetica,sans-Serif\" font-size=\"14.00\">node #93</text>\r\n",
       "<text text-anchor=\"start\" x=\"1723.5\" y=\"-132.3\" font-family=\"Helvetica,sans-Serif\" font-size=\"14.00\">gini = 0.0</text>\r\n",
       "<text text-anchor=\"start\" x=\"1713\" y=\"-117.3\" font-family=\"Helvetica,sans-Serif\" font-size=\"14.00\">samples = 6</text>\r\n",
       "<text text-anchor=\"start\" x=\"1712\" y=\"-102.3\" font-family=\"Helvetica,sans-Serif\" font-size=\"14.00\">value = [0, 6]</text>\r\n",
       "<text text-anchor=\"start\" x=\"1723\" y=\"-87.3\" font-family=\"Helvetica,sans-Serif\" font-size=\"14.00\">class = N</text>\r\n",
       "</g>\r\n",
       "<!-- 92&#45;&gt;93 -->\r\n",
       "<g id=\"edge43\" class=\"edge\"><title>92&#45;&gt;93</title>\r\n",
       "<path fill=\"none\" stroke=\"black\" d=\"M1786.22,-205.972C1781.82,-195.025 1777.14,-183.364 1772.71,-172.325\"/>\r\n",
       "<polygon fill=\"black\" stroke=\"black\" points=\"1775.86,-170.792 1768.89,-162.817 1769.37,-173.401 1775.86,-170.792\"/>\r\n",
       "</g>\r\n",
       "<!-- 94 -->\r\n",
       "<g id=\"node45\" class=\"node\"><title>94</title>\r\n",
       "<path fill=\"#399de5\" fill-opacity=\"0.639216\" stroke=\"black\" d=\"M2007.5,-170C2007.5,-170 1831.5,-170 1831.5,-170 1825.5,-170 1819.5,-164 1819.5,-158 1819.5,-158 1819.5,-84 1819.5,-84 1819.5,-78 1825.5,-72 1831.5,-72 1831.5,-72 2007.5,-72 2007.5,-72 2013.5,-72 2019.5,-78 2019.5,-84 2019.5,-84 2019.5,-158 2019.5,-158 2019.5,-164 2013.5,-170 2007.5,-170\"/>\r\n",
       "<text text-anchor=\"start\" x=\"1889\" y=\"-154.8\" font-family=\"Helvetica,sans-Serif\" font-size=\"14.00\">node #94</text>\r\n",
       "<text text-anchor=\"start\" x=\"1827.5\" y=\"-139.8\" font-family=\"Helvetica,sans-Serif\" font-size=\"14.00\">CoapplicantIncome ≤ 1757.5</text>\r\n",
       "<text text-anchor=\"start\" x=\"1882\" y=\"-124.8\" font-family=\"Helvetica,sans-Serif\" font-size=\"14.00\">gini = 0.389</text>\r\n",
       "<text text-anchor=\"start\" x=\"1876\" y=\"-109.8\" font-family=\"Helvetica,sans-Serif\" font-size=\"14.00\">samples = 34</text>\r\n",
       "<text text-anchor=\"start\" x=\"1875\" y=\"-94.8\" font-family=\"Helvetica,sans-Serif\" font-size=\"14.00\">value = [9, 25]</text>\r\n",
       "<text text-anchor=\"start\" x=\"1890\" y=\"-79.8\" font-family=\"Helvetica,sans-Serif\" font-size=\"14.00\">class = N</text>\r\n",
       "</g>\r\n",
       "<!-- 92&#45;&gt;94 -->\r\n",
       "<g id=\"edge44\" class=\"edge\"><title>92&#45;&gt;94</title>\r\n",
       "<path fill=\"none\" stroke=\"black\" d=\"M1846.98,-205.972C1854.84,-196.872 1863.12,-187.28 1871.17,-177.961\"/>\r\n",
       "<polygon fill=\"black\" stroke=\"black\" points=\"1873.97,-180.07 1877.86,-170.214 1868.68,-175.494 1873.97,-180.07\"/>\r\n",
       "</g>\r\n",
       "<!-- 95 -->\r\n",
       "<g id=\"node46\" class=\"node\"><title>95</title>\r\n",
       "<path fill=\"#c0c0c0\" stroke=\"black\" d=\"M1895.5,-36C1895.5,-36 1865.5,-36 1865.5,-36 1859.5,-36 1853.5,-30 1853.5,-24 1853.5,-24 1853.5,-12 1853.5,-12 1853.5,-6 1859.5,-0 1865.5,-0 1865.5,-0 1895.5,-0 1895.5,-0 1901.5,-0 1907.5,-6 1907.5,-12 1907.5,-12 1907.5,-24 1907.5,-24 1907.5,-30 1901.5,-36 1895.5,-36\"/>\r\n",
       "<text text-anchor=\"middle\" x=\"1880.5\" y=\"-14.3\" font-family=\"Helvetica,sans-Serif\" font-size=\"14.00\">(...)</text>\r\n",
       "</g>\r\n",
       "<!-- 94&#45;&gt;95 -->\r\n",
       "<g id=\"edge45\" class=\"edge\"><title>94&#45;&gt;95</title>\r\n",
       "<path fill=\"none\" stroke=\"black\" d=\"M1900.91,-71.8664C1897.44,-62.8639 1893.92,-53.7609 1890.81,-45.7051\"/>\r\n",
       "<polygon fill=\"black\" stroke=\"black\" points=\"1893.99,-44.2155 1887.12,-36.1476 1887.46,-46.737 1893.99,-44.2155\"/>\r\n",
       "</g>\r\n",
       "<!-- 108 -->\r\n",
       "<g id=\"node47\" class=\"node\"><title>108</title>\r\n",
       "<path fill=\"#c0c0c0\" stroke=\"black\" d=\"M1967.5,-36C1967.5,-36 1937.5,-36 1937.5,-36 1931.5,-36 1925.5,-30 1925.5,-24 1925.5,-24 1925.5,-12 1925.5,-12 1925.5,-6 1931.5,-0 1937.5,-0 1937.5,-0 1967.5,-0 1967.5,-0 1973.5,-0 1979.5,-6 1979.5,-12 1979.5,-12 1979.5,-24 1979.5,-24 1979.5,-30 1973.5,-36 1967.5,-36\"/>\r\n",
       "<text text-anchor=\"middle\" x=\"1952.5\" y=\"-14.3\" font-family=\"Helvetica,sans-Serif\" font-size=\"14.00\">(...)</text>\r\n",
       "</g>\r\n",
       "<!-- 94&#45;&gt;108 -->\r\n",
       "<g id=\"edge46\" class=\"edge\"><title>94&#45;&gt;108</title>\r\n",
       "<path fill=\"none\" stroke=\"black\" d=\"M1935.23,-71.8664C1938.17,-62.8639 1941.14,-53.7609 1943.77,-45.7051\"/>\r\n",
       "<polygon fill=\"black\" stroke=\"black\" points=\"1947.12,-46.7401 1946.9,-36.1476 1940.46,-44.566 1947.12,-46.7401\"/>\r\n",
       "</g>\r\n",
       "<!-- 111 -->\r\n",
       "<g id=\"node50\" class=\"node\"><title>111</title>\r\n",
       "<path fill=\"#399de5\" fill-opacity=\"0.952941\" stroke=\"black\" d=\"M2250.5,-304C2250.5,-304 2074.5,-304 2074.5,-304 2068.5,-304 2062.5,-298 2062.5,-292 2062.5,-292 2062.5,-218 2062.5,-218 2062.5,-212 2068.5,-206 2074.5,-206 2074.5,-206 2250.5,-206 2250.5,-206 2256.5,-206 2262.5,-212 2262.5,-218 2262.5,-218 2262.5,-292 2262.5,-292 2262.5,-298 2256.5,-304 2250.5,-304\"/>\r\n",
       "<text text-anchor=\"start\" x=\"2127.5\" y=\"-288.8\" font-family=\"Helvetica,sans-Serif\" font-size=\"14.00\">node #111</text>\r\n",
       "<text text-anchor=\"start\" x=\"2070.5\" y=\"-273.8\" font-family=\"Helvetica,sans-Serif\" font-size=\"14.00\">CoapplicantIncome ≤ 6160.0</text>\r\n",
       "<text text-anchor=\"start\" x=\"2125\" y=\"-258.8\" font-family=\"Helvetica,sans-Serif\" font-size=\"14.00\">gini = 0.083</text>\r\n",
       "<text text-anchor=\"start\" x=\"2119\" y=\"-243.8\" font-family=\"Helvetica,sans-Serif\" font-size=\"14.00\">samples = 69</text>\r\n",
       "<text text-anchor=\"start\" x=\"2118\" y=\"-228.8\" font-family=\"Helvetica,sans-Serif\" font-size=\"14.00\">value = [3, 66]</text>\r\n",
       "<text text-anchor=\"start\" x=\"2133\" y=\"-213.8\" font-family=\"Helvetica,sans-Serif\" font-size=\"14.00\">class = N</text>\r\n",
       "</g>\r\n",
       "<!-- 110&#45;&gt;111 -->\r\n",
       "<g id=\"edge49\" class=\"edge\"><title>110&#45;&gt;111</title>\r\n",
       "<path fill=\"none\" stroke=\"black\" d=\"M2162.5,-339.972C2162.5,-331.691 2162.5,-323.003 2162.5,-314.483\"/>\r\n",
       "<polygon fill=\"black\" stroke=\"black\" points=\"2166,-314.214 2162.5,-304.214 2159,-314.214 2166,-314.214\"/>\r\n",
       "</g>\r\n",
       "<!-- 126 -->\r\n",
       "<g id=\"node55\" class=\"node\"><title>126</title>\r\n",
       "<path fill=\"#399de5\" fill-opacity=\"0.600000\" stroke=\"black\" d=\"M2478.5,-304C2478.5,-304 2326.5,-304 2326.5,-304 2320.5,-304 2314.5,-298 2314.5,-292 2314.5,-292 2314.5,-218 2314.5,-218 2314.5,-212 2320.5,-206 2326.5,-206 2326.5,-206 2478.5,-206 2478.5,-206 2484.5,-206 2490.5,-212 2490.5,-218 2490.5,-218 2490.5,-292 2490.5,-292 2490.5,-298 2484.5,-304 2478.5,-304\"/>\r\n",
       "<text text-anchor=\"start\" x=\"2367.5\" y=\"-288.8\" font-family=\"Helvetica,sans-Serif\" font-size=\"14.00\">node #126</text>\r\n",
       "<text text-anchor=\"start\" x=\"2322.5\" y=\"-273.8\" font-family=\"Helvetica,sans-Serif\" font-size=\"14.00\">LoanAmount_log ≤ 5.555</text>\r\n",
       "<text text-anchor=\"start\" x=\"2365\" y=\"-258.8\" font-family=\"Helvetica,sans-Serif\" font-size=\"14.00\">gini = 0.408</text>\r\n",
       "<text text-anchor=\"start\" x=\"2363\" y=\"-243.8\" font-family=\"Helvetica,sans-Serif\" font-size=\"14.00\">samples = 7</text>\r\n",
       "<text text-anchor=\"start\" x=\"2362\" y=\"-228.8\" font-family=\"Helvetica,sans-Serif\" font-size=\"14.00\">value = [2, 5]</text>\r\n",
       "<text text-anchor=\"start\" x=\"2373\" y=\"-213.8\" font-family=\"Helvetica,sans-Serif\" font-size=\"14.00\">class = N</text>\r\n",
       "</g>\r\n",
       "<!-- 110&#45;&gt;126 -->\r\n",
       "<g id=\"edge54\" class=\"edge\"><title>110&#45;&gt;126</title>\r\n",
       "<path fill=\"none\" stroke=\"black\" d=\"M2249.82,-339.972C2268.11,-329.917 2287.48,-319.26 2306.07,-309.035\"/>\r\n",
       "<polygon fill=\"black\" stroke=\"black\" points=\"2307.76,-312.1 2314.84,-304.214 2304.39,-305.966 2307.76,-312.1\"/>\r\n",
       "</g>\r\n",
       "<!-- 112 -->\r\n",
       "<g id=\"node51\" class=\"node\"><title>112</title>\r\n",
       "<path fill=\"#399de5\" fill-opacity=\"0.968627\" stroke=\"black\" d=\"M2209,-170C2209,-170 2050,-170 2050,-170 2044,-170 2038,-164 2038,-158 2038,-158 2038,-84 2038,-84 2038,-78 2044,-72 2050,-72 2050,-72 2209,-72 2209,-72 2215,-72 2221,-78 2221,-84 2221,-84 2221,-158 2221,-158 2221,-164 2215,-170 2209,-170\"/>\r\n",
       "<text text-anchor=\"start\" x=\"2094.5\" y=\"-154.8\" font-family=\"Helvetica,sans-Serif\" font-size=\"14.00\">node #112</text>\r\n",
       "<text text-anchor=\"start\" x=\"2046\" y=\"-139.8\" font-family=\"Helvetica,sans-Serif\" font-size=\"14.00\">CoapplicantIncome ≤ 94.5</text>\r\n",
       "<text text-anchor=\"start\" x=\"2092\" y=\"-124.8\" font-family=\"Helvetica,sans-Serif\" font-size=\"14.00\">gini = 0.057</text>\r\n",
       "<text text-anchor=\"start\" x=\"2086\" y=\"-109.8\" font-family=\"Helvetica,sans-Serif\" font-size=\"14.00\">samples = 68</text>\r\n",
       "<text text-anchor=\"start\" x=\"2085\" y=\"-94.8\" font-family=\"Helvetica,sans-Serif\" font-size=\"14.00\">value = [2, 66]</text>\r\n",
       "<text text-anchor=\"start\" x=\"2100\" y=\"-79.8\" font-family=\"Helvetica,sans-Serif\" font-size=\"14.00\">class = N</text>\r\n",
       "</g>\r\n",
       "<!-- 111&#45;&gt;112 -->\r\n",
       "<g id=\"edge50\" class=\"edge\"><title>111&#45;&gt;112</title>\r\n",
       "<path fill=\"none\" stroke=\"black\" d=\"M2150.49,-205.972C2148.38,-197.509 2146.16,-188.62 2143.98,-179.922\"/>\r\n",
       "<polygon fill=\"black\" stroke=\"black\" points=\"2147.37,-179.066 2141.55,-170.214 2140.58,-180.764 2147.37,-179.066\"/>\r\n",
       "</g>\r\n",
       "<!-- 125 -->\r\n",
       "<g id=\"node54\" class=\"node\"><title>125</title>\r\n",
       "<path fill=\"#e58139\" stroke=\"black\" d=\"M2324,-162.5C2324,-162.5 2251,-162.5 2251,-162.5 2245,-162.5 2239,-156.5 2239,-150.5 2239,-150.5 2239,-91.5 2239,-91.5 2239,-85.5 2245,-79.5 2251,-79.5 2251,-79.5 2324,-79.5 2324,-79.5 2330,-79.5 2336,-85.5 2336,-91.5 2336,-91.5 2336,-150.5 2336,-150.5 2336,-156.5 2330,-162.5 2324,-162.5\"/>\r\n",
       "<text text-anchor=\"start\" x=\"2252.5\" y=\"-147.3\" font-family=\"Helvetica,sans-Serif\" font-size=\"14.00\">node #125</text>\r\n",
       "<text text-anchor=\"start\" x=\"2258.5\" y=\"-132.3\" font-family=\"Helvetica,sans-Serif\" font-size=\"14.00\">gini = 0.0</text>\r\n",
       "<text text-anchor=\"start\" x=\"2248\" y=\"-117.3\" font-family=\"Helvetica,sans-Serif\" font-size=\"14.00\">samples = 1</text>\r\n",
       "<text text-anchor=\"start\" x=\"2247\" y=\"-102.3\" font-family=\"Helvetica,sans-Serif\" font-size=\"14.00\">value = [1, 0]</text>\r\n",
       "<text text-anchor=\"start\" x=\"2258.5\" y=\"-87.3\" font-family=\"Helvetica,sans-Serif\" font-size=\"14.00\">class = Y</text>\r\n",
       "</g>\r\n",
       "<!-- 111&#45;&gt;125 -->\r\n",
       "<g id=\"edge53\" class=\"edge\"><title>111&#45;&gt;125</title>\r\n",
       "<path fill=\"none\" stroke=\"black\" d=\"M2207.98,-205.972C2218.98,-194.361 2230.73,-181.948 2241.74,-170.325\"/>\r\n",
       "<polygon fill=\"black\" stroke=\"black\" points=\"2244.51,-172.484 2248.85,-162.817 2239.43,-167.671 2244.51,-172.484\"/>\r\n",
       "</g>\r\n",
       "<!-- 113 -->\r\n",
       "<g id=\"node52\" class=\"node\"><title>113</title>\r\n",
       "<path fill=\"#c0c0c0\" stroke=\"black\" d=\"M2108.5,-36C2108.5,-36 2078.5,-36 2078.5,-36 2072.5,-36 2066.5,-30 2066.5,-24 2066.5,-24 2066.5,-12 2066.5,-12 2066.5,-6 2072.5,-0 2078.5,-0 2078.5,-0 2108.5,-0 2108.5,-0 2114.5,-0 2120.5,-6 2120.5,-12 2120.5,-12 2120.5,-24 2120.5,-24 2120.5,-30 2114.5,-36 2108.5,-36\"/>\r\n",
       "<text text-anchor=\"middle\" x=\"2093.5\" y=\"-14.3\" font-family=\"Helvetica,sans-Serif\" font-size=\"14.00\">(...)</text>\r\n",
       "</g>\r\n",
       "<!-- 112&#45;&gt;113 -->\r\n",
       "<g id=\"edge51\" class=\"edge\"><title>112&#45;&gt;113</title>\r\n",
       "<path fill=\"none\" stroke=\"black\" d=\"M2112.34,-71.8664C2109.13,-62.8639 2105.89,-53.7609 2103.02,-45.7051\"/>\r\n",
       "<polygon fill=\"black\" stroke=\"black\" points=\"2106.27,-44.392 2099.61,-36.1476 2099.67,-46.7422 2106.27,-44.392\"/>\r\n",
       "</g>\r\n",
       "<!-- 124 -->\r\n",
       "<g id=\"node53\" class=\"node\"><title>124</title>\r\n",
       "<path fill=\"#c0c0c0\" stroke=\"black\" d=\"M2180.5,-36C2180.5,-36 2150.5,-36 2150.5,-36 2144.5,-36 2138.5,-30 2138.5,-24 2138.5,-24 2138.5,-12 2138.5,-12 2138.5,-6 2144.5,-0 2150.5,-0 2150.5,-0 2180.5,-0 2180.5,-0 2186.5,-0 2192.5,-6 2192.5,-12 2192.5,-12 2192.5,-24 2192.5,-24 2192.5,-30 2186.5,-36 2180.5,-36\"/>\r\n",
       "<text text-anchor=\"middle\" x=\"2165.5\" y=\"-14.3\" font-family=\"Helvetica,sans-Serif\" font-size=\"14.00\">(...)</text>\r\n",
       "</g>\r\n",
       "<!-- 112&#45;&gt;124 -->\r\n",
       "<g id=\"edge52\" class=\"edge\"><title>112&#45;&gt;124</title>\r\n",
       "<path fill=\"none\" stroke=\"black\" d=\"M2146.66,-71.8664C2149.87,-62.8639 2153.11,-53.7609 2155.98,-45.7051\"/>\r\n",
       "<polygon fill=\"black\" stroke=\"black\" points=\"2159.33,-46.7422 2159.39,-36.1476 2152.73,-44.392 2159.33,-46.7422\"/>\r\n",
       "</g>\r\n",
       "<!-- 127 -->\r\n",
       "<g id=\"node56\" class=\"node\"><title>127</title>\r\n",
       "<path fill=\"#e58139\" stroke=\"black\" d=\"M2439,-162.5C2439,-162.5 2366,-162.5 2366,-162.5 2360,-162.5 2354,-156.5 2354,-150.5 2354,-150.5 2354,-91.5 2354,-91.5 2354,-85.5 2360,-79.5 2366,-79.5 2366,-79.5 2439,-79.5 2439,-79.5 2445,-79.5 2451,-85.5 2451,-91.5 2451,-91.5 2451,-150.5 2451,-150.5 2451,-156.5 2445,-162.5 2439,-162.5\"/>\r\n",
       "<text text-anchor=\"start\" x=\"2367.5\" y=\"-147.3\" font-family=\"Helvetica,sans-Serif\" font-size=\"14.00\">node #127</text>\r\n",
       "<text text-anchor=\"start\" x=\"2373.5\" y=\"-132.3\" font-family=\"Helvetica,sans-Serif\" font-size=\"14.00\">gini = 0.0</text>\r\n",
       "<text text-anchor=\"start\" x=\"2363\" y=\"-117.3\" font-family=\"Helvetica,sans-Serif\" font-size=\"14.00\">samples = 1</text>\r\n",
       "<text text-anchor=\"start\" x=\"2362\" y=\"-102.3\" font-family=\"Helvetica,sans-Serif\" font-size=\"14.00\">value = [1, 0]</text>\r\n",
       "<text text-anchor=\"start\" x=\"2373.5\" y=\"-87.3\" font-family=\"Helvetica,sans-Serif\" font-size=\"14.00\">class = Y</text>\r\n",
       "</g>\r\n",
       "<!-- 126&#45;&gt;127 -->\r\n",
       "<g id=\"edge55\" class=\"edge\"><title>126&#45;&gt;127</title>\r\n",
       "<path fill=\"none\" stroke=\"black\" d=\"M2402.5,-205.972C2402.5,-195.246 2402.5,-183.835 2402.5,-172.994\"/>\r\n",
       "<polygon fill=\"black\" stroke=\"black\" points=\"2406,-172.817 2402.5,-162.817 2399,-172.817 2406,-172.817\"/>\r\n",
       "</g>\r\n",
       "<!-- 128 -->\r\n",
       "<g id=\"node57\" class=\"node\"><title>128</title>\r\n",
       "<path fill=\"#399de5\" fill-opacity=\"0.800000\" stroke=\"black\" d=\"M2633.5,-170C2633.5,-170 2481.5,-170 2481.5,-170 2475.5,-170 2469.5,-164 2469.5,-158 2469.5,-158 2469.5,-84 2469.5,-84 2469.5,-78 2475.5,-72 2481.5,-72 2481.5,-72 2633.5,-72 2633.5,-72 2639.5,-72 2645.5,-78 2645.5,-84 2645.5,-84 2645.5,-158 2645.5,-158 2645.5,-164 2639.5,-170 2633.5,-170\"/>\r\n",
       "<text text-anchor=\"start\" x=\"2522.5\" y=\"-154.8\" font-family=\"Helvetica,sans-Serif\" font-size=\"14.00\">node #128</text>\r\n",
       "<text text-anchor=\"start\" x=\"2477.5\" y=\"-139.8\" font-family=\"Helvetica,sans-Serif\" font-size=\"14.00\">LoanAmount_log ≤ 5.596</text>\r\n",
       "<text text-anchor=\"start\" x=\"2520\" y=\"-124.8\" font-family=\"Helvetica,sans-Serif\" font-size=\"14.00\">gini = 0.278</text>\r\n",
       "<text text-anchor=\"start\" x=\"2518\" y=\"-109.8\" font-family=\"Helvetica,sans-Serif\" font-size=\"14.00\">samples = 6</text>\r\n",
       "<text text-anchor=\"start\" x=\"2517\" y=\"-94.8\" font-family=\"Helvetica,sans-Serif\" font-size=\"14.00\">value = [1, 5]</text>\r\n",
       "<text text-anchor=\"start\" x=\"2528\" y=\"-79.8\" font-family=\"Helvetica,sans-Serif\" font-size=\"14.00\">class = N</text>\r\n",
       "</g>\r\n",
       "<!-- 126&#45;&gt;128 -->\r\n",
       "<g id=\"edge56\" class=\"edge\"><title>126&#45;&gt;128</title>\r\n",
       "<path fill=\"none\" stroke=\"black\" d=\"M2458.9,-205.972C2470.01,-196.508 2481.75,-186.512 2493.1,-176.844\"/>\r\n",
       "<polygon fill=\"black\" stroke=\"black\" points=\"2495.54,-179.362 2500.89,-170.214 2491,-174.033 2495.54,-179.362\"/>\r\n",
       "</g>\r\n",
       "<!-- 129 -->\r\n",
       "<g id=\"node58\" class=\"node\"><title>129</title>\r\n",
       "<path fill=\"#c0c0c0\" stroke=\"black\" d=\"M2536.5,-36C2536.5,-36 2506.5,-36 2506.5,-36 2500.5,-36 2494.5,-30 2494.5,-24 2494.5,-24 2494.5,-12 2494.5,-12 2494.5,-6 2500.5,-0 2506.5,-0 2506.5,-0 2536.5,-0 2536.5,-0 2542.5,-0 2548.5,-6 2548.5,-12 2548.5,-12 2548.5,-24 2548.5,-24 2548.5,-30 2542.5,-36 2536.5,-36\"/>\r\n",
       "<text text-anchor=\"middle\" x=\"2521.5\" y=\"-14.3\" font-family=\"Helvetica,sans-Serif\" font-size=\"14.00\">(...)</text>\r\n",
       "</g>\r\n",
       "<!-- 128&#45;&gt;129 -->\r\n",
       "<g id=\"edge57\" class=\"edge\"><title>128&#45;&gt;129</title>\r\n",
       "<path fill=\"none\" stroke=\"black\" d=\"M2540.34,-71.8664C2537.13,-62.8639 2533.89,-53.7609 2531.02,-45.7051\"/>\r\n",
       "<polygon fill=\"black\" stroke=\"black\" points=\"2534.27,-44.392 2527.61,-36.1476 2527.67,-46.7422 2534.27,-44.392\"/>\r\n",
       "</g>\r\n",
       "<!-- 132 -->\r\n",
       "<g id=\"node59\" class=\"node\"><title>132</title>\r\n",
       "<path fill=\"#c0c0c0\" stroke=\"black\" d=\"M2608.5,-36C2608.5,-36 2578.5,-36 2578.5,-36 2572.5,-36 2566.5,-30 2566.5,-24 2566.5,-24 2566.5,-12 2566.5,-12 2566.5,-6 2572.5,-0 2578.5,-0 2578.5,-0 2608.5,-0 2608.5,-0 2614.5,-0 2620.5,-6 2620.5,-12 2620.5,-12 2620.5,-24 2620.5,-24 2620.5,-30 2614.5,-36 2608.5,-36\"/>\r\n",
       "<text text-anchor=\"middle\" x=\"2593.5\" y=\"-14.3\" font-family=\"Helvetica,sans-Serif\" font-size=\"14.00\">(...)</text>\r\n",
       "</g>\r\n",
       "<!-- 128&#45;&gt;132 -->\r\n",
       "<g id=\"edge58\" class=\"edge\"><title>128&#45;&gt;132</title>\r\n",
       "<path fill=\"none\" stroke=\"black\" d=\"M2574.66,-71.8664C2577.87,-62.8639 2581.11,-53.7609 2583.98,-45.7051\"/>\r\n",
       "<polygon fill=\"black\" stroke=\"black\" points=\"2587.33,-46.7422 2587.39,-36.1476 2580.73,-44.392 2587.33,-46.7422\"/>\r\n",
       "</g>\r\n",
       "</g>\r\n",
       "</svg>\r\n"
      ],
      "text/plain": [
       "<graphviz.files.Source at 0x2723de37fd0>"
      ]
     },
     "execution_count": 821,
     "metadata": {},
     "output_type": "execute_result"
    }
   ],
   "source": [
    "dot_data = tree.export_graphviz(DecTree, out_file=None, feature_names=chosen_cols,class_names=target['Loan_Status'], filled=True,\n",
    "                                rounded=True,special_characters=True, label='all', max_depth=5,node_ids=True, rotate=False)  \n",
    "graph = graphviz.Source(dot_data)  \n",
    "graph "
   ]
  },
  {
   "cell_type": "code",
   "execution_count": 822,
   "metadata": {},
   "outputs": [
    {
     "data": {
      "text/plain": [
       "'DecTree_Model.pdf'"
      ]
     },
     "execution_count": 822,
     "metadata": {},
     "output_type": "execute_result"
    }
   ],
   "source": [
    "dot_data = tree.export_graphviz(DecTree, out_file=None, feature_names=chosen_cols,class_names=target['Loan_Status'], filled=True,\n",
    "                                rounded=True,special_characters=True, label='all', max_depth=5,node_ids=True, rotate=False) \n",
    "graph = graphviz.Source(dot_data) \n",
    "graph.render(\"DecTree_Model\") "
   ]
  },
  {
   "cell_type": "code",
   "execution_count": 823,
   "metadata": {},
   "outputs": [],
   "source": [
    "from sklearn.neighbors import KNeighborsClassifier"
   ]
  },
  {
   "cell_type": "code",
   "execution_count": 824,
   "metadata": {},
   "outputs": [],
   "source": [
    "knn = KNeighborsClassifier(n_neighbors =5)"
   ]
  },
  {
   "cell_type": "code",
   "execution_count": 825,
   "metadata": {
    "scrolled": true
   },
   "outputs": [
    {
     "data": {
      "text/plain": [
       "KNeighborsClassifier(algorithm='auto', leaf_size=30, metric='minkowski',\n",
       "           metric_params=None, n_jobs=1, n_neighbors=5, p=2,\n",
       "           weights='uniform')"
      ]
     },
     "execution_count": 825,
     "metadata": {},
     "output_type": "execute_result"
    }
   ],
   "source": [
    "knn.fit(X_train,y_train.values)"
   ]
  },
  {
   "cell_type": "code",
   "execution_count": 826,
   "metadata": {},
   "outputs": [],
   "source": [
    "KNN_pred = knn.predict(X_test)"
   ]
  },
  {
   "cell_type": "code",
   "execution_count": 827,
   "metadata": {},
   "outputs": [
    {
     "data": {
      "text/plain": [
       "0.6544715447154471"
      ]
     },
     "execution_count": 827,
     "metadata": {},
     "output_type": "execute_result"
    }
   ],
   "source": [
    "accuracy_score(y_test,KNN_pred)"
   ]
  },
  {
   "cell_type": "code",
   "execution_count": 828,
   "metadata": {},
   "outputs": [
    {
     "data": {
      "text/html": [
       "<div>\n",
       "<style scoped>\n",
       "    .dataframe tbody tr th:only-of-type {\n",
       "        vertical-align: middle;\n",
       "    }\n",
       "\n",
       "    .dataframe tbody tr th {\n",
       "        vertical-align: top;\n",
       "    }\n",
       "\n",
       "    .dataframe thead th {\n",
       "        text-align: right;\n",
       "    }\n",
       "</style>\n",
       "<table border=\"1\" class=\"dataframe\">\n",
       "  <thead>\n",
       "    <tr style=\"text-align: right;\">\n",
       "      <th>Predicted</th>\n",
       "      <th>N</th>\n",
       "      <th>Y</th>\n",
       "    </tr>\n",
       "    <tr>\n",
       "      <th>Actual</th>\n",
       "      <th></th>\n",
       "      <th></th>\n",
       "    </tr>\n",
       "  </thead>\n",
       "  <tbody>\n",
       "    <tr>\n",
       "      <th>N</th>\n",
       "      <td>17</td>\n",
       "      <td>68</td>\n",
       "    </tr>\n",
       "    <tr>\n",
       "      <th>Y</th>\n",
       "      <td>17</td>\n",
       "      <td>144</td>\n",
       "    </tr>\n",
       "  </tbody>\n",
       "</table>\n",
       "</div>"
      ],
      "text/plain": [
       "Predicted   N    Y\n",
       "Actual            \n",
       "N          17   68\n",
       "Y          17  144"
      ]
     },
     "execution_count": 828,
     "metadata": {},
     "output_type": "execute_result"
    }
   ],
   "source": [
    "pd.crosstab(y_test,KNN_pred, rownames = ['Actual'], colnames = ['Predicted'])"
   ]
  },
  {
   "cell_type": "code",
   "execution_count": 829,
   "metadata": {},
   "outputs": [
    {
     "name": "stdout",
     "output_type": "stream",
     "text": [
      "KNN :  0.6544715447154471\n",
      "Decision Tree:  0.7276422764227642\n",
      "Log_Reg:  0.7967479674796748\n",
      "R_Forest:  0.7560975609756098\n"
     ]
    }
   ],
   "source": [
    "print('KNN : ',accuracy_score(y_test,KNN_pred)  )\n",
    "print('Decision Tree: ', accuracy_score(y_test,DecTree_pred))\n",
    "print('Log_Reg: ', accuracy_score(y_test,logReg_predict))\n",
    "print('R_Forest: ',accuracy_score(y_test,y_pred_RF))"
   ]
  },
  {
   "cell_type": "markdown",
   "metadata": {},
   "source": [
    "# CROSS VALIDATION "
   ]
  },
  {
   "cell_type": "code",
   "execution_count": 888,
   "metadata": {},
   "outputs": [],
   "source": [
    "validation_size = 0.40\n",
    "seed = 7\n",
    "scoring = 'accuracy'"
   ]
  },
  {
   "cell_type": "code",
   "execution_count": 889,
   "metadata": {},
   "outputs": [],
   "source": [
    "X_train, X_validation, Y_train, Y_validation = model_selection.train_test_split(X, y, test_size=validation_size, \n",
    "                                                                                random_state=seed)\n"
   ]
  },
  {
   "cell_type": "code",
   "execution_count": 890,
   "metadata": {},
   "outputs": [],
   "source": [
    "models = []\n",
    "models.append(('LR_cv', LogisticRegression()))\n",
    "models.append(('KNN_cv', KNeighborsClassifier()))\n",
    "models.append(('RF_cv', RandomForestClassifier()))\n",
    "models.append(('DT_cv', DecisionTreeClassifier()))"
   ]
  },
  {
   "cell_type": "code",
   "execution_count": null,
   "metadata": {},
   "outputs": [],
   "source": []
  },
  {
   "cell_type": "code",
   "execution_count": 891,
   "metadata": {},
   "outputs": [
    {
     "name": "stdout",
     "output_type": "stream",
     "text": [
      "LR_cv: 0.815315 (0.061169)\n",
      "KNN_cv: 0.706381 (0.062169)\n",
      "RF_cv: 0.722598 (0.049433)\n",
      "DT_cv: 0.700751 (0.064581)\n"
     ]
    }
   ],
   "source": [
    "results = []\n",
    "names = []\n",
    "for name, model in models:\n",
    "       \n",
    "    kfold = model_selection.KFold(n_splits=10, random_state=seed)\n",
    "\n",
    "    cv_results = model_selection.cross_val_score(model, X_train, Y_train, cv=kfold, scoring=scoring)\n",
    "    results.append(cv_results)\n",
    "    names.append(name)\n",
    "    msg = \"%s: %f (%f)\" % (name, cv_results.mean(), cv_results.std())\n",
    "    print(msg)"
   ]
  },
  {
   "cell_type": "code",
   "execution_count": 892,
   "metadata": {},
   "outputs": [
    {
     "name": "stdout",
     "output_type": "stream",
     "text": [
      "0.8089430894308943\n",
      "[[ 35  45]\n",
      " [  2 164]]\n",
      "             precision    recall  f1-score   support\n",
      "\n",
      "          N       0.95      0.44      0.60        80\n",
      "          Y       0.78      0.99      0.87       166\n",
      "\n",
      "avg / total       0.84      0.81      0.78       246\n",
      "\n"
     ]
    }
   ],
   "source": [
    "LR_cv = LogisticRegression()\n",
    "LR_cv.fit(X_train, Y_train)\n",
    "\n",
    "LR_cv_pred = LR_cv.predict(X_validation)\n",
    "print(accuracy_score(Y_validation, LR_cv_pred))\n",
    "print(confusion_matrix(Y_validation, LR_cv_pred))\n",
    "print(classification_report(Y_validation, LR_cv_pred))"
   ]
  },
  {
   "cell_type": "code",
   "execution_count": 893,
   "metadata": {},
   "outputs": [],
   "source": [
    "# print( LR_cv.predict_proba(X_validation))"
   ]
  },
  {
   "cell_type": "code",
   "execution_count": 894,
   "metadata": {},
   "outputs": [
    {
     "data": {
      "text/html": [
       "<div>\n",
       "<style scoped>\n",
       "    .dataframe tbody tr th:only-of-type {\n",
       "        vertical-align: middle;\n",
       "    }\n",
       "\n",
       "    .dataframe tbody tr th {\n",
       "        vertical-align: top;\n",
       "    }\n",
       "\n",
       "    .dataframe thead th {\n",
       "        text-align: right;\n",
       "    }\n",
       "</style>\n",
       "<table border=\"1\" class=\"dataframe\">\n",
       "  <thead>\n",
       "    <tr style=\"text-align: right;\">\n",
       "      <th>Predicted</th>\n",
       "      <th>N</th>\n",
       "      <th>Y</th>\n",
       "    </tr>\n",
       "    <tr>\n",
       "      <th>Actual</th>\n",
       "      <th></th>\n",
       "      <th></th>\n",
       "    </tr>\n",
       "  </thead>\n",
       "  <tbody>\n",
       "    <tr>\n",
       "      <th>N</th>\n",
       "      <td>35</td>\n",
       "      <td>45</td>\n",
       "    </tr>\n",
       "    <tr>\n",
       "      <th>Y</th>\n",
       "      <td>2</td>\n",
       "      <td>164</td>\n",
       "    </tr>\n",
       "  </tbody>\n",
       "</table>\n",
       "</div>"
      ],
      "text/plain": [
       "Predicted   N    Y\n",
       "Actual            \n",
       "N          35   45\n",
       "Y           2  164"
      ]
     },
     "execution_count": 894,
     "metadata": {},
     "output_type": "execute_result"
    }
   ],
   "source": [
    "pd.crosstab(Y_validation,LR_cv_pred, rownames = ['Actual'], colnames = ['Predicted'])"
   ]
  },
  {
   "cell_type": "code",
   "execution_count": 895,
   "metadata": {},
   "outputs": [
    {
     "data": {
      "image/png": "[encoded data removed]",
      "text/plain": [
       "<Figure size 864x576 with 2 Axes>"
      ]
     },
     "metadata": {},
     "output_type": "display_data"
    }
   ],
   "source": [
    "conf_m = confusion_matrix(Y_validation, LR_cv_pred)\n",
    "cf_mat_p = conf_m/conf_m.sum()\n",
    "\n",
    "plt.figure(figsize=(12,8))\n",
    "sns.heatmap(cf_mat_p, annot=True, linewidths=.5, cmap=cm.summer,xticklabels=['No','Yes'], yticklabels=['No','Yes'])\n",
    "plt.ylabel('Actual')\n",
    "plt.xlabel('Predicted label')\n",
    "plt.title(\"Normalized Confusion Matrix\")\n",
    "plt.show()"
   ]
  },
  {
   "cell_type": "code",
   "execution_count": null,
   "metadata": {},
   "outputs": [],
   "source": []
  },
  {
   "cell_type": "code",
   "execution_count": 896,
   "metadata": {},
   "outputs": [
    {
     "name": "stdout",
     "output_type": "stream",
     "text": [
      "0.7073170731707317\n",
      "[[ 46  34]\n",
      " [ 38 128]]\n",
      "             precision    recall  f1-score   support\n",
      "\n",
      "          N       0.55      0.57      0.56        80\n",
      "          Y       0.79      0.77      0.78       166\n",
      "\n",
      "avg / total       0.71      0.71      0.71       246\n",
      "\n"
     ]
    }
   ],
   "source": [
    "RF_cv = RandomForestClassifier()\n",
    "RF_cv.fit(X_train, Y_train)\n",
    "\n",
    "RF_cv_pred = RF_cv.predict(X_validation)\n",
    "print(accuracy_score(Y_validation, RF_cv_pred))\n",
    "print(confusion_matrix(Y_validation, RF_cv_pred))\n",
    "print(classification_report(Y_validation, RF_cv_pred))"
   ]
  },
  {
   "cell_type": "code",
   "execution_count": 897,
   "metadata": {},
   "outputs": [
    {
     "data": {
      "text/html": [
       "<div>\n",
       "<style scoped>\n",
       "    .dataframe tbody tr th:only-of-type {\n",
       "        vertical-align: middle;\n",
       "    }\n",
       "\n",
       "    .dataframe tbody tr th {\n",
       "        vertical-align: top;\n",
       "    }\n",
       "\n",
       "    .dataframe thead th {\n",
       "        text-align: right;\n",
       "    }\n",
       "</style>\n",
       "<table border=\"1\" class=\"dataframe\">\n",
       "  <thead>\n",
       "    <tr style=\"text-align: right;\">\n",
       "      <th>Predicted</th>\n",
       "      <th>N</th>\n",
       "      <th>Y</th>\n",
       "    </tr>\n",
       "    <tr>\n",
       "      <th>Actual</th>\n",
       "      <th></th>\n",
       "      <th></th>\n",
       "    </tr>\n",
       "  </thead>\n",
       "  <tbody>\n",
       "    <tr>\n",
       "      <th>N</th>\n",
       "      <td>46</td>\n",
       "      <td>34</td>\n",
       "    </tr>\n",
       "    <tr>\n",
       "      <th>Y</th>\n",
       "      <td>38</td>\n",
       "      <td>128</td>\n",
       "    </tr>\n",
       "  </tbody>\n",
       "</table>\n",
       "</div>"
      ],
      "text/plain": [
       "Predicted   N    Y\n",
       "Actual            \n",
       "N          46   34\n",
       "Y          38  128"
      ]
     },
     "execution_count": 897,
     "metadata": {},
     "output_type": "execute_result"
    }
   ],
   "source": [
    "pd.crosstab(Y_validation,RF_cv_pred, rownames = ['Actual'], colnames = ['Predicted'])"
   ]
  },
  {
   "cell_type": "code",
   "execution_count": 898,
   "metadata": {},
   "outputs": [
    {
     "data": {
      "image/png": "[encoded data removed]",
      "text/plain": [
       "<Figure size 864x576 with 2 Axes>"
      ]
     },
     "metadata": {},
     "output_type": "display_data"
    }
   ],
   "source": [
    "conf_m = confusion_matrix(Y_validation, RF_cv_pred)\n",
    "cf_mat_p = conf_m/conf_m.sum()\n",
    "\n",
    "plt.figure(figsize=(12,8))\n",
    "sns.heatmap(cf_mat_p, annot=True, linewidths=.5, cmap=cm.summer,xticklabels=['No','Yes'], yticklabels=['No','Yes'])\n",
    "plt.ylabel('Actual')\n",
    "plt.xlabel('Predicted label')\n",
    "plt.title(\"Normalized Confusion Matrix\")\n",
    "plt.show()"
   ]
  },
  {
   "cell_type": "code",
   "execution_count": null,
   "metadata": {},
   "outputs": [],
   "source": []
  },
  {
   "cell_type": "markdown",
   "metadata": {},
   "source": [
    "# Using the Best Model (Logistic Regression) to Predict New Applicant Data"
   ]
  },
  {
   "cell_type": "code",
   "execution_count": 899,
   "metadata": {},
   "outputs": [],
   "source": [
    "testData = pd.read_csv('New Loan Applicants.csv')"
   ]
  },
  {
   "cell_type": "code",
   "execution_count": 900,
   "metadata": {},
   "outputs": [
    {
     "data": {
      "text/html": [
       "<div>\n",
       "<style scoped>\n",
       "    .dataframe tbody tr th:only-of-type {\n",
       "        vertical-align: middle;\n",
       "    }\n",
       "\n",
       "    .dataframe tbody tr th {\n",
       "        vertical-align: top;\n",
       "    }\n",
       "\n",
       "    .dataframe thead th {\n",
       "        text-align: right;\n",
       "    }\n",
       "</style>\n",
       "<table border=\"1\" class=\"dataframe\">\n",
       "  <thead>\n",
       "    <tr style=\"text-align: right;\">\n",
       "      <th></th>\n",
       "      <th>Loan_ID</th>\n",
       "      <th>Gender</th>\n",
       "      <th>Married</th>\n",
       "      <th>Dependents</th>\n",
       "      <th>Education</th>\n",
       "      <th>Self_Employed</th>\n",
       "      <th>ApplicantIncome</th>\n",
       "      <th>CoapplicantIncome</th>\n",
       "      <th>LoanAmount</th>\n",
       "      <th>Loan_Amount_Term</th>\n",
       "      <th>Credit_History</th>\n",
       "      <th>Property_Area</th>\n",
       "    </tr>\n",
       "  </thead>\n",
       "  <tbody>\n",
       "    <tr>\n",
       "      <th>0</th>\n",
       "      <td>LP001015</td>\n",
       "      <td>Male</td>\n",
       "      <td>Yes</td>\n",
       "      <td>0</td>\n",
       "      <td>Graduate</td>\n",
       "      <td>No</td>\n",
       "      <td>5720</td>\n",
       "      <td>0</td>\n",
       "      <td>110.0</td>\n",
       "      <td>360.0</td>\n",
       "      <td>1.0</td>\n",
       "      <td>Urban</td>\n",
       "    </tr>\n",
       "    <tr>\n",
       "      <th>1</th>\n",
       "      <td>LP001022</td>\n",
       "      <td>Male</td>\n",
       "      <td>Yes</td>\n",
       "      <td>1</td>\n",
       "      <td>Graduate</td>\n",
       "      <td>No</td>\n",
       "      <td>3076</td>\n",
       "      <td>1500</td>\n",
       "      <td>126.0</td>\n",
       "      <td>360.0</td>\n",
       "      <td>1.0</td>\n",
       "      <td>Urban</td>\n",
       "    </tr>\n",
       "  </tbody>\n",
       "</table>\n",
       "</div>"
      ],
      "text/plain": [
       "    Loan_ID Gender Married Dependents Education Self_Employed  \\\n",
       "0  LP001015   Male     Yes          0  Graduate            No   \n",
       "1  LP001022   Male     Yes          1  Graduate            No   \n",
       "\n",
       "   ApplicantIncome  CoapplicantIncome  LoanAmount  Loan_Amount_Term  \\\n",
       "0             5720                  0       110.0             360.0   \n",
       "1             3076               1500       126.0             360.0   \n",
       "\n",
       "   Credit_History Property_Area  \n",
       "0             1.0         Urban  \n",
       "1             1.0         Urban  "
      ]
     },
     "execution_count": 900,
     "metadata": {},
     "output_type": "execute_result"
    }
   ],
   "source": [
    "testData.head(2)"
   ]
  },
  {
   "cell_type": "code",
   "execution_count": 901,
   "metadata": {},
   "outputs": [
    {
     "data": {
      "text/plain": [
       "Loan_ID               0\n",
       "Gender               11\n",
       "Married               0\n",
       "Dependents           10\n",
       "Education             0\n",
       "Self_Employed        23\n",
       "ApplicantIncome       0\n",
       "CoapplicantIncome     0\n",
       "LoanAmount            5\n",
       "Loan_Amount_Term      6\n",
       "Credit_History       29\n",
       "Property_Area         0\n",
       "dtype: int64"
      ]
     },
     "execution_count": 901,
     "metadata": {},
     "output_type": "execute_result"
    }
   ],
   "source": [
    "testData.isnull().sum()"
   ]
  },
  {
   "cell_type": "code",
   "execution_count": 902,
   "metadata": {},
   "outputs": [
    {
     "data": {
      "text/plain": [
       "0"
      ]
     },
     "execution_count": 902,
     "metadata": {},
     "output_type": "execute_result"
    }
   ],
   "source": [
    "testData.Gender.fillna(\"Male\",inplace =True)\n",
    "testData.Gender.isnull().sum()"
   ]
  },
  {
   "cell_type": "code",
   "execution_count": 903,
   "metadata": {},
   "outputs": [],
   "source": [
    "testData.Married.fillna(\"Yes\",inplace=True)\n",
    "testData.Credit_History.fillna(1.0,inplace=True)\n",
    "testData.LoanAmount.fillna(testData.LoanAmount.mean(),inplace=True)\n",
    "testData.Loan_Amount_Term.fillna(testData.Loan_Amount_Term.mean(),inplace=True)\n",
    "testData.Self_Employed.fillna(\"No\",inplace=True)\n",
    "testData.Dependents.fillna(0,inplace=True)"
   ]
  },
  {
   "cell_type": "code",
   "execution_count": 904,
   "metadata": {},
   "outputs": [],
   "source": [
    "testDataNew = pd.get_dummies(testData, columns = ['Gender', 'Married', 'Dependents',\n",
    "                                    'Education', 'Self_Employed', 'Property_Area'], drop_first= True)"
   ]
  },
  {
   "cell_type": "code",
   "execution_count": 905,
   "metadata": {},
   "outputs": [],
   "source": [
    "testDataNew['LoanAmount_log10'] = np.log10(testDataNew['LoanAmount'])"
   ]
  },
  {
   "cell_type": "code",
   "execution_count": 906,
   "metadata": {},
   "outputs": [
    {
     "data": {
      "text/html": [
       "<div>\n",
       "<style scoped>\n",
       "    .dataframe tbody tr th:only-of-type {\n",
       "        vertical-align: middle;\n",
       "    }\n",
       "\n",
       "    .dataframe tbody tr th {\n",
       "        vertical-align: top;\n",
       "    }\n",
       "\n",
       "    .dataframe thead th {\n",
       "        text-align: right;\n",
       "    }\n",
       "</style>\n",
       "<table border=\"1\" class=\"dataframe\">\n",
       "  <thead>\n",
       "    <tr style=\"text-align: right;\">\n",
       "      <th></th>\n",
       "      <th>Loan_ID</th>\n",
       "      <th>ApplicantIncome</th>\n",
       "      <th>CoapplicantIncome</th>\n",
       "      <th>LoanAmount</th>\n",
       "      <th>Loan_Amount_Term</th>\n",
       "      <th>Credit_History</th>\n",
       "      <th>Gender_Male</th>\n",
       "      <th>Married_Yes</th>\n",
       "      <th>Dependents_0</th>\n",
       "      <th>Dependents_1</th>\n",
       "      <th>Dependents_2</th>\n",
       "      <th>Dependents_3+</th>\n",
       "      <th>Education_Not Graduate</th>\n",
       "      <th>Self_Employed_Yes</th>\n",
       "      <th>Property_Area_Semiurban</th>\n",
       "      <th>Property_Area_Urban</th>\n",
       "      <th>LoanAmount_log10</th>\n",
       "    </tr>\n",
       "  </thead>\n",
       "  <tbody>\n",
       "    <tr>\n",
       "      <th>0</th>\n",
       "      <td>LP001015</td>\n",
       "      <td>5720</td>\n",
       "      <td>0</td>\n",
       "      <td>110.0</td>\n",
       "      <td>360.0</td>\n",
       "      <td>1.0</td>\n",
       "      <td>1</td>\n",
       "      <td>1</td>\n",
       "      <td>1</td>\n",
       "      <td>0</td>\n",
       "      <td>0</td>\n",
       "      <td>0</td>\n",
       "      <td>0</td>\n",
       "      <td>0</td>\n",
       "      <td>0</td>\n",
       "      <td>1</td>\n",
       "      <td>2.041393</td>\n",
       "    </tr>\n",
       "    <tr>\n",
       "      <th>1</th>\n",
       "      <td>LP001022</td>\n",
       "      <td>3076</td>\n",
       "      <td>1500</td>\n",
       "      <td>126.0</td>\n",
       "      <td>360.0</td>\n",
       "      <td>1.0</td>\n",
       "      <td>1</td>\n",
       "      <td>1</td>\n",
       "      <td>0</td>\n",
       "      <td>1</td>\n",
       "      <td>0</td>\n",
       "      <td>0</td>\n",
       "      <td>0</td>\n",
       "      <td>0</td>\n",
       "      <td>0</td>\n",
       "      <td>1</td>\n",
       "      <td>2.100371</td>\n",
       "    </tr>\n",
       "  </tbody>\n",
       "</table>\n",
       "</div>"
      ],
      "text/plain": [
       "    Loan_ID  ApplicantIncome  CoapplicantIncome  LoanAmount  Loan_Amount_Term  \\\n",
       "0  LP001015             5720                  0       110.0             360.0   \n",
       "1  LP001022             3076               1500       126.0             360.0   \n",
       "\n",
       "   Credit_History  Gender_Male  Married_Yes  Dependents_0  Dependents_1  \\\n",
       "0             1.0            1            1             1             0   \n",
       "1             1.0            1            1             0             1   \n",
       "\n",
       "   Dependents_2  Dependents_3+  Education_Not Graduate  Self_Employed_Yes  \\\n",
       "0             0              0                       0                  0   \n",
       "1             0              0                       0                  0   \n",
       "\n",
       "   Property_Area_Semiurban  Property_Area_Urban  LoanAmount_log10  \n",
       "0                        0                    1          2.041393  \n",
       "1                        0                    1          2.100371  "
      ]
     },
     "execution_count": 906,
     "metadata": {},
     "output_type": "execute_result"
    }
   ],
   "source": [
    "testDataNew.head(2)"
   ]
  },
  {
   "cell_type": "code",
   "execution_count": 907,
   "metadata": {},
   "outputs": [
    {
     "data": {
      "text/plain": [
       "Index(['Loan_ID', 'ApplicantIncome', 'CoapplicantIncome', 'LoanAmount',\n",
       "       'Loan_Amount_Term', 'Credit_History', 'Gender_Male', 'Married_Yes',\n",
       "       'Dependents_0', 'Dependents_1', 'Dependents_2', 'Dependents_3+',\n",
       "       'Education_Not Graduate', 'Self_Employed_Yes',\n",
       "       'Property_Area_Semiurban', 'Property_Area_Urban', 'LoanAmount_log10'],\n",
       "      dtype='object')"
      ]
     },
     "execution_count": 907,
     "metadata": {},
     "output_type": "execute_result"
    }
   ],
   "source": [
    "testDataNew.columns"
   ]
  },
  {
   "cell_type": "code",
   "execution_count": 908,
   "metadata": {},
   "outputs": [],
   "source": [
    "feature_columns = ['CoapplicantIncome',\n",
    " 'Credit_History',\n",
    " 'LoanAmount_log10',\n",
    " 'Married_Yes',\n",
    " 'Dependents_2',\n",
    " 'Education_Not Graduate',\n",
    " 'Property_Area_Semiurban',\n",
    " 'Property_Area_Urban']"
   ]
  },
  {
   "cell_type": "code",
   "execution_count": 909,
   "metadata": {},
   "outputs": [
    {
     "data": {
      "text/plain": [
       "['CoapplicantIncome',\n",
       " 'Credit_History',\n",
       " 'LoanAmount_log10',\n",
       " 'Married_Yes',\n",
       " 'Dependents_2',\n",
       " 'Education_Not Graduate',\n",
       " 'Property_Area_Semiurban',\n",
       " 'Property_Area_Urban']"
      ]
     },
     "execution_count": 909,
     "metadata": {},
     "output_type": "execute_result"
    }
   ],
   "source": [
    "feature_columns"
   ]
  },
  {
   "cell_type": "code",
   "execution_count": 910,
   "metadata": {},
   "outputs": [],
   "source": [
    "New_App = testDataNew[feature_columns]"
   ]
  },
  {
   "cell_type": "code",
   "execution_count": 911,
   "metadata": {},
   "outputs": [
    {
     "data": {
      "text/html": [
       "<div>\n",
       "<style scoped>\n",
       "    .dataframe tbody tr th:only-of-type {\n",
       "        vertical-align: middle;\n",
       "    }\n",
       "\n",
       "    .dataframe tbody tr th {\n",
       "        vertical-align: top;\n",
       "    }\n",
       "\n",
       "    .dataframe thead th {\n",
       "        text-align: right;\n",
       "    }\n",
       "</style>\n",
       "<table border=\"1\" class=\"dataframe\">\n",
       "  <thead>\n",
       "    <tr style=\"text-align: right;\">\n",
       "      <th></th>\n",
       "      <th>CoapplicantIncome</th>\n",
       "      <th>Credit_History</th>\n",
       "      <th>LoanAmount_log10</th>\n",
       "      <th>Married_Yes</th>\n",
       "      <th>Dependents_2</th>\n",
       "      <th>Education_Not Graduate</th>\n",
       "      <th>Property_Area_Semiurban</th>\n",
       "      <th>Property_Area_Urban</th>\n",
       "    </tr>\n",
       "  </thead>\n",
       "  <tbody>\n",
       "    <tr>\n",
       "      <th>0</th>\n",
       "      <td>0</td>\n",
       "      <td>1.0</td>\n",
       "      <td>2.041393</td>\n",
       "      <td>1</td>\n",
       "      <td>0</td>\n",
       "      <td>0</td>\n",
       "      <td>0</td>\n",
       "      <td>1</td>\n",
       "    </tr>\n",
       "    <tr>\n",
       "      <th>1</th>\n",
       "      <td>1500</td>\n",
       "      <td>1.0</td>\n",
       "      <td>2.100371</td>\n",
       "      <td>1</td>\n",
       "      <td>0</td>\n",
       "      <td>0</td>\n",
       "      <td>0</td>\n",
       "      <td>1</td>\n",
       "    </tr>\n",
       "  </tbody>\n",
       "</table>\n",
       "</div>"
      ],
      "text/plain": [
       "   CoapplicantIncome  Credit_History  LoanAmount_log10  Married_Yes  \\\n",
       "0                  0             1.0          2.041393            1   \n",
       "1               1500             1.0          2.100371            1   \n",
       "\n",
       "   Dependents_2  Education_Not Graduate  Property_Area_Semiurban  \\\n",
       "0             0                       0                        0   \n",
       "1             0                       0                        0   \n",
       "\n",
       "   Property_Area_Urban  \n",
       "0                    1  \n",
       "1                    1  "
      ]
     },
     "execution_count": 911,
     "metadata": {},
     "output_type": "execute_result"
    }
   ],
   "source": [
    "New_App.head(2)"
   ]
  },
  {
   "cell_type": "code",
   "execution_count": 912,
   "metadata": {},
   "outputs": [],
   "source": [
    "New_App_Score = LR_cv.predict(New_App)"
   ]
  },
  {
   "cell_type": "code",
   "execution_count": 913,
   "metadata": {
    "scrolled": true
   },
   "outputs": [
    {
     "data": {
      "text/plain": [
       "array(['Y', 'Y', 'Y', 'Y', 'Y', 'Y', 'Y', 'N', 'Y', 'Y', 'Y', 'Y', 'Y',\n",
       "       'Y', 'Y', 'Y', 'Y', 'Y', 'Y', 'Y', 'Y', 'Y', 'Y', 'Y', 'Y', 'N',\n",
       "       'Y', 'Y', 'Y', 'Y', 'Y', 'Y', 'Y', 'Y', 'Y', 'N', 'Y', 'Y', 'Y',\n",
       "       'Y', 'Y', 'Y', 'Y', 'Y', 'Y', 'Y', 'Y', 'Y', 'Y', 'Y', 'Y', 'Y',\n",
       "       'Y', 'Y', 'Y', 'N', 'Y', 'Y', 'Y', 'Y', 'Y', 'Y', 'Y', 'N', 'Y',\n",
       "       'Y', 'N', 'Y', 'Y', 'N', 'Y', 'Y', 'Y', 'Y', 'Y', 'Y', 'Y', 'Y',\n",
       "       'Y', 'Y', 'N', 'Y', 'N', 'Y', 'Y', 'Y', 'Y', 'Y', 'Y', 'Y', 'Y',\n",
       "       'Y', 'Y', 'Y', 'Y', 'Y', 'Y', 'Y', 'Y', 'Y', 'Y', 'Y', 'Y', 'Y',\n",
       "       'Y', 'Y', 'N', 'Y', 'Y', 'Y', 'Y', 'Y', 'Y', 'Y', 'Y', 'Y', 'Y',\n",
       "       'N', 'N', 'N', 'Y', 'Y', 'Y', 'N', 'N', 'Y', 'N', 'Y', 'Y', 'Y',\n",
       "       'Y', 'Y', 'Y', 'Y', 'Y', 'Y', 'Y', 'Y', 'Y', 'Y', 'N', 'Y', 'N',\n",
       "       'Y', 'Y', 'Y', 'Y', 'N', 'Y', 'Y', 'Y', 'Y', 'Y', 'N', 'Y', 'Y',\n",
       "       'Y', 'Y', 'Y', 'Y', 'Y', 'N', 'Y', 'Y', 'Y', 'N', 'N', 'Y', 'Y',\n",
       "       'Y', 'Y', 'Y', 'Y', 'N', 'N', 'Y', 'Y', 'Y', 'Y', 'Y', 'Y', 'Y',\n",
       "       'Y', 'Y', 'Y', 'Y', 'Y', 'Y', 'Y', 'Y', 'Y', 'Y', 'N', 'N', 'Y',\n",
       "       'Y', 'Y', 'Y', 'N', 'Y', 'Y', 'Y', 'Y', 'Y', 'Y', 'Y', 'Y', 'Y',\n",
       "       'Y', 'Y', 'Y', 'N', 'Y', 'Y', 'Y', 'Y', 'Y', 'Y', 'Y', 'Y', 'Y',\n",
       "       'Y', 'Y', 'Y', 'Y', 'Y', 'Y', 'Y', 'Y', 'N', 'Y', 'Y', 'Y', 'Y',\n",
       "       'Y', 'N', 'N', 'Y', 'Y', 'Y', 'Y', 'Y', 'Y', 'N', 'Y', 'N', 'Y',\n",
       "       'Y', 'Y', 'Y', 'N', 'Y', 'Y', 'Y', 'Y', 'N', 'Y', 'Y', 'Y', 'Y',\n",
       "       'Y', 'Y', 'Y', 'Y', 'Y', 'Y', 'N', 'Y', 'Y', 'Y', 'Y', 'Y', 'Y',\n",
       "       'Y', 'N', 'Y', 'Y', 'Y', 'N', 'Y', 'Y', 'Y', 'Y', 'Y', 'Y', 'Y',\n",
       "       'Y', 'Y', 'Y', 'Y', 'Y', 'Y', 'Y', 'N', 'Y', 'Y', 'Y', 'Y', 'Y',\n",
       "       'Y', 'Y', 'N', 'Y', 'Y', 'Y', 'Y', 'Y', 'Y', 'Y', 'Y', 'Y', 'N',\n",
       "       'Y', 'Y', 'Y', 'Y', 'Y', 'N', 'Y', 'Y', 'Y', 'Y', 'Y', 'Y', 'Y',\n",
       "       'N', 'Y', 'Y', 'Y', 'Y', 'Y', 'Y', 'Y', 'Y', 'Y', 'Y', 'Y', 'Y',\n",
       "       'Y', 'N', 'Y', 'Y', 'Y', 'Y', 'Y', 'Y', 'N', 'Y', 'Y', 'Y', 'Y',\n",
       "       'Y', 'Y', 'Y', 'N', 'Y', 'Y', 'Y', 'Y', 'Y', 'Y', 'Y', 'Y', 'Y',\n",
       "       'Y', 'Y', 'Y'], dtype=object)"
      ]
     },
     "execution_count": 913,
     "metadata": {},
     "output_type": "execute_result"
    }
   ],
   "source": [
    "New_App_Score"
   ]
  },
  {
   "cell_type": "code",
   "execution_count": 914,
   "metadata": {},
   "outputs": [],
   "source": [
    "##Store the final result in a csv file to be passed to decision makers to use.\n",
    "\n",
    "pd.DataFrame({'Loan_ID':testDataNew.Loan_ID,'Loan_Status':New_App_Score}).to_csv('Result.csv',index=False)"
   ]
  },
  {
   "cell_type": "code",
   "execution_count": 915,
   "metadata": {},
   "outputs": [],
   "source": [
    "Ne = pd.DataFrame({'Loan_ID':testDataNew.Loan_ID,'Loan_Status':New_App_Score})"
   ]
  },
  {
   "cell_type": "code",
   "execution_count": 916,
   "metadata": {},
   "outputs": [
    {
     "data": {
      "image/png": "[encoded data removed]",
      "text/plain": [
       "<Figure size 936x432 with 2 Axes>"
      ]
     },
     "metadata": {},
     "output_type": "display_data"
    }
   ],
   "source": [
    "plt.figure(figsize=(13,6))\n",
    "plt.subplot(121)\n",
    "Ne[\"Loan_Status\"].value_counts().plot.pie(autopct  = \"%1.0f%%\",\n",
    "                                        fontsize = 12,\n",
    "                                        wedgeprops = {\"linewidth\" : 2,\n",
    "                                                      \"edgecolor\" : \"w\"},\n",
    "                                       )\n",
    "plt.title(\"Proportion of Customer Loan Status\")\n",
    "plt.ylabel(\"\")\n",
    "\n",
    "plt.subplot(122)\n",
    "ax = sns.countplot(y = Ne[\"Loan_Status\"],linewidth = 2,\n",
    "                   edgecolor = \"k\"*Ne[\"Loan_Status\"].nunique())\n",
    "for i,j in enumerate(Ne[\"Loan_Status\"].value_counts().values) : \n",
    "    ax.text(.1,i,j,fontsize = 15,color = \"k\")\n",
    "plt.title(\"Proportion of Customer Loan Status\")\n",
    "plt.grid(True,alpha = .1)\n",
    "    \n",
    "plt.show()"
   ]
  },
  {
   "cell_type": "code",
   "execution_count": null,
   "metadata": {},
   "outputs": [],
   "source": []
  },
  {
   "cell_type": "code",
   "execution_count": null,
   "metadata": {},
   "outputs": [],
   "source": []
  },
  {
   "cell_type": "code",
   "execution_count": null,
   "metadata": {},
   "outputs": [],
   "source": []
  },
  {
   "cell_type": "code",
   "execution_count": null,
   "metadata": {},
   "outputs": [],
   "source": []
  }
 ],
 "metadata": {
  "kernelspec": {
   "display_name": "Python 3",
   "language": "python",
   "name": "python3"
  },
  "language_info": {
   "codemirror_mode": {
    "name": "ipython",
    "version": 3
   },
   "file_extension": ".py",
   "mimetype": "text/x-python",
   "name": "python",
   "nbconvert_exporter": "python",
   "pygments_lexer": "ipython3",
   "version": "3.7.0"
  }
 },
 "nbformat": 4,
 "nbformat_minor": 2
}
