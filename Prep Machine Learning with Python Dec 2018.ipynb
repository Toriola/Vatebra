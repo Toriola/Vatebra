{
 "cells": [
  {
   "cell_type": "code",
   "execution_count": 357,
   "metadata": {},
   "outputs": [
    {
     "data": {
      "text/html": [
       "<script type=\"text/javascript\">window.PlotlyConfig = {MathJaxConfig: 'local'};</script><script type=\"text/javascript\">if (window.MathJax) {MathJax.Hub.Config({SVG: {font: \"STIX-Web\"}});}</script><script>requirejs.config({paths: { 'plotly': ['https://cdn.plot.ly/plotly-latest.min']},});if(!window._Plotly) {require(['plotly'],function(plotly) {window._Plotly=plotly;});}</script>"
      ],
      "text/vnd.plotly.v1+html": [
       "<script type=\"text/javascript\">window.PlotlyConfig = {MathJaxConfig: 'local'};</script><script type=\"text/javascript\">if (window.MathJax) {MathJax.Hub.Config({SVG: {font: \"STIX-Web\"}});}</script><script>requirejs.config({paths: { 'plotly': ['https://cdn.plot.ly/plotly-latest.min']},});if(!window._Plotly) {require(['plotly'],function(plotly) {window._Plotly=plotly;});}</script>"
      ]
     },
     "metadata": {},
     "output_type": "display_data"
    }
   ],
   "source": [
    "### Import all the libraries needed for ML algorithm and data visualisation and EDA\n",
    "\n",
    "import numpy as np\n",
    "import pandas as pd\n",
    "import matplotlib.pyplot as plot\n",
    "import matplotlib.pyplot as plt\n",
    "import matplotlib.cm as cm\n",
    "import seaborn as sns\n",
    "\n",
    "import sklearn.feature_selection\n",
    "from sklearn.decomposition import PCA\n",
    "from sklearn.cluster import KMeans\n",
    "from sklearn.linear_model import LogisticRegression\n",
    "from sklearn.ensemble import RandomForestClassifier\n",
    "from sklearn.neighbors import KNeighborsClassifier\n",
    "from sklearn.model_selection import train_test_split\n",
    "from sklearn.model_selection import KFold\n",
    "\n",
    "\n",
    "\n",
    "import warnings\n",
    "warnings.filterwarnings(\"ignore\")\n",
    "import io\n",
    "import os\n",
    "import plotly.offline as py\n",
    "py.init_notebook_mode(connected=True)\n",
    "import plotly.graph_objs as go\n",
    "import plotly.tools as tls\n",
    "import plotly.figure_factory as ff\n",
    "\n",
    "from sklearn.model_selection import cross_val_score\n",
    "from sklearn import model_selection\n",
    "from sklearn import tree\n",
    "from sklearn.metrics import roc_curve, roc_auc_score, accuracy_score,classification_report, confusion_matrix\n",
    "% matplotlib inline\n",
    "sns.set()"
   ]
  },
  {
   "cell_type": "code",
   "execution_count": 495,
   "metadata": {},
   "outputs": [],
   "source": [
    "traindata = pd.read_csv('loan-train.csv')"
   ]
  },
  {
   "cell_type": "code",
   "execution_count": 496,
   "metadata": {},
   "outputs": [
    {
     "data": {
      "text/html": [
       "<div>\n",
       "<style scoped>\n",
       "    .dataframe tbody tr th:only-of-type {\n",
       "        vertical-align: middle;\n",
       "    }\n",
       "\n",
       "    .dataframe tbody tr th {\n",
       "        vertical-align: top;\n",
       "    }\n",
       "\n",
       "    .dataframe thead th {\n",
       "        text-align: right;\n",
       "    }\n",
       "</style>\n",
       "<table border=\"1\" class=\"dataframe\">\n",
       "  <thead>\n",
       "    <tr style=\"text-align: right;\">\n",
       "      <th></th>\n",
       "      <th>Loan_ID</th>\n",
       "      <th>Gender</th>\n",
       "      <th>Married</th>\n",
       "      <th>Dependents</th>\n",
       "      <th>Education</th>\n",
       "      <th>Self_Employed</th>\n",
       "      <th>ApplicantIncome</th>\n",
       "      <th>CoapplicantIncome</th>\n",
       "      <th>LoanAmount</th>\n",
       "      <th>Loan_Amount_Term</th>\n",
       "      <th>Credit_History</th>\n",
       "      <th>Property_Area</th>\n",
       "      <th>Loan_Status</th>\n",
       "    </tr>\n",
       "  </thead>\n",
       "  <tbody>\n",
       "    <tr>\n",
       "      <th>0</th>\n",
       "      <td>LP001002</td>\n",
       "      <td>Male</td>\n",
       "      <td>No</td>\n",
       "      <td>0</td>\n",
       "      <td>Graduate</td>\n",
       "      <td>No</td>\n",
       "      <td>5849</td>\n",
       "      <td>0.0</td>\n",
       "      <td>NaN</td>\n",
       "      <td>360.0</td>\n",
       "      <td>1.0</td>\n",
       "      <td>Urban</td>\n",
       "      <td>Y</td>\n",
       "    </tr>\n",
       "    <tr>\n",
       "      <th>1</th>\n",
       "      <td>LP001003</td>\n",
       "      <td>Male</td>\n",
       "      <td>Yes</td>\n",
       "      <td>1</td>\n",
       "      <td>Graduate</td>\n",
       "      <td>No</td>\n",
       "      <td>4583</td>\n",
       "      <td>1508.0</td>\n",
       "      <td>128.0</td>\n",
       "      <td>360.0</td>\n",
       "      <td>1.0</td>\n",
       "      <td>Rural</td>\n",
       "      <td>N</td>\n",
       "    </tr>\n",
       "    <tr>\n",
       "      <th>2</th>\n",
       "      <td>LP001005</td>\n",
       "      <td>Male</td>\n",
       "      <td>Yes</td>\n",
       "      <td>0</td>\n",
       "      <td>Graduate</td>\n",
       "      <td>Yes</td>\n",
       "      <td>3000</td>\n",
       "      <td>0.0</td>\n",
       "      <td>66.0</td>\n",
       "      <td>360.0</td>\n",
       "      <td>1.0</td>\n",
       "      <td>Urban</td>\n",
       "      <td>Y</td>\n",
       "    </tr>\n",
       "    <tr>\n",
       "      <th>3</th>\n",
       "      <td>LP001006</td>\n",
       "      <td>Male</td>\n",
       "      <td>Yes</td>\n",
       "      <td>0</td>\n",
       "      <td>Not Graduate</td>\n",
       "      <td>No</td>\n",
       "      <td>2583</td>\n",
       "      <td>2358.0</td>\n",
       "      <td>120.0</td>\n",
       "      <td>360.0</td>\n",
       "      <td>1.0</td>\n",
       "      <td>Urban</td>\n",
       "      <td>Y</td>\n",
       "    </tr>\n",
       "    <tr>\n",
       "      <th>4</th>\n",
       "      <td>LP001008</td>\n",
       "      <td>Male</td>\n",
       "      <td>No</td>\n",
       "      <td>0</td>\n",
       "      <td>Graduate</td>\n",
       "      <td>No</td>\n",
       "      <td>6000</td>\n",
       "      <td>0.0</td>\n",
       "      <td>141.0</td>\n",
       "      <td>360.0</td>\n",
       "      <td>1.0</td>\n",
       "      <td>Urban</td>\n",
       "      <td>Y</td>\n",
       "    </tr>\n",
       "  </tbody>\n",
       "</table>\n",
       "</div>"
      ],
      "text/plain": [
       "    Loan_ID Gender Married Dependents     Education Self_Employed  \\\n",
       "0  LP001002   Male      No          0      Graduate            No   \n",
       "1  LP001003   Male     Yes          1      Graduate            No   \n",
       "2  LP001005   Male     Yes          0      Graduate           Yes   \n",
       "3  LP001006   Male     Yes          0  Not Graduate            No   \n",
       "4  LP001008   Male      No          0      Graduate            No   \n",
       "\n",
       "   ApplicantIncome  CoapplicantIncome  LoanAmount  Loan_Amount_Term  \\\n",
       "0             5849                0.0         NaN             360.0   \n",
       "1             4583             1508.0       128.0             360.0   \n",
       "2             3000                0.0        66.0             360.0   \n",
       "3             2583             2358.0       120.0             360.0   \n",
       "4             6000                0.0       141.0             360.0   \n",
       "\n",
       "   Credit_History Property_Area Loan_Status  \n",
       "0             1.0         Urban           Y  \n",
       "1             1.0         Rural           N  \n",
       "2             1.0         Urban           Y  \n",
       "3             1.0         Urban           Y  \n",
       "4             1.0         Urban           Y  "
      ]
     },
     "execution_count": 496,
     "metadata": {},
     "output_type": "execute_result"
    }
   ],
   "source": [
    "traindata.head()"
   ]
  },
  {
   "cell_type": "code",
   "execution_count": null,
   "metadata": {},
   "outputs": [],
   "source": [
    "#Loan Status = Y represents performing loans\n",
    "#Loan Status = N represents non-performing loans"
   ]
  },
  {
   "cell_type": "code",
   "execution_count": 497,
   "metadata": {},
   "outputs": [
    {
     "data": {
      "image/png": "[encoded data removed]",
      "text/plain": [
       "<Figure size 936x432 with 2 Axes>"
      ]
     },
     "metadata": {},
     "output_type": "display_data"
    }
   ],
   "source": [
    "plt.figure(figsize=(13,6))\n",
    "plt.subplot(121)\n",
    "traindata[\"Loan_Status\"].value_counts().plot.pie(autopct  = \"%1.0f%%\",\n",
    "                                        fontsize = 12,\n",
    "                                        wedgeprops = {\"linewidth\" : 2,\n",
    "                                                      \"edgecolor\" : \"w\"},\n",
    "                                       )\n",
    "plt.title(\"Proportion of Customer Loan Status\")\n",
    "plt.ylabel(\"\")\n",
    "\n",
    "plt.subplot(122)\n",
    "ax = sns.countplot(y = traindata[\"Loan_Status\"],linewidth = 2,\n",
    "                   edgecolor = \"k\"*traindata[\"Loan_Status\"].nunique())\n",
    "for i,j in enumerate(traindata[\"Loan_Status\"].value_counts().values) : \n",
    "    ax.text(.1,i,j,fontsize = 15,color = \"k\")\n",
    "plt.title(\"Proportion of Customer Loan Status\")\n",
    "plt.grid(True,alpha = .1)\n",
    "    \n",
    "plt.show()"
   ]
  },
  {
   "cell_type": "code",
   "execution_count": 498,
   "metadata": {},
   "outputs": [
    {
     "data": {
      "text/html": [
       "<div>\n",
       "<style scoped>\n",
       "    .dataframe tbody tr th:only-of-type {\n",
       "        vertical-align: middle;\n",
       "    }\n",
       "\n",
       "    .dataframe tbody tr th {\n",
       "        vertical-align: top;\n",
       "    }\n",
       "\n",
       "    .dataframe thead th {\n",
       "        text-align: right;\n",
       "    }\n",
       "</style>\n",
       "<table border=\"1\" class=\"dataframe\">\n",
       "  <thead>\n",
       "    <tr style=\"text-align: right;\">\n",
       "      <th></th>\n",
       "      <th>ApplicantIncome</th>\n",
       "      <th>CoapplicantIncome</th>\n",
       "      <th>LoanAmount</th>\n",
       "      <th>Loan_Amount_Term</th>\n",
       "      <th>Credit_History</th>\n",
       "    </tr>\n",
       "  </thead>\n",
       "  <tbody>\n",
       "    <tr>\n",
       "      <th>count</th>\n",
       "      <td>614.000000</td>\n",
       "      <td>614.000000</td>\n",
       "      <td>592.000000</td>\n",
       "      <td>600.00000</td>\n",
       "      <td>564.000000</td>\n",
       "    </tr>\n",
       "    <tr>\n",
       "      <th>mean</th>\n",
       "      <td>5403.459283</td>\n",
       "      <td>1621.245798</td>\n",
       "      <td>146.412162</td>\n",
       "      <td>342.00000</td>\n",
       "      <td>0.842199</td>\n",
       "    </tr>\n",
       "    <tr>\n",
       "      <th>std</th>\n",
       "      <td>6109.041673</td>\n",
       "      <td>2926.248369</td>\n",
       "      <td>85.587325</td>\n",
       "      <td>65.12041</td>\n",
       "      <td>0.364878</td>\n",
       "    </tr>\n",
       "    <tr>\n",
       "      <th>min</th>\n",
       "      <td>150.000000</td>\n",
       "      <td>0.000000</td>\n",
       "      <td>9.000000</td>\n",
       "      <td>12.00000</td>\n",
       "      <td>0.000000</td>\n",
       "    </tr>\n",
       "    <tr>\n",
       "      <th>25%</th>\n",
       "      <td>2877.500000</td>\n",
       "      <td>0.000000</td>\n",
       "      <td>100.000000</td>\n",
       "      <td>360.00000</td>\n",
       "      <td>1.000000</td>\n",
       "    </tr>\n",
       "    <tr>\n",
       "      <th>50%</th>\n",
       "      <td>3812.500000</td>\n",
       "      <td>1188.500000</td>\n",
       "      <td>128.000000</td>\n",
       "      <td>360.00000</td>\n",
       "      <td>1.000000</td>\n",
       "    </tr>\n",
       "    <tr>\n",
       "      <th>75%</th>\n",
       "      <td>5795.000000</td>\n",
       "      <td>2297.250000</td>\n",
       "      <td>168.000000</td>\n",
       "      <td>360.00000</td>\n",
       "      <td>1.000000</td>\n",
       "    </tr>\n",
       "    <tr>\n",
       "      <th>max</th>\n",
       "      <td>81000.000000</td>\n",
       "      <td>41667.000000</td>\n",
       "      <td>700.000000</td>\n",
       "      <td>480.00000</td>\n",
       "      <td>1.000000</td>\n",
       "    </tr>\n",
       "  </tbody>\n",
       "</table>\n",
       "</div>"
      ],
      "text/plain": [
       "       ApplicantIncome  CoapplicantIncome  LoanAmount  Loan_Amount_Term  \\\n",
       "count       614.000000         614.000000  592.000000         600.00000   \n",
       "mean       5403.459283        1621.245798  146.412162         342.00000   \n",
       "std        6109.041673        2926.248369   85.587325          65.12041   \n",
       "min         150.000000           0.000000    9.000000          12.00000   \n",
       "25%        2877.500000           0.000000  100.000000         360.00000   \n",
       "50%        3812.500000        1188.500000  128.000000         360.00000   \n",
       "75%        5795.000000        2297.250000  168.000000         360.00000   \n",
       "max       81000.000000       41667.000000  700.000000         480.00000   \n",
       "\n",
       "       Credit_History  \n",
       "count      564.000000  \n",
       "mean         0.842199  \n",
       "std          0.364878  \n",
       "min          0.000000  \n",
       "25%          1.000000  \n",
       "50%          1.000000  \n",
       "75%          1.000000  \n",
       "max          1.000000  "
      ]
     },
     "execution_count": 498,
     "metadata": {},
     "output_type": "execute_result"
    }
   ],
   "source": [
    "traindata.describe()"
   ]
  },
  {
   "cell_type": "code",
   "execution_count": 499,
   "metadata": {},
   "outputs": [
    {
     "name": "stdout",
     "output_type": "stream",
     "text": [
      "<class 'pandas.core.frame.DataFrame'>\n",
      "RangeIndex: 614 entries, 0 to 613\n",
      "Data columns (total 13 columns):\n",
      "Loan_ID              614 non-null object\n",
      "Gender               601 non-null object\n",
      "Married              611 non-null object\n",
      "Dependents           599 non-null object\n",
      "Education            614 non-null object\n",
      "Self_Employed        582 non-null object\n",
      "ApplicantIncome      614 non-null int64\n",
      "CoapplicantIncome    614 non-null float64\n",
      "LoanAmount           592 non-null float64\n",
      "Loan_Amount_Term     600 non-null float64\n",
      "Credit_History       564 non-null float64\n",
      "Property_Area        614 non-null object\n",
      "Loan_Status          614 non-null object\n",
      "dtypes: float64(4), int64(1), object(8)\n",
      "memory usage: 62.4+ KB\n"
     ]
    }
   ],
   "source": [
    "traindata.info()"
   ]
  },
  {
   "cell_type": "code",
   "execution_count": 500,
   "metadata": {},
   "outputs": [
    {
     "data": {
      "text/plain": [
       "0"
      ]
     },
     "execution_count": 500,
     "metadata": {},
     "output_type": "execute_result"
    }
   ],
   "source": [
    "traindata.duplicated().sum()"
   ]
  },
  {
   "cell_type": "code",
   "execution_count": 501,
   "metadata": {},
   "outputs": [
    {
     "data": {
      "text/plain": [
       "Loan_ID               0\n",
       "Gender               13\n",
       "Married               3\n",
       "Dependents           15\n",
       "Education             0\n",
       "Self_Employed        32\n",
       "ApplicantIncome       0\n",
       "CoapplicantIncome     0\n",
       "LoanAmount           22\n",
       "Loan_Amount_Term     14\n",
       "Credit_History       50\n",
       "Property_Area         0\n",
       "Loan_Status           0\n",
       "dtype: int64"
      ]
     },
     "execution_count": 501,
     "metadata": {},
     "output_type": "execute_result"
    }
   ],
   "source": [
    "traindata.isnull().sum()"
   ]
  },
  {
   "cell_type": "code",
   "execution_count": 502,
   "metadata": {},
   "outputs": [
    {
     "data": {
      "text/plain": [
       "0    Male\n",
       "dtype: object"
      ]
     },
     "execution_count": 502,
     "metadata": {},
     "output_type": "execute_result"
    }
   ],
   "source": [
    "traindata.Gender.mode()"
   ]
  },
  {
   "cell_type": "code",
   "execution_count": 503,
   "metadata": {},
   "outputs": [],
   "source": [
    "train_data = traindata"
   ]
  },
  {
   "cell_type": "code",
   "execution_count": 504,
   "metadata": {},
   "outputs": [],
   "source": [
    "train_data.Gender.fillna('Male', inplace = True)"
   ]
  },
  {
   "cell_type": "code",
   "execution_count": 505,
   "metadata": {},
   "outputs": [
    {
     "data": {
      "text/plain": [
       "0"
      ]
     },
     "execution_count": 505,
     "metadata": {},
     "output_type": "execute_result"
    }
   ],
   "source": [
    "train_data.Gender.isnull().sum()"
   ]
  },
  {
   "cell_type": "code",
   "execution_count": 506,
   "metadata": {},
   "outputs": [
    {
     "data": {
      "text/plain": [
       "0    Yes\n",
       "dtype: object"
      ]
     },
     "execution_count": 506,
     "metadata": {},
     "output_type": "execute_result"
    }
   ],
   "source": [
    "traindata.Married.mode()"
   ]
  },
  {
   "cell_type": "code",
   "execution_count": 507,
   "metadata": {},
   "outputs": [],
   "source": [
    "train_data.Married.fillna('Yes', inplace = True)"
   ]
  },
  {
   "cell_type": "code",
   "execution_count": 508,
   "metadata": {},
   "outputs": [
    {
     "data": {
      "text/plain": [
       "0"
      ]
     },
     "execution_count": 508,
     "metadata": {},
     "output_type": "execute_result"
    }
   ],
   "source": [
    "train_data.Married.isnull().sum()"
   ]
  },
  {
   "cell_type": "code",
   "execution_count": 509,
   "metadata": {},
   "outputs": [
    {
     "data": {
      "text/plain": [
       "0    0\n",
       "dtype: object"
      ]
     },
     "execution_count": 509,
     "metadata": {},
     "output_type": "execute_result"
    }
   ],
   "source": [
    "traindata.Dependents.mode()"
   ]
  },
  {
   "cell_type": "code",
   "execution_count": 510,
   "metadata": {},
   "outputs": [],
   "source": [
    "train_data.Dependents.fillna('0', inplace = True)"
   ]
  },
  {
   "cell_type": "code",
   "execution_count": 511,
   "metadata": {},
   "outputs": [
    {
     "data": {
      "text/plain": [
       "0"
      ]
     },
     "execution_count": 511,
     "metadata": {},
     "output_type": "execute_result"
    }
   ],
   "source": [
    "train_data.Married.isnull().sum()"
   ]
  },
  {
   "cell_type": "code",
   "execution_count": 512,
   "metadata": {},
   "outputs": [
    {
     "data": {
      "text/plain": [
       "0    No\n",
       "dtype: object"
      ]
     },
     "execution_count": 512,
     "metadata": {},
     "output_type": "execute_result"
    }
   ],
   "source": [
    "traindata.Self_Employed.mode()"
   ]
  },
  {
   "cell_type": "code",
   "execution_count": 513,
   "metadata": {},
   "outputs": [
    {
     "data": {
      "text/plain": [
       "0"
      ]
     },
     "execution_count": 513,
     "metadata": {},
     "output_type": "execute_result"
    }
   ],
   "source": [
    "train_data.Self_Employed.fillna('No', inplace = True)\n",
    "train_data.Married.isnull().sum()"
   ]
  },
  {
   "cell_type": "code",
   "execution_count": 514,
   "metadata": {},
   "outputs": [
    {
     "data": {
      "text/plain": [
       "146.41216216216216"
      ]
     },
     "execution_count": 514,
     "metadata": {},
     "output_type": "execute_result"
    }
   ],
   "source": [
    "traindata.LoanAmount.mean()"
   ]
  },
  {
   "cell_type": "code",
   "execution_count": 515,
   "metadata": {},
   "outputs": [
    {
     "data": {
      "text/plain": [
       "0"
      ]
     },
     "execution_count": 515,
     "metadata": {},
     "output_type": "execute_result"
    }
   ],
   "source": [
    "train_data.LoanAmount.fillna(146.41, inplace = True)\n",
    "train_data.LoanAmount.isnull().sum()"
   ]
  },
  {
   "cell_type": "code",
   "execution_count": 516,
   "metadata": {},
   "outputs": [
    {
     "data": {
      "text/plain": [
       "342.0"
      ]
     },
     "execution_count": 516,
     "metadata": {},
     "output_type": "execute_result"
    }
   ],
   "source": [
    "traindata.Loan_Amount_Term.mean()"
   ]
  },
  {
   "cell_type": "code",
   "execution_count": 517,
   "metadata": {},
   "outputs": [
    {
     "data": {
      "text/plain": [
       "0"
      ]
     },
     "execution_count": 517,
     "metadata": {},
     "output_type": "execute_result"
    }
   ],
   "source": [
    "train_data.Loan_Amount_Term.fillna(342.20, inplace = True)\n",
    "train_data.Loan_Amount_Term.isnull().sum()"
   ]
  },
  {
   "cell_type": "code",
   "execution_count": 518,
   "metadata": {},
   "outputs": [
    {
     "data": {
      "text/plain": [
       "0    1.0\n",
       "dtype: float64"
      ]
     },
     "execution_count": 518,
     "metadata": {},
     "output_type": "execute_result"
    }
   ],
   "source": [
    "traindata.Credit_History.mode()"
   ]
  },
  {
   "cell_type": "code",
   "execution_count": 519,
   "metadata": {},
   "outputs": [
    {
     "data": {
      "text/plain": [
       "0"
      ]
     },
     "execution_count": 519,
     "metadata": {},
     "output_type": "execute_result"
    }
   ],
   "source": [
    "train_data.Credit_History.fillna(1.0, inplace = True)\n",
    "train_data.Credit_History.isnull().sum()"
   ]
  },
  {
   "cell_type": "code",
   "execution_count": 520,
   "metadata": {},
   "outputs": [],
   "source": [
    "# Try to visualise the data to identify which variables to transform"
   ]
  },
  {
   "cell_type": "code",
   "execution_count": 521,
   "metadata": {},
   "outputs": [
    {
     "data": {
      "image/png": "[encoded data removed]",
      "text/plain": [
       "<Figure size 432x288 with 1 Axes>"
      ]
     },
     "metadata": {},
     "output_type": "display_data"
    }
   ],
   "source": [
    "train_data['ApplicantIncome'].hist()\n",
    "plt.show()"
   ]
  },
  {
   "cell_type": "code",
   "execution_count": 522,
   "metadata": {},
   "outputs": [
    {
     "data": {
      "image/png": "[encoded data removed]",
      "text/plain": [
       "<Figure size 432x288 with 1 Axes>"
      ]
     },
     "metadata": {},
     "output_type": "display_data"
    }
   ],
   "source": [
    "train_data['CoapplicantIncome'].hist()\n",
    "plt.show()"
   ]
  },
  {
   "cell_type": "code",
   "execution_count": 523,
   "metadata": {},
   "outputs": [
    {
     "data": {
      "image/png": "[encoded data removed]",
      "text/plain": [
       "<Figure size 432x288 with 1 Axes>"
      ]
     },
     "metadata": {},
     "output_type": "display_data"
    }
   ],
   "source": [
    "train_data['LoanAmount'].hist()\n",
    "plt.show()"
   ]
  },
  {
   "cell_type": "code",
   "execution_count": 524,
   "metadata": {},
   "outputs": [
    {
     "data": {
      "image/png": "[encoded data removed]",
      "text/plain": [
       "<Figure size 432x288 with 1 Axes>"
      ]
     },
     "metadata": {},
     "output_type": "display_data"
    }
   ],
   "source": [
    "train_data['Loan_Amount_Term'].hist()\n",
    "plt.show()"
   ]
  },
  {
   "cell_type": "code",
   "execution_count": 525,
   "metadata": {},
   "outputs": [
    {
     "data": {
      "image/png": "[encoded data removed]",
      "text/plain": [
       "<Figure size 432x288 with 1 Axes>"
      ]
     },
     "metadata": {},
     "output_type": "display_data"
    }
   ],
   "source": [
    "train_data['Credit_History'].hist()\n",
    "plt.show()"
   ]
  },
  {
   "cell_type": "code",
   "execution_count": 526,
   "metadata": {},
   "outputs": [
    {
     "data": {
      "image/png": "[encoded data removed]",
      "text/plain": [
       "<Figure size 792x792 with 6 Axes>"
      ]
     },
     "metadata": {},
     "output_type": "display_data"
    }
   ],
   "source": [
    "#Try to plot these variables in a chart to see their spread, a quick check for skeweness in the data\n",
    "\n",
    "train_data[train_data.dtypes[(train_data.dtypes==\"float64\")|(train_data.dtypes==\"int64\")]\n",
    "                        .index.values].hist(figsize=[11,11])\n",
    "plt.show()"
   ]
  },
  {
   "cell_type": "code",
   "execution_count": 527,
   "metadata": {},
   "outputs": [
    {
     "name": "stdout",
     "output_type": "stream",
     "text": [
      "Min ApplicantIncome = 150\n",
      "Max ApplicantIncome = 81000\n",
      "ApplicantIncome range=  80850\n"
     ]
    }
   ],
   "source": [
    "# To see the range of the data before dealing with outliers\n",
    "print('Min ApplicantIncome =', train_data['ApplicantIncome'].min())\n",
    "print('Max ApplicantIncome =',train_data['ApplicantIncome'].max())\n",
    "print('ApplicantIncome range= ',train_data['ApplicantIncome'].max()- train_data['ApplicantIncome'].min())"
   ]
  },
  {
   "cell_type": "code",
   "execution_count": 528,
   "metadata": {},
   "outputs": [
    {
     "data": {
      "text/html": [
       "<div>\n",
       "<style scoped>\n",
       "    .dataframe tbody tr th:only-of-type {\n",
       "        vertical-align: middle;\n",
       "    }\n",
       "\n",
       "    .dataframe tbody tr th {\n",
       "        vertical-align: top;\n",
       "    }\n",
       "\n",
       "    .dataframe thead th {\n",
       "        text-align: right;\n",
       "    }\n",
       "</style>\n",
       "<table border=\"1\" class=\"dataframe\">\n",
       "  <thead>\n",
       "    <tr style=\"text-align: right;\">\n",
       "      <th></th>\n",
       "      <th>ApplicantIncome</th>\n",
       "      <th>CoapplicantIncome</th>\n",
       "      <th>LoanAmount</th>\n",
       "      <th>Loan_Amount_Term</th>\n",
       "      <th>Credit_History</th>\n",
       "    </tr>\n",
       "  </thead>\n",
       "  <tbody>\n",
       "    <tr>\n",
       "      <th>count</th>\n",
       "      <td>614.000000</td>\n",
       "      <td>614.000000</td>\n",
       "      <td>614.000000</td>\n",
       "      <td>614.000000</td>\n",
       "      <td>614.000000</td>\n",
       "    </tr>\n",
       "    <tr>\n",
       "      <th>mean</th>\n",
       "      <td>5403.459283</td>\n",
       "      <td>1621.245798</td>\n",
       "      <td>146.412085</td>\n",
       "      <td>342.004560</td>\n",
       "      <td>0.855049</td>\n",
       "    </tr>\n",
       "    <tr>\n",
       "      <th>std</th>\n",
       "      <td>6109.041673</td>\n",
       "      <td>2926.248369</td>\n",
       "      <td>84.037468</td>\n",
       "      <td>64.372496</td>\n",
       "      <td>0.352339</td>\n",
       "    </tr>\n",
       "    <tr>\n",
       "      <th>min</th>\n",
       "      <td>150.000000</td>\n",
       "      <td>0.000000</td>\n",
       "      <td>9.000000</td>\n",
       "      <td>12.000000</td>\n",
       "      <td>0.000000</td>\n",
       "    </tr>\n",
       "    <tr>\n",
       "      <th>25%</th>\n",
       "      <td>2877.500000</td>\n",
       "      <td>0.000000</td>\n",
       "      <td>100.250000</td>\n",
       "      <td>360.000000</td>\n",
       "      <td>1.000000</td>\n",
       "    </tr>\n",
       "    <tr>\n",
       "      <th>50%</th>\n",
       "      <td>3812.500000</td>\n",
       "      <td>1188.500000</td>\n",
       "      <td>129.000000</td>\n",
       "      <td>360.000000</td>\n",
       "      <td>1.000000</td>\n",
       "    </tr>\n",
       "    <tr>\n",
       "      <th>75%</th>\n",
       "      <td>5795.000000</td>\n",
       "      <td>2297.250000</td>\n",
       "      <td>164.750000</td>\n",
       "      <td>360.000000</td>\n",
       "      <td>1.000000</td>\n",
       "    </tr>\n",
       "    <tr>\n",
       "      <th>max</th>\n",
       "      <td>81000.000000</td>\n",
       "      <td>41667.000000</td>\n",
       "      <td>700.000000</td>\n",
       "      <td>480.000000</td>\n",
       "      <td>1.000000</td>\n",
       "    </tr>\n",
       "  </tbody>\n",
       "</table>\n",
       "</div>"
      ],
      "text/plain": [
       "       ApplicantIncome  CoapplicantIncome  LoanAmount  Loan_Amount_Term  \\\n",
       "count       614.000000         614.000000  614.000000        614.000000   \n",
       "mean       5403.459283        1621.245798  146.412085        342.004560   \n",
       "std        6109.041673        2926.248369   84.037468         64.372496   \n",
       "min         150.000000           0.000000    9.000000         12.000000   \n",
       "25%        2877.500000           0.000000  100.250000        360.000000   \n",
       "50%        3812.500000        1188.500000  129.000000        360.000000   \n",
       "75%        5795.000000        2297.250000  164.750000        360.000000   \n",
       "max       81000.000000       41667.000000  700.000000        480.000000   \n",
       "\n",
       "       Credit_History  \n",
       "count      614.000000  \n",
       "mean         0.855049  \n",
       "std          0.352339  \n",
       "min          0.000000  \n",
       "25%          1.000000  \n",
       "50%          1.000000  \n",
       "75%          1.000000  \n",
       "max          1.000000  "
      ]
     },
     "execution_count": 528,
     "metadata": {},
     "output_type": "execute_result"
    }
   ],
   "source": [
    "train_data.describe()"
   ]
  },
  {
   "cell_type": "code",
   "execution_count": null,
   "metadata": {},
   "outputs": [],
   "source": []
  },
  {
   "cell_type": "code",
   "execution_count": 529,
   "metadata": {},
   "outputs": [],
   "source": [
    "# For binning, pick between 5 - 20 and i picked 5 intervals\n",
    "\n",
    "# Bining the Age column to handle the outliers detected by boxplot above\n",
    "Income_Band_new = []\n",
    "for ApplicantIncome in train_data['ApplicantIncome']:\n",
    "    if ApplicantIncome >=0 and ApplicantIncome <=3200:\n",
    "        Income_Band_new.append('Low Inc')\n",
    "    elif ApplicantIncome >3200 and ApplicantIncome <= 5404:\n",
    "        Income_Band_new.append('Mid Inc')\n",
    "    elif ApplicantIncome >5404 and ApplicantIncome <= 10000:\n",
    "        Income_Band_new.append('High Inc')\n",
    "    else:\n",
    "        Income_Band_new.append('Very High Inc')\n",
    "\n",
    "train_data['Income_Band_new'] = np.asarray(Income_Band_new)"
   ]
  },
  {
   "cell_type": "code",
   "execution_count": 530,
   "metadata": {},
   "outputs": [],
   "source": [
    "train_data['Income_Band_new'] = Income_Band_new"
   ]
  },
  {
   "cell_type": "code",
   "execution_count": 531,
   "metadata": {},
   "outputs": [
    {
     "data": {
      "text/html": [
       "<div>\n",
       "<style scoped>\n",
       "    .dataframe tbody tr th:only-of-type {\n",
       "        vertical-align: middle;\n",
       "    }\n",
       "\n",
       "    .dataframe tbody tr th {\n",
       "        vertical-align: top;\n",
       "    }\n",
       "\n",
       "    .dataframe thead th {\n",
       "        text-align: right;\n",
       "    }\n",
       "</style>\n",
       "<table border=\"1\" class=\"dataframe\">\n",
       "  <thead>\n",
       "    <tr style=\"text-align: right;\">\n",
       "      <th></th>\n",
       "      <th>Loan_ID</th>\n",
       "      <th>Gender</th>\n",
       "      <th>Married</th>\n",
       "      <th>Dependents</th>\n",
       "      <th>Education</th>\n",
       "      <th>Self_Employed</th>\n",
       "      <th>ApplicantIncome</th>\n",
       "      <th>CoapplicantIncome</th>\n",
       "      <th>LoanAmount</th>\n",
       "      <th>Loan_Amount_Term</th>\n",
       "      <th>Credit_History</th>\n",
       "      <th>Property_Area</th>\n",
       "      <th>Loan_Status</th>\n",
       "      <th>Income_Band_new</th>\n",
       "    </tr>\n",
       "  </thead>\n",
       "  <tbody>\n",
       "    <tr>\n",
       "      <th>0</th>\n",
       "      <td>LP001002</td>\n",
       "      <td>Male</td>\n",
       "      <td>No</td>\n",
       "      <td>0</td>\n",
       "      <td>Graduate</td>\n",
       "      <td>No</td>\n",
       "      <td>5849</td>\n",
       "      <td>0.0</td>\n",
       "      <td>146.41</td>\n",
       "      <td>360.0</td>\n",
       "      <td>1.0</td>\n",
       "      <td>Urban</td>\n",
       "      <td>Y</td>\n",
       "      <td>High Inc</td>\n",
       "    </tr>\n",
       "    <tr>\n",
       "      <th>1</th>\n",
       "      <td>LP001003</td>\n",
       "      <td>Male</td>\n",
       "      <td>Yes</td>\n",
       "      <td>1</td>\n",
       "      <td>Graduate</td>\n",
       "      <td>No</td>\n",
       "      <td>4583</td>\n",
       "      <td>1508.0</td>\n",
       "      <td>128.00</td>\n",
       "      <td>360.0</td>\n",
       "      <td>1.0</td>\n",
       "      <td>Rural</td>\n",
       "      <td>N</td>\n",
       "      <td>Mid Inc</td>\n",
       "    </tr>\n",
       "    <tr>\n",
       "      <th>2</th>\n",
       "      <td>LP001005</td>\n",
       "      <td>Male</td>\n",
       "      <td>Yes</td>\n",
       "      <td>0</td>\n",
       "      <td>Graduate</td>\n",
       "      <td>Yes</td>\n",
       "      <td>3000</td>\n",
       "      <td>0.0</td>\n",
       "      <td>66.00</td>\n",
       "      <td>360.0</td>\n",
       "      <td>1.0</td>\n",
       "      <td>Urban</td>\n",
       "      <td>Y</td>\n",
       "      <td>Low Inc</td>\n",
       "    </tr>\n",
       "    <tr>\n",
       "      <th>3</th>\n",
       "      <td>LP001006</td>\n",
       "      <td>Male</td>\n",
       "      <td>Yes</td>\n",
       "      <td>0</td>\n",
       "      <td>Not Graduate</td>\n",
       "      <td>No</td>\n",
       "      <td>2583</td>\n",
       "      <td>2358.0</td>\n",
       "      <td>120.00</td>\n",
       "      <td>360.0</td>\n",
       "      <td>1.0</td>\n",
       "      <td>Urban</td>\n",
       "      <td>Y</td>\n",
       "      <td>Low Inc</td>\n",
       "    </tr>\n",
       "    <tr>\n",
       "      <th>4</th>\n",
       "      <td>LP001008</td>\n",
       "      <td>Male</td>\n",
       "      <td>No</td>\n",
       "      <td>0</td>\n",
       "      <td>Graduate</td>\n",
       "      <td>No</td>\n",
       "      <td>6000</td>\n",
       "      <td>0.0</td>\n",
       "      <td>141.00</td>\n",
       "      <td>360.0</td>\n",
       "      <td>1.0</td>\n",
       "      <td>Urban</td>\n",
       "      <td>Y</td>\n",
       "      <td>High Inc</td>\n",
       "    </tr>\n",
       "  </tbody>\n",
       "</table>\n",
       "</div>"
      ],
      "text/plain": [
       "    Loan_ID Gender Married Dependents     Education Self_Employed  \\\n",
       "0  LP001002   Male      No          0      Graduate            No   \n",
       "1  LP001003   Male     Yes          1      Graduate            No   \n",
       "2  LP001005   Male     Yes          0      Graduate           Yes   \n",
       "3  LP001006   Male     Yes          0  Not Graduate            No   \n",
       "4  LP001008   Male      No          0      Graduate            No   \n",
       "\n",
       "   ApplicantIncome  CoapplicantIncome  LoanAmount  Loan_Amount_Term  \\\n",
       "0             5849                0.0      146.41             360.0   \n",
       "1             4583             1508.0      128.00             360.0   \n",
       "2             3000                0.0       66.00             360.0   \n",
       "3             2583             2358.0      120.00             360.0   \n",
       "4             6000                0.0      141.00             360.0   \n",
       "\n",
       "   Credit_History Property_Area Loan_Status Income_Band_new  \n",
       "0             1.0         Urban           Y        High Inc  \n",
       "1             1.0         Rural           N         Mid Inc  \n",
       "2             1.0         Urban           Y         Low Inc  \n",
       "3             1.0         Urban           Y         Low Inc  \n",
       "4             1.0         Urban           Y        High Inc  "
      ]
     },
     "execution_count": 531,
     "metadata": {},
     "output_type": "execute_result"
    }
   ],
   "source": [
    "train_data.head()"
   ]
  },
  {
   "cell_type": "code",
   "execution_count": 532,
   "metadata": {},
   "outputs": [
    {
     "name": "stdout",
     "output_type": "stream",
     "text": [
      "<class 'pandas.core.frame.DataFrame'>\n",
      "RangeIndex: 614 entries, 0 to 613\n",
      "Data columns (total 14 columns):\n",
      "Loan_ID              614 non-null object\n",
      "Gender               614 non-null object\n",
      "Married              614 non-null object\n",
      "Dependents           614 non-null object\n",
      "Education            614 non-null object\n",
      "Self_Employed        614 non-null object\n",
      "ApplicantIncome      614 non-null int64\n",
      "CoapplicantIncome    614 non-null float64\n",
      "LoanAmount           614 non-null float64\n",
      "Loan_Amount_Term     614 non-null float64\n",
      "Credit_History       614 non-null float64\n",
      "Property_Area        614 non-null object\n",
      "Loan_Status          614 non-null object\n",
      "Income_Band_new      614 non-null object\n",
      "dtypes: float64(4), int64(1), object(9)\n",
      "memory usage: 67.2+ KB\n"
     ]
    }
   ],
   "source": [
    "train_data.info()"
   ]
  },
  {
   "cell_type": "code",
   "execution_count": 533,
   "metadata": {},
   "outputs": [],
   "source": [
    "new = traindata.sort_values(by = 'ApplicantIncome', ascending=1)"
   ]
  },
  {
   "cell_type": "code",
   "execution_count": 534,
   "metadata": {},
   "outputs": [
    {
     "data": {
      "image/png": "[encoded data removed]",
      "text/plain": [
       "<Figure size 432x288 with 1 Axes>"
      ]
     },
     "metadata": {},
     "output_type": "display_data"
    }
   ],
   "source": [
    "# We will now work with the Income_Band_new rather than ApplicantIncome going forward\n",
    "\n",
    "ax=sns.countplot(x = 'Income_Band_new', data = traindata.sort_values(by ='ApplicantIncome'))\n",
    "\n",
    "plt.setp(ax.get_xticklabels(), rotation=45);"
   ]
  },
  {
   "cell_type": "code",
   "execution_count": 535,
   "metadata": {
    "scrolled": true
   },
   "outputs": [
    {
     "data": {
      "text/html": [
       "<div>\n",
       "<style scoped>\n",
       "    .dataframe tbody tr th:only-of-type {\n",
       "        vertical-align: middle;\n",
       "    }\n",
       "\n",
       "    .dataframe tbody tr th {\n",
       "        vertical-align: top;\n",
       "    }\n",
       "\n",
       "    .dataframe thead th {\n",
       "        text-align: right;\n",
       "    }\n",
       "</style>\n",
       "<table border=\"1\" class=\"dataframe\">\n",
       "  <thead>\n",
       "    <tr style=\"text-align: right;\">\n",
       "      <th></th>\n",
       "      <th>Loan_ID</th>\n",
       "      <th>Gender</th>\n",
       "      <th>Married</th>\n",
       "      <th>Dependents</th>\n",
       "      <th>Education</th>\n",
       "      <th>Self_Employed</th>\n",
       "      <th>ApplicantIncome</th>\n",
       "      <th>CoapplicantIncome</th>\n",
       "      <th>LoanAmount</th>\n",
       "      <th>Loan_Amount_Term</th>\n",
       "      <th>Credit_History</th>\n",
       "      <th>Property_Area</th>\n",
       "      <th>Loan_Status</th>\n",
       "      <th>Income_Band_new</th>\n",
       "    </tr>\n",
       "  </thead>\n",
       "  <tbody>\n",
       "    <tr>\n",
       "      <th>171</th>\n",
       "      <td>LP001585</td>\n",
       "      <td>Male</td>\n",
       "      <td>Yes</td>\n",
       "      <td>3+</td>\n",
       "      <td>Graduate</td>\n",
       "      <td>No</td>\n",
       "      <td>51763</td>\n",
       "      <td>0.0</td>\n",
       "      <td>700.0</td>\n",
       "      <td>300.0</td>\n",
       "      <td>1.0</td>\n",
       "      <td>Urban</td>\n",
       "      <td>Y</td>\n",
       "      <td>Very High Inc</td>\n",
       "    </tr>\n",
       "    <tr>\n",
       "      <th>130</th>\n",
       "      <td>LP001469</td>\n",
       "      <td>Male</td>\n",
       "      <td>No</td>\n",
       "      <td>0</td>\n",
       "      <td>Graduate</td>\n",
       "      <td>Yes</td>\n",
       "      <td>20166</td>\n",
       "      <td>0.0</td>\n",
       "      <td>650.0</td>\n",
       "      <td>480.0</td>\n",
       "      <td>1.0</td>\n",
       "      <td>Urban</td>\n",
       "      <td>Y</td>\n",
       "      <td>Very High Inc</td>\n",
       "    </tr>\n",
       "    <tr>\n",
       "      <th>155</th>\n",
       "      <td>LP001536</td>\n",
       "      <td>Male</td>\n",
       "      <td>Yes</td>\n",
       "      <td>3+</td>\n",
       "      <td>Graduate</td>\n",
       "      <td>No</td>\n",
       "      <td>39999</td>\n",
       "      <td>0.0</td>\n",
       "      <td>600.0</td>\n",
       "      <td>180.0</td>\n",
       "      <td>0.0</td>\n",
       "      <td>Semiurban</td>\n",
       "      <td>Y</td>\n",
       "      <td>Very High Inc</td>\n",
       "    </tr>\n",
       "    <tr>\n",
       "      <th>561</th>\n",
       "      <td>LP002813</td>\n",
       "      <td>Female</td>\n",
       "      <td>Yes</td>\n",
       "      <td>1</td>\n",
       "      <td>Graduate</td>\n",
       "      <td>Yes</td>\n",
       "      <td>19484</td>\n",
       "      <td>0.0</td>\n",
       "      <td>600.0</td>\n",
       "      <td>360.0</td>\n",
       "      <td>1.0</td>\n",
       "      <td>Semiurban</td>\n",
       "      <td>Y</td>\n",
       "      <td>Very High Inc</td>\n",
       "    </tr>\n",
       "    <tr>\n",
       "      <th>369</th>\n",
       "      <td>LP002191</td>\n",
       "      <td>Male</td>\n",
       "      <td>Yes</td>\n",
       "      <td>0</td>\n",
       "      <td>Graduate</td>\n",
       "      <td>No</td>\n",
       "      <td>19730</td>\n",
       "      <td>5266.0</td>\n",
       "      <td>570.0</td>\n",
       "      <td>360.0</td>\n",
       "      <td>1.0</td>\n",
       "      <td>Rural</td>\n",
       "      <td>N</td>\n",
       "      <td>Very High Inc</td>\n",
       "    </tr>\n",
       "    <tr>\n",
       "      <th>487</th>\n",
       "      <td>LP002547</td>\n",
       "      <td>Male</td>\n",
       "      <td>Yes</td>\n",
       "      <td>1</td>\n",
       "      <td>Graduate</td>\n",
       "      <td>No</td>\n",
       "      <td>18333</td>\n",
       "      <td>0.0</td>\n",
       "      <td>500.0</td>\n",
       "      <td>360.0</td>\n",
       "      <td>1.0</td>\n",
       "      <td>Urban</td>\n",
       "      <td>N</td>\n",
       "      <td>Very High Inc</td>\n",
       "    </tr>\n",
       "    <tr>\n",
       "      <th>604</th>\n",
       "      <td>LP002959</td>\n",
       "      <td>Female</td>\n",
       "      <td>Yes</td>\n",
       "      <td>1</td>\n",
       "      <td>Graduate</td>\n",
       "      <td>No</td>\n",
       "      <td>12000</td>\n",
       "      <td>0.0</td>\n",
       "      <td>496.0</td>\n",
       "      <td>360.0</td>\n",
       "      <td>1.0</td>\n",
       "      <td>Semiurban</td>\n",
       "      <td>Y</td>\n",
       "      <td>Very High Inc</td>\n",
       "    </tr>\n",
       "    <tr>\n",
       "      <th>177</th>\n",
       "      <td>LP001610</td>\n",
       "      <td>Male</td>\n",
       "      <td>Yes</td>\n",
       "      <td>3+</td>\n",
       "      <td>Graduate</td>\n",
       "      <td>No</td>\n",
       "      <td>5516</td>\n",
       "      <td>11300.0</td>\n",
       "      <td>495.0</td>\n",
       "      <td>360.0</td>\n",
       "      <td>0.0</td>\n",
       "      <td>Semiurban</td>\n",
       "      <td>N</td>\n",
       "      <td>High Inc</td>\n",
       "    </tr>\n",
       "    <tr>\n",
       "      <th>333</th>\n",
       "      <td>LP002101</td>\n",
       "      <td>Male</td>\n",
       "      <td>Yes</td>\n",
       "      <td>0</td>\n",
       "      <td>Graduate</td>\n",
       "      <td>No</td>\n",
       "      <td>63337</td>\n",
       "      <td>0.0</td>\n",
       "      <td>490.0</td>\n",
       "      <td>180.0</td>\n",
       "      <td>1.0</td>\n",
       "      <td>Urban</td>\n",
       "      <td>Y</td>\n",
       "      <td>Very High Inc</td>\n",
       "    </tr>\n",
       "    <tr>\n",
       "      <th>308</th>\n",
       "      <td>LP001996</td>\n",
       "      <td>Male</td>\n",
       "      <td>No</td>\n",
       "      <td>0</td>\n",
       "      <td>Graduate</td>\n",
       "      <td>No</td>\n",
       "      <td>20233</td>\n",
       "      <td>0.0</td>\n",
       "      <td>480.0</td>\n",
       "      <td>360.0</td>\n",
       "      <td>1.0</td>\n",
       "      <td>Rural</td>\n",
       "      <td>N</td>\n",
       "      <td>Very High Inc</td>\n",
       "    </tr>\n",
       "    <tr>\n",
       "      <th>506</th>\n",
       "      <td>LP002624</td>\n",
       "      <td>Male</td>\n",
       "      <td>Yes</td>\n",
       "      <td>0</td>\n",
       "      <td>Graduate</td>\n",
       "      <td>No</td>\n",
       "      <td>20833</td>\n",
       "      <td>6667.0</td>\n",
       "      <td>480.0</td>\n",
       "      <td>360.0</td>\n",
       "      <td>1.0</td>\n",
       "      <td>Urban</td>\n",
       "      <td>Y</td>\n",
       "      <td>Very High Inc</td>\n",
       "    </tr>\n",
       "    <tr>\n",
       "      <th>523</th>\n",
       "      <td>LP002693</td>\n",
       "      <td>Male</td>\n",
       "      <td>Yes</td>\n",
       "      <td>2</td>\n",
       "      <td>Graduate</td>\n",
       "      <td>Yes</td>\n",
       "      <td>7948</td>\n",
       "      <td>7166.0</td>\n",
       "      <td>480.0</td>\n",
       "      <td>360.0</td>\n",
       "      <td>1.0</td>\n",
       "      <td>Rural</td>\n",
       "      <td>Y</td>\n",
       "      <td>High Inc</td>\n",
       "    </tr>\n",
       "    <tr>\n",
       "      <th>278</th>\n",
       "      <td>LP001907</td>\n",
       "      <td>Male</td>\n",
       "      <td>Yes</td>\n",
       "      <td>0</td>\n",
       "      <td>Graduate</td>\n",
       "      <td>No</td>\n",
       "      <td>14583</td>\n",
       "      <td>0.0</td>\n",
       "      <td>436.0</td>\n",
       "      <td>360.0</td>\n",
       "      <td>1.0</td>\n",
       "      <td>Semiurban</td>\n",
       "      <td>Y</td>\n",
       "      <td>Very High Inc</td>\n",
       "    </tr>\n",
       "    <tr>\n",
       "      <th>432</th>\n",
       "      <td>LP002386</td>\n",
       "      <td>Male</td>\n",
       "      <td>No</td>\n",
       "      <td>0</td>\n",
       "      <td>Graduate</td>\n",
       "      <td>No</td>\n",
       "      <td>12876</td>\n",
       "      <td>0.0</td>\n",
       "      <td>405.0</td>\n",
       "      <td>360.0</td>\n",
       "      <td>1.0</td>\n",
       "      <td>Semiurban</td>\n",
       "      <td>Y</td>\n",
       "      <td>Very High Inc</td>\n",
       "    </tr>\n",
       "    <tr>\n",
       "      <th>525</th>\n",
       "      <td>LP002699</td>\n",
       "      <td>Male</td>\n",
       "      <td>Yes</td>\n",
       "      <td>2</td>\n",
       "      <td>Graduate</td>\n",
       "      <td>Yes</td>\n",
       "      <td>17500</td>\n",
       "      <td>0.0</td>\n",
       "      <td>400.0</td>\n",
       "      <td>360.0</td>\n",
       "      <td>1.0</td>\n",
       "      <td>Rural</td>\n",
       "      <td>Y</td>\n",
       "      <td>Very High Inc</td>\n",
       "    </tr>\n",
       "    <tr>\n",
       "      <th>372</th>\n",
       "      <td>LP002201</td>\n",
       "      <td>Male</td>\n",
       "      <td>Yes</td>\n",
       "      <td>2</td>\n",
       "      <td>Graduate</td>\n",
       "      <td>Yes</td>\n",
       "      <td>9323</td>\n",
       "      <td>7873.0</td>\n",
       "      <td>380.0</td>\n",
       "      <td>300.0</td>\n",
       "      <td>1.0</td>\n",
       "      <td>Rural</td>\n",
       "      <td>Y</td>\n",
       "      <td>High Inc</td>\n",
       "    </tr>\n",
       "    <tr>\n",
       "      <th>325</th>\n",
       "      <td>LP002067</td>\n",
       "      <td>Male</td>\n",
       "      <td>Yes</td>\n",
       "      <td>1</td>\n",
       "      <td>Graduate</td>\n",
       "      <td>Yes</td>\n",
       "      <td>8666</td>\n",
       "      <td>4983.0</td>\n",
       "      <td>376.0</td>\n",
       "      <td>360.0</td>\n",
       "      <td>0.0</td>\n",
       "      <td>Rural</td>\n",
       "      <td>N</td>\n",
       "      <td>High Inc</td>\n",
       "    </tr>\n",
       "    <tr>\n",
       "      <th>126</th>\n",
       "      <td>LP001448</td>\n",
       "      <td>Male</td>\n",
       "      <td>Yes</td>\n",
       "      <td>3+</td>\n",
       "      <td>Graduate</td>\n",
       "      <td>No</td>\n",
       "      <td>23803</td>\n",
       "      <td>0.0</td>\n",
       "      <td>370.0</td>\n",
       "      <td>360.0</td>\n",
       "      <td>1.0</td>\n",
       "      <td>Rural</td>\n",
       "      <td>Y</td>\n",
       "      <td>Very High Inc</td>\n",
       "    </tr>\n",
       "    <tr>\n",
       "      <th>409</th>\n",
       "      <td>LP002317</td>\n",
       "      <td>Male</td>\n",
       "      <td>Yes</td>\n",
       "      <td>3+</td>\n",
       "      <td>Graduate</td>\n",
       "      <td>No</td>\n",
       "      <td>81000</td>\n",
       "      <td>0.0</td>\n",
       "      <td>360.0</td>\n",
       "      <td>360.0</td>\n",
       "      <td>0.0</td>\n",
       "      <td>Rural</td>\n",
       "      <td>N</td>\n",
       "      <td>Very High Inc</td>\n",
       "    </tr>\n",
       "    <tr>\n",
       "      <th>600</th>\n",
       "      <td>LP002949</td>\n",
       "      <td>Female</td>\n",
       "      <td>No</td>\n",
       "      <td>3+</td>\n",
       "      <td>Graduate</td>\n",
       "      <td>No</td>\n",
       "      <td>416</td>\n",
       "      <td>41667.0</td>\n",
       "      <td>350.0</td>\n",
       "      <td>180.0</td>\n",
       "      <td>1.0</td>\n",
       "      <td>Urban</td>\n",
       "      <td>N</td>\n",
       "      <td>Low Inc</td>\n",
       "    </tr>\n",
       "    <tr>\n",
       "      <th>9</th>\n",
       "      <td>LP001020</td>\n",
       "      <td>Male</td>\n",
       "      <td>Yes</td>\n",
       "      <td>1</td>\n",
       "      <td>Graduate</td>\n",
       "      <td>No</td>\n",
       "      <td>12841</td>\n",
       "      <td>10968.0</td>\n",
       "      <td>349.0</td>\n",
       "      <td>360.0</td>\n",
       "      <td>1.0</td>\n",
       "      <td>Semiurban</td>\n",
       "      <td>N</td>\n",
       "      <td>Very High Inc</td>\n",
       "    </tr>\n",
       "    <tr>\n",
       "      <th>260</th>\n",
       "      <td>LP001865</td>\n",
       "      <td>Male</td>\n",
       "      <td>Yes</td>\n",
       "      <td>1</td>\n",
       "      <td>Graduate</td>\n",
       "      <td>No</td>\n",
       "      <td>6083</td>\n",
       "      <td>4250.0</td>\n",
       "      <td>330.0</td>\n",
       "      <td>360.0</td>\n",
       "      <td>1.0</td>\n",
       "      <td>Urban</td>\n",
       "      <td>Y</td>\n",
       "      <td>High Inc</td>\n",
       "    </tr>\n",
       "    <tr>\n",
       "      <th>536</th>\n",
       "      <td>LP002734</td>\n",
       "      <td>Male</td>\n",
       "      <td>Yes</td>\n",
       "      <td>0</td>\n",
       "      <td>Graduate</td>\n",
       "      <td>No</td>\n",
       "      <td>6133</td>\n",
       "      <td>3906.0</td>\n",
       "      <td>324.0</td>\n",
       "      <td>360.0</td>\n",
       "      <td>1.0</td>\n",
       "      <td>Urban</td>\n",
       "      <td>Y</td>\n",
       "      <td>High Inc</td>\n",
       "    </tr>\n",
       "    <tr>\n",
       "      <th>34</th>\n",
       "      <td>LP001100</td>\n",
       "      <td>Male</td>\n",
       "      <td>No</td>\n",
       "      <td>3+</td>\n",
       "      <td>Graduate</td>\n",
       "      <td>No</td>\n",
       "      <td>12500</td>\n",
       "      <td>3000.0</td>\n",
       "      <td>320.0</td>\n",
       "      <td>360.0</td>\n",
       "      <td>1.0</td>\n",
       "      <td>Rural</td>\n",
       "      <td>N</td>\n",
       "      <td>Very High Inc</td>\n",
       "    </tr>\n",
       "    <tr>\n",
       "      <th>21</th>\n",
       "      <td>LP001046</td>\n",
       "      <td>Male</td>\n",
       "      <td>Yes</td>\n",
       "      <td>1</td>\n",
       "      <td>Graduate</td>\n",
       "      <td>No</td>\n",
       "      <td>5955</td>\n",
       "      <td>5625.0</td>\n",
       "      <td>315.0</td>\n",
       "      <td>360.0</td>\n",
       "      <td>1.0</td>\n",
       "      <td>Urban</td>\n",
       "      <td>Y</td>\n",
       "      <td>High Inc</td>\n",
       "    </tr>\n",
       "    <tr>\n",
       "      <th>67</th>\n",
       "      <td>LP001233</td>\n",
       "      <td>Male</td>\n",
       "      <td>Yes</td>\n",
       "      <td>1</td>\n",
       "      <td>Graduate</td>\n",
       "      <td>No</td>\n",
       "      <td>10750</td>\n",
       "      <td>0.0</td>\n",
       "      <td>312.0</td>\n",
       "      <td>360.0</td>\n",
       "      <td>1.0</td>\n",
       "      <td>Urban</td>\n",
       "      <td>Y</td>\n",
       "      <td>Very High Inc</td>\n",
       "    </tr>\n",
       "    <tr>\n",
       "      <th>514</th>\n",
       "      <td>LP002652</td>\n",
       "      <td>Male</td>\n",
       "      <td>No</td>\n",
       "      <td>0</td>\n",
       "      <td>Graduate</td>\n",
       "      <td>No</td>\n",
       "      <td>5815</td>\n",
       "      <td>3666.0</td>\n",
       "      <td>311.0</td>\n",
       "      <td>360.0</td>\n",
       "      <td>1.0</td>\n",
       "      <td>Rural</td>\n",
       "      <td>N</td>\n",
       "      <td>High Inc</td>\n",
       "    </tr>\n",
       "    <tr>\n",
       "      <th>351</th>\n",
       "      <td>LP002140</td>\n",
       "      <td>Male</td>\n",
       "      <td>No</td>\n",
       "      <td>0</td>\n",
       "      <td>Graduate</td>\n",
       "      <td>No</td>\n",
       "      <td>8750</td>\n",
       "      <td>4167.0</td>\n",
       "      <td>308.0</td>\n",
       "      <td>360.0</td>\n",
       "      <td>1.0</td>\n",
       "      <td>Rural</td>\n",
       "      <td>N</td>\n",
       "      <td>High Inc</td>\n",
       "    </tr>\n",
       "    <tr>\n",
       "      <th>258</th>\n",
       "      <td>LP001859</td>\n",
       "      <td>Male</td>\n",
       "      <td>Yes</td>\n",
       "      <td>0</td>\n",
       "      <td>Graduate</td>\n",
       "      <td>No</td>\n",
       "      <td>14683</td>\n",
       "      <td>2100.0</td>\n",
       "      <td>304.0</td>\n",
       "      <td>360.0</td>\n",
       "      <td>1.0</td>\n",
       "      <td>Rural</td>\n",
       "      <td>N</td>\n",
       "      <td>Very High Inc</td>\n",
       "    </tr>\n",
       "    <tr>\n",
       "      <th>324</th>\n",
       "      <td>LP002065</td>\n",
       "      <td>Male</td>\n",
       "      <td>Yes</td>\n",
       "      <td>3+</td>\n",
       "      <td>Graduate</td>\n",
       "      <td>No</td>\n",
       "      <td>15000</td>\n",
       "      <td>0.0</td>\n",
       "      <td>300.0</td>\n",
       "      <td>360.0</td>\n",
       "      <td>1.0</td>\n",
       "      <td>Rural</td>\n",
       "      <td>Y</td>\n",
       "      <td>Very High Inc</td>\n",
       "    </tr>\n",
       "    <tr>\n",
       "      <th>...</th>\n",
       "      <td>...</td>\n",
       "      <td>...</td>\n",
       "      <td>...</td>\n",
       "      <td>...</td>\n",
       "      <td>...</td>\n",
       "      <td>...</td>\n",
       "      <td>...</td>\n",
       "      <td>...</td>\n",
       "      <td>...</td>\n",
       "      <td>...</td>\n",
       "      <td>...</td>\n",
       "      <td>...</td>\n",
       "      <td>...</td>\n",
       "      <td>...</td>\n",
       "    </tr>\n",
       "    <tr>\n",
       "      <th>312</th>\n",
       "      <td>LP002006</td>\n",
       "      <td>Female</td>\n",
       "      <td>No</td>\n",
       "      <td>0</td>\n",
       "      <td>Graduate</td>\n",
       "      <td>No</td>\n",
       "      <td>2507</td>\n",
       "      <td>0.0</td>\n",
       "      <td>56.0</td>\n",
       "      <td>360.0</td>\n",
       "      <td>1.0</td>\n",
       "      <td>Rural</td>\n",
       "      <td>Y</td>\n",
       "      <td>Low Inc</td>\n",
       "    </tr>\n",
       "    <tr>\n",
       "      <th>447</th>\n",
       "      <td>LP002435</td>\n",
       "      <td>Male</td>\n",
       "      <td>Yes</td>\n",
       "      <td>0</td>\n",
       "      <td>Graduate</td>\n",
       "      <td>No</td>\n",
       "      <td>3539</td>\n",
       "      <td>1376.0</td>\n",
       "      <td>55.0</td>\n",
       "      <td>360.0</td>\n",
       "      <td>1.0</td>\n",
       "      <td>Rural</td>\n",
       "      <td>N</td>\n",
       "      <td>Mid Inc</td>\n",
       "    </tr>\n",
       "    <tr>\n",
       "      <th>521</th>\n",
       "      <td>LP002690</td>\n",
       "      <td>Male</td>\n",
       "      <td>No</td>\n",
       "      <td>0</td>\n",
       "      <td>Graduate</td>\n",
       "      <td>No</td>\n",
       "      <td>2500</td>\n",
       "      <td>0.0</td>\n",
       "      <td>55.0</td>\n",
       "      <td>360.0</td>\n",
       "      <td>1.0</td>\n",
       "      <td>Semiurban</td>\n",
       "      <td>Y</td>\n",
       "      <td>Low Inc</td>\n",
       "    </tr>\n",
       "    <tr>\n",
       "      <th>207</th>\n",
       "      <td>LP001698</td>\n",
       "      <td>Male</td>\n",
       "      <td>No</td>\n",
       "      <td>0</td>\n",
       "      <td>Not Graduate</td>\n",
       "      <td>No</td>\n",
       "      <td>3975</td>\n",
       "      <td>2531.0</td>\n",
       "      <td>55.0</td>\n",
       "      <td>360.0</td>\n",
       "      <td>1.0</td>\n",
       "      <td>Rural</td>\n",
       "      <td>Y</td>\n",
       "      <td>Mid Inc</td>\n",
       "    </tr>\n",
       "    <tr>\n",
       "      <th>370</th>\n",
       "      <td>LP002194</td>\n",
       "      <td>Female</td>\n",
       "      <td>No</td>\n",
       "      <td>0</td>\n",
       "      <td>Graduate</td>\n",
       "      <td>Yes</td>\n",
       "      <td>15759</td>\n",
       "      <td>0.0</td>\n",
       "      <td>55.0</td>\n",
       "      <td>360.0</td>\n",
       "      <td>1.0</td>\n",
       "      <td>Semiurban</td>\n",
       "      <td>Y</td>\n",
       "      <td>Very High Inc</td>\n",
       "    </tr>\n",
       "    <tr>\n",
       "      <th>283</th>\n",
       "      <td>LP001917</td>\n",
       "      <td>Female</td>\n",
       "      <td>No</td>\n",
       "      <td>0</td>\n",
       "      <td>Graduate</td>\n",
       "      <td>No</td>\n",
       "      <td>1811</td>\n",
       "      <td>1666.0</td>\n",
       "      <td>54.0</td>\n",
       "      <td>360.0</td>\n",
       "      <td>1.0</td>\n",
       "      <td>Urban</td>\n",
       "      <td>Y</td>\n",
       "      <td>Low Inc</td>\n",
       "    </tr>\n",
       "    <tr>\n",
       "      <th>403</th>\n",
       "      <td>LP002300</td>\n",
       "      <td>Female</td>\n",
       "      <td>No</td>\n",
       "      <td>0</td>\n",
       "      <td>Not Graduate</td>\n",
       "      <td>No</td>\n",
       "      <td>1963</td>\n",
       "      <td>0.0</td>\n",
       "      <td>53.0</td>\n",
       "      <td>360.0</td>\n",
       "      <td>1.0</td>\n",
       "      <td>Semiurban</td>\n",
       "      <td>Y</td>\n",
       "      <td>Low Inc</td>\n",
       "    </tr>\n",
       "    <tr>\n",
       "      <th>84</th>\n",
       "      <td>LP001275</td>\n",
       "      <td>Male</td>\n",
       "      <td>Yes</td>\n",
       "      <td>1</td>\n",
       "      <td>Graduate</td>\n",
       "      <td>No</td>\n",
       "      <td>3988</td>\n",
       "      <td>0.0</td>\n",
       "      <td>50.0</td>\n",
       "      <td>240.0</td>\n",
       "      <td>1.0</td>\n",
       "      <td>Urban</td>\n",
       "      <td>Y</td>\n",
       "      <td>Mid Inc</td>\n",
       "    </tr>\n",
       "    <tr>\n",
       "      <th>154</th>\n",
       "      <td>LP001535</td>\n",
       "      <td>Male</td>\n",
       "      <td>No</td>\n",
       "      <td>0</td>\n",
       "      <td>Graduate</td>\n",
       "      <td>No</td>\n",
       "      <td>3254</td>\n",
       "      <td>0.0</td>\n",
       "      <td>50.0</td>\n",
       "      <td>360.0</td>\n",
       "      <td>1.0</td>\n",
       "      <td>Urban</td>\n",
       "      <td>Y</td>\n",
       "      <td>Mid Inc</td>\n",
       "    </tr>\n",
       "    <tr>\n",
       "      <th>436</th>\n",
       "      <td>LP002398</td>\n",
       "      <td>Male</td>\n",
       "      <td>No</td>\n",
       "      <td>0</td>\n",
       "      <td>Graduate</td>\n",
       "      <td>No</td>\n",
       "      <td>1926</td>\n",
       "      <td>1851.0</td>\n",
       "      <td>50.0</td>\n",
       "      <td>360.0</td>\n",
       "      <td>1.0</td>\n",
       "      <td>Semiurban</td>\n",
       "      <td>Y</td>\n",
       "      <td>Low Inc</td>\n",
       "    </tr>\n",
       "    <tr>\n",
       "      <th>97</th>\n",
       "      <td>LP001333</td>\n",
       "      <td>Male</td>\n",
       "      <td>Yes</td>\n",
       "      <td>0</td>\n",
       "      <td>Graduate</td>\n",
       "      <td>No</td>\n",
       "      <td>1977</td>\n",
       "      <td>997.0</td>\n",
       "      <td>50.0</td>\n",
       "      <td>360.0</td>\n",
       "      <td>1.0</td>\n",
       "      <td>Semiurban</td>\n",
       "      <td>Y</td>\n",
       "      <td>Low Inc</td>\n",
       "    </tr>\n",
       "    <tr>\n",
       "      <th>190</th>\n",
       "      <td>LP001653</td>\n",
       "      <td>Male</td>\n",
       "      <td>No</td>\n",
       "      <td>0</td>\n",
       "      <td>Not Graduate</td>\n",
       "      <td>No</td>\n",
       "      <td>4885</td>\n",
       "      <td>0.0</td>\n",
       "      <td>48.0</td>\n",
       "      <td>360.0</td>\n",
       "      <td>1.0</td>\n",
       "      <td>Rural</td>\n",
       "      <td>Y</td>\n",
       "      <td>Mid Inc</td>\n",
       "    </tr>\n",
       "    <tr>\n",
       "      <th>41</th>\n",
       "      <td>LP001120</td>\n",
       "      <td>Male</td>\n",
       "      <td>No</td>\n",
       "      <td>0</td>\n",
       "      <td>Graduate</td>\n",
       "      <td>No</td>\n",
       "      <td>1800</td>\n",
       "      <td>1213.0</td>\n",
       "      <td>47.0</td>\n",
       "      <td>360.0</td>\n",
       "      <td>1.0</td>\n",
       "      <td>Urban</td>\n",
       "      <td>Y</td>\n",
       "      <td>Low Inc</td>\n",
       "    </tr>\n",
       "    <tr>\n",
       "      <th>341</th>\n",
       "      <td>LP002116</td>\n",
       "      <td>Female</td>\n",
       "      <td>No</td>\n",
       "      <td>0</td>\n",
       "      <td>Graduate</td>\n",
       "      <td>No</td>\n",
       "      <td>2378</td>\n",
       "      <td>0.0</td>\n",
       "      <td>46.0</td>\n",
       "      <td>360.0</td>\n",
       "      <td>1.0</td>\n",
       "      <td>Rural</td>\n",
       "      <td>N</td>\n",
       "      <td>Low Inc</td>\n",
       "    </tr>\n",
       "    <tr>\n",
       "      <th>400</th>\n",
       "      <td>LP002288</td>\n",
       "      <td>Male</td>\n",
       "      <td>Yes</td>\n",
       "      <td>2</td>\n",
       "      <td>Not Graduate</td>\n",
       "      <td>No</td>\n",
       "      <td>2889</td>\n",
       "      <td>0.0</td>\n",
       "      <td>45.0</td>\n",
       "      <td>180.0</td>\n",
       "      <td>0.0</td>\n",
       "      <td>Urban</td>\n",
       "      <td>N</td>\n",
       "      <td>Low Inc</td>\n",
       "    </tr>\n",
       "    <tr>\n",
       "      <th>520</th>\n",
       "      <td>LP002689</td>\n",
       "      <td>Male</td>\n",
       "      <td>Yes</td>\n",
       "      <td>2</td>\n",
       "      <td>Not Graduate</td>\n",
       "      <td>No</td>\n",
       "      <td>2192</td>\n",
       "      <td>1742.0</td>\n",
       "      <td>45.0</td>\n",
       "      <td>360.0</td>\n",
       "      <td>1.0</td>\n",
       "      <td>Semiurban</td>\n",
       "      <td>Y</td>\n",
       "      <td>Low Inc</td>\n",
       "    </tr>\n",
       "    <tr>\n",
       "      <th>46</th>\n",
       "      <td>LP001138</td>\n",
       "      <td>Male</td>\n",
       "      <td>Yes</td>\n",
       "      <td>1</td>\n",
       "      <td>Graduate</td>\n",
       "      <td>No</td>\n",
       "      <td>5649</td>\n",
       "      <td>0.0</td>\n",
       "      <td>44.0</td>\n",
       "      <td>360.0</td>\n",
       "      <td>1.0</td>\n",
       "      <td>Urban</td>\n",
       "      <td>Y</td>\n",
       "      <td>High Inc</td>\n",
       "    </tr>\n",
       "    <tr>\n",
       "      <th>121</th>\n",
       "      <td>LP001430</td>\n",
       "      <td>Female</td>\n",
       "      <td>No</td>\n",
       "      <td>0</td>\n",
       "      <td>Graduate</td>\n",
       "      <td>No</td>\n",
       "      <td>4166</td>\n",
       "      <td>0.0</td>\n",
       "      <td>44.0</td>\n",
       "      <td>360.0</td>\n",
       "      <td>1.0</td>\n",
       "      <td>Semiurban</td>\n",
       "      <td>Y</td>\n",
       "      <td>Mid Inc</td>\n",
       "    </tr>\n",
       "    <tr>\n",
       "      <th>231</th>\n",
       "      <td>LP001768</td>\n",
       "      <td>Male</td>\n",
       "      <td>Yes</td>\n",
       "      <td>0</td>\n",
       "      <td>Graduate</td>\n",
       "      <td>No</td>\n",
       "      <td>3716</td>\n",
       "      <td>0.0</td>\n",
       "      <td>42.0</td>\n",
       "      <td>180.0</td>\n",
       "      <td>1.0</td>\n",
       "      <td>Rural</td>\n",
       "      <td>Y</td>\n",
       "      <td>Mid Inc</td>\n",
       "    </tr>\n",
       "    <tr>\n",
       "      <th>509</th>\n",
       "      <td>LP002634</td>\n",
       "      <td>Female</td>\n",
       "      <td>No</td>\n",
       "      <td>1</td>\n",
       "      <td>Graduate</td>\n",
       "      <td>No</td>\n",
       "      <td>13262</td>\n",
       "      <td>0.0</td>\n",
       "      <td>40.0</td>\n",
       "      <td>360.0</td>\n",
       "      <td>1.0</td>\n",
       "      <td>Urban</td>\n",
       "      <td>Y</td>\n",
       "      <td>Very High Inc</td>\n",
       "    </tr>\n",
       "    <tr>\n",
       "      <th>610</th>\n",
       "      <td>LP002979</td>\n",
       "      <td>Male</td>\n",
       "      <td>Yes</td>\n",
       "      <td>3+</td>\n",
       "      <td>Graduate</td>\n",
       "      <td>No</td>\n",
       "      <td>4106</td>\n",
       "      <td>0.0</td>\n",
       "      <td>40.0</td>\n",
       "      <td>180.0</td>\n",
       "      <td>1.0</td>\n",
       "      <td>Rural</td>\n",
       "      <td>Y</td>\n",
       "      <td>Mid Inc</td>\n",
       "    </tr>\n",
       "    <tr>\n",
       "      <th>582</th>\n",
       "      <td>LP002894</td>\n",
       "      <td>Female</td>\n",
       "      <td>Yes</td>\n",
       "      <td>0</td>\n",
       "      <td>Graduate</td>\n",
       "      <td>No</td>\n",
       "      <td>3166</td>\n",
       "      <td>0.0</td>\n",
       "      <td>36.0</td>\n",
       "      <td>360.0</td>\n",
       "      <td>1.0</td>\n",
       "      <td>Semiurban</td>\n",
       "      <td>Y</td>\n",
       "      <td>Low Inc</td>\n",
       "    </tr>\n",
       "    <tr>\n",
       "      <th>28</th>\n",
       "      <td>LP001086</td>\n",
       "      <td>Male</td>\n",
       "      <td>No</td>\n",
       "      <td>0</td>\n",
       "      <td>Not Graduate</td>\n",
       "      <td>No</td>\n",
       "      <td>1442</td>\n",
       "      <td>0.0</td>\n",
       "      <td>35.0</td>\n",
       "      <td>360.0</td>\n",
       "      <td>1.0</td>\n",
       "      <td>Urban</td>\n",
       "      <td>N</td>\n",
       "      <td>Low Inc</td>\n",
       "    </tr>\n",
       "    <tr>\n",
       "      <th>147</th>\n",
       "      <td>LP001518</td>\n",
       "      <td>Male</td>\n",
       "      <td>Yes</td>\n",
       "      <td>1</td>\n",
       "      <td>Graduate</td>\n",
       "      <td>No</td>\n",
       "      <td>1538</td>\n",
       "      <td>1425.0</td>\n",
       "      <td>30.0</td>\n",
       "      <td>360.0</td>\n",
       "      <td>1.0</td>\n",
       "      <td>Urban</td>\n",
       "      <td>Y</td>\n",
       "      <td>Low Inc</td>\n",
       "    </tr>\n",
       "    <tr>\n",
       "      <th>270</th>\n",
       "      <td>LP001888</td>\n",
       "      <td>Female</td>\n",
       "      <td>No</td>\n",
       "      <td>0</td>\n",
       "      <td>Graduate</td>\n",
       "      <td>No</td>\n",
       "      <td>3237</td>\n",
       "      <td>0.0</td>\n",
       "      <td>30.0</td>\n",
       "      <td>360.0</td>\n",
       "      <td>1.0</td>\n",
       "      <td>Urban</td>\n",
       "      <td>Y</td>\n",
       "      <td>Mid Inc</td>\n",
       "    </tr>\n",
       "    <tr>\n",
       "      <th>555</th>\n",
       "      <td>LP002792</td>\n",
       "      <td>Male</td>\n",
       "      <td>Yes</td>\n",
       "      <td>1</td>\n",
       "      <td>Graduate</td>\n",
       "      <td>No</td>\n",
       "      <td>5468</td>\n",
       "      <td>1032.0</td>\n",
       "      <td>26.0</td>\n",
       "      <td>360.0</td>\n",
       "      <td>1.0</td>\n",
       "      <td>Semiurban</td>\n",
       "      <td>Y</td>\n",
       "      <td>High Inc</td>\n",
       "    </tr>\n",
       "    <tr>\n",
       "      <th>94</th>\n",
       "      <td>LP001325</td>\n",
       "      <td>Male</td>\n",
       "      <td>No</td>\n",
       "      <td>0</td>\n",
       "      <td>Not Graduate</td>\n",
       "      <td>No</td>\n",
       "      <td>3620</td>\n",
       "      <td>0.0</td>\n",
       "      <td>25.0</td>\n",
       "      <td>120.0</td>\n",
       "      <td>1.0</td>\n",
       "      <td>Semiurban</td>\n",
       "      <td>Y</td>\n",
       "      <td>Mid Inc</td>\n",
       "    </tr>\n",
       "    <tr>\n",
       "      <th>133</th>\n",
       "      <td>LP001482</td>\n",
       "      <td>Male</td>\n",
       "      <td>Yes</td>\n",
       "      <td>0</td>\n",
       "      <td>Graduate</td>\n",
       "      <td>Yes</td>\n",
       "      <td>3459</td>\n",
       "      <td>0.0</td>\n",
       "      <td>25.0</td>\n",
       "      <td>120.0</td>\n",
       "      <td>1.0</td>\n",
       "      <td>Semiurban</td>\n",
       "      <td>Y</td>\n",
       "      <td>Mid Inc</td>\n",
       "    </tr>\n",
       "    <tr>\n",
       "      <th>14</th>\n",
       "      <td>LP001030</td>\n",
       "      <td>Male</td>\n",
       "      <td>Yes</td>\n",
       "      <td>2</td>\n",
       "      <td>Graduate</td>\n",
       "      <td>No</td>\n",
       "      <td>1299</td>\n",
       "      <td>1086.0</td>\n",
       "      <td>17.0</td>\n",
       "      <td>120.0</td>\n",
       "      <td>1.0</td>\n",
       "      <td>Urban</td>\n",
       "      <td>Y</td>\n",
       "      <td>Low Inc</td>\n",
       "    </tr>\n",
       "    <tr>\n",
       "      <th>568</th>\n",
       "      <td>LP002840</td>\n",
       "      <td>Female</td>\n",
       "      <td>No</td>\n",
       "      <td>0</td>\n",
       "      <td>Graduate</td>\n",
       "      <td>No</td>\n",
       "      <td>2378</td>\n",
       "      <td>0.0</td>\n",
       "      <td>9.0</td>\n",
       "      <td>360.0</td>\n",
       "      <td>1.0</td>\n",
       "      <td>Urban</td>\n",
       "      <td>N</td>\n",
       "      <td>Low Inc</td>\n",
       "    </tr>\n",
       "  </tbody>\n",
       "</table>\n",
       "<p>614 rows × 14 columns</p>\n",
       "</div>"
      ],
      "text/plain": [
       "      Loan_ID  Gender Married Dependents     Education Self_Employed  \\\n",
       "171  LP001585    Male     Yes         3+      Graduate            No   \n",
       "130  LP001469    Male      No          0      Graduate           Yes   \n",
       "155  LP001536    Male     Yes         3+      Graduate            No   \n",
       "561  LP002813  Female     Yes          1      Graduate           Yes   \n",
       "369  LP002191    Male     Yes          0      Graduate            No   \n",
       "487  LP002547    Male     Yes          1      Graduate            No   \n",
       "604  LP002959  Female     Yes          1      Graduate            No   \n",
       "177  LP001610    Male     Yes         3+      Graduate            No   \n",
       "333  LP002101    Male     Yes          0      Graduate            No   \n",
       "308  LP001996    Male      No          0      Graduate            No   \n",
       "506  LP002624    Male     Yes          0      Graduate            No   \n",
       "523  LP002693    Male     Yes          2      Graduate           Yes   \n",
       "278  LP001907    Male     Yes          0      Graduate            No   \n",
       "432  LP002386    Male      No          0      Graduate            No   \n",
       "525  LP002699    Male     Yes          2      Graduate           Yes   \n",
       "372  LP002201    Male     Yes          2      Graduate           Yes   \n",
       "325  LP002067    Male     Yes          1      Graduate           Yes   \n",
       "126  LP001448    Male     Yes         3+      Graduate            No   \n",
       "409  LP002317    Male     Yes         3+      Graduate            No   \n",
       "600  LP002949  Female      No         3+      Graduate            No   \n",
       "9    LP001020    Male     Yes          1      Graduate            No   \n",
       "260  LP001865    Male     Yes          1      Graduate            No   \n",
       "536  LP002734    Male     Yes          0      Graduate            No   \n",
       "34   LP001100    Male      No         3+      Graduate            No   \n",
       "21   LP001046    Male     Yes          1      Graduate            No   \n",
       "67   LP001233    Male     Yes          1      Graduate            No   \n",
       "514  LP002652    Male      No          0      Graduate            No   \n",
       "351  LP002140    Male      No          0      Graduate            No   \n",
       "258  LP001859    Male     Yes          0      Graduate            No   \n",
       "324  LP002065    Male     Yes         3+      Graduate            No   \n",
       "..        ...     ...     ...        ...           ...           ...   \n",
       "312  LP002006  Female      No          0      Graduate            No   \n",
       "447  LP002435    Male     Yes          0      Graduate            No   \n",
       "521  LP002690    Male      No          0      Graduate            No   \n",
       "207  LP001698    Male      No          0  Not Graduate            No   \n",
       "370  LP002194  Female      No          0      Graduate           Yes   \n",
       "283  LP001917  Female      No          0      Graduate            No   \n",
       "403  LP002300  Female      No          0  Not Graduate            No   \n",
       "84   LP001275    Male     Yes          1      Graduate            No   \n",
       "154  LP001535    Male      No          0      Graduate            No   \n",
       "436  LP002398    Male      No          0      Graduate            No   \n",
       "97   LP001333    Male     Yes          0      Graduate            No   \n",
       "190  LP001653    Male      No          0  Not Graduate            No   \n",
       "41   LP001120    Male      No          0      Graduate            No   \n",
       "341  LP002116  Female      No          0      Graduate            No   \n",
       "400  LP002288    Male     Yes          2  Not Graduate            No   \n",
       "520  LP002689    Male     Yes          2  Not Graduate            No   \n",
       "46   LP001138    Male     Yes          1      Graduate            No   \n",
       "121  LP001430  Female      No          0      Graduate            No   \n",
       "231  LP001768    Male     Yes          0      Graduate            No   \n",
       "509  LP002634  Female      No          1      Graduate            No   \n",
       "610  LP002979    Male     Yes         3+      Graduate            No   \n",
       "582  LP002894  Female     Yes          0      Graduate            No   \n",
       "28   LP001086    Male      No          0  Not Graduate            No   \n",
       "147  LP001518    Male     Yes          1      Graduate            No   \n",
       "270  LP001888  Female      No          0      Graduate            No   \n",
       "555  LP002792    Male     Yes          1      Graduate            No   \n",
       "94   LP001325    Male      No          0  Not Graduate            No   \n",
       "133  LP001482    Male     Yes          0      Graduate           Yes   \n",
       "14   LP001030    Male     Yes          2      Graduate            No   \n",
       "568  LP002840  Female      No          0      Graduate            No   \n",
       "\n",
       "     ApplicantIncome  CoapplicantIncome  LoanAmount  Loan_Amount_Term  \\\n",
       "171            51763                0.0       700.0             300.0   \n",
       "130            20166                0.0       650.0             480.0   \n",
       "155            39999                0.0       600.0             180.0   \n",
       "561            19484                0.0       600.0             360.0   \n",
       "369            19730             5266.0       570.0             360.0   \n",
       "487            18333                0.0       500.0             360.0   \n",
       "604            12000                0.0       496.0             360.0   \n",
       "177             5516            11300.0       495.0             360.0   \n",
       "333            63337                0.0       490.0             180.0   \n",
       "308            20233                0.0       480.0             360.0   \n",
       "506            20833             6667.0       480.0             360.0   \n",
       "523             7948             7166.0       480.0             360.0   \n",
       "278            14583                0.0       436.0             360.0   \n",
       "432            12876                0.0       405.0             360.0   \n",
       "525            17500                0.0       400.0             360.0   \n",
       "372             9323             7873.0       380.0             300.0   \n",
       "325             8666             4983.0       376.0             360.0   \n",
       "126            23803                0.0       370.0             360.0   \n",
       "409            81000                0.0       360.0             360.0   \n",
       "600              416            41667.0       350.0             180.0   \n",
       "9              12841            10968.0       349.0             360.0   \n",
       "260             6083             4250.0       330.0             360.0   \n",
       "536             6133             3906.0       324.0             360.0   \n",
       "34             12500             3000.0       320.0             360.0   \n",
       "21              5955             5625.0       315.0             360.0   \n",
       "67             10750                0.0       312.0             360.0   \n",
       "514             5815             3666.0       311.0             360.0   \n",
       "351             8750             4167.0       308.0             360.0   \n",
       "258            14683             2100.0       304.0             360.0   \n",
       "324            15000                0.0       300.0             360.0   \n",
       "..               ...                ...         ...               ...   \n",
       "312             2507                0.0        56.0             360.0   \n",
       "447             3539             1376.0        55.0             360.0   \n",
       "521             2500                0.0        55.0             360.0   \n",
       "207             3975             2531.0        55.0             360.0   \n",
       "370            15759                0.0        55.0             360.0   \n",
       "283             1811             1666.0        54.0             360.0   \n",
       "403             1963                0.0        53.0             360.0   \n",
       "84              3988                0.0        50.0             240.0   \n",
       "154             3254                0.0        50.0             360.0   \n",
       "436             1926             1851.0        50.0             360.0   \n",
       "97              1977              997.0        50.0             360.0   \n",
       "190             4885                0.0        48.0             360.0   \n",
       "41              1800             1213.0        47.0             360.0   \n",
       "341             2378                0.0        46.0             360.0   \n",
       "400             2889                0.0        45.0             180.0   \n",
       "520             2192             1742.0        45.0             360.0   \n",
       "46              5649                0.0        44.0             360.0   \n",
       "121             4166                0.0        44.0             360.0   \n",
       "231             3716                0.0        42.0             180.0   \n",
       "509            13262                0.0        40.0             360.0   \n",
       "610             4106                0.0        40.0             180.0   \n",
       "582             3166                0.0        36.0             360.0   \n",
       "28              1442                0.0        35.0             360.0   \n",
       "147             1538             1425.0        30.0             360.0   \n",
       "270             3237                0.0        30.0             360.0   \n",
       "555             5468             1032.0        26.0             360.0   \n",
       "94              3620                0.0        25.0             120.0   \n",
       "133             3459                0.0        25.0             120.0   \n",
       "14              1299             1086.0        17.0             120.0   \n",
       "568             2378                0.0         9.0             360.0   \n",
       "\n",
       "     Credit_History Property_Area Loan_Status Income_Band_new  \n",
       "171             1.0         Urban           Y   Very High Inc  \n",
       "130             1.0         Urban           Y   Very High Inc  \n",
       "155             0.0     Semiurban           Y   Very High Inc  \n",
       "561             1.0     Semiurban           Y   Very High Inc  \n",
       "369             1.0         Rural           N   Very High Inc  \n",
       "487             1.0         Urban           N   Very High Inc  \n",
       "604             1.0     Semiurban           Y   Very High Inc  \n",
       "177             0.0     Semiurban           N        High Inc  \n",
       "333             1.0         Urban           Y   Very High Inc  \n",
       "308             1.0         Rural           N   Very High Inc  \n",
       "506             1.0         Urban           Y   Very High Inc  \n",
       "523             1.0         Rural           Y        High Inc  \n",
       "278             1.0     Semiurban           Y   Very High Inc  \n",
       "432             1.0     Semiurban           Y   Very High Inc  \n",
       "525             1.0         Rural           Y   Very High Inc  \n",
       "372             1.0         Rural           Y        High Inc  \n",
       "325             0.0         Rural           N        High Inc  \n",
       "126             1.0         Rural           Y   Very High Inc  \n",
       "409             0.0         Rural           N   Very High Inc  \n",
       "600             1.0         Urban           N         Low Inc  \n",
       "9               1.0     Semiurban           N   Very High Inc  \n",
       "260             1.0         Urban           Y        High Inc  \n",
       "536             1.0         Urban           Y        High Inc  \n",
       "34              1.0         Rural           N   Very High Inc  \n",
       "21              1.0         Urban           Y        High Inc  \n",
       "67              1.0         Urban           Y   Very High Inc  \n",
       "514             1.0         Rural           N        High Inc  \n",
       "351             1.0         Rural           N        High Inc  \n",
       "258             1.0         Rural           N   Very High Inc  \n",
       "324             1.0         Rural           Y   Very High Inc  \n",
       "..              ...           ...         ...             ...  \n",
       "312             1.0         Rural           Y         Low Inc  \n",
       "447             1.0         Rural           N         Mid Inc  \n",
       "521             1.0     Semiurban           Y         Low Inc  \n",
       "207             1.0         Rural           Y         Mid Inc  \n",
       "370             1.0     Semiurban           Y   Very High Inc  \n",
       "283             1.0         Urban           Y         Low Inc  \n",
       "403             1.0     Semiurban           Y         Low Inc  \n",
       "84              1.0         Urban           Y         Mid Inc  \n",
       "154             1.0         Urban           Y         Mid Inc  \n",
       "436             1.0     Semiurban           Y         Low Inc  \n",
       "97              1.0     Semiurban           Y         Low Inc  \n",
       "190             1.0         Rural           Y         Mid Inc  \n",
       "41              1.0         Urban           Y         Low Inc  \n",
       "341             1.0         Rural           N         Low Inc  \n",
       "400             0.0         Urban           N         Low Inc  \n",
       "520             1.0     Semiurban           Y         Low Inc  \n",
       "46              1.0         Urban           Y        High Inc  \n",
       "121             1.0     Semiurban           Y         Mid Inc  \n",
       "231             1.0         Rural           Y         Mid Inc  \n",
       "509             1.0         Urban           Y   Very High Inc  \n",
       "610             1.0         Rural           Y         Mid Inc  \n",
       "582             1.0     Semiurban           Y         Low Inc  \n",
       "28              1.0         Urban           N         Low Inc  \n",
       "147             1.0         Urban           Y         Low Inc  \n",
       "270             1.0         Urban           Y         Mid Inc  \n",
       "555             1.0     Semiurban           Y        High Inc  \n",
       "94              1.0     Semiurban           Y         Mid Inc  \n",
       "133             1.0     Semiurban           Y         Mid Inc  \n",
       "14              1.0         Urban           Y         Low Inc  \n",
       "568             1.0         Urban           N         Low Inc  \n",
       "\n",
       "[614 rows x 14 columns]"
      ]
     },
     "execution_count": 535,
     "metadata": {},
     "output_type": "execute_result"
    }
   ],
   "source": [
    "train_data.sort_values(by = 'LoanAmount', ascending=0)"
   ]
  },
  {
   "cell_type": "code",
   "execution_count": 536,
   "metadata": {},
   "outputs": [
    {
     "data": {
      "image/png": "[encoded data removed]",
      "text/plain": [
       "<Figure size 432x288 with 1 Axes>"
      ]
     },
     "metadata": {},
     "output_type": "display_data"
    },
    {
     "data": {
      "image/png": "[encoded data removed]",
      "text/plain": [
       "<Figure size 432x288 with 1 Axes>"
      ]
     },
     "metadata": {},
     "output_type": "display_data"
    }
   ],
   "source": [
    "#before transformation\n",
    "\n",
    "train_data['LoanAmount'].hist(bins=20)\n",
    "plt.show()\n",
    "\n",
    "\n",
    "sns.distplot(train_data['LoanAmount'])\n",
    "plt.show()"
   ]
  },
  {
   "cell_type": "code",
   "execution_count": 537,
   "metadata": {},
   "outputs": [],
   "source": [
    "# Natural Log Transformation\n",
    "\n",
    "train_data['LoanAmount_log'] = np.log(train_data['LoanAmount'])"
   ]
  },
  {
   "cell_type": "code",
   "execution_count": null,
   "metadata": {},
   "outputs": [],
   "source": []
  },
  {
   "cell_type": "code",
   "execution_count": 538,
   "metadata": {},
   "outputs": [
    {
     "data": {
      "image/png": "[encoded data removed]",
      "text/plain": [
       "<Figure size 432x288 with 1 Axes>"
      ]
     },
     "metadata": {},
     "output_type": "display_data"
    },
    {
     "data": {
      "image/png": "[encoded data removed]",
      "text/plain": [
       "<Figure size 432x288 with 1 Axes>"
      ]
     },
     "metadata": {},
     "output_type": "display_data"
    }
   ],
   "source": [
    "# After transformation\n",
    "train_data['LoanAmount_log'].hist(bins=20)\n",
    "plt.show()\n",
    "\n",
    "sns.distplot(train_data['LoanAmount_log'])\n",
    "plt.show()"
   ]
  },
  {
   "cell_type": "code",
   "execution_count": 539,
   "metadata": {},
   "outputs": [
    {
     "data": {
      "image/png": "[encoded data removed]",
      "text/plain": [
       "<Figure size 432x288 with 1 Axes>"
      ]
     },
     "metadata": {},
     "output_type": "display_data"
    },
    {
     "data": {
      "image/png": "[encoded data removed]",
      "text/plain": [
       "<Figure size 432x288 with 1 Axes>"
      ]
     },
     "metadata": {},
     "output_type": "display_data"
    }
   ],
   "source": [
    "# Log10 Transformation\n",
    "train_data['LoanAmount_log10'] = np.log10(train_data['LoanAmount'])\n",
    "\n",
    "\n",
    "# After transformation\n",
    "train_data['LoanAmount_log10'].hist(bins=20)\n",
    "plt.show()\n",
    "\n",
    "\n",
    "\n",
    "sns.distplot(train_data['LoanAmount_log10'])\n",
    "plt.show()"
   ]
  },
  {
   "cell_type": "code",
   "execution_count": 541,
   "metadata": {},
   "outputs": [],
   "source": [
    "train_data['TotalIncome'] = train_data['ApplicantIncome'] + train_data['CoapplicantIncome']"
   ]
  },
  {
   "cell_type": "code",
   "execution_count": 542,
   "metadata": {},
   "outputs": [
    {
     "data": {
      "image/png": "[encoded data removed]",
      "text/plain": [
       "<Figure size 432x288 with 1 Axes>"
      ]
     },
     "metadata": {},
     "output_type": "display_data"
    }
   ],
   "source": [
    "train_data['TotalIncome_log'] = np.log(train_data['TotalIncome'])\n",
    "train_data['TotalIncome_log'].hist(bins=20)\n",
    "plt.show()"
   ]
  },
  {
   "cell_type": "code",
   "execution_count": null,
   "metadata": {},
   "outputs": [],
   "source": []
  },
  {
   "cell_type": "code",
   "execution_count": null,
   "metadata": {},
   "outputs": [],
   "source": []
  },
  {
   "cell_type": "code",
   "execution_count": 543,
   "metadata": {},
   "outputs": [
    {
     "data": {
      "text/html": [
       "<div>\n",
       "<style scoped>\n",
       "    .dataframe tbody tr th:only-of-type {\n",
       "        vertical-align: middle;\n",
       "    }\n",
       "\n",
       "    .dataframe tbody tr th {\n",
       "        vertical-align: top;\n",
       "    }\n",
       "\n",
       "    .dataframe thead th {\n",
       "        text-align: right;\n",
       "    }\n",
       "</style>\n",
       "<table border=\"1\" class=\"dataframe\">\n",
       "  <thead>\n",
       "    <tr style=\"text-align: right;\">\n",
       "      <th></th>\n",
       "      <th>Loan_ID</th>\n",
       "      <th>Gender</th>\n",
       "      <th>Married</th>\n",
       "      <th>Dependents</th>\n",
       "      <th>Education</th>\n",
       "      <th>Self_Employed</th>\n",
       "      <th>ApplicantIncome</th>\n",
       "      <th>CoapplicantIncome</th>\n",
       "      <th>LoanAmount</th>\n",
       "      <th>Loan_Amount_Term</th>\n",
       "      <th>Credit_History</th>\n",
       "      <th>Property_Area</th>\n",
       "      <th>Loan_Status</th>\n",
       "      <th>Income_Band_new</th>\n",
       "      <th>LoanAmount_log</th>\n",
       "      <th>LoanAmount_log10</th>\n",
       "      <th>TotalIncome</th>\n",
       "      <th>TotalIncome_log</th>\n",
       "    </tr>\n",
       "  </thead>\n",
       "  <tbody>\n",
       "    <tr>\n",
       "      <th>0</th>\n",
       "      <td>LP001002</td>\n",
       "      <td>Male</td>\n",
       "      <td>No</td>\n",
       "      <td>0</td>\n",
       "      <td>Graduate</td>\n",
       "      <td>No</td>\n",
       "      <td>5849</td>\n",
       "      <td>0.0</td>\n",
       "      <td>146.41</td>\n",
       "      <td>360.0</td>\n",
       "      <td>1.0</td>\n",
       "      <td>Urban</td>\n",
       "      <td>Y</td>\n",
       "      <td>High Inc</td>\n",
       "      <td>4.986411</td>\n",
       "      <td>2.165571</td>\n",
       "      <td>5849.0</td>\n",
       "      <td>8.674026</td>\n",
       "    </tr>\n",
       "    <tr>\n",
       "      <th>1</th>\n",
       "      <td>LP001003</td>\n",
       "      <td>Male</td>\n",
       "      <td>Yes</td>\n",
       "      <td>1</td>\n",
       "      <td>Graduate</td>\n",
       "      <td>No</td>\n",
       "      <td>4583</td>\n",
       "      <td>1508.0</td>\n",
       "      <td>128.00</td>\n",
       "      <td>360.0</td>\n",
       "      <td>1.0</td>\n",
       "      <td>Rural</td>\n",
       "      <td>N</td>\n",
       "      <td>Mid Inc</td>\n",
       "      <td>4.852030</td>\n",
       "      <td>2.107210</td>\n",
       "      <td>6091.0</td>\n",
       "      <td>8.714568</td>\n",
       "    </tr>\n",
       "    <tr>\n",
       "      <th>2</th>\n",
       "      <td>LP001005</td>\n",
       "      <td>Male</td>\n",
       "      <td>Yes</td>\n",
       "      <td>0</td>\n",
       "      <td>Graduate</td>\n",
       "      <td>Yes</td>\n",
       "      <td>3000</td>\n",
       "      <td>0.0</td>\n",
       "      <td>66.00</td>\n",
       "      <td>360.0</td>\n",
       "      <td>1.0</td>\n",
       "      <td>Urban</td>\n",
       "      <td>Y</td>\n",
       "      <td>Low Inc</td>\n",
       "      <td>4.189655</td>\n",
       "      <td>1.819544</td>\n",
       "      <td>3000.0</td>\n",
       "      <td>8.006368</td>\n",
       "    </tr>\n",
       "    <tr>\n",
       "      <th>3</th>\n",
       "      <td>LP001006</td>\n",
       "      <td>Male</td>\n",
       "      <td>Yes</td>\n",
       "      <td>0</td>\n",
       "      <td>Not Graduate</td>\n",
       "      <td>No</td>\n",
       "      <td>2583</td>\n",
       "      <td>2358.0</td>\n",
       "      <td>120.00</td>\n",
       "      <td>360.0</td>\n",
       "      <td>1.0</td>\n",
       "      <td>Urban</td>\n",
       "      <td>Y</td>\n",
       "      <td>Low Inc</td>\n",
       "      <td>4.787492</td>\n",
       "      <td>2.079181</td>\n",
       "      <td>4941.0</td>\n",
       "      <td>8.505323</td>\n",
       "    </tr>\n",
       "    <tr>\n",
       "      <th>4</th>\n",
       "      <td>LP001008</td>\n",
       "      <td>Male</td>\n",
       "      <td>No</td>\n",
       "      <td>0</td>\n",
       "      <td>Graduate</td>\n",
       "      <td>No</td>\n",
       "      <td>6000</td>\n",
       "      <td>0.0</td>\n",
       "      <td>141.00</td>\n",
       "      <td>360.0</td>\n",
       "      <td>1.0</td>\n",
       "      <td>Urban</td>\n",
       "      <td>Y</td>\n",
       "      <td>High Inc</td>\n",
       "      <td>4.948760</td>\n",
       "      <td>2.149219</td>\n",
       "      <td>6000.0</td>\n",
       "      <td>8.699515</td>\n",
       "    </tr>\n",
       "  </tbody>\n",
       "</table>\n",
       "</div>"
      ],
      "text/plain": [
       "    Loan_ID Gender Married Dependents     Education Self_Employed  \\\n",
       "0  LP001002   Male      No          0      Graduate            No   \n",
       "1  LP001003   Male     Yes          1      Graduate            No   \n",
       "2  LP001005   Male     Yes          0      Graduate           Yes   \n",
       "3  LP001006   Male     Yes          0  Not Graduate            No   \n",
       "4  LP001008   Male      No          0      Graduate            No   \n",
       "\n",
       "   ApplicantIncome  CoapplicantIncome  LoanAmount  Loan_Amount_Term  \\\n",
       "0             5849                0.0      146.41             360.0   \n",
       "1             4583             1508.0      128.00             360.0   \n",
       "2             3000                0.0       66.00             360.0   \n",
       "3             2583             2358.0      120.00             360.0   \n",
       "4             6000                0.0      141.00             360.0   \n",
       "\n",
       "   Credit_History Property_Area Loan_Status Income_Band_new  LoanAmount_log  \\\n",
       "0             1.0         Urban           Y        High Inc        4.986411   \n",
       "1             1.0         Rural           N         Mid Inc        4.852030   \n",
       "2             1.0         Urban           Y         Low Inc        4.189655   \n",
       "3             1.0         Urban           Y         Low Inc        4.787492   \n",
       "4             1.0         Urban           Y        High Inc        4.948760   \n",
       "\n",
       "   LoanAmount_log10  TotalIncome  TotalIncome_log  \n",
       "0          2.165571       5849.0         8.674026  \n",
       "1          2.107210       6091.0         8.714568  \n",
       "2          1.819544       3000.0         8.006368  \n",
       "3          2.079181       4941.0         8.505323  \n",
       "4          2.149219       6000.0         8.699515  "
      ]
     },
     "execution_count": 543,
     "metadata": {},
     "output_type": "execute_result"
    }
   ],
   "source": [
    "train_data.head()"
   ]
  },
  {
   "cell_type": "code",
   "execution_count": 544,
   "metadata": {},
   "outputs": [
    {
     "data": {
      "text/plain": [
       "Male      502\n",
       "Female    112\n",
       "Name: Gender, dtype: int64"
      ]
     },
     "execution_count": 544,
     "metadata": {},
     "output_type": "execute_result"
    }
   ],
   "source": [
    "train_data.Gender.value_counts()"
   ]
  },
  {
   "cell_type": "code",
   "execution_count": 545,
   "metadata": {},
   "outputs": [
    {
     "data": {
      "text/html": [
       "<div>\n",
       "<style scoped>\n",
       "    .dataframe tbody tr th:only-of-type {\n",
       "        vertical-align: middle;\n",
       "    }\n",
       "\n",
       "    .dataframe tbody tr th {\n",
       "        vertical-align: top;\n",
       "    }\n",
       "\n",
       "    .dataframe thead th {\n",
       "        text-align: right;\n",
       "    }\n",
       "</style>\n",
       "<table border=\"1\" class=\"dataframe\">\n",
       "  <thead>\n",
       "    <tr style=\"text-align: right;\">\n",
       "      <th></th>\n",
       "      <th>Loan_ID</th>\n",
       "      <th>Married</th>\n",
       "      <th>Dependents</th>\n",
       "      <th>Education</th>\n",
       "      <th>Self_Employed</th>\n",
       "      <th>ApplicantIncome</th>\n",
       "      <th>CoapplicantIncome</th>\n",
       "      <th>LoanAmount</th>\n",
       "      <th>Loan_Amount_Term</th>\n",
       "      <th>Credit_History</th>\n",
       "      <th>Property_Area</th>\n",
       "      <th>Loan_Status</th>\n",
       "      <th>Income_Band_new</th>\n",
       "      <th>LoanAmount_log</th>\n",
       "      <th>LoanAmount_log10</th>\n",
       "      <th>TotalIncome</th>\n",
       "      <th>TotalIncome_log</th>\n",
       "      <th>Gender_Female</th>\n",
       "      <th>Gender_Male</th>\n",
       "    </tr>\n",
       "  </thead>\n",
       "  <tbody>\n",
       "    <tr>\n",
       "      <th>0</th>\n",
       "      <td>LP001002</td>\n",
       "      <td>No</td>\n",
       "      <td>0</td>\n",
       "      <td>Graduate</td>\n",
       "      <td>No</td>\n",
       "      <td>5849</td>\n",
       "      <td>0.0</td>\n",
       "      <td>146.41</td>\n",
       "      <td>360.0</td>\n",
       "      <td>1.0</td>\n",
       "      <td>Urban</td>\n",
       "      <td>Y</td>\n",
       "      <td>High Inc</td>\n",
       "      <td>4.986411</td>\n",
       "      <td>2.165571</td>\n",
       "      <td>5849.0</td>\n",
       "      <td>8.674026</td>\n",
       "      <td>0</td>\n",
       "      <td>1</td>\n",
       "    </tr>\n",
       "    <tr>\n",
       "      <th>1</th>\n",
       "      <td>LP001003</td>\n",
       "      <td>Yes</td>\n",
       "      <td>1</td>\n",
       "      <td>Graduate</td>\n",
       "      <td>No</td>\n",
       "      <td>4583</td>\n",
       "      <td>1508.0</td>\n",
       "      <td>128.00</td>\n",
       "      <td>360.0</td>\n",
       "      <td>1.0</td>\n",
       "      <td>Rural</td>\n",
       "      <td>N</td>\n",
       "      <td>Mid Inc</td>\n",
       "      <td>4.852030</td>\n",
       "      <td>2.107210</td>\n",
       "      <td>6091.0</td>\n",
       "      <td>8.714568</td>\n",
       "      <td>0</td>\n",
       "      <td>1</td>\n",
       "    </tr>\n",
       "    <tr>\n",
       "      <th>2</th>\n",
       "      <td>LP001005</td>\n",
       "      <td>Yes</td>\n",
       "      <td>0</td>\n",
       "      <td>Graduate</td>\n",
       "      <td>Yes</td>\n",
       "      <td>3000</td>\n",
       "      <td>0.0</td>\n",
       "      <td>66.00</td>\n",
       "      <td>360.0</td>\n",
       "      <td>1.0</td>\n",
       "      <td>Urban</td>\n",
       "      <td>Y</td>\n",
       "      <td>Low Inc</td>\n",
       "      <td>4.189655</td>\n",
       "      <td>1.819544</td>\n",
       "      <td>3000.0</td>\n",
       "      <td>8.006368</td>\n",
       "      <td>0</td>\n",
       "      <td>1</td>\n",
       "    </tr>\n",
       "    <tr>\n",
       "      <th>3</th>\n",
       "      <td>LP001006</td>\n",
       "      <td>Yes</td>\n",
       "      <td>0</td>\n",
       "      <td>Not Graduate</td>\n",
       "      <td>No</td>\n",
       "      <td>2583</td>\n",
       "      <td>2358.0</td>\n",
       "      <td>120.00</td>\n",
       "      <td>360.0</td>\n",
       "      <td>1.0</td>\n",
       "      <td>Urban</td>\n",
       "      <td>Y</td>\n",
       "      <td>Low Inc</td>\n",
       "      <td>4.787492</td>\n",
       "      <td>2.079181</td>\n",
       "      <td>4941.0</td>\n",
       "      <td>8.505323</td>\n",
       "      <td>0</td>\n",
       "      <td>1</td>\n",
       "    </tr>\n",
       "    <tr>\n",
       "      <th>4</th>\n",
       "      <td>LP001008</td>\n",
       "      <td>No</td>\n",
       "      <td>0</td>\n",
       "      <td>Graduate</td>\n",
       "      <td>No</td>\n",
       "      <td>6000</td>\n",
       "      <td>0.0</td>\n",
       "      <td>141.00</td>\n",
       "      <td>360.0</td>\n",
       "      <td>1.0</td>\n",
       "      <td>Urban</td>\n",
       "      <td>Y</td>\n",
       "      <td>High Inc</td>\n",
       "      <td>4.948760</td>\n",
       "      <td>2.149219</td>\n",
       "      <td>6000.0</td>\n",
       "      <td>8.699515</td>\n",
       "      <td>0</td>\n",
       "      <td>1</td>\n",
       "    </tr>\n",
       "  </tbody>\n",
       "</table>\n",
       "</div>"
      ],
      "text/plain": [
       "    Loan_ID Married Dependents     Education Self_Employed  ApplicantIncome  \\\n",
       "0  LP001002      No          0      Graduate            No             5849   \n",
       "1  LP001003     Yes          1      Graduate            No             4583   \n",
       "2  LP001005     Yes          0      Graduate           Yes             3000   \n",
       "3  LP001006     Yes          0  Not Graduate            No             2583   \n",
       "4  LP001008      No          0      Graduate            No             6000   \n",
       "\n",
       "   CoapplicantIncome  LoanAmount  Loan_Amount_Term  Credit_History  \\\n",
       "0                0.0      146.41             360.0             1.0   \n",
       "1             1508.0      128.00             360.0             1.0   \n",
       "2                0.0       66.00             360.0             1.0   \n",
       "3             2358.0      120.00             360.0             1.0   \n",
       "4                0.0      141.00             360.0             1.0   \n",
       "\n",
       "  Property_Area Loan_Status Income_Band_new  LoanAmount_log  LoanAmount_log10  \\\n",
       "0         Urban           Y        High Inc        4.986411          2.165571   \n",
       "1         Rural           N         Mid Inc        4.852030          2.107210   \n",
       "2         Urban           Y         Low Inc        4.189655          1.819544   \n",
       "3         Urban           Y         Low Inc        4.787492          2.079181   \n",
       "4         Urban           Y        High Inc        4.948760          2.149219   \n",
       "\n",
       "   TotalIncome  TotalIncome_log  Gender_Female  Gender_Male  \n",
       "0       5849.0         8.674026              0            1  \n",
       "1       6091.0         8.714568              0            1  \n",
       "2       3000.0         8.006368              0            1  \n",
       "3       4941.0         8.505323              0            1  \n",
       "4       6000.0         8.699515              0            1  "
      ]
     },
     "execution_count": 545,
     "metadata": {},
     "output_type": "execute_result"
    }
   ],
   "source": [
    "gender_cat = pd.get_dummies(train_data, columns = ['Gender'], drop_first = False)\n",
    "gender_cat.head()\n",
    "\n",
    "# one variable is removed (Gender) and two new variables have been added (Gender_Female and Gender_Male)"
   ]
  },
  {
   "cell_type": "code",
   "execution_count": 546,
   "metadata": {},
   "outputs": [
    {
     "data": {
      "text/plain": [
       "0    502\n",
       "1    112\n",
       "Name: Gender_Female, dtype: int64"
      ]
     },
     "execution_count": 546,
     "metadata": {},
     "output_type": "execute_result"
    }
   ],
   "source": [
    "# check that you did not loose any data as result of the transformation\n",
    "gender_cat.Gender_Female.value_counts()"
   ]
  },
  {
   "cell_type": "code",
   "execution_count": 547,
   "metadata": {},
   "outputs": [
    {
     "data": {
      "text/plain": [
       "1    502\n",
       "0    112\n",
       "Name: Gender_Male, dtype: int64"
      ]
     },
     "execution_count": 547,
     "metadata": {},
     "output_type": "execute_result"
    }
   ],
   "source": [
    "gender_cat.Gender_Male.value_counts()"
   ]
  },
  {
   "cell_type": "code",
   "execution_count": 548,
   "metadata": {},
   "outputs": [],
   "source": [
    "# the transformation we did for the Gender will be repeated for all the categorical variable\n",
    "# below is a shortcut for all the variables"
   ]
  },
  {
   "cell_type": "code",
   "execution_count": 549,
   "metadata": {},
   "outputs": [
    {
     "data": {
      "text/plain": [
       "Index(['Loan_ID', 'Gender', 'Married', 'Dependents', 'Education',\n",
       "       'Self_Employed', 'ApplicantIncome', 'CoapplicantIncome', 'LoanAmount',\n",
       "       'Loan_Amount_Term', 'Credit_History', 'Property_Area', 'Loan_Status',\n",
       "       'Income_Band_new', 'LoanAmount_log', 'LoanAmount_log10', 'TotalIncome',\n",
       "       'TotalIncome_log'],\n",
       "      dtype='object')"
      ]
     },
     "execution_count": 549,
     "metadata": {},
     "output_type": "execute_result"
    }
   ],
   "source": [
    "train_data.columns"
   ]
  },
  {
   "cell_type": "code",
   "execution_count": 552,
   "metadata": {},
   "outputs": [],
   "source": [
    "train_New = pd.get_dummies(train_data, columns = ['Gender', 'Married','Dependents', 'Education',\n",
    "                                               'Self_Employed','Property_Area','Income_Band_new'], drop_first = True)"
   ]
  },
  {
   "cell_type": "code",
   "execution_count": 553,
   "metadata": {},
   "outputs": [
    {
     "data": {
      "text/plain": [
       "(614, 23)"
      ]
     },
     "execution_count": 553,
     "metadata": {},
     "output_type": "execute_result"
    }
   ],
   "source": [
    "train_New.shape"
   ]
  },
  {
   "cell_type": "code",
   "execution_count": 554,
   "metadata": {},
   "outputs": [
    {
     "data": {
      "text/html": [
       "<div>\n",
       "<style scoped>\n",
       "    .dataframe tbody tr th:only-of-type {\n",
       "        vertical-align: middle;\n",
       "    }\n",
       "\n",
       "    .dataframe tbody tr th {\n",
       "        vertical-align: top;\n",
       "    }\n",
       "\n",
       "    .dataframe thead th {\n",
       "        text-align: right;\n",
       "    }\n",
       "</style>\n",
       "<table border=\"1\" class=\"dataframe\">\n",
       "  <thead>\n",
       "    <tr style=\"text-align: right;\">\n",
       "      <th></th>\n",
       "      <th>Loan_ID</th>\n",
       "      <th>ApplicantIncome</th>\n",
       "      <th>CoapplicantIncome</th>\n",
       "      <th>LoanAmount</th>\n",
       "      <th>Loan_Amount_Term</th>\n",
       "      <th>Credit_History</th>\n",
       "      <th>Loan_Status</th>\n",
       "      <th>LoanAmount_log</th>\n",
       "      <th>LoanAmount_log10</th>\n",
       "      <th>TotalIncome</th>\n",
       "      <th>...</th>\n",
       "      <th>Dependents_1</th>\n",
       "      <th>Dependents_2</th>\n",
       "      <th>Dependents_3+</th>\n",
       "      <th>Education_Not Graduate</th>\n",
       "      <th>Self_Employed_Yes</th>\n",
       "      <th>Property_Area_Semiurban</th>\n",
       "      <th>Property_Area_Urban</th>\n",
       "      <th>Income_Band_new_Low Inc</th>\n",
       "      <th>Income_Band_new_Mid Inc</th>\n",
       "      <th>Income_Band_new_Very High Inc</th>\n",
       "    </tr>\n",
       "  </thead>\n",
       "  <tbody>\n",
       "    <tr>\n",
       "      <th>0</th>\n",
       "      <td>LP001002</td>\n",
       "      <td>5849</td>\n",
       "      <td>0.0</td>\n",
       "      <td>146.41</td>\n",
       "      <td>360.0</td>\n",
       "      <td>1.0</td>\n",
       "      <td>Y</td>\n",
       "      <td>4.986411</td>\n",
       "      <td>2.165571</td>\n",
       "      <td>5849.0</td>\n",
       "      <td>...</td>\n",
       "      <td>0</td>\n",
       "      <td>0</td>\n",
       "      <td>0</td>\n",
       "      <td>0</td>\n",
       "      <td>0</td>\n",
       "      <td>0</td>\n",
       "      <td>1</td>\n",
       "      <td>0</td>\n",
       "      <td>0</td>\n",
       "      <td>0</td>\n",
       "    </tr>\n",
       "    <tr>\n",
       "      <th>1</th>\n",
       "      <td>LP001003</td>\n",
       "      <td>4583</td>\n",
       "      <td>1508.0</td>\n",
       "      <td>128.00</td>\n",
       "      <td>360.0</td>\n",
       "      <td>1.0</td>\n",
       "      <td>N</td>\n",
       "      <td>4.852030</td>\n",
       "      <td>2.107210</td>\n",
       "      <td>6091.0</td>\n",
       "      <td>...</td>\n",
       "      <td>1</td>\n",
       "      <td>0</td>\n",
       "      <td>0</td>\n",
       "      <td>0</td>\n",
       "      <td>0</td>\n",
       "      <td>0</td>\n",
       "      <td>0</td>\n",
       "      <td>0</td>\n",
       "      <td>1</td>\n",
       "      <td>0</td>\n",
       "    </tr>\n",
       "    <tr>\n",
       "      <th>2</th>\n",
       "      <td>LP001005</td>\n",
       "      <td>3000</td>\n",
       "      <td>0.0</td>\n",
       "      <td>66.00</td>\n",
       "      <td>360.0</td>\n",
       "      <td>1.0</td>\n",
       "      <td>Y</td>\n",
       "      <td>4.189655</td>\n",
       "      <td>1.819544</td>\n",
       "      <td>3000.0</td>\n",
       "      <td>...</td>\n",
       "      <td>0</td>\n",
       "      <td>0</td>\n",
       "      <td>0</td>\n",
       "      <td>0</td>\n",
       "      <td>1</td>\n",
       "      <td>0</td>\n",
       "      <td>1</td>\n",
       "      <td>1</td>\n",
       "      <td>0</td>\n",
       "      <td>0</td>\n",
       "    </tr>\n",
       "    <tr>\n",
       "      <th>3</th>\n",
       "      <td>LP001006</td>\n",
       "      <td>2583</td>\n",
       "      <td>2358.0</td>\n",
       "      <td>120.00</td>\n",
       "      <td>360.0</td>\n",
       "      <td>1.0</td>\n",
       "      <td>Y</td>\n",
       "      <td>4.787492</td>\n",
       "      <td>2.079181</td>\n",
       "      <td>4941.0</td>\n",
       "      <td>...</td>\n",
       "      <td>0</td>\n",
       "      <td>0</td>\n",
       "      <td>0</td>\n",
       "      <td>1</td>\n",
       "      <td>0</td>\n",
       "      <td>0</td>\n",
       "      <td>1</td>\n",
       "      <td>1</td>\n",
       "      <td>0</td>\n",
       "      <td>0</td>\n",
       "    </tr>\n",
       "    <tr>\n",
       "      <th>4</th>\n",
       "      <td>LP001008</td>\n",
       "      <td>6000</td>\n",
       "      <td>0.0</td>\n",
       "      <td>141.00</td>\n",
       "      <td>360.0</td>\n",
       "      <td>1.0</td>\n",
       "      <td>Y</td>\n",
       "      <td>4.948760</td>\n",
       "      <td>2.149219</td>\n",
       "      <td>6000.0</td>\n",
       "      <td>...</td>\n",
       "      <td>0</td>\n",
       "      <td>0</td>\n",
       "      <td>0</td>\n",
       "      <td>0</td>\n",
       "      <td>0</td>\n",
       "      <td>0</td>\n",
       "      <td>1</td>\n",
       "      <td>0</td>\n",
       "      <td>0</td>\n",
       "      <td>0</td>\n",
       "    </tr>\n",
       "  </tbody>\n",
       "</table>\n",
       "<p>5 rows × 23 columns</p>\n",
       "</div>"
      ],
      "text/plain": [
       "    Loan_ID  ApplicantIncome  CoapplicantIncome  LoanAmount  Loan_Amount_Term  \\\n",
       "0  LP001002             5849                0.0      146.41             360.0   \n",
       "1  LP001003             4583             1508.0      128.00             360.0   \n",
       "2  LP001005             3000                0.0       66.00             360.0   \n",
       "3  LP001006             2583             2358.0      120.00             360.0   \n",
       "4  LP001008             6000                0.0      141.00             360.0   \n",
       "\n",
       "   Credit_History Loan_Status  LoanAmount_log  LoanAmount_log10  TotalIncome  \\\n",
       "0             1.0           Y        4.986411          2.165571       5849.0   \n",
       "1             1.0           N        4.852030          2.107210       6091.0   \n",
       "2             1.0           Y        4.189655          1.819544       3000.0   \n",
       "3             1.0           Y        4.787492          2.079181       4941.0   \n",
       "4             1.0           Y        4.948760          2.149219       6000.0   \n",
       "\n",
       "               ...                Dependents_1  Dependents_2  Dependents_3+  \\\n",
       "0              ...                           0             0              0   \n",
       "1              ...                           1             0              0   \n",
       "2              ...                           0             0              0   \n",
       "3              ...                           0             0              0   \n",
       "4              ...                           0             0              0   \n",
       "\n",
       "   Education_Not Graduate  Self_Employed_Yes  Property_Area_Semiurban  \\\n",
       "0                       0                  0                        0   \n",
       "1                       0                  0                        0   \n",
       "2                       0                  1                        0   \n",
       "3                       1                  0                        0   \n",
       "4                       0                  0                        0   \n",
       "\n",
       "   Property_Area_Urban  Income_Band_new_Low Inc  Income_Band_new_Mid Inc  \\\n",
       "0                    1                        0                        0   \n",
       "1                    0                        0                        1   \n",
       "2                    1                        1                        0   \n",
       "3                    1                        1                        0   \n",
       "4                    1                        0                        0   \n",
       "\n",
       "   Income_Band_new_Very High Inc  \n",
       "0                              0  \n",
       "1                              0  \n",
       "2                              0  \n",
       "3                              0  \n",
       "4                              0  \n",
       "\n",
       "[5 rows x 23 columns]"
      ]
     },
     "execution_count": 554,
     "metadata": {},
     "output_type": "execute_result"
    }
   ],
   "source": [
    "# Have a view of the new data set \n",
    "train_New.head()"
   ]
  },
  {
   "cell_type": "code",
   "execution_count": 555,
   "metadata": {},
   "outputs": [
    {
     "data": {
      "text/plain": [
       "Index(['Loan_ID', 'ApplicantIncome', 'CoapplicantIncome', 'LoanAmount',\n",
       "       'Loan_Amount_Term', 'Credit_History', 'Loan_Status', 'LoanAmount_log',\n",
       "       'LoanAmount_log10', 'TotalIncome', 'TotalIncome_log', 'Gender_Male',\n",
       "       'Married_Yes', 'Dependents_1', 'Dependents_2', 'Dependents_3+',\n",
       "       'Education_Not Graduate', 'Self_Employed_Yes',\n",
       "       'Property_Area_Semiurban', 'Property_Area_Urban',\n",
       "       'Income_Band_new_Low Inc', 'Income_Band_new_Mid Inc',\n",
       "       'Income_Band_new_Very High Inc'],\n",
       "      dtype='object')"
      ]
     },
     "execution_count": 555,
     "metadata": {},
     "output_type": "execute_result"
    }
   ],
   "source": [
    "train_New.columns"
   ]
  },
  {
   "cell_type": "code",
   "execution_count": 558,
   "metadata": {},
   "outputs": [],
   "source": [
    "# selecting features for modelling excluding the Loan Status which is our target\n",
    "feature_columns = train_New[['ApplicantIncome', 'CoapplicantIncome', 'LoanAmount',\n",
    "       'Loan_Amount_Term', 'Credit_History', 'LoanAmount_log',\n",
    "       'TotalIncome', 'TotalIncome_log', 'LoanAmount_log10',\n",
    "       'Gender_Male', 'Married_Yes', \n",
    "       'Dependents_1', 'Dependents_2', 'Dependents_3+', \n",
    "       'Education_Not Graduate',  'Self_Employed_Yes',\n",
    "        'Property_Area_Semiurban', 'Property_Area_Urban',\n",
    "        'Income_Band_new_Low Inc',\n",
    "       'Income_Band_new_Mid Inc', 'Income_Band_new_Very High Inc']]"
   ]
  },
  {
   "cell_type": "code",
   "execution_count": 559,
   "metadata": {},
   "outputs": [
    {
     "data": {
      "text/html": [
       "<div>\n",
       "<style scoped>\n",
       "    .dataframe tbody tr th:only-of-type {\n",
       "        vertical-align: middle;\n",
       "    }\n",
       "\n",
       "    .dataframe tbody tr th {\n",
       "        vertical-align: top;\n",
       "    }\n",
       "\n",
       "    .dataframe thead th {\n",
       "        text-align: right;\n",
       "    }\n",
       "</style>\n",
       "<table border=\"1\" class=\"dataframe\">\n",
       "  <thead>\n",
       "    <tr style=\"text-align: right;\">\n",
       "      <th></th>\n",
       "      <th>ApplicantIncome</th>\n",
       "      <th>CoapplicantIncome</th>\n",
       "      <th>LoanAmount</th>\n",
       "      <th>Loan_Amount_Term</th>\n",
       "      <th>Credit_History</th>\n",
       "      <th>LoanAmount_log</th>\n",
       "      <th>TotalIncome</th>\n",
       "      <th>TotalIncome_log</th>\n",
       "      <th>LoanAmount_log10</th>\n",
       "      <th>Gender_Male</th>\n",
       "      <th>...</th>\n",
       "      <th>Dependents_1</th>\n",
       "      <th>Dependents_2</th>\n",
       "      <th>Dependents_3+</th>\n",
       "      <th>Education_Not Graduate</th>\n",
       "      <th>Self_Employed_Yes</th>\n",
       "      <th>Property_Area_Semiurban</th>\n",
       "      <th>Property_Area_Urban</th>\n",
       "      <th>Income_Band_new_Low Inc</th>\n",
       "      <th>Income_Band_new_Mid Inc</th>\n",
       "      <th>Income_Band_new_Very High Inc</th>\n",
       "    </tr>\n",
       "  </thead>\n",
       "  <tbody>\n",
       "    <tr>\n",
       "      <th>0</th>\n",
       "      <td>5849</td>\n",
       "      <td>0.0</td>\n",
       "      <td>146.41</td>\n",
       "      <td>360.0</td>\n",
       "      <td>1.0</td>\n",
       "      <td>4.986411</td>\n",
       "      <td>5849.0</td>\n",
       "      <td>8.674026</td>\n",
       "      <td>2.165571</td>\n",
       "      <td>1</td>\n",
       "      <td>...</td>\n",
       "      <td>0</td>\n",
       "      <td>0</td>\n",
       "      <td>0</td>\n",
       "      <td>0</td>\n",
       "      <td>0</td>\n",
       "      <td>0</td>\n",
       "      <td>1</td>\n",
       "      <td>0</td>\n",
       "      <td>0</td>\n",
       "      <td>0</td>\n",
       "    </tr>\n",
       "    <tr>\n",
       "      <th>1</th>\n",
       "      <td>4583</td>\n",
       "      <td>1508.0</td>\n",
       "      <td>128.00</td>\n",
       "      <td>360.0</td>\n",
       "      <td>1.0</td>\n",
       "      <td>4.852030</td>\n",
       "      <td>6091.0</td>\n",
       "      <td>8.714568</td>\n",
       "      <td>2.107210</td>\n",
       "      <td>1</td>\n",
       "      <td>...</td>\n",
       "      <td>1</td>\n",
       "      <td>0</td>\n",
       "      <td>0</td>\n",
       "      <td>0</td>\n",
       "      <td>0</td>\n",
       "      <td>0</td>\n",
       "      <td>0</td>\n",
       "      <td>0</td>\n",
       "      <td>1</td>\n",
       "      <td>0</td>\n",
       "    </tr>\n",
       "    <tr>\n",
       "      <th>2</th>\n",
       "      <td>3000</td>\n",
       "      <td>0.0</td>\n",
       "      <td>66.00</td>\n",
       "      <td>360.0</td>\n",
       "      <td>1.0</td>\n",
       "      <td>4.189655</td>\n",
       "      <td>3000.0</td>\n",
       "      <td>8.006368</td>\n",
       "      <td>1.819544</td>\n",
       "      <td>1</td>\n",
       "      <td>...</td>\n",
       "      <td>0</td>\n",
       "      <td>0</td>\n",
       "      <td>0</td>\n",
       "      <td>0</td>\n",
       "      <td>1</td>\n",
       "      <td>0</td>\n",
       "      <td>1</td>\n",
       "      <td>1</td>\n",
       "      <td>0</td>\n",
       "      <td>0</td>\n",
       "    </tr>\n",
       "    <tr>\n",
       "      <th>3</th>\n",
       "      <td>2583</td>\n",
       "      <td>2358.0</td>\n",
       "      <td>120.00</td>\n",
       "      <td>360.0</td>\n",
       "      <td>1.0</td>\n",
       "      <td>4.787492</td>\n",
       "      <td>4941.0</td>\n",
       "      <td>8.505323</td>\n",
       "      <td>2.079181</td>\n",
       "      <td>1</td>\n",
       "      <td>...</td>\n",
       "      <td>0</td>\n",
       "      <td>0</td>\n",
       "      <td>0</td>\n",
       "      <td>1</td>\n",
       "      <td>0</td>\n",
       "      <td>0</td>\n",
       "      <td>1</td>\n",
       "      <td>1</td>\n",
       "      <td>0</td>\n",
       "      <td>0</td>\n",
       "    </tr>\n",
       "    <tr>\n",
       "      <th>4</th>\n",
       "      <td>6000</td>\n",
       "      <td>0.0</td>\n",
       "      <td>141.00</td>\n",
       "      <td>360.0</td>\n",
       "      <td>1.0</td>\n",
       "      <td>4.948760</td>\n",
       "      <td>6000.0</td>\n",
       "      <td>8.699515</td>\n",
       "      <td>2.149219</td>\n",
       "      <td>1</td>\n",
       "      <td>...</td>\n",
       "      <td>0</td>\n",
       "      <td>0</td>\n",
       "      <td>0</td>\n",
       "      <td>0</td>\n",
       "      <td>0</td>\n",
       "      <td>0</td>\n",
       "      <td>1</td>\n",
       "      <td>0</td>\n",
       "      <td>0</td>\n",
       "      <td>0</td>\n",
       "    </tr>\n",
       "  </tbody>\n",
       "</table>\n",
       "<p>5 rows × 21 columns</p>\n",
       "</div>"
      ],
      "text/plain": [
       "   ApplicantIncome  CoapplicantIncome  LoanAmount  Loan_Amount_Term  \\\n",
       "0             5849                0.0      146.41             360.0   \n",
       "1             4583             1508.0      128.00             360.0   \n",
       "2             3000                0.0       66.00             360.0   \n",
       "3             2583             2358.0      120.00             360.0   \n",
       "4             6000                0.0      141.00             360.0   \n",
       "\n",
       "   Credit_History  LoanAmount_log  TotalIncome  TotalIncome_log  \\\n",
       "0             1.0        4.986411       5849.0         8.674026   \n",
       "1             1.0        4.852030       6091.0         8.714568   \n",
       "2             1.0        4.189655       3000.0         8.006368   \n",
       "3             1.0        4.787492       4941.0         8.505323   \n",
       "4             1.0        4.948760       6000.0         8.699515   \n",
       "\n",
       "   LoanAmount_log10  Gender_Male              ...                Dependents_1  \\\n",
       "0          2.165571            1              ...                           0   \n",
       "1          2.107210            1              ...                           1   \n",
       "2          1.819544            1              ...                           0   \n",
       "3          2.079181            1              ...                           0   \n",
       "4          2.149219            1              ...                           0   \n",
       "\n",
       "   Dependents_2  Dependents_3+  Education_Not Graduate  Self_Employed_Yes  \\\n",
       "0             0              0                       0                  0   \n",
       "1             0              0                       0                  0   \n",
       "2             0              0                       0                  1   \n",
       "3             0              0                       1                  0   \n",
       "4             0              0                       0                  0   \n",
       "\n",
       "   Property_Area_Semiurban  Property_Area_Urban  Income_Band_new_Low Inc  \\\n",
       "0                        0                    1                        0   \n",
       "1                        0                    0                        0   \n",
       "2                        0                    1                        1   \n",
       "3                        0                    1                        1   \n",
       "4                        0                    1                        0   \n",
       "\n",
       "   Income_Band_new_Mid Inc  Income_Band_new_Very High Inc  \n",
       "0                        0                              0  \n",
       "1                        1                              0  \n",
       "2                        0                              0  \n",
       "3                        0                              0  \n",
       "4                        0                              0  \n",
       "\n",
       "[5 rows x 21 columns]"
      ]
     },
     "execution_count": 559,
     "metadata": {},
     "output_type": "execute_result"
    }
   ],
   "source": [
    "feature_columns.head()"
   ]
  },
  {
   "cell_type": "code",
   "execution_count": 560,
   "metadata": {},
   "outputs": [
    {
     "data": {
      "text/html": [
       "<div>\n",
       "<style scoped>\n",
       "    .dataframe tbody tr th:only-of-type {\n",
       "        vertical-align: middle;\n",
       "    }\n",
       "\n",
       "    .dataframe tbody tr th {\n",
       "        vertical-align: top;\n",
       "    }\n",
       "\n",
       "    .dataframe thead th {\n",
       "        text-align: right;\n",
       "    }\n",
       "</style>\n",
       "<table border=\"1\" class=\"dataframe\">\n",
       "  <thead>\n",
       "    <tr style=\"text-align: right;\">\n",
       "      <th></th>\n",
       "      <th>Loan_Status</th>\n",
       "    </tr>\n",
       "  </thead>\n",
       "  <tbody>\n",
       "    <tr>\n",
       "      <th>0</th>\n",
       "      <td>Y</td>\n",
       "    </tr>\n",
       "    <tr>\n",
       "      <th>1</th>\n",
       "      <td>N</td>\n",
       "    </tr>\n",
       "    <tr>\n",
       "      <th>2</th>\n",
       "      <td>Y</td>\n",
       "    </tr>\n",
       "    <tr>\n",
       "      <th>3</th>\n",
       "      <td>Y</td>\n",
       "    </tr>\n",
       "    <tr>\n",
       "      <th>4</th>\n",
       "      <td>Y</td>\n",
       "    </tr>\n",
       "  </tbody>\n",
       "</table>\n",
       "</div>"
      ],
      "text/plain": [
       "  Loan_Status\n",
       "0           Y\n",
       "1           N\n",
       "2           Y\n",
       "3           Y\n",
       "4           Y"
      ]
     },
     "execution_count": 560,
     "metadata": {},
     "output_type": "execute_result"
    }
   ],
   "source": [
    "# extract the target feature\n",
    "\n",
    "target = train_New[['Loan_Status']]\n",
    "target.head()"
   ]
  },
  {
   "cell_type": "code",
   "execution_count": 561,
   "metadata": {},
   "outputs": [
    {
     "data": {
      "image/png": "[encoded data removed]",
      "text/plain": [
       "<Figure size 432x288 with 1 Axes>"
      ]
     },
     "metadata": {},
     "output_type": "display_data"
    }
   ],
   "source": [
    "# To visually check distribution of the target in the whole data \n",
    "\n",
    "sns.countplot(x='Loan_Status',data=train_New);"
   ]
  },
  {
   "cell_type": "code",
   "execution_count": 562,
   "metadata": {},
   "outputs": [
    {
     "data": {
      "image/png": "[encoded data removed]",
      "text/plain": [
       "<Figure size 720x360 with 2 Axes>"
      ]
     },
     "metadata": {},
     "output_type": "display_data"
    }
   ],
   "source": [
    "# To visually check distribution of the target amongs the variables\n",
    "sns.factorplot(x='Loan_Status', col='Gender_Male', kind='count', data=train_New ).set_xticklabels(rotation=30);"
   ]
  },
  {
   "cell_type": "code",
   "execution_count": 563,
   "metadata": {},
   "outputs": [
    {
     "data": {
      "image/png": "[encoded data removed]",
      "text/plain": [
       "<Figure size 720x360 with 2 Axes>"
      ]
     },
     "metadata": {},
     "output_type": "display_data"
    }
   ],
   "source": [
    "sns.factorplot(x='Loan_Status', col='Married_Yes', kind='count', data=train_New ).set_xticklabels(rotation=30);"
   ]
  },
  {
   "cell_type": "code",
   "execution_count": null,
   "metadata": {},
   "outputs": [],
   "source": []
  },
  {
   "cell_type": "code",
   "execution_count": null,
   "metadata": {},
   "outputs": [],
   "source": []
  },
  {
   "cell_type": "markdown",
   "metadata": {},
   "source": [
    "\n",
    "# FEATURE SELECTION"
   ]
  },
  {
   "cell_type": "code",
   "execution_count": 564,
   "metadata": {},
   "outputs": [],
   "source": [
    "# feature selection\n",
    "# Using K Best selection\n",
    "\n",
    "K_Best=sklearn.feature_selection.SelectKBest(k=8)\n",
    "selected_features=K_Best.fit(feature_columns,target)\n",
    "indices_selected=selected_features.get_support(indices=True)\n",
    "chosen_cols=[feature_columns.columns[i] for i in indices_selected]\n"
   ]
  },
  {
   "cell_type": "code",
   "execution_count": 565,
   "metadata": {},
   "outputs": [
    {
     "data": {
      "text/plain": [
       "['CoapplicantIncome',\n",
       " 'Credit_History',\n",
       " 'LoanAmount_log',\n",
       " 'Married_Yes',\n",
       " 'Dependents_2',\n",
       " 'Education_Not Graduate',\n",
       " 'Property_Area_Semiurban',\n",
       " 'Property_Area_Urban']"
      ]
     },
     "execution_count": 565,
     "metadata": {},
     "output_type": "execute_result"
    }
   ],
   "source": [
    "chosen_cols"
   ]
  },
  {
   "cell_type": "code",
   "execution_count": 566,
   "metadata": {},
   "outputs": [],
   "source": [
    "X = train_New[chosen_cols]"
   ]
  },
  {
   "cell_type": "code",
   "execution_count": 567,
   "metadata": {},
   "outputs": [
    {
     "data": {
      "text/html": [
       "<div>\n",
       "<style scoped>\n",
       "    .dataframe tbody tr th:only-of-type {\n",
       "        vertical-align: middle;\n",
       "    }\n",
       "\n",
       "    .dataframe tbody tr th {\n",
       "        vertical-align: top;\n",
       "    }\n",
       "\n",
       "    .dataframe thead th {\n",
       "        text-align: right;\n",
       "    }\n",
       "</style>\n",
       "<table border=\"1\" class=\"dataframe\">\n",
       "  <thead>\n",
       "    <tr style=\"text-align: right;\">\n",
       "      <th></th>\n",
       "      <th>CoapplicantIncome</th>\n",
       "      <th>Credit_History</th>\n",
       "      <th>LoanAmount_log</th>\n",
       "      <th>Married_Yes</th>\n",
       "      <th>Dependents_2</th>\n",
       "      <th>Education_Not Graduate</th>\n",
       "      <th>Property_Area_Semiurban</th>\n",
       "      <th>Property_Area_Urban</th>\n",
       "    </tr>\n",
       "  </thead>\n",
       "  <tbody>\n",
       "    <tr>\n",
       "      <th>0</th>\n",
       "      <td>0.0</td>\n",
       "      <td>1.0</td>\n",
       "      <td>4.986411</td>\n",
       "      <td>0</td>\n",
       "      <td>0</td>\n",
       "      <td>0</td>\n",
       "      <td>0</td>\n",
       "      <td>1</td>\n",
       "    </tr>\n",
       "    <tr>\n",
       "      <th>1</th>\n",
       "      <td>1508.0</td>\n",
       "      <td>1.0</td>\n",
       "      <td>4.852030</td>\n",
       "      <td>1</td>\n",
       "      <td>0</td>\n",
       "      <td>0</td>\n",
       "      <td>0</td>\n",
       "      <td>0</td>\n",
       "    </tr>\n",
       "    <tr>\n",
       "      <th>2</th>\n",
       "      <td>0.0</td>\n",
       "      <td>1.0</td>\n",
       "      <td>4.189655</td>\n",
       "      <td>1</td>\n",
       "      <td>0</td>\n",
       "      <td>0</td>\n",
       "      <td>0</td>\n",
       "      <td>1</td>\n",
       "    </tr>\n",
       "    <tr>\n",
       "      <th>3</th>\n",
       "      <td>2358.0</td>\n",
       "      <td>1.0</td>\n",
       "      <td>4.787492</td>\n",
       "      <td>1</td>\n",
       "      <td>0</td>\n",
       "      <td>1</td>\n",
       "      <td>0</td>\n",
       "      <td>1</td>\n",
       "    </tr>\n",
       "    <tr>\n",
       "      <th>4</th>\n",
       "      <td>0.0</td>\n",
       "      <td>1.0</td>\n",
       "      <td>4.948760</td>\n",
       "      <td>0</td>\n",
       "      <td>0</td>\n",
       "      <td>0</td>\n",
       "      <td>0</td>\n",
       "      <td>1</td>\n",
       "    </tr>\n",
       "  </tbody>\n",
       "</table>\n",
       "</div>"
      ],
      "text/plain": [
       "   CoapplicantIncome  Credit_History  LoanAmount_log  Married_Yes  \\\n",
       "0                0.0             1.0        4.986411            0   \n",
       "1             1508.0             1.0        4.852030            1   \n",
       "2                0.0             1.0        4.189655            1   \n",
       "3             2358.0             1.0        4.787492            1   \n",
       "4                0.0             1.0        4.948760            0   \n",
       "\n",
       "   Dependents_2  Education_Not Graduate  Property_Area_Semiurban  \\\n",
       "0             0                       0                        0   \n",
       "1             0                       0                        0   \n",
       "2             0                       0                        0   \n",
       "3             0                       1                        0   \n",
       "4             0                       0                        0   \n",
       "\n",
       "   Property_Area_Urban  \n",
       "0                    1  \n",
       "1                    0  \n",
       "2                    1  \n",
       "3                    1  \n",
       "4                    1  "
      ]
     },
     "execution_count": 567,
     "metadata": {},
     "output_type": "execute_result"
    }
   ],
   "source": [
    "X.head()"
   ]
  },
  {
   "cell_type": "code",
   "execution_count": 568,
   "metadata": {},
   "outputs": [],
   "source": [
    "y = target['Loan_Status']"
   ]
  },
  {
   "cell_type": "code",
   "execution_count": 569,
   "metadata": {},
   "outputs": [
    {
     "data": {
      "text/plain": [
       "0    Y\n",
       "1    N\n",
       "2    Y\n",
       "3    Y\n",
       "4    Y\n",
       "Name: Loan_Status, dtype: object"
      ]
     },
     "execution_count": 569,
     "metadata": {},
     "output_type": "execute_result"
    }
   ],
   "source": [
    "y.head()"
   ]
  },
  {
   "cell_type": "code",
   "execution_count": null,
   "metadata": {},
   "outputs": [],
   "source": []
  },
  {
   "cell_type": "code",
   "execution_count": null,
   "metadata": {},
   "outputs": [],
   "source": []
  },
  {
   "cell_type": "code",
   "execution_count": 570,
   "metadata": {},
   "outputs": [],
   "source": [
    "## for splitting our data for modelling, we import the model_selection module\n",
    "\n",
    "from sklearn.model_selection import train_test_split\n",
    "\n",
    "X_train,X_test,y_train,y_test = train_test_split(X,y,test_size=0.4,random_state=42)\n",
    "\n",
    "# everytime you run train_test_split without specifying random_state, you will get a different result\n",
    "# random_state is used to guarantee you have the same set of data each time"
   ]
  },
  {
   "cell_type": "code",
   "execution_count": 571,
   "metadata": {},
   "outputs": [
    {
     "data": {
      "text/plain": [
       "(368, 8)"
      ]
     },
     "execution_count": 571,
     "metadata": {},
     "output_type": "execute_result"
    }
   ],
   "source": [
    "#check to see how much data you have in train and in test\n",
    "X_train.shape"
   ]
  },
  {
   "cell_type": "code",
   "execution_count": 572,
   "metadata": {},
   "outputs": [
    {
     "data": {
      "text/plain": [
       "(246, 8)"
      ]
     },
     "execution_count": 572,
     "metadata": {},
     "output_type": "execute_result"
    }
   ],
   "source": [
    "X_test.shape"
   ]
  },
  {
   "cell_type": "code",
   "execution_count": 573,
   "metadata": {},
   "outputs": [
    {
     "data": {
      "text/plain": [
       "(368,)"
      ]
     },
     "execution_count": 573,
     "metadata": {},
     "output_type": "execute_result"
    }
   ],
   "source": [
    "y_train.shape"
   ]
  },
  {
   "cell_type": "code",
   "execution_count": 574,
   "metadata": {},
   "outputs": [
    {
     "data": {
      "text/plain": [
       "(246,)"
      ]
     },
     "execution_count": 574,
     "metadata": {},
     "output_type": "execute_result"
    }
   ],
   "source": [
    "y_test.shape"
   ]
  },
  {
   "cell_type": "code",
   "execution_count": null,
   "metadata": {},
   "outputs": [],
   "source": []
  },
  {
   "cell_type": "markdown",
   "metadata": {
    "collapsed": true
   },
   "source": [
    "# MODELLING"
   ]
  },
  {
   "cell_type": "markdown",
   "metadata": {},
   "source": [
    "## Random Forest"
   ]
  },
  {
   "cell_type": "code",
   "execution_count": 575,
   "metadata": {},
   "outputs": [],
   "source": [
    "# Instantiating the Algorithm and setting its parameters\n",
    "\n",
    "randForest = RandomForestClassifier(n_estimators=25, min_samples_split=25, max_depth=7, \n",
    "                                    max_features=1)"
   ]
  },
  {
   "cell_type": "code",
   "execution_count": 576,
   "metadata": {},
   "outputs": [
    {
     "data": {
      "text/plain": [
       "RandomForestClassifier(bootstrap=True, class_weight=None, criterion='gini',\n",
       "            max_depth=7, max_features=1, max_leaf_nodes=None,\n",
       "            min_impurity_decrease=0.0, min_impurity_split=None,\n",
       "            min_samples_leaf=1, min_samples_split=25,\n",
       "            min_weight_fraction_leaf=0.0, n_estimators=25, n_jobs=1,\n",
       "            oob_score=False, random_state=None, verbose=0,\n",
       "            warm_start=False)"
      ]
     },
     "execution_count": 576,
     "metadata": {},
     "output_type": "execute_result"
    }
   ],
   "source": [
    "#Train often referred to as fit the model\n",
    "\n",
    "randForest.fit(X_train,y_train.values)"
   ]
  },
  {
   "cell_type": "code",
   "execution_count": 577,
   "metadata": {},
   "outputs": [],
   "source": [
    "# Now the model has learned from the training data, lets see how it does with the testing data\n",
    "\n",
    "y_pred_RF  = randForest.predict(X_test)"
   ]
  },
  {
   "cell_type": "code",
   "execution_count": 578,
   "metadata": {},
   "outputs": [],
   "source": [
    "randForestScore = accuracy_score(y_test,y_pred_RF)"
   ]
  },
  {
   "cell_type": "code",
   "execution_count": 579,
   "metadata": {},
   "outputs": [
    {
     "name": "stdout",
     "output_type": "stream",
     "text": [
      "The Random forest accuraccy score is: 0.7682926829268293\n"
     ]
    }
   ],
   "source": [
    "print(\"The Random forest accuraccy score is:\", randForestScore)"
   ]
  },
  {
   "cell_type": "code",
   "execution_count": 580,
   "metadata": {},
   "outputs": [
    {
     "data": {
      "text/html": [
       "<div>\n",
       "<style scoped>\n",
       "    .dataframe tbody tr th:only-of-type {\n",
       "        vertical-align: middle;\n",
       "    }\n",
       "\n",
       "    .dataframe tbody tr th {\n",
       "        vertical-align: top;\n",
       "    }\n",
       "\n",
       "    .dataframe thead th {\n",
       "        text-align: right;\n",
       "    }\n",
       "</style>\n",
       "<table border=\"1\" class=\"dataframe\">\n",
       "  <thead>\n",
       "    <tr style=\"text-align: right;\">\n",
       "      <th>Predicted</th>\n",
       "      <th>N</th>\n",
       "      <th>Y</th>\n",
       "    </tr>\n",
       "    <tr>\n",
       "      <th>Actual</th>\n",
       "      <th></th>\n",
       "      <th></th>\n",
       "    </tr>\n",
       "  </thead>\n",
       "  <tbody>\n",
       "    <tr>\n",
       "      <th>N</th>\n",
       "      <td>30</td>\n",
       "      <td>55</td>\n",
       "    </tr>\n",
       "    <tr>\n",
       "      <th>Y</th>\n",
       "      <td>2</td>\n",
       "      <td>159</td>\n",
       "    </tr>\n",
       "  </tbody>\n",
       "</table>\n",
       "</div>"
      ],
      "text/plain": [
       "Predicted   N    Y\n",
       "Actual            \n",
       "N          30   55\n",
       "Y           2  159"
      ]
     },
     "execution_count": 580,
     "metadata": {},
     "output_type": "execute_result"
    }
   ],
   "source": [
    "pd.crosstab(y_test, y_pred_RF, rownames = ['Actual'], colnames = ['Predicted'])"
   ]
  },
  {
   "cell_type": "code",
   "execution_count": 581,
   "metadata": {},
   "outputs": [],
   "source": [
    "# Plot Normalized confusion matrix\n",
    "conf_m = confusion_matrix(y_test, y_pred_RF)\n",
    "cf_mat_p = conf_m/conf_m.sum()"
   ]
  },
  {
   "cell_type": "code",
   "execution_count": 582,
   "metadata": {},
   "outputs": [
    {
     "data": {
      "image/png": "[encoded data removed]",
      "text/plain": [
       "<Figure size 864x576 with 2 Axes>"
      ]
     },
     "metadata": {},
     "output_type": "display_data"
    }
   ],
   "source": [
    "plt.figure(figsize=(12,8))\n",
    "sns.heatmap(cf_mat_p, annot=True, linewidths=.5, cmap=cm.summer,xticklabels=['No','Yes'], yticklabels=['No','Yes'])\n",
    "plt.ylabel('Actual')\n",
    "plt.xlabel('Predicted label')\n",
    "plt.title(\"Confusion Matrix\")\n",
    "plt.show()"
   ]
  },
  {
   "cell_type": "markdown",
   "metadata": {},
   "source": [
    "# Try Logistic Regression"
   ]
  },
  {
   "cell_type": "code",
   "execution_count": 583,
   "metadata": {},
   "outputs": [],
   "source": [
    "from sklearn.linear_model import LogisticRegression"
   ]
  },
  {
   "cell_type": "code",
   "execution_count": 584,
   "metadata": {},
   "outputs": [],
   "source": [
    "##Instantiating the model\n",
    "\n",
    "logReg = LogisticRegression()"
   ]
  },
  {
   "cell_type": "code",
   "execution_count": 585,
   "metadata": {},
   "outputs": [
    {
     "data": {
      "text/plain": [
       "LogisticRegression(C=1.0, class_weight=None, dual=False, fit_intercept=True,\n",
       "          intercept_scaling=1, max_iter=100, multi_class='ovr', n_jobs=1,\n",
       "          penalty='l2', random_state=None, solver='liblinear', tol=0.0001,\n",
       "          verbose=0, warm_start=False)"
      ]
     },
     "execution_count": 585,
     "metadata": {},
     "output_type": "execute_result"
    }
   ],
   "source": [
    "## Train the model\n",
    "\n",
    "logReg.fit(X_train,y_train.values)"
   ]
  },
  {
   "cell_type": "code",
   "execution_count": 586,
   "metadata": {},
   "outputs": [],
   "source": [
    "##Test the model\n",
    "\n",
    "logReg_predict =logReg.predict(X_test)"
   ]
  },
  {
   "cell_type": "code",
   "execution_count": 587,
   "metadata": {},
   "outputs": [
    {
     "data": {
      "text/plain": [
       "0.7967479674796748"
      ]
     },
     "execution_count": 587,
     "metadata": {},
     "output_type": "execute_result"
    }
   ],
   "source": [
    "accuracy_score(y_test,logReg_predict)"
   ]
  },
  {
   "cell_type": "code",
   "execution_count": 588,
   "metadata": {},
   "outputs": [
    {
     "data": {
      "text/html": [
       "<div>\n",
       "<style scoped>\n",
       "    .dataframe tbody tr th:only-of-type {\n",
       "        vertical-align: middle;\n",
       "    }\n",
       "\n",
       "    .dataframe tbody tr th {\n",
       "        vertical-align: top;\n",
       "    }\n",
       "\n",
       "    .dataframe thead th {\n",
       "        text-align: right;\n",
       "    }\n",
       "</style>\n",
       "<table border=\"1\" class=\"dataframe\">\n",
       "  <thead>\n",
       "    <tr style=\"text-align: right;\">\n",
       "      <th>Predicted</th>\n",
       "      <th>N</th>\n",
       "      <th>Y</th>\n",
       "    </tr>\n",
       "    <tr>\n",
       "      <th>Actual</th>\n",
       "      <th></th>\n",
       "      <th></th>\n",
       "    </tr>\n",
       "  </thead>\n",
       "  <tbody>\n",
       "    <tr>\n",
       "      <th>N</th>\n",
       "      <td>37</td>\n",
       "      <td>48</td>\n",
       "    </tr>\n",
       "    <tr>\n",
       "      <th>Y</th>\n",
       "      <td>2</td>\n",
       "      <td>159</td>\n",
       "    </tr>\n",
       "  </tbody>\n",
       "</table>\n",
       "</div>"
      ],
      "text/plain": [
       "Predicted   N    Y\n",
       "Actual            \n",
       "N          37   48\n",
       "Y           2  159"
      ]
     },
     "execution_count": 588,
     "metadata": {},
     "output_type": "execute_result"
    }
   ],
   "source": [
    "pd.crosstab(y_test,logReg_predict, rownames = ['Actual'], colnames = ['Predicted'])"
   ]
  },
  {
   "cell_type": "code",
   "execution_count": null,
   "metadata": {},
   "outputs": [],
   "source": []
  },
  {
   "cell_type": "markdown",
   "metadata": {},
   "source": [
    "# Try with Decision Tree"
   ]
  },
  {
   "cell_type": "code",
   "execution_count": 589,
   "metadata": {},
   "outputs": [],
   "source": [
    "from sklearn import tree\n",
    "from sklearn.tree import DecisionTreeClassifier"
   ]
  },
  {
   "cell_type": "code",
   "execution_count": 590,
   "metadata": {},
   "outputs": [],
   "source": [
    "#Instantiating the Algorithm\n",
    "DecTree = tree.DecisionTreeClassifier(max_depth=10,max_features=4 )"
   ]
  },
  {
   "cell_type": "code",
   "execution_count": 591,
   "metadata": {},
   "outputs": [
    {
     "data": {
      "text/plain": [
       "DecisionTreeClassifier(class_weight=None, criterion='gini', max_depth=10,\n",
       "            max_features=4, max_leaf_nodes=None, min_impurity_decrease=0.0,\n",
       "            min_impurity_split=None, min_samples_leaf=1,\n",
       "            min_samples_split=2, min_weight_fraction_leaf=0.0,\n",
       "            presort=False, random_state=None, splitter='best')"
      ]
     },
     "execution_count": 591,
     "metadata": {},
     "output_type": "execute_result"
    }
   ],
   "source": [
    "#Train the Model\n",
    "DecTree.fit(X_train,y_train)"
   ]
  },
  {
   "cell_type": "code",
   "execution_count": 592,
   "metadata": {},
   "outputs": [],
   "source": [
    "# Test the model\n",
    "DecTree_pred = DecTree.predict(X_test)"
   ]
  },
  {
   "cell_type": "code",
   "execution_count": 593,
   "metadata": {},
   "outputs": [
    {
     "data": {
      "text/plain": [
       "Index(['CoapplicantIncome', 'Credit_History', 'LoanAmount_log', 'Married_Yes',\n",
       "       'Dependents_2', 'Education_Not Graduate', 'Property_Area_Semiurban',\n",
       "       'Property_Area_Urban'],\n",
       "      dtype='object')"
      ]
     },
     "execution_count": 593,
     "metadata": {},
     "output_type": "execute_result"
    }
   ],
   "source": [
    "X_test.columns"
   ]
  },
  {
   "cell_type": "code",
   "execution_count": 594,
   "metadata": {},
   "outputs": [
    {
     "data": {
      "text/plain": [
       "0.7520325203252033"
      ]
     },
     "execution_count": 594,
     "metadata": {},
     "output_type": "execute_result"
    }
   ],
   "source": [
    "accuracy_score(y_test,DecTree_pred)"
   ]
  },
  {
   "cell_type": "code",
   "execution_count": 595,
   "metadata": {},
   "outputs": [
    {
     "data": {
      "text/html": [
       "<div>\n",
       "<style scoped>\n",
       "    .dataframe tbody tr th:only-of-type {\n",
       "        vertical-align: middle;\n",
       "    }\n",
       "\n",
       "    .dataframe tbody tr th {\n",
       "        vertical-align: top;\n",
       "    }\n",
       "\n",
       "    .dataframe thead th {\n",
       "        text-align: right;\n",
       "    }\n",
       "</style>\n",
       "<table border=\"1\" class=\"dataframe\">\n",
       "  <thead>\n",
       "    <tr style=\"text-align: right;\">\n",
       "      <th>Predicted</th>\n",
       "      <th>N</th>\n",
       "      <th>Y</th>\n",
       "    </tr>\n",
       "    <tr>\n",
       "      <th>Actual</th>\n",
       "      <th></th>\n",
       "      <th></th>\n",
       "    </tr>\n",
       "  </thead>\n",
       "  <tbody>\n",
       "    <tr>\n",
       "      <th>N</th>\n",
       "      <td>40</td>\n",
       "      <td>45</td>\n",
       "    </tr>\n",
       "    <tr>\n",
       "      <th>Y</th>\n",
       "      <td>16</td>\n",
       "      <td>145</td>\n",
       "    </tr>\n",
       "  </tbody>\n",
       "</table>\n",
       "</div>"
      ],
      "text/plain": [
       "Predicted   N    Y\n",
       "Actual            \n",
       "N          40   45\n",
       "Y          16  145"
      ]
     },
     "execution_count": 595,
     "metadata": {},
     "output_type": "execute_result"
    }
   ],
   "source": [
    "pd.crosstab(y_test,DecTree_pred, rownames = ['Actual'], colnames = ['Predicted'])"
   ]
  },
  {
   "cell_type": "code",
   "execution_count": 597,
   "metadata": {},
   "outputs": [],
   "source": [
    "import graphviz "
   ]
  },
  {
   "cell_type": "code",
   "execution_count": 599,
   "metadata": {},
   "outputs": [
    {
     "data": {
      "image/svg+xml": [
       "<?xml version=\"1.0\" encoding=\"UTF-8\" standalone=\"no\"?>\r\n",
       "<!DOCTYPE svg PUBLIC \"-//W3C//DTD SVG 1.1//EN\"\r\n",
       " \"http://www.w3.org/Graphics/SVG/1.1/DTD/svg11.dtd\">\r\n",
       "<!-- Generated by graphviz version 2.38.0 (20140413.2041)\r\n",
       " -->\r\n",
       "<!-- Title: Tree Pages: 1 -->\r\n",
       "<svg width=\"2646pt\" height=\"848pt\"\r\n",
       " viewBox=\"0.00 0.00 2646.00 848.00\" xmlns=\"http://www.w3.org/2000/svg\" xmlns:xlink=\"http://www.w3.org/1999/xlink\">\r\n",
       "<g id=\"graph0\" class=\"graph\" transform=\"scale(1 1) rotate(0) translate(4 844)\">\r\n",
       "<title>Tree</title>\r\n",
       "<polygon fill=\"white\" stroke=\"none\" points=\"-4,4 -4,-844 2642,-844 2642,4 -4,4\"/>\r\n",
       "<!-- 0 -->\r\n",
       "<g id=\"node1\" class=\"node\"><title>0</title>\r\n",
       "<path fill=\"#399de5\" fill-opacity=\"0.588235\" stroke=\"black\" d=\"M1254.5,-840C1254.5,-840 1057.5,-840 1057.5,-840 1051.5,-840 1045.5,-834 1045.5,-828 1045.5,-828 1045.5,-754 1045.5,-754 1045.5,-748 1051.5,-742 1057.5,-742 1057.5,-742 1254.5,-742 1254.5,-742 1260.5,-742 1266.5,-748 1266.5,-754 1266.5,-754 1266.5,-828 1266.5,-828 1266.5,-834 1260.5,-840 1254.5,-840\"/>\r\n",
       "<text text-anchor=\"start\" x=\"1129.5\" y=\"-824.8\" font-family=\"Helvetica,sans-Serif\" font-size=\"14.00\">node #0</text>\r\n",
       "<text text-anchor=\"start\" x=\"1053.5\" y=\"-809.8\" font-family=\"Helvetica,sans-Serif\" font-size=\"14.00\">Property_Area_Semiurban ≤ 0.5</text>\r\n",
       "<text text-anchor=\"start\" x=\"1118.5\" y=\"-794.8\" font-family=\"Helvetica,sans-Serif\" font-size=\"14.00\">gini = 0.412</text>\r\n",
       "<text text-anchor=\"start\" x=\"1108.5\" y=\"-779.8\" font-family=\"Helvetica,sans-Serif\" font-size=\"14.00\">samples = 368</text>\r\n",
       "<text text-anchor=\"start\" x=\"1099\" y=\"-764.8\" font-family=\"Helvetica,sans-Serif\" font-size=\"14.00\">value = [107, 261]</text>\r\n",
       "<text text-anchor=\"start\" x=\"1126.5\" y=\"-749.8\" font-family=\"Helvetica,sans-Serif\" font-size=\"14.00\">class = N</text>\r\n",
       "</g>\r\n",
       "<!-- 1 -->\r\n",
       "<g id=\"node2\" class=\"node\"><title>1</title>\r\n",
       "<path fill=\"#399de5\" fill-opacity=\"0.435294\" stroke=\"black\" d=\"M946,-706C946,-706 828,-706 828,-706 822,-706 816,-700 816,-694 816,-694 816,-620 816,-620 816,-614 822,-608 828,-608 828,-608 946,-608 946,-608 952,-608 958,-614 958,-620 958,-620 958,-694 958,-694 958,-700 952,-706 946,-706\"/>\r\n",
       "<text text-anchor=\"start\" x=\"860.5\" y=\"-690.8\" font-family=\"Helvetica,sans-Serif\" font-size=\"14.00\">node #1</text>\r\n",
       "<text text-anchor=\"start\" x=\"824\" y=\"-675.8\" font-family=\"Helvetica,sans-Serif\" font-size=\"14.00\">Credit_History ≤ 0.5</text>\r\n",
       "<text text-anchor=\"start\" x=\"849.5\" y=\"-660.8\" font-family=\"Helvetica,sans-Serif\" font-size=\"14.00\">gini = 0.461</text>\r\n",
       "<text text-anchor=\"start\" x=\"839.5\" y=\"-645.8\" font-family=\"Helvetica,sans-Serif\" font-size=\"14.00\">samples = 233</text>\r\n",
       "<text text-anchor=\"start\" x=\"834\" y=\"-630.8\" font-family=\"Helvetica,sans-Serif\" font-size=\"14.00\">value = [84, 149]</text>\r\n",
       "<text text-anchor=\"start\" x=\"857.5\" y=\"-615.8\" font-family=\"Helvetica,sans-Serif\" font-size=\"14.00\">class = N</text>\r\n",
       "</g>\r\n",
       "<!-- 0&#45;&gt;1 -->\r\n",
       "<g id=\"edge1\" class=\"edge\"><title>0&#45;&gt;1</title>\r\n",
       "<path fill=\"none\" stroke=\"black\" d=\"M1058.12,-741.972C1028.3,-727.338 995.881,-711.428 967.358,-697.432\"/>\r\n",
       "<polygon fill=\"black\" stroke=\"black\" points=\"968.762,-694.223 958.243,-692.959 965.679,-700.507 968.762,-694.223\"/>\r\n",
       "<text text-anchor=\"middle\" x=\"966.326\" y=\"-712.917\" font-family=\"Helvetica,sans-Serif\" font-size=\"14.00\">True</text>\r\n",
       "</g>\r\n",
       "<!-- 104 -->\r\n",
       "<g id=\"node37\" class=\"node\"><title>104</title>\r\n",
       "<path fill=\"#399de5\" fill-opacity=\"0.796078\" stroke=\"black\" d=\"M1485,-706C1485,-706 1367,-706 1367,-706 1361,-706 1355,-700 1355,-694 1355,-694 1355,-620 1355,-620 1355,-614 1361,-608 1367,-608 1367,-608 1485,-608 1485,-608 1491,-608 1497,-614 1497,-620 1497,-620 1497,-694 1497,-694 1497,-700 1491,-706 1485,-706\"/>\r\n",
       "<text text-anchor=\"start\" x=\"1391\" y=\"-690.8\" font-family=\"Helvetica,sans-Serif\" font-size=\"14.00\">node #104</text>\r\n",
       "<text text-anchor=\"start\" x=\"1363\" y=\"-675.8\" font-family=\"Helvetica,sans-Serif\" font-size=\"14.00\">Credit_History ≤ 0.5</text>\r\n",
       "<text text-anchor=\"start\" x=\"1388.5\" y=\"-660.8\" font-family=\"Helvetica,sans-Serif\" font-size=\"14.00\">gini = 0.283</text>\r\n",
       "<text text-anchor=\"start\" x=\"1378.5\" y=\"-645.8\" font-family=\"Helvetica,sans-Serif\" font-size=\"14.00\">samples = 135</text>\r\n",
       "<text text-anchor=\"start\" x=\"1373\" y=\"-630.8\" font-family=\"Helvetica,sans-Serif\" font-size=\"14.00\">value = [23, 112]</text>\r\n",
       "<text text-anchor=\"start\" x=\"1396.5\" y=\"-615.8\" font-family=\"Helvetica,sans-Serif\" font-size=\"14.00\">class = N</text>\r\n",
       "</g>\r\n",
       "<!-- 0&#45;&gt;104 -->\r\n",
       "<g id=\"edge36\" class=\"edge\"><title>0&#45;&gt;104</title>\r\n",
       "<path fill=\"none\" stroke=\"black\" d=\"M1254.24,-741.972C1284.31,-727.271 1317.01,-711.284 1345.73,-697.242\"/>\r\n",
       "<polygon fill=\"black\" stroke=\"black\" points=\"1347.46,-700.291 1354.91,-692.755 1344.39,-694.003 1347.46,-700.291\"/>\r\n",
       "<text text-anchor=\"middle\" x=\"1346.79\" y=\"-712.7\" font-family=\"Helvetica,sans-Serif\" font-size=\"14.00\">False</text>\r\n",
       "</g>\r\n",
       "<!-- 2 -->\r\n",
       "<g id=\"node3\" class=\"node\"><title>2</title>\r\n",
       "<path fill=\"#e58139\" fill-opacity=\"0.917647\" stroke=\"black\" d=\"M686.5,-572C686.5,-572 503.5,-572 503.5,-572 497.5,-572 491.5,-566 491.5,-560 491.5,-560 491.5,-486 491.5,-486 491.5,-480 497.5,-474 503.5,-474 503.5,-474 686.5,-474 686.5,-474 692.5,-474 698.5,-480 698.5,-486 698.5,-486 698.5,-560 698.5,-560 698.5,-566 692.5,-572 686.5,-572\"/>\r\n",
       "<text text-anchor=\"start\" x=\"568.5\" y=\"-556.8\" font-family=\"Helvetica,sans-Serif\" font-size=\"14.00\">node #2</text>\r\n",
       "<text text-anchor=\"start\" x=\"499.5\" y=\"-541.8\" font-family=\"Helvetica,sans-Serif\" font-size=\"14.00\">Education_Not Graduate ≤ 0.5</text>\r\n",
       "<text text-anchor=\"start\" x=\"557.5\" y=\"-526.8\" font-family=\"Helvetica,sans-Serif\" font-size=\"14.00\">gini = 0.142</text>\r\n",
       "<text text-anchor=\"start\" x=\"551.5\" y=\"-511.8\" font-family=\"Helvetica,sans-Serif\" font-size=\"14.00\">samples = 39</text>\r\n",
       "<text text-anchor=\"start\" x=\"550.5\" y=\"-496.8\" font-family=\"Helvetica,sans-Serif\" font-size=\"14.00\">value = [36, 3]</text>\r\n",
       "<text text-anchor=\"start\" x=\"566\" y=\"-481.8\" font-family=\"Helvetica,sans-Serif\" font-size=\"14.00\">class = Y</text>\r\n",
       "</g>\r\n",
       "<!-- 1&#45;&gt;2 -->\r\n",
       "<g id=\"edge2\" class=\"edge\"><title>1&#45;&gt;2</title>\r\n",
       "<path fill=\"none\" stroke=\"black\" d=\"M815.942,-623.878C783.494,-609.21 744.271,-591.479 707.932,-575.051\"/>\r\n",
       "<polygon fill=\"black\" stroke=\"black\" points=\"709.315,-571.836 698.761,-570.906 706.432,-578.214 709.315,-571.836\"/>\r\n",
       "</g>\r\n",
       "<!-- 23 -->\r\n",
       "<g id=\"node14\" class=\"node\"><title>23</title>\r\n",
       "<path fill=\"#399de5\" fill-opacity=\"0.670588\" stroke=\"black\" d=\"M963,-572C963,-572 811,-572 811,-572 805,-572 799,-566 799,-560 799,-560 799,-486 799,-486 799,-480 805,-474 811,-474 811,-474 963,-474 963,-474 969,-474 975,-480 975,-486 975,-486 975,-560 975,-560 975,-566 969,-572 963,-572\"/>\r\n",
       "<text text-anchor=\"start\" x=\"856.5\" y=\"-556.8\" font-family=\"Helvetica,sans-Serif\" font-size=\"14.00\">node #23</text>\r\n",
       "<text text-anchor=\"start\" x=\"807\" y=\"-541.8\" font-family=\"Helvetica,sans-Serif\" font-size=\"14.00\">LoanAmount_log ≤ 4.454</text>\r\n",
       "<text text-anchor=\"start\" x=\"849.5\" y=\"-526.8\" font-family=\"Helvetica,sans-Serif\" font-size=\"14.00\">gini = 0.372</text>\r\n",
       "<text text-anchor=\"start\" x=\"839.5\" y=\"-511.8\" font-family=\"Helvetica,sans-Serif\" font-size=\"14.00\">samples = 194</text>\r\n",
       "<text text-anchor=\"start\" x=\"834\" y=\"-496.8\" font-family=\"Helvetica,sans-Serif\" font-size=\"14.00\">value = [48, 146]</text>\r\n",
       "<text text-anchor=\"start\" x=\"857.5\" y=\"-481.8\" font-family=\"Helvetica,sans-Serif\" font-size=\"14.00\">class = N</text>\r\n",
       "</g>\r\n",
       "<!-- 1&#45;&gt;23 -->\r\n",
       "<g id=\"edge13\" class=\"edge\"><title>1&#45;&gt;23</title>\r\n",
       "<path fill=\"none\" stroke=\"black\" d=\"M887,-607.972C887,-599.691 887,-591.003 887,-582.483\"/>\r\n",
       "<polygon fill=\"black\" stroke=\"black\" points=\"890.5,-582.214 887,-572.214 883.5,-582.214 890.5,-582.214\"/>\r\n",
       "</g>\r\n",
       "<!-- 3 -->\r\n",
       "<g id=\"node4\" class=\"node\"><title>3</title>\r\n",
       "<path fill=\"#e58139\" fill-opacity=\"0.878431\" stroke=\"black\" d=\"M488,-438C488,-438 336,-438 336,-438 330,-438 324,-432 324,-426 324,-426 324,-352 324,-352 324,-346 330,-340 336,-340 336,-340 488,-340 488,-340 494,-340 500,-346 500,-352 500,-352 500,-426 500,-426 500,-432 494,-438 488,-438\"/>\r\n",
       "<text text-anchor=\"start\" x=\"385.5\" y=\"-422.8\" font-family=\"Helvetica,sans-Serif\" font-size=\"14.00\">node #3</text>\r\n",
       "<text text-anchor=\"start\" x=\"332\" y=\"-407.8\" font-family=\"Helvetica,sans-Serif\" font-size=\"14.00\">LoanAmount_log ≤ 5.091</text>\r\n",
       "<text text-anchor=\"start\" x=\"374.5\" y=\"-392.8\" font-family=\"Helvetica,sans-Serif\" font-size=\"14.00\">gini = 0.191</text>\r\n",
       "<text text-anchor=\"start\" x=\"368.5\" y=\"-377.8\" font-family=\"Helvetica,sans-Serif\" font-size=\"14.00\">samples = 28</text>\r\n",
       "<text text-anchor=\"start\" x=\"367.5\" y=\"-362.8\" font-family=\"Helvetica,sans-Serif\" font-size=\"14.00\">value = [25, 3]</text>\r\n",
       "<text text-anchor=\"start\" x=\"383\" y=\"-347.8\" font-family=\"Helvetica,sans-Serif\" font-size=\"14.00\">class = Y</text>\r\n",
       "</g>\r\n",
       "<!-- 2&#45;&gt;3 -->\r\n",
       "<g id=\"edge3\" class=\"edge\"><title>2&#45;&gt;3</title>\r\n",
       "<path fill=\"none\" stroke=\"black\" d=\"M528.415,-473.972C515.043,-464.326 500.903,-454.127 487.261,-444.286\"/>\r\n",
       "<polygon fill=\"black\" stroke=\"black\" points=\"489,-441.225 478.842,-438.214 484.905,-446.903 489,-441.225\"/>\r\n",
       "</g>\r\n",
       "<!-- 22 -->\r\n",
       "<g id=\"node13\" class=\"node\"><title>22</title>\r\n",
       "<path fill=\"#e58139\" stroke=\"black\" d=\"M635.5,-430.5C635.5,-430.5 554.5,-430.5 554.5,-430.5 548.5,-430.5 542.5,-424.5 542.5,-418.5 542.5,-418.5 542.5,-359.5 542.5,-359.5 542.5,-353.5 548.5,-347.5 554.5,-347.5 554.5,-347.5 635.5,-347.5 635.5,-347.5 641.5,-347.5 647.5,-353.5 647.5,-359.5 647.5,-359.5 647.5,-418.5 647.5,-418.5 647.5,-424.5 641.5,-430.5 635.5,-430.5\"/>\r\n",
       "<text text-anchor=\"start\" x=\"564.5\" y=\"-415.3\" font-family=\"Helvetica,sans-Serif\" font-size=\"14.00\">node #22</text>\r\n",
       "<text text-anchor=\"start\" x=\"566\" y=\"-400.3\" font-family=\"Helvetica,sans-Serif\" font-size=\"14.00\">gini = 0.0</text>\r\n",
       "<text text-anchor=\"start\" x=\"551.5\" y=\"-385.3\" font-family=\"Helvetica,sans-Serif\" font-size=\"14.00\">samples = 11</text>\r\n",
       "<text text-anchor=\"start\" x=\"550.5\" y=\"-370.3\" font-family=\"Helvetica,sans-Serif\" font-size=\"14.00\">value = [11, 0]</text>\r\n",
       "<text text-anchor=\"start\" x=\"566\" y=\"-355.3\" font-family=\"Helvetica,sans-Serif\" font-size=\"14.00\">class = Y</text>\r\n",
       "</g>\r\n",
       "<!-- 2&#45;&gt;22 -->\r\n",
       "<g id=\"edge12\" class=\"edge\"><title>2&#45;&gt;22</title>\r\n",
       "<path fill=\"none\" stroke=\"black\" d=\"M595,-473.972C595,-463.246 595,-451.835 595,-440.994\"/>\r\n",
       "<polygon fill=\"black\" stroke=\"black\" points=\"598.5,-440.817 595,-430.817 591.5,-440.817 598.5,-440.817\"/>\r\n",
       "</g>\r\n",
       "<!-- 4 -->\r\n",
       "<g id=\"node5\" class=\"node\"><title>4</title>\r\n",
       "<path fill=\"#e58139\" fill-opacity=\"0.831373\" stroke=\"black\" d=\"M326,-304C326,-304 174,-304 174,-304 168,-304 162,-298 162,-292 162,-292 162,-218 162,-218 162,-212 168,-206 174,-206 174,-206 326,-206 326,-206 332,-206 338,-212 338,-218 338,-218 338,-292 338,-292 338,-298 332,-304 326,-304\"/>\r\n",
       "<text text-anchor=\"start\" x=\"223.5\" y=\"-288.8\" font-family=\"Helvetica,sans-Serif\" font-size=\"14.00\">node #4</text>\r\n",
       "<text text-anchor=\"start\" x=\"170\" y=\"-273.8\" font-family=\"Helvetica,sans-Serif\" font-size=\"14.00\">LoanAmount_log ≤ 4.844</text>\r\n",
       "<text text-anchor=\"start\" x=\"212.5\" y=\"-258.8\" font-family=\"Helvetica,sans-Serif\" font-size=\"14.00\">gini = 0.245</text>\r\n",
       "<text text-anchor=\"start\" x=\"206.5\" y=\"-243.8\" font-family=\"Helvetica,sans-Serif\" font-size=\"14.00\">samples = 21</text>\r\n",
       "<text text-anchor=\"start\" x=\"205.5\" y=\"-228.8\" font-family=\"Helvetica,sans-Serif\" font-size=\"14.00\">value = [18, 3]</text>\r\n",
       "<text text-anchor=\"start\" x=\"221\" y=\"-213.8\" font-family=\"Helvetica,sans-Serif\" font-size=\"14.00\">class = Y</text>\r\n",
       "</g>\r\n",
       "<!-- 3&#45;&gt;4 -->\r\n",
       "<g id=\"edge4\" class=\"edge\"><title>3&#45;&gt;4</title>\r\n",
       "<path fill=\"none\" stroke=\"black\" d=\"M353.056,-339.972C341.33,-330.417 328.937,-320.319 316.966,-310.565\"/>\r\n",
       "<polygon fill=\"black\" stroke=\"black\" points=\"319.135,-307.817 309.172,-304.214 314.713,-313.244 319.135,-307.817\"/>\r\n",
       "</g>\r\n",
       "<!-- 21 -->\r\n",
       "<g id=\"node12\" class=\"node\"><title>21</title>\r\n",
       "<path fill=\"#e58139\" stroke=\"black\" d=\"M448.5,-296.5C448.5,-296.5 375.5,-296.5 375.5,-296.5 369.5,-296.5 363.5,-290.5 363.5,-284.5 363.5,-284.5 363.5,-225.5 363.5,-225.5 363.5,-219.5 369.5,-213.5 375.5,-213.5 375.5,-213.5 448.5,-213.5 448.5,-213.5 454.5,-213.5 460.5,-219.5 460.5,-225.5 460.5,-225.5 460.5,-284.5 460.5,-284.5 460.5,-290.5 454.5,-296.5 448.5,-296.5\"/>\r\n",
       "<text text-anchor=\"start\" x=\"381.5\" y=\"-281.3\" font-family=\"Helvetica,sans-Serif\" font-size=\"14.00\">node #21</text>\r\n",
       "<text text-anchor=\"start\" x=\"383\" y=\"-266.3\" font-family=\"Helvetica,sans-Serif\" font-size=\"14.00\">gini = 0.0</text>\r\n",
       "<text text-anchor=\"start\" x=\"372.5\" y=\"-251.3\" font-family=\"Helvetica,sans-Serif\" font-size=\"14.00\">samples = 7</text>\r\n",
       "<text text-anchor=\"start\" x=\"371.5\" y=\"-236.3\" font-family=\"Helvetica,sans-Serif\" font-size=\"14.00\">value = [7, 0]</text>\r\n",
       "<text text-anchor=\"start\" x=\"383\" y=\"-221.3\" font-family=\"Helvetica,sans-Serif\" font-size=\"14.00\">class = Y</text>\r\n",
       "</g>\r\n",
       "<!-- 3&#45;&gt;21 -->\r\n",
       "<g id=\"edge11\" class=\"edge\"><title>3&#45;&gt;21</title>\r\n",
       "<path fill=\"none\" stroke=\"black\" d=\"M412,-339.972C412,-329.246 412,-317.835 412,-306.994\"/>\r\n",
       "<polygon fill=\"black\" stroke=\"black\" points=\"415.5,-306.817 412,-296.817 408.5,-306.817 415.5,-306.817\"/>\r\n",
       "</g>\r\n",
       "<!-- 5 -->\r\n",
       "<g id=\"node6\" class=\"node\"><title>5</title>\r\n",
       "<path fill=\"#e58139\" fill-opacity=\"0.929412\" stroke=\"black\" d=\"M120,-170C120,-170 12,-170 12,-170 6,-170 0,-164 0,-158 0,-158 0,-84 0,-84 0,-78 6,-72 12,-72 12,-72 120,-72 120,-72 126,-72 132,-78 132,-84 132,-84 132,-158 132,-158 132,-164 126,-170 120,-170\"/>\r\n",
       "<text text-anchor=\"start\" x=\"39.5\" y=\"-154.8\" font-family=\"Helvetica,sans-Serif\" font-size=\"14.00\">node #5</text>\r\n",
       "<text text-anchor=\"start\" x=\"8\" y=\"-139.8\" font-family=\"Helvetica,sans-Serif\" font-size=\"14.00\">Married_Yes ≤ 0.5</text>\r\n",
       "<text text-anchor=\"start\" x=\"28.5\" y=\"-124.8\" font-family=\"Helvetica,sans-Serif\" font-size=\"14.00\">gini = 0.124</text>\r\n",
       "<text text-anchor=\"start\" x=\"22.5\" y=\"-109.8\" font-family=\"Helvetica,sans-Serif\" font-size=\"14.00\">samples = 15</text>\r\n",
       "<text text-anchor=\"start\" x=\"21.5\" y=\"-94.8\" font-family=\"Helvetica,sans-Serif\" font-size=\"14.00\">value = [14, 1]</text>\r\n",
       "<text text-anchor=\"start\" x=\"37\" y=\"-79.8\" font-family=\"Helvetica,sans-Serif\" font-size=\"14.00\">class = Y</text>\r\n",
       "</g>\r\n",
       "<!-- 4&#45;&gt;5 -->\r\n",
       "<g id=\"edge5\" class=\"edge\"><title>4&#45;&gt;5</title>\r\n",
       "<path fill=\"none\" stroke=\"black\" d=\"M183.051,-205.972C169.222,-196.051 154.575,-185.543 140.496,-175.443\"/>\r\n",
       "<polygon fill=\"black\" stroke=\"black\" points=\"142.449,-172.536 132.283,-169.551 138.368,-178.224 142.449,-172.536\"/>\r\n",
       "</g>\r\n",
       "<!-- 12 -->\r\n",
       "<g id=\"node9\" class=\"node\"><title>12</title>\r\n",
       "<path fill=\"#e58139\" fill-opacity=\"0.498039\" stroke=\"black\" d=\"M338,-170C338,-170 162,-170 162,-170 156,-170 150,-164 150,-158 150,-158 150,-84 150,-84 150,-78 156,-72 162,-72 162,-72 338,-72 338,-72 344,-72 350,-78 350,-84 350,-84 350,-158 350,-158 350,-164 344,-170 338,-170\"/>\r\n",
       "<text text-anchor=\"start\" x=\"219.5\" y=\"-154.8\" font-family=\"Helvetica,sans-Serif\" font-size=\"14.00\">node #12</text>\r\n",
       "<text text-anchor=\"start\" x=\"158\" y=\"-139.8\" font-family=\"Helvetica,sans-Serif\" font-size=\"14.00\">CoapplicantIncome ≤ 2830.5</text>\r\n",
       "<text text-anchor=\"start\" x=\"212.5\" y=\"-124.8\" font-family=\"Helvetica,sans-Serif\" font-size=\"14.00\">gini = 0.444</text>\r\n",
       "<text text-anchor=\"start\" x=\"210.5\" y=\"-109.8\" font-family=\"Helvetica,sans-Serif\" font-size=\"14.00\">samples = 6</text>\r\n",
       "<text text-anchor=\"start\" x=\"209.5\" y=\"-94.8\" font-family=\"Helvetica,sans-Serif\" font-size=\"14.00\">value = [4, 2]</text>\r\n",
       "<text text-anchor=\"start\" x=\"221\" y=\"-79.8\" font-family=\"Helvetica,sans-Serif\" font-size=\"14.00\">class = Y</text>\r\n",
       "</g>\r\n",
       "<!-- 4&#45;&gt;12 -->\r\n",
       "<g id=\"edge8\" class=\"edge\"><title>4&#45;&gt;12</title>\r\n",
       "<path fill=\"none\" stroke=\"black\" d=\"M250,-205.972C250,-197.691 250,-189.003 250,-180.483\"/>\r\n",
       "<polygon fill=\"black\" stroke=\"black\" points=\"253.5,-180.214 250,-170.214 246.5,-180.214 253.5,-180.214\"/>\r\n",
       "</g>\r\n",
       "<!-- 6 -->\r\n",
       "<g id=\"node7\" class=\"node\"><title>6</title>\r\n",
       "<path fill=\"#c0c0c0\" stroke=\"black\" d=\"M55,-36C55,-36 25,-36 25,-36 19,-36 13,-30 13,-24 13,-24 13,-12 13,-12 13,-6 19,-0 25,-0 25,-0 55,-0 55,-0 61,-0 67,-6 67,-12 67,-12 67,-24 67,-24 67,-30 61,-36 55,-36\"/>\r\n",
       "<text text-anchor=\"middle\" x=\"40\" y=\"-14.3\" font-family=\"Helvetica,sans-Serif\" font-size=\"14.00\">(...)</text>\r\n",
       "</g>\r\n",
       "<!-- 5&#45;&gt;6 -->\r\n",
       "<g id=\"edge6\" class=\"edge\"><title>5&#45;&gt;6</title>\r\n",
       "<path fill=\"none\" stroke=\"black\" d=\"M53.6092,-71.8664C51.3174,-62.9639 49.0004,-53.9632 46.9438,-45.974\"/>\r\n",
       "<polygon fill=\"black\" stroke=\"black\" points=\"50.2968,-44.9593 44.4142,-36.1476 43.5178,-46.7044 50.2968,-44.9593\"/>\r\n",
       "</g>\r\n",
       "<!-- 7 -->\r\n",
       "<g id=\"node8\" class=\"node\"><title>7</title>\r\n",
       "<path fill=\"#c0c0c0\" stroke=\"black\" d=\"M127,-36C127,-36 97,-36 97,-36 91,-36 85,-30 85,-24 85,-24 85,-12 85,-12 85,-6 91,-0 97,-0 97,-0 127,-0 127,-0 133,-0 139,-6 139,-12 139,-12 139,-24 139,-24 139,-30 133,-36 127,-36\"/>\r\n",
       "<text text-anchor=\"middle\" x=\"112\" y=\"-14.3\" font-family=\"Helvetica,sans-Serif\" font-size=\"14.00\">(...)</text>\r\n",
       "</g>\r\n",
       "<!-- 5&#45;&gt;7 -->\r\n",
       "<g id=\"edge7\" class=\"edge\"><title>5&#45;&gt;7</title>\r\n",
       "<path fill=\"none\" stroke=\"black\" d=\"M87.9222,-71.8664C92.0679,-62.7639 96.2605,-53.5586 99.9594,-45.437\"/>\r\n",
       "<polygon fill=\"black\" stroke=\"black\" points=\"103.231,-46.6989 104.19,-36.1476 96.8601,-43.7974 103.231,-46.6989\"/>\r\n",
       "</g>\r\n",
       "<!-- 13 -->\r\n",
       "<g id=\"node10\" class=\"node\"><title>13</title>\r\n",
       "<path fill=\"#c0c0c0\" stroke=\"black\" d=\"M219,-36C219,-36 189,-36 189,-36 183,-36 177,-30 177,-24 177,-24 177,-12 177,-12 177,-6 183,-0 189,-0 189,-0 219,-0 219,-0 225,-0 231,-6 231,-12 231,-12 231,-24 231,-24 231,-30 225,-36 219,-36\"/>\r\n",
       "<text text-anchor=\"middle\" x=\"204\" y=\"-14.3\" font-family=\"Helvetica,sans-Serif\" font-size=\"14.00\">(...)</text>\r\n",
       "</g>\r\n",
       "<!-- 12&#45;&gt;13 -->\r\n",
       "<g id=\"edge9\" class=\"edge\"><title>12&#45;&gt;13</title>\r\n",
       "<path fill=\"none\" stroke=\"black\" d=\"M228.078,-71.8664C223.932,-62.7639 219.74,-53.5586 216.041,-45.437\"/>\r\n",
       "<polygon fill=\"black\" stroke=\"black\" points=\"219.14,-43.7974 211.81,-36.1476 212.769,-46.6989 219.14,-43.7974\"/>\r\n",
       "</g>\r\n",
       "<!-- 20 -->\r\n",
       "<g id=\"node11\" class=\"node\"><title>20</title>\r\n",
       "<path fill=\"#c0c0c0\" stroke=\"black\" d=\"M291,-36C291,-36 261,-36 261,-36 255,-36 249,-30 249,-24 249,-24 249,-12 249,-12 249,-6 255,-0 261,-0 261,-0 291,-0 291,-0 297,-0 303,-6 303,-12 303,-12 303,-24 303,-24 303,-30 297,-36 291,-36\"/>\r\n",
       "<text text-anchor=\"middle\" x=\"276\" y=\"-14.3\" font-family=\"Helvetica,sans-Serif\" font-size=\"14.00\">(...)</text>\r\n",
       "</g>\r\n",
       "<!-- 12&#45;&gt;20 -->\r\n",
       "<g id=\"edge10\" class=\"edge\"><title>12&#45;&gt;20</title>\r\n",
       "<path fill=\"none\" stroke=\"black\" d=\"M262.391,-71.8664C264.683,-62.9639 267,-53.9632 269.056,-45.974\"/>\r\n",
       "<polygon fill=\"black\" stroke=\"black\" points=\"272.482,-46.7044 271.586,-36.1476 265.703,-44.9593 272.482,-46.7044\"/>\r\n",
       "</g>\r\n",
       "<!-- 24 -->\r\n",
       "<g id=\"node15\" class=\"node\"><title>24</title>\r\n",
       "<path fill=\"#399de5\" fill-opacity=\"0.474510\" stroke=\"black\" d=\"M866,-438C866,-438 690,-438 690,-438 684,-438 678,-432 678,-426 678,-426 678,-352 678,-352 678,-346 684,-340 690,-340 690,-340 866,-340 866,-340 872,-340 878,-346 878,-352 878,-352 878,-426 878,-426 878,-432 872,-438 866,-438\"/>\r\n",
       "<text text-anchor=\"start\" x=\"747.5\" y=\"-422.8\" font-family=\"Helvetica,sans-Serif\" font-size=\"14.00\">node #24</text>\r\n",
       "<text text-anchor=\"start\" x=\"686\" y=\"-407.8\" font-family=\"Helvetica,sans-Serif\" font-size=\"14.00\">CoapplicantIncome ≤ 1400.5</text>\r\n",
       "<text text-anchor=\"start\" x=\"740.5\" y=\"-392.8\" font-family=\"Helvetica,sans-Serif\" font-size=\"14.00\">gini = 0.452</text>\r\n",
       "<text text-anchor=\"start\" x=\"734.5\" y=\"-377.8\" font-family=\"Helvetica,sans-Serif\" font-size=\"14.00\">samples = 29</text>\r\n",
       "<text text-anchor=\"start\" x=\"729.5\" y=\"-362.8\" font-family=\"Helvetica,sans-Serif\" font-size=\"14.00\">value = [10, 19]</text>\r\n",
       "<text text-anchor=\"start\" x=\"748.5\" y=\"-347.8\" font-family=\"Helvetica,sans-Serif\" font-size=\"14.00\">class = N</text>\r\n",
       "</g>\r\n",
       "<!-- 23&#45;&gt;24 -->\r\n",
       "<g id=\"edge14\" class=\"edge\"><title>23&#45;&gt;24</title>\r\n",
       "<path fill=\"none\" stroke=\"black\" d=\"M847.34,-473.972C839.826,-464.872 831.905,-455.28 824.21,-445.961\"/>\r\n",
       "<polygon fill=\"black\" stroke=\"black\" points=\"826.879,-443.696 817.813,-438.214 821.482,-448.153 826.879,-443.696\"/>\r\n",
       "</g>\r\n",
       "<!-- 49 -->\r\n",
       "<g id=\"node22\" class=\"node\"><title>49</title>\r\n",
       "<path fill=\"#399de5\" fill-opacity=\"0.701961\" stroke=\"black\" d=\"M1022,-438C1022,-438 914,-438 914,-438 908,-438 902,-432 902,-426 902,-426 902,-352 902,-352 902,-346 908,-340 914,-340 914,-340 1022,-340 1022,-340 1028,-340 1034,-346 1034,-352 1034,-352 1034,-426 1034,-426 1034,-432 1028,-438 1022,-438\"/>\r\n",
       "<text text-anchor=\"start\" x=\"937.5\" y=\"-422.8\" font-family=\"Helvetica,sans-Serif\" font-size=\"14.00\">node #49</text>\r\n",
       "<text text-anchor=\"start\" x=\"910\" y=\"-407.8\" font-family=\"Helvetica,sans-Serif\" font-size=\"14.00\">Married_Yes ≤ 0.5</text>\r\n",
       "<text text-anchor=\"start\" x=\"930.5\" y=\"-392.8\" font-family=\"Helvetica,sans-Serif\" font-size=\"14.00\">gini = 0.355</text>\r\n",
       "<text text-anchor=\"start\" x=\"920.5\" y=\"-377.8\" font-family=\"Helvetica,sans-Serif\" font-size=\"14.00\">samples = 165</text>\r\n",
       "<text text-anchor=\"start\" x=\"915\" y=\"-362.8\" font-family=\"Helvetica,sans-Serif\" font-size=\"14.00\">value = [38, 127]</text>\r\n",
       "<text text-anchor=\"start\" x=\"938.5\" y=\"-347.8\" font-family=\"Helvetica,sans-Serif\" font-size=\"14.00\">class = N</text>\r\n",
       "</g>\r\n",
       "<!-- 23&#45;&gt;49 -->\r\n",
       "<g id=\"edge21\" class=\"edge\"><title>23&#45;&gt;49</title>\r\n",
       "<path fill=\"none\" stroke=\"black\" d=\"M916.472,-473.972C921.888,-465.145 927.589,-455.855 933.145,-446.8\"/>\r\n",
       "<polygon fill=\"black\" stroke=\"black\" points=\"936.167,-448.568 938.414,-438.214 930.201,-444.907 936.167,-448.568\"/>\r\n",
       "</g>\r\n",
       "<!-- 25 -->\r\n",
       "<g id=\"node16\" class=\"node\"><title>25</title>\r\n",
       "<path fill=\"#399de5\" fill-opacity=\"0.286275\" stroke=\"black\" d=\"M686,-304C686,-304 564,-304 564,-304 558,-304 552,-298 552,-292 552,-292 552,-218 552,-218 552,-212 558,-206 564,-206 564,-206 686,-206 686,-206 692,-206 698,-212 698,-218 698,-218 698,-292 698,-292 698,-298 692,-304 686,-304\"/>\r\n",
       "<text text-anchor=\"start\" x=\"594.5\" y=\"-288.8\" font-family=\"Helvetica,sans-Serif\" font-size=\"14.00\">node #25</text>\r\n",
       "<text text-anchor=\"start\" x=\"560\" y=\"-273.8\" font-family=\"Helvetica,sans-Serif\" font-size=\"14.00\">Dependents_2 ≤ 0.5</text>\r\n",
       "<text text-anchor=\"start\" x=\"587.5\" y=\"-258.8\" font-family=\"Helvetica,sans-Serif\" font-size=\"14.00\">gini = 0.486</text>\r\n",
       "<text text-anchor=\"start\" x=\"581.5\" y=\"-243.8\" font-family=\"Helvetica,sans-Serif\" font-size=\"14.00\">samples = 24</text>\r\n",
       "<text text-anchor=\"start\" x=\"576.5\" y=\"-228.8\" font-family=\"Helvetica,sans-Serif\" font-size=\"14.00\">value = [10, 14]</text>\r\n",
       "<text text-anchor=\"start\" x=\"595.5\" y=\"-213.8\" font-family=\"Helvetica,sans-Serif\" font-size=\"14.00\">class = N</text>\r\n",
       "</g>\r\n",
       "<!-- 24&#45;&gt;25 -->\r\n",
       "<g id=\"edge15\" class=\"edge\"><title>24&#45;&gt;25</title>\r\n",
       "<path fill=\"none\" stroke=\"black\" d=\"M722.331,-339.972C711.362,-330.508 699.775,-320.512 688.569,-310.844\"/>\r\n",
       "<polygon fill=\"black\" stroke=\"black\" points=\"690.742,-308.096 680.884,-304.214 686.17,-313.396 690.742,-308.096\"/>\r\n",
       "</g>\r\n",
       "<!-- 48 -->\r\n",
       "<g id=\"node21\" class=\"node\"><title>48</title>\r\n",
       "<path fill=\"#399de5\" stroke=\"black\" d=\"M814.5,-296.5C814.5,-296.5 741.5,-296.5 741.5,-296.5 735.5,-296.5 729.5,-290.5 729.5,-284.5 729.5,-284.5 729.5,-225.5 729.5,-225.5 729.5,-219.5 735.5,-213.5 741.5,-213.5 741.5,-213.5 814.5,-213.5 814.5,-213.5 820.5,-213.5 826.5,-219.5 826.5,-225.5 826.5,-225.5 826.5,-284.5 826.5,-284.5 826.5,-290.5 820.5,-296.5 814.5,-296.5\"/>\r\n",
       "<text text-anchor=\"start\" x=\"747.5\" y=\"-281.3\" font-family=\"Helvetica,sans-Serif\" font-size=\"14.00\">node #48</text>\r\n",
       "<text text-anchor=\"start\" x=\"749\" y=\"-266.3\" font-family=\"Helvetica,sans-Serif\" font-size=\"14.00\">gini = 0.0</text>\r\n",
       "<text text-anchor=\"start\" x=\"738.5\" y=\"-251.3\" font-family=\"Helvetica,sans-Serif\" font-size=\"14.00\">samples = 5</text>\r\n",
       "<text text-anchor=\"start\" x=\"737.5\" y=\"-236.3\" font-family=\"Helvetica,sans-Serif\" font-size=\"14.00\">value = [0, 5]</text>\r\n",
       "<text text-anchor=\"start\" x=\"748.5\" y=\"-221.3\" font-family=\"Helvetica,sans-Serif\" font-size=\"14.00\">class = N</text>\r\n",
       "</g>\r\n",
       "<!-- 24&#45;&gt;48 -->\r\n",
       "<g id=\"edge20\" class=\"edge\"><title>24&#45;&gt;48</title>\r\n",
       "<path fill=\"none\" stroke=\"black\" d=\"M778,-339.972C778,-329.246 778,-317.835 778,-306.994\"/>\r\n",
       "<polygon fill=\"black\" stroke=\"black\" points=\"781.5,-306.817 778,-296.817 774.5,-306.817 781.5,-306.817\"/>\r\n",
       "</g>\r\n",
       "<!-- 26 -->\r\n",
       "<g id=\"node17\" class=\"node\"><title>26</title>\r\n",
       "<path fill=\"#399de5\" fill-opacity=\"0.090196\" stroke=\"black\" d=\"M546,-170C546,-170 380,-170 380,-170 374,-170 368,-164 368,-158 368,-158 368,-84 368,-84 368,-78 374,-72 380,-72 380,-72 546,-72 546,-72 552,-72 558,-78 558,-84 558,-84 558,-158 558,-158 558,-164 552,-170 546,-170\"/>\r\n",
       "<text text-anchor=\"start\" x=\"432.5\" y=\"-154.8\" font-family=\"Helvetica,sans-Serif\" font-size=\"14.00\">node #26</text>\r\n",
       "<text text-anchor=\"start\" x=\"376\" y=\"-139.8\" font-family=\"Helvetica,sans-Serif\" font-size=\"14.00\">Property_Area_Urban ≤ 0.5</text>\r\n",
       "<text text-anchor=\"start\" x=\"425.5\" y=\"-124.8\" font-family=\"Helvetica,sans-Serif\" font-size=\"14.00\">gini = 0.499</text>\r\n",
       "<text text-anchor=\"start\" x=\"419.5\" y=\"-109.8\" font-family=\"Helvetica,sans-Serif\" font-size=\"14.00\">samples = 21</text>\r\n",
       "<text text-anchor=\"start\" x=\"414.5\" y=\"-94.8\" font-family=\"Helvetica,sans-Serif\" font-size=\"14.00\">value = [10, 11]</text>\r\n",
       "<text text-anchor=\"start\" x=\"433.5\" y=\"-79.8\" font-family=\"Helvetica,sans-Serif\" font-size=\"14.00\">class = N</text>\r\n",
       "</g>\r\n",
       "<!-- 25&#45;&gt;26 -->\r\n",
       "<g id=\"edge16\" class=\"edge\"><title>25&#45;&gt;26</title>\r\n",
       "<path fill=\"none\" stroke=\"black\" d=\"M566.056,-205.972C554.33,-196.417 541.937,-186.319 529.966,-176.565\"/>\r\n",
       "<polygon fill=\"black\" stroke=\"black\" points=\"532.135,-173.817 522.172,-170.214 527.713,-179.244 532.135,-173.817\"/>\r\n",
       "</g>\r\n",
       "<!-- 47 -->\r\n",
       "<g id=\"node20\" class=\"node\"><title>47</title>\r\n",
       "<path fill=\"#399de5\" stroke=\"black\" d=\"M661.5,-162.5C661.5,-162.5 588.5,-162.5 588.5,-162.5 582.5,-162.5 576.5,-156.5 576.5,-150.5 576.5,-150.5 576.5,-91.5 576.5,-91.5 576.5,-85.5 582.5,-79.5 588.5,-79.5 588.5,-79.5 661.5,-79.5 661.5,-79.5 667.5,-79.5 673.5,-85.5 673.5,-91.5 673.5,-91.5 673.5,-150.5 673.5,-150.5 673.5,-156.5 667.5,-162.5 661.5,-162.5\"/>\r\n",
       "<text text-anchor=\"start\" x=\"594.5\" y=\"-147.3\" font-family=\"Helvetica,sans-Serif\" font-size=\"14.00\">node #47</text>\r\n",
       "<text text-anchor=\"start\" x=\"596\" y=\"-132.3\" font-family=\"Helvetica,sans-Serif\" font-size=\"14.00\">gini = 0.0</text>\r\n",
       "<text text-anchor=\"start\" x=\"585.5\" y=\"-117.3\" font-family=\"Helvetica,sans-Serif\" font-size=\"14.00\">samples = 3</text>\r\n",
       "<text text-anchor=\"start\" x=\"584.5\" y=\"-102.3\" font-family=\"Helvetica,sans-Serif\" font-size=\"14.00\">value = [0, 3]</text>\r\n",
       "<text text-anchor=\"start\" x=\"595.5\" y=\"-87.3\" font-family=\"Helvetica,sans-Serif\" font-size=\"14.00\">class = N</text>\r\n",
       "</g>\r\n",
       "<!-- 25&#45;&gt;47 -->\r\n",
       "<g id=\"edge19\" class=\"edge\"><title>25&#45;&gt;47</title>\r\n",
       "<path fill=\"none\" stroke=\"black\" d=\"M625,-205.972C625,-195.246 625,-183.835 625,-172.994\"/>\r\n",
       "<polygon fill=\"black\" stroke=\"black\" points=\"628.5,-172.817 625,-162.817 621.5,-172.817 628.5,-172.817\"/>\r\n",
       "</g>\r\n",
       "<!-- 27 -->\r\n",
       "<g id=\"node18\" class=\"node\"><title>27</title>\r\n",
       "<path fill=\"#c0c0c0\" stroke=\"black\" d=\"M442,-36C442,-36 412,-36 412,-36 406,-36 400,-30 400,-24 400,-24 400,-12 400,-12 400,-6 406,-0 412,-0 412,-0 442,-0 442,-0 448,-0 454,-6 454,-12 454,-12 454,-24 454,-24 454,-30 448,-36 442,-36\"/>\r\n",
       "<text text-anchor=\"middle\" x=\"427\" y=\"-14.3\" font-family=\"Helvetica,sans-Serif\" font-size=\"14.00\">(...)</text>\r\n",
       "</g>\r\n",
       "<!-- 26&#45;&gt;27 -->\r\n",
       "<g id=\"edge17\" class=\"edge\"><title>26&#45;&gt;27</title>\r\n",
       "<path fill=\"none\" stroke=\"black\" d=\"M445.843,-71.8664C442.635,-62.8639 439.39,-53.7609 436.519,-45.7051\"/>\r\n",
       "<polygon fill=\"black\" stroke=\"black\" points=\"439.766,-44.392 433.112,-36.1476 433.173,-46.7422 439.766,-44.392\"/>\r\n",
       "</g>\r\n",
       "<!-- 36 -->\r\n",
       "<g id=\"node19\" class=\"node\"><title>36</title>\r\n",
       "<path fill=\"#c0c0c0\" stroke=\"black\" d=\"M514,-36C514,-36 484,-36 484,-36 478,-36 472,-30 472,-24 472,-24 472,-12 472,-12 472,-6 478,-0 484,-0 484,-0 514,-0 514,-0 520,-0 526,-6 526,-12 526,-12 526,-24 526,-24 526,-30 520,-36 514,-36\"/>\r\n",
       "<text text-anchor=\"middle\" x=\"499\" y=\"-14.3\" font-family=\"Helvetica,sans-Serif\" font-size=\"14.00\">(...)</text>\r\n",
       "</g>\r\n",
       "<!-- 26&#45;&gt;36 -->\r\n",
       "<g id=\"edge18\" class=\"edge\"><title>26&#45;&gt;36</title>\r\n",
       "<path fill=\"none\" stroke=\"black\" d=\"M480.157,-71.8664C483.365,-62.8639 486.61,-53.7609 489.481,-45.7051\"/>\r\n",
       "<polygon fill=\"black\" stroke=\"black\" points=\"492.827,-46.7422 492.888,-36.1476 486.234,-44.392 492.827,-46.7422\"/>\r\n",
       "</g>\r\n",
       "<!-- 50 -->\r\n",
       "<g id=\"node23\" class=\"node\"><title>50</title>\r\n",
       "<path fill=\"#399de5\" fill-opacity=\"0.529412\" stroke=\"black\" d=\"M1044,-304C1044,-304 892,-304 892,-304 886,-304 880,-298 880,-292 880,-292 880,-218 880,-218 880,-212 886,-206 892,-206 892,-206 1044,-206 1044,-206 1050,-206 1056,-212 1056,-218 1056,-218 1056,-292 1056,-292 1056,-298 1050,-304 1044,-304\"/>\r\n",
       "<text text-anchor=\"start\" x=\"937.5\" y=\"-288.8\" font-family=\"Helvetica,sans-Serif\" font-size=\"14.00\">node #50</text>\r\n",
       "<text text-anchor=\"start\" x=\"888\" y=\"-273.8\" font-family=\"Helvetica,sans-Serif\" font-size=\"14.00\">LoanAmount_log ≤ 5.643</text>\r\n",
       "<text text-anchor=\"start\" x=\"930.5\" y=\"-258.8\" font-family=\"Helvetica,sans-Serif\" font-size=\"14.00\">gini = 0.436</text>\r\n",
       "<text text-anchor=\"start\" x=\"924.5\" y=\"-243.8\" font-family=\"Helvetica,sans-Serif\" font-size=\"14.00\">samples = 53</text>\r\n",
       "<text text-anchor=\"start\" x=\"919.5\" y=\"-228.8\" font-family=\"Helvetica,sans-Serif\" font-size=\"14.00\">value = [17, 36]</text>\r\n",
       "<text text-anchor=\"start\" x=\"938.5\" y=\"-213.8\" font-family=\"Helvetica,sans-Serif\" font-size=\"14.00\">class = N</text>\r\n",
       "</g>\r\n",
       "<!-- 49&#45;&gt;50 -->\r\n",
       "<g id=\"edge22\" class=\"edge\"><title>49&#45;&gt;50</title>\r\n",
       "<path fill=\"none\" stroke=\"black\" d=\"M968,-339.972C968,-331.691 968,-323.003 968,-314.483\"/>\r\n",
       "<polygon fill=\"black\" stroke=\"black\" points=\"971.5,-314.214 968,-304.214 964.5,-314.214 971.5,-314.214\"/>\r\n",
       "</g>\r\n",
       "<!-- 73 -->\r\n",
       "<g id=\"node30\" class=\"node\"><title>73</title>\r\n",
       "<path fill=\"#399de5\" fill-opacity=\"0.768627\" stroke=\"black\" d=\"M1287.5,-304C1287.5,-304 1104.5,-304 1104.5,-304 1098.5,-304 1092.5,-298 1092.5,-292 1092.5,-292 1092.5,-218 1092.5,-218 1092.5,-212 1098.5,-206 1104.5,-206 1104.5,-206 1287.5,-206 1287.5,-206 1293.5,-206 1299.5,-212 1299.5,-218 1299.5,-218 1299.5,-292 1299.5,-292 1299.5,-298 1293.5,-304 1287.5,-304\"/>\r\n",
       "<text text-anchor=\"start\" x=\"1165.5\" y=\"-288.8\" font-family=\"Helvetica,sans-Serif\" font-size=\"14.00\">node #73</text>\r\n",
       "<text text-anchor=\"start\" x=\"1100.5\" y=\"-273.8\" font-family=\"Helvetica,sans-Serif\" font-size=\"14.00\">Education_Not Graduate ≤ 0.5</text>\r\n",
       "<text text-anchor=\"start\" x=\"1158.5\" y=\"-258.8\" font-family=\"Helvetica,sans-Serif\" font-size=\"14.00\">gini = 0.305</text>\r\n",
       "<text text-anchor=\"start\" x=\"1148.5\" y=\"-243.8\" font-family=\"Helvetica,sans-Serif\" font-size=\"14.00\">samples = 112</text>\r\n",
       "<text text-anchor=\"start\" x=\"1147.5\" y=\"-228.8\" font-family=\"Helvetica,sans-Serif\" font-size=\"14.00\">value = [21, 91]</text>\r\n",
       "<text text-anchor=\"start\" x=\"1166.5\" y=\"-213.8\" font-family=\"Helvetica,sans-Serif\" font-size=\"14.00\">class = N</text>\r\n",
       "</g>\r\n",
       "<!-- 49&#45;&gt;73 -->\r\n",
       "<g id=\"edge29\" class=\"edge\"><title>49&#45;&gt;73</title>\r\n",
       "<path fill=\"none\" stroke=\"black\" d=\"M1034.25,-349.643C1056.05,-337.021 1080.7,-322.753 1104.06,-309.228\"/>\r\n",
       "<polygon fill=\"black\" stroke=\"black\" points=\"1106.04,-312.126 1112.94,-304.086 1102.53,-306.068 1106.04,-312.126\"/>\r\n",
       "</g>\r\n",
       "<!-- 51 -->\r\n",
       "<g id=\"node24\" class=\"node\"><title>51</title>\r\n",
       "<path fill=\"#399de5\" fill-opacity=\"0.600000\" stroke=\"black\" d=\"M888,-170C888,-170 704,-170 704,-170 698,-170 692,-164 692,-158 692,-158 692,-84 692,-84 692,-78 698,-72 704,-72 704,-72 888,-72 888,-72 894,-72 900,-78 900,-84 900,-84 900,-158 900,-158 900,-164 894,-170 888,-170\"/>\r\n",
       "<text text-anchor=\"start\" x=\"765.5\" y=\"-154.8\" font-family=\"Helvetica,sans-Serif\" font-size=\"14.00\">node #51</text>\r\n",
       "<text text-anchor=\"start\" x=\"700\" y=\"-139.8\" font-family=\"Helvetica,sans-Serif\" font-size=\"14.00\">CoapplicantIncome ≤ 20523.5</text>\r\n",
       "<text text-anchor=\"start\" x=\"758.5\" y=\"-124.8\" font-family=\"Helvetica,sans-Serif\" font-size=\"14.00\">gini = 0.408</text>\r\n",
       "<text text-anchor=\"start\" x=\"752.5\" y=\"-109.8\" font-family=\"Helvetica,sans-Serif\" font-size=\"14.00\">samples = 49</text>\r\n",
       "<text text-anchor=\"start\" x=\"747.5\" y=\"-94.8\" font-family=\"Helvetica,sans-Serif\" font-size=\"14.00\">value = [14, 35]</text>\r\n",
       "<text text-anchor=\"start\" x=\"766.5\" y=\"-79.8\" font-family=\"Helvetica,sans-Serif\" font-size=\"14.00\">class = N</text>\r\n",
       "</g>\r\n",
       "<!-- 50&#45;&gt;51 -->\r\n",
       "<g id=\"edge23\" class=\"edge\"><title>50&#45;&gt;51</title>\r\n",
       "<path fill=\"none\" stroke=\"black\" d=\"M905.417,-205.972C892.968,-196.417 879.81,-186.319 867.1,-176.565\"/>\r\n",
       "<polygon fill=\"black\" stroke=\"black\" points=\"868.888,-173.526 858.824,-170.214 864.626,-179.079 868.888,-173.526\"/>\r\n",
       "</g>\r\n",
       "<!-- 70 -->\r\n",
       "<g id=\"node27\" class=\"node\"><title>70</title>\r\n",
       "<path fill=\"#e58139\" fill-opacity=\"0.666667\" stroke=\"black\" d=\"M1082,-170C1082,-170 930,-170 930,-170 924,-170 918,-164 918,-158 918,-158 918,-84 918,-84 918,-78 924,-72 930,-72 930,-72 1082,-72 1082,-72 1088,-72 1094,-78 1094,-84 1094,-84 1094,-158 1094,-158 1094,-164 1088,-170 1082,-170\"/>\r\n",
       "<text text-anchor=\"start\" x=\"975.5\" y=\"-154.8\" font-family=\"Helvetica,sans-Serif\" font-size=\"14.00\">node #70</text>\r\n",
       "<text text-anchor=\"start\" x=\"926\" y=\"-139.8\" font-family=\"Helvetica,sans-Serif\" font-size=\"14.00\">LoanAmount_log ≤ 6.325</text>\r\n",
       "<text text-anchor=\"start\" x=\"968.5\" y=\"-124.8\" font-family=\"Helvetica,sans-Serif\" font-size=\"14.00\">gini = 0.375</text>\r\n",
       "<text text-anchor=\"start\" x=\"966.5\" y=\"-109.8\" font-family=\"Helvetica,sans-Serif\" font-size=\"14.00\">samples = 4</text>\r\n",
       "<text text-anchor=\"start\" x=\"965.5\" y=\"-94.8\" font-family=\"Helvetica,sans-Serif\" font-size=\"14.00\">value = [3, 1]</text>\r\n",
       "<text text-anchor=\"start\" x=\"977\" y=\"-79.8\" font-family=\"Helvetica,sans-Serif\" font-size=\"14.00\">class = Y</text>\r\n",
       "</g>\r\n",
       "<!-- 50&#45;&gt;70 -->\r\n",
       "<g id=\"edge26\" class=\"edge\"><title>50&#45;&gt;70</title>\r\n",
       "<path fill=\"none\" stroke=\"black\" d=\"M981.826,-205.972C984.262,-197.509 986.821,-188.62 989.326,-179.922\"/>\r\n",
       "<polygon fill=\"black\" stroke=\"black\" points=\"992.717,-180.792 992.12,-170.214 985.99,-178.855 992.717,-180.792\"/>\r\n",
       "</g>\r\n",
       "<!-- 52 -->\r\n",
       "<g id=\"node25\" class=\"node\"><title>52</title>\r\n",
       "<path fill=\"#c0c0c0\" stroke=\"black\" d=\"M792,-36C792,-36 762,-36 762,-36 756,-36 750,-30 750,-24 750,-24 750,-12 750,-12 750,-6 756,-0 762,-0 762,-0 792,-0 792,-0 798,-0 804,-6 804,-12 804,-12 804,-24 804,-24 804,-30 798,-36 792,-36\"/>\r\n",
       "<text text-anchor=\"middle\" x=\"777\" y=\"-14.3\" font-family=\"Helvetica,sans-Serif\" font-size=\"14.00\">(...)</text>\r\n",
       "</g>\r\n",
       "<!-- 51&#45;&gt;52 -->\r\n",
       "<g id=\"edge24\" class=\"edge\"><title>51&#45;&gt;52</title>\r\n",
       "<path fill=\"none\" stroke=\"black\" d=\"M786.945,-71.8664C785.289,-63.064 783.615,-54.1654 782.125,-46.2437\"/>\r\n",
       "<polygon fill=\"black\" stroke=\"black\" points=\"785.514,-45.3281 780.226,-36.1476 778.635,-46.6223 785.514,-45.3281\"/>\r\n",
       "</g>\r\n",
       "<!-- 69 -->\r\n",
       "<g id=\"node26\" class=\"node\"><title>69</title>\r\n",
       "<path fill=\"#c0c0c0\" stroke=\"black\" d=\"M864,-36C864,-36 834,-36 834,-36 828,-36 822,-30 822,-24 822,-24 822,-12 822,-12 822,-6 828,-0 834,-0 834,-0 864,-0 864,-0 870,-0 876,-6 876,-12 876,-12 876,-24 876,-24 876,-30 870,-36 864,-36\"/>\r\n",
       "<text text-anchor=\"middle\" x=\"849\" y=\"-14.3\" font-family=\"Helvetica,sans-Serif\" font-size=\"14.00\">(...)</text>\r\n",
       "</g>\r\n",
       "<!-- 51&#45;&gt;69 -->\r\n",
       "<g id=\"edge25\" class=\"edge\"><title>51&#45;&gt;69</title>\r\n",
       "<path fill=\"none\" stroke=\"black\" d=\"M821.258,-71.8664C826.087,-62.6638 830.971,-53.3562 835.267,-45.1696\"/>\r\n",
       "<polygon fill=\"black\" stroke=\"black\" points=\"838.454,-46.6288 840.002,-36.1476 832.256,-43.3761 838.454,-46.6288\"/>\r\n",
       "</g>\r\n",
       "<!-- 71 -->\r\n",
       "<g id=\"node28\" class=\"node\"><title>71</title>\r\n",
       "<path fill=\"#c0c0c0\" stroke=\"black\" d=\"M969,-36C969,-36 939,-36 939,-36 933,-36 927,-30 927,-24 927,-24 927,-12 927,-12 927,-6 933,-0 939,-0 939,-0 969,-0 969,-0 975,-0 981,-6 981,-12 981,-12 981,-24 981,-24 981,-30 975,-36 969,-36\"/>\r\n",
       "<text text-anchor=\"middle\" x=\"954\" y=\"-14.3\" font-family=\"Helvetica,sans-Serif\" font-size=\"14.00\">(...)</text>\r\n",
       "</g>\r\n",
       "<!-- 70&#45;&gt;71 -->\r\n",
       "<g id=\"edge27\" class=\"edge\"><title>70&#45;&gt;71</title>\r\n",
       "<path fill=\"none\" stroke=\"black\" d=\"M981.218,-71.8664C976.48,-62.6638 971.688,-53.3562 967.473,-45.1696\"/>\r\n",
       "<polygon fill=\"black\" stroke=\"black\" points=\"970.518,-43.4363 962.828,-36.1476 964.294,-46.6405 970.518,-43.4363\"/>\r\n",
       "</g>\r\n",
       "<!-- 72 -->\r\n",
       "<g id=\"node29\" class=\"node\"><title>72</title>\r\n",
       "<path fill=\"#c0c0c0\" stroke=\"black\" d=\"M1041,-36C1041,-36 1011,-36 1011,-36 1005,-36 999,-30 999,-24 999,-24 999,-12 999,-12 999,-6 1005,-0 1011,-0 1011,-0 1041,-0 1041,-0 1047,-0 1053,-6 1053,-12 1053,-12 1053,-24 1053,-24 1053,-30 1047,-36 1041,-36\"/>\r\n",
       "<text text-anchor=\"middle\" x=\"1026\" y=\"-14.3\" font-family=\"Helvetica,sans-Serif\" font-size=\"14.00\">(...)</text>\r\n",
       "</g>\r\n",
       "<!-- 70&#45;&gt;72 -->\r\n",
       "<g id=\"edge28\" class=\"edge\"><title>70&#45;&gt;72</title>\r\n",
       "<path fill=\"none\" stroke=\"black\" d=\"M1015.53,-71.8664C1017.29,-62.9639 1019.08,-53.9632 1020.66,-45.974\"/>\r\n",
       "<polygon fill=\"black\" stroke=\"black\" points=\"1024.1,-46.637 1022.6,-36.1476 1017.23,-45.2772 1024.1,-46.637\"/>\r\n",
       "</g>\r\n",
       "<!-- 74 -->\r\n",
       "<g id=\"node31\" class=\"node\"><title>74</title>\r\n",
       "<path fill=\"#399de5\" fill-opacity=\"0.796078\" stroke=\"black\" d=\"M1268,-170C1268,-170 1124,-170 1124,-170 1118,-170 1112,-164 1112,-158 1112,-158 1112,-84 1112,-84 1112,-78 1118,-72 1124,-72 1124,-72 1268,-72 1268,-72 1274,-72 1280,-78 1280,-84 1280,-84 1280,-158 1280,-158 1280,-164 1274,-170 1268,-170\"/>\r\n",
       "<text text-anchor=\"start\" x=\"1165.5\" y=\"-154.8\" font-family=\"Helvetica,sans-Serif\" font-size=\"14.00\">node #74</text>\r\n",
       "<text text-anchor=\"start\" x=\"1120\" y=\"-139.8\" font-family=\"Helvetica,sans-Serif\" font-size=\"14.00\">LoanAmount_log ≤ 5.73</text>\r\n",
       "<text text-anchor=\"start\" x=\"1162.5\" y=\"-124.8\" font-family=\"Helvetica,sans-Serif\" font-size=\"14.00\">gini = 0.28</text>\r\n",
       "<text text-anchor=\"start\" x=\"1152.5\" y=\"-109.8\" font-family=\"Helvetica,sans-Serif\" font-size=\"14.00\">samples = 89</text>\r\n",
       "<text text-anchor=\"start\" x=\"1147.5\" y=\"-94.8\" font-family=\"Helvetica,sans-Serif\" font-size=\"14.00\">value = [15, 74]</text>\r\n",
       "<text text-anchor=\"start\" x=\"1166.5\" y=\"-79.8\" font-family=\"Helvetica,sans-Serif\" font-size=\"14.00\">class = N</text>\r\n",
       "</g>\r\n",
       "<!-- 73&#45;&gt;74 -->\r\n",
       "<g id=\"edge30\" class=\"edge\"><title>73&#45;&gt;74</title>\r\n",
       "<path fill=\"none\" stroke=\"black\" d=\"M1196,-205.972C1196,-197.691 1196,-189.003 1196,-180.483\"/>\r\n",
       "<polygon fill=\"black\" stroke=\"black\" points=\"1199.5,-180.214 1196,-170.214 1192.5,-180.214 1199.5,-180.214\"/>\r\n",
       "</g>\r\n",
       "<!-- 93 -->\r\n",
       "<g id=\"node34\" class=\"node\"><title>93</title>\r\n",
       "<path fill=\"#399de5\" fill-opacity=\"0.647059\" stroke=\"black\" d=\"M1486,-170C1486,-170 1310,-170 1310,-170 1304,-170 1298,-164 1298,-158 1298,-158 1298,-84 1298,-84 1298,-78 1304,-72 1310,-72 1310,-72 1486,-72 1486,-72 1492,-72 1498,-78 1498,-84 1498,-84 1498,-158 1498,-158 1498,-164 1492,-170 1486,-170\"/>\r\n",
       "<text text-anchor=\"start\" x=\"1367.5\" y=\"-154.8\" font-family=\"Helvetica,sans-Serif\" font-size=\"14.00\">node #93</text>\r\n",
       "<text text-anchor=\"start\" x=\"1306\" y=\"-139.8\" font-family=\"Helvetica,sans-Serif\" font-size=\"14.00\">CoapplicantIncome ≤ 4282.5</text>\r\n",
       "<text text-anchor=\"start\" x=\"1360.5\" y=\"-124.8\" font-family=\"Helvetica,sans-Serif\" font-size=\"14.00\">gini = 0.386</text>\r\n",
       "<text text-anchor=\"start\" x=\"1354.5\" y=\"-109.8\" font-family=\"Helvetica,sans-Serif\" font-size=\"14.00\">samples = 23</text>\r\n",
       "<text text-anchor=\"start\" x=\"1353.5\" y=\"-94.8\" font-family=\"Helvetica,sans-Serif\" font-size=\"14.00\">value = [6, 17]</text>\r\n",
       "<text text-anchor=\"start\" x=\"1368.5\" y=\"-79.8\" font-family=\"Helvetica,sans-Serif\" font-size=\"14.00\">class = N</text>\r\n",
       "</g>\r\n",
       "<!-- 73&#45;&gt;93 -->\r\n",
       "<g id=\"edge33\" class=\"edge\"><title>73&#45;&gt;93</title>\r\n",
       "<path fill=\"none\" stroke=\"black\" d=\"M1269.5,-205.972C1284.54,-196.144 1300.46,-185.742 1315.78,-175.73\"/>\r\n",
       "<polygon fill=\"black\" stroke=\"black\" points=\"1317.76,-178.614 1324.22,-170.214 1313.93,-172.754 1317.76,-178.614\"/>\r\n",
       "</g>\r\n",
       "<!-- 75 -->\r\n",
       "<g id=\"node32\" class=\"node\"><title>75</title>\r\n",
       "<path fill=\"#c0c0c0\" stroke=\"black\" d=\"M1190,-36C1190,-36 1160,-36 1160,-36 1154,-36 1148,-30 1148,-24 1148,-24 1148,-12 1148,-12 1148,-6 1154,-0 1160,-0 1160,-0 1190,-0 1190,-0 1196,-0 1202,-6 1202,-12 1202,-12 1202,-24 1202,-24 1202,-30 1196,-36 1190,-36\"/>\r\n",
       "<text text-anchor=\"middle\" x=\"1175\" y=\"-14.3\" font-family=\"Helvetica,sans-Serif\" font-size=\"14.00\">(...)</text>\r\n",
       "</g>\r\n",
       "<!-- 74&#45;&gt;75 -->\r\n",
       "<g id=\"edge31\" class=\"edge\"><title>74&#45;&gt;75</title>\r\n",
       "<path fill=\"none\" stroke=\"black\" d=\"M1185.99,-71.8664C1184.14,-62.9639 1182.27,-53.9632 1180.61,-45.974\"/>\r\n",
       "<polygon fill=\"black\" stroke=\"black\" points=\"1184.03,-45.2257 1178.57,-36.1476 1177.17,-46.6507 1184.03,-45.2257\"/>\r\n",
       "</g>\r\n",
       "<!-- 92 -->\r\n",
       "<g id=\"node33\" class=\"node\"><title>92</title>\r\n",
       "<path fill=\"#c0c0c0\" stroke=\"black\" d=\"M1262,-36C1262,-36 1232,-36 1232,-36 1226,-36 1220,-30 1220,-24 1220,-24 1220,-12 1220,-12 1220,-6 1226,-0 1232,-0 1232,-0 1262,-0 1262,-0 1268,-0 1274,-6 1274,-12 1274,-12 1274,-24 1274,-24 1274,-30 1268,-36 1262,-36\"/>\r\n",
       "<text text-anchor=\"middle\" x=\"1247\" y=\"-14.3\" font-family=\"Helvetica,sans-Serif\" font-size=\"14.00\">(...)</text>\r\n",
       "</g>\r\n",
       "<!-- 74&#45;&gt;92 -->\r\n",
       "<g id=\"edge32\" class=\"edge\"><title>74&#45;&gt;92</title>\r\n",
       "<path fill=\"none\" stroke=\"black\" d=\"M1220.31,-71.8664C1224.95,-62.6638 1229.65,-53.3562 1233.79,-45.1696\"/>\r\n",
       "<polygon fill=\"black\" stroke=\"black\" points=\"1236.96,-46.6517 1238.34,-36.1476 1230.71,-43.4965 1236.96,-46.6517\"/>\r\n",
       "</g>\r\n",
       "<!-- 94 -->\r\n",
       "<g id=\"node35\" class=\"node\"><title>94</title>\r\n",
       "<path fill=\"#c0c0c0\" stroke=\"black\" d=\"M1363,-36C1363,-36 1333,-36 1333,-36 1327,-36 1321,-30 1321,-24 1321,-24 1321,-12 1321,-12 1321,-6 1327,-0 1333,-0 1333,-0 1363,-0 1363,-0 1369,-0 1375,-6 1375,-12 1375,-12 1375,-24 1375,-24 1375,-30 1369,-36 1363,-36\"/>\r\n",
       "<text text-anchor=\"middle\" x=\"1348\" y=\"-14.3\" font-family=\"Helvetica,sans-Serif\" font-size=\"14.00\">(...)</text>\r\n",
       "</g>\r\n",
       "<!-- 93&#45;&gt;94 -->\r\n",
       "<g id=\"edge34\" class=\"edge\"><title>93&#45;&gt;94</title>\r\n",
       "<path fill=\"none\" stroke=\"black\" d=\"M1374.17,-71.8664C1369.62,-62.6638 1365.01,-53.3562 1360.96,-45.1696\"/>\r\n",
       "<polygon fill=\"black\" stroke=\"black\" points=\"1364.06,-43.5567 1356.49,-36.1476 1357.79,-46.6624 1364.06,-43.5567\"/>\r\n",
       "</g>\r\n",
       "<!-- 103 -->\r\n",
       "<g id=\"node36\" class=\"node\"><title>103</title>\r\n",
       "<path fill=\"#c0c0c0\" stroke=\"black\" d=\"M1435,-36C1435,-36 1405,-36 1405,-36 1399,-36 1393,-30 1393,-24 1393,-24 1393,-12 1393,-12 1393,-6 1399,-0 1405,-0 1405,-0 1435,-0 1435,-0 1441,-0 1447,-6 1447,-12 1447,-12 1447,-24 1447,-24 1447,-30 1441,-36 1435,-36\"/>\r\n",
       "<text text-anchor=\"middle\" x=\"1420\" y=\"-14.3\" font-family=\"Helvetica,sans-Serif\" font-size=\"14.00\">(...)</text>\r\n",
       "</g>\r\n",
       "<!-- 93&#45;&gt;103 -->\r\n",
       "<g id=\"edge35\" class=\"edge\"><title>93&#45;&gt;103</title>\r\n",
       "<path fill=\"none\" stroke=\"black\" d=\"M1408.48,-71.8664C1410.42,-62.9639 1412.38,-53.9632 1414.12,-45.974\"/>\r\n",
       "<polygon fill=\"black\" stroke=\"black\" points=\"1417.56,-46.6634 1416.26,-36.1476 1410.72,-45.1735 1417.56,-46.6634\"/>\r\n",
       "</g>\r\n",
       "<!-- 105 -->\r\n",
       "<g id=\"node38\" class=\"node\"><title>105</title>\r\n",
       "<path fill=\"#e58139\" fill-opacity=\"0.776471\" stroke=\"black\" d=\"M1502,-572C1502,-572 1350,-572 1350,-572 1344,-572 1338,-566 1338,-560 1338,-560 1338,-486 1338,-486 1338,-480 1344,-474 1350,-474 1350,-474 1502,-474 1502,-474 1508,-474 1514,-480 1514,-486 1514,-486 1514,-560 1514,-560 1514,-566 1508,-572 1502,-572\"/>\r\n",
       "<text text-anchor=\"start\" x=\"1391\" y=\"-556.8\" font-family=\"Helvetica,sans-Serif\" font-size=\"14.00\">node #105</text>\r\n",
       "<text text-anchor=\"start\" x=\"1346\" y=\"-541.8\" font-family=\"Helvetica,sans-Serif\" font-size=\"14.00\">LoanAmount_log ≤ 4.916</text>\r\n",
       "<text text-anchor=\"start\" x=\"1388.5\" y=\"-526.8\" font-family=\"Helvetica,sans-Serif\" font-size=\"14.00\">gini = 0.298</text>\r\n",
       "<text text-anchor=\"start\" x=\"1382.5\" y=\"-511.8\" font-family=\"Helvetica,sans-Serif\" font-size=\"14.00\">samples = 11</text>\r\n",
       "<text text-anchor=\"start\" x=\"1385.5\" y=\"-496.8\" font-family=\"Helvetica,sans-Serif\" font-size=\"14.00\">value = [9, 2]</text>\r\n",
       "<text text-anchor=\"start\" x=\"1397\" y=\"-481.8\" font-family=\"Helvetica,sans-Serif\" font-size=\"14.00\">class = Y</text>\r\n",
       "</g>\r\n",
       "<!-- 104&#45;&gt;105 -->\r\n",
       "<g id=\"edge37\" class=\"edge\"><title>104&#45;&gt;105</title>\r\n",
       "<path fill=\"none\" stroke=\"black\" d=\"M1426,-607.972C1426,-599.691 1426,-591.003 1426,-582.483\"/>\r\n",
       "<polygon fill=\"black\" stroke=\"black\" points=\"1429.5,-582.214 1426,-572.214 1422.5,-582.214 1429.5,-582.214\"/>\r\n",
       "</g>\r\n",
       "<!-- 110 -->\r\n",
       "<g id=\"node43\" class=\"node\"><title>110</title>\r\n",
       "<path fill=\"#399de5\" fill-opacity=\"0.874510\" stroke=\"black\" d=\"M1964,-572C1964,-572 1856,-572 1856,-572 1850,-572 1844,-566 1844,-560 1844,-560 1844,-486 1844,-486 1844,-480 1850,-474 1856,-474 1856,-474 1964,-474 1964,-474 1970,-474 1976,-480 1976,-486 1976,-486 1976,-560 1976,-560 1976,-566 1970,-572 1964,-572\"/>\r\n",
       "<text text-anchor=\"start\" x=\"1875\" y=\"-556.8\" font-family=\"Helvetica,sans-Serif\" font-size=\"14.00\">node #110</text>\r\n",
       "<text text-anchor=\"start\" x=\"1852\" y=\"-541.8\" font-family=\"Helvetica,sans-Serif\" font-size=\"14.00\">Married_Yes ≤ 0.5</text>\r\n",
       "<text text-anchor=\"start\" x=\"1881\" y=\"-526.8\" font-family=\"Helvetica,sans-Serif\" font-size=\"14.00\">gini = 0.2</text>\r\n",
       "<text text-anchor=\"start\" x=\"1862.5\" y=\"-511.8\" font-family=\"Helvetica,sans-Serif\" font-size=\"14.00\">samples = 124</text>\r\n",
       "<text text-anchor=\"start\" x=\"1857\" y=\"-496.8\" font-family=\"Helvetica,sans-Serif\" font-size=\"14.00\">value = [14, 110]</text>\r\n",
       "<text text-anchor=\"start\" x=\"1880.5\" y=\"-481.8\" font-family=\"Helvetica,sans-Serif\" font-size=\"14.00\">class = N</text>\r\n",
       "</g>\r\n",
       "<!-- 104&#45;&gt;110 -->\r\n",
       "<g id=\"edge42\" class=\"edge\"><title>104&#45;&gt;110</title>\r\n",
       "<path fill=\"none\" stroke=\"black\" d=\"M1497.16,-636.594C1587.16,-612.048 1741.5,-569.954 1833.82,-544.775\"/>\r\n",
       "<polygon fill=\"black\" stroke=\"black\" points=\"1834.94,-548.1 1843.66,-542.092 1833.09,-541.347 1834.94,-548.1\"/>\r\n",
       "</g>\r\n",
       "<!-- 106 -->\r\n",
       "<g id=\"node39\" class=\"node\"><title>106</title>\r\n",
       "<path fill=\"#e58139\" stroke=\"black\" d=\"M1389.5,-430.5C1389.5,-430.5 1316.5,-430.5 1316.5,-430.5 1310.5,-430.5 1304.5,-424.5 1304.5,-418.5 1304.5,-418.5 1304.5,-359.5 1304.5,-359.5 1304.5,-353.5 1310.5,-347.5 1316.5,-347.5 1316.5,-347.5 1389.5,-347.5 1389.5,-347.5 1395.5,-347.5 1401.5,-353.5 1401.5,-359.5 1401.5,-359.5 1401.5,-418.5 1401.5,-418.5 1401.5,-424.5 1395.5,-430.5 1389.5,-430.5\"/>\r\n",
       "<text text-anchor=\"start\" x=\"1318\" y=\"-415.3\" font-family=\"Helvetica,sans-Serif\" font-size=\"14.00\">node #106</text>\r\n",
       "<text text-anchor=\"start\" x=\"1324\" y=\"-400.3\" font-family=\"Helvetica,sans-Serif\" font-size=\"14.00\">gini = 0.0</text>\r\n",
       "<text text-anchor=\"start\" x=\"1313.5\" y=\"-385.3\" font-family=\"Helvetica,sans-Serif\" font-size=\"14.00\">samples = 8</text>\r\n",
       "<text text-anchor=\"start\" x=\"1312.5\" y=\"-370.3\" font-family=\"Helvetica,sans-Serif\" font-size=\"14.00\">value = [8, 0]</text>\r\n",
       "<text text-anchor=\"start\" x=\"1324\" y=\"-355.3\" font-family=\"Helvetica,sans-Serif\" font-size=\"14.00\">class = Y</text>\r\n",
       "</g>\r\n",
       "<!-- 105&#45;&gt;106 -->\r\n",
       "<g id=\"edge38\" class=\"edge\"><title>105&#45;&gt;106</title>\r\n",
       "<path fill=\"none\" stroke=\"black\" d=\"M1399.44,-473.972C1393.26,-462.804 1386.68,-450.893 1380.46,-439.656\"/>\r\n",
       "<polygon fill=\"black\" stroke=\"black\" points=\"1383.48,-437.874 1375.57,-430.817 1377.35,-441.261 1383.48,-437.874\"/>\r\n",
       "</g>\r\n",
       "<!-- 107 -->\r\n",
       "<g id=\"node40\" class=\"node\"><title>107</title>\r\n",
       "<path fill=\"#399de5\" fill-opacity=\"0.498039\" stroke=\"black\" d=\"M1568,-438C1568,-438 1432,-438 1432,-438 1426,-438 1420,-432 1420,-426 1420,-426 1420,-352 1420,-352 1420,-346 1426,-340 1432,-340 1432,-340 1568,-340 1568,-340 1574,-340 1580,-346 1580,-352 1580,-352 1580,-426 1580,-426 1580,-432 1574,-438 1568,-438\"/>\r\n",
       "<text text-anchor=\"start\" x=\"1465\" y=\"-422.8\" font-family=\"Helvetica,sans-Serif\" font-size=\"14.00\">node #107</text>\r\n",
       "<text text-anchor=\"start\" x=\"1428\" y=\"-407.8\" font-family=\"Helvetica,sans-Serif\" font-size=\"14.00\">LoanAmount_log ≤ 5.3</text>\r\n",
       "<text text-anchor=\"start\" x=\"1462.5\" y=\"-392.8\" font-family=\"Helvetica,sans-Serif\" font-size=\"14.00\">gini = 0.444</text>\r\n",
       "<text text-anchor=\"start\" x=\"1460.5\" y=\"-377.8\" font-family=\"Helvetica,sans-Serif\" font-size=\"14.00\">samples = 3</text>\r\n",
       "<text text-anchor=\"start\" x=\"1459.5\" y=\"-362.8\" font-family=\"Helvetica,sans-Serif\" font-size=\"14.00\">value = [1, 2]</text>\r\n",
       "<text text-anchor=\"start\" x=\"1470.5\" y=\"-347.8\" font-family=\"Helvetica,sans-Serif\" font-size=\"14.00\">class = N</text>\r\n",
       "</g>\r\n",
       "<!-- 105&#45;&gt;107 -->\r\n",
       "<g id=\"edge39\" class=\"edge\"><title>105&#45;&gt;107</title>\r\n",
       "<path fill=\"none\" stroke=\"black\" d=\"M1452.93,-473.972C1457.82,-465.236 1462.97,-456.046 1468,-447.08\"/>\r\n",
       "<polygon fill=\"black\" stroke=\"black\" points=\"1471.13,-448.648 1472.97,-438.214 1465.03,-445.225 1471.13,-448.648\"/>\r\n",
       "</g>\r\n",
       "<!-- 108 -->\r\n",
       "<g id=\"node41\" class=\"node\"><title>108</title>\r\n",
       "<path fill=\"#399de5\" stroke=\"black\" d=\"M1479.5,-296.5C1479.5,-296.5 1406.5,-296.5 1406.5,-296.5 1400.5,-296.5 1394.5,-290.5 1394.5,-284.5 1394.5,-284.5 1394.5,-225.5 1394.5,-225.5 1394.5,-219.5 1400.5,-213.5 1406.5,-213.5 1406.5,-213.5 1479.5,-213.5 1479.5,-213.5 1485.5,-213.5 1491.5,-219.5 1491.5,-225.5 1491.5,-225.5 1491.5,-284.5 1491.5,-284.5 1491.5,-290.5 1485.5,-296.5 1479.5,-296.5\"/>\r\n",
       "<text text-anchor=\"start\" x=\"1408\" y=\"-281.3\" font-family=\"Helvetica,sans-Serif\" font-size=\"14.00\">node #108</text>\r\n",
       "<text text-anchor=\"start\" x=\"1414\" y=\"-266.3\" font-family=\"Helvetica,sans-Serif\" font-size=\"14.00\">gini = 0.0</text>\r\n",
       "<text text-anchor=\"start\" x=\"1403.5\" y=\"-251.3\" font-family=\"Helvetica,sans-Serif\" font-size=\"14.00\">samples = 2</text>\r\n",
       "<text text-anchor=\"start\" x=\"1402.5\" y=\"-236.3\" font-family=\"Helvetica,sans-Serif\" font-size=\"14.00\">value = [0, 2]</text>\r\n",
       "<text text-anchor=\"start\" x=\"1413.5\" y=\"-221.3\" font-family=\"Helvetica,sans-Serif\" font-size=\"14.00\">class = N</text>\r\n",
       "</g>\r\n",
       "<!-- 107&#45;&gt;108 -->\r\n",
       "<g id=\"edge40\" class=\"edge\"><title>107&#45;&gt;108</title>\r\n",
       "<path fill=\"none\" stroke=\"black\" d=\"M1479.26,-339.972C1474.53,-329.025 1469.5,-317.364 1464.73,-306.325\"/>\r\n",
       "<polygon fill=\"black\" stroke=\"black\" points=\"1467.8,-304.61 1460.63,-296.817 1461.38,-307.385 1467.8,-304.61\"/>\r\n",
       "</g>\r\n",
       "<!-- 109 -->\r\n",
       "<g id=\"node42\" class=\"node\"><title>109</title>\r\n",
       "<path fill=\"#e58139\" stroke=\"black\" d=\"M1594.5,-296.5C1594.5,-296.5 1521.5,-296.5 1521.5,-296.5 1515.5,-296.5 1509.5,-290.5 1509.5,-284.5 1509.5,-284.5 1509.5,-225.5 1509.5,-225.5 1509.5,-219.5 1515.5,-213.5 1521.5,-213.5 1521.5,-213.5 1594.5,-213.5 1594.5,-213.5 1600.5,-213.5 1606.5,-219.5 1606.5,-225.5 1606.5,-225.5 1606.5,-284.5 1606.5,-284.5 1606.5,-290.5 1600.5,-296.5 1594.5,-296.5\"/>\r\n",
       "<text text-anchor=\"start\" x=\"1523\" y=\"-281.3\" font-family=\"Helvetica,sans-Serif\" font-size=\"14.00\">node #109</text>\r\n",
       "<text text-anchor=\"start\" x=\"1529\" y=\"-266.3\" font-family=\"Helvetica,sans-Serif\" font-size=\"14.00\">gini = 0.0</text>\r\n",
       "<text text-anchor=\"start\" x=\"1518.5\" y=\"-251.3\" font-family=\"Helvetica,sans-Serif\" font-size=\"14.00\">samples = 1</text>\r\n",
       "<text text-anchor=\"start\" x=\"1517.5\" y=\"-236.3\" font-family=\"Helvetica,sans-Serif\" font-size=\"14.00\">value = [1, 0]</text>\r\n",
       "<text text-anchor=\"start\" x=\"1529\" y=\"-221.3\" font-family=\"Helvetica,sans-Serif\" font-size=\"14.00\">class = Y</text>\r\n",
       "</g>\r\n",
       "<!-- 107&#45;&gt;109 -->\r\n",
       "<g id=\"edge41\" class=\"edge\"><title>107&#45;&gt;109</title>\r\n",
       "<path fill=\"none\" stroke=\"black\" d=\"M1521.1,-339.972C1525.96,-328.914 1531.14,-317.129 1536.03,-305.99\"/>\r\n",
       "<polygon fill=\"black\" stroke=\"black\" points=\"1539.25,-307.38 1540.07,-296.817 1532.84,-304.564 1539.25,-307.38\"/>\r\n",
       "</g>\r\n",
       "<!-- 111 -->\r\n",
       "<g id=\"node44\" class=\"node\"><title>111</title>\r\n",
       "<path fill=\"#399de5\" fill-opacity=\"0.768627\" stroke=\"black\" d=\"M1986,-438C1986,-438 1834,-438 1834,-438 1828,-438 1822,-432 1822,-426 1822,-426 1822,-352 1822,-352 1822,-346 1828,-340 1834,-340 1834,-340 1986,-340 1986,-340 1992,-340 1998,-346 1998,-352 1998,-352 1998,-426 1998,-426 1998,-432 1992,-438 1986,-438\"/>\r\n",
       "<text text-anchor=\"start\" x=\"1875\" y=\"-422.8\" font-family=\"Helvetica,sans-Serif\" font-size=\"14.00\">node #111</text>\r\n",
       "<text text-anchor=\"start\" x=\"1830\" y=\"-407.8\" font-family=\"Helvetica,sans-Serif\" font-size=\"14.00\">LoanAmount_log ≤ 4.978</text>\r\n",
       "<text text-anchor=\"start\" x=\"1872.5\" y=\"-392.8\" font-family=\"Helvetica,sans-Serif\" font-size=\"14.00\">gini = 0.305</text>\r\n",
       "<text text-anchor=\"start\" x=\"1866.5\" y=\"-377.8\" font-family=\"Helvetica,sans-Serif\" font-size=\"14.00\">samples = 48</text>\r\n",
       "<text text-anchor=\"start\" x=\"1865.5\" y=\"-362.8\" font-family=\"Helvetica,sans-Serif\" font-size=\"14.00\">value = [9, 39]</text>\r\n",
       "<text text-anchor=\"start\" x=\"1880.5\" y=\"-347.8\" font-family=\"Helvetica,sans-Serif\" font-size=\"14.00\">class = N</text>\r\n",
       "</g>\r\n",
       "<!-- 110&#45;&gt;111 -->\r\n",
       "<g id=\"edge43\" class=\"edge\"><title>110&#45;&gt;111</title>\r\n",
       "<path fill=\"none\" stroke=\"black\" d=\"M1910,-473.972C1910,-465.691 1910,-457.003 1910,-448.483\"/>\r\n",
       "<polygon fill=\"black\" stroke=\"black\" points=\"1913.5,-448.214 1910,-438.214 1906.5,-448.214 1913.5,-448.214\"/>\r\n",
       "</g>\r\n",
       "<!-- 144 -->\r\n",
       "<g id=\"node57\" class=\"node\"><title>144</title>\r\n",
       "<path fill=\"#399de5\" fill-opacity=\"0.929412\" stroke=\"black\" d=\"M2435.5,-438C2435.5,-438 2252.5,-438 2252.5,-438 2246.5,-438 2240.5,-432 2240.5,-426 2240.5,-426 2240.5,-352 2240.5,-352 2240.5,-346 2246.5,-340 2252.5,-340 2252.5,-340 2435.5,-340 2435.5,-340 2441.5,-340 2447.5,-346 2447.5,-352 2447.5,-352 2447.5,-426 2447.5,-426 2447.5,-432 2441.5,-438 2435.5,-438\"/>\r\n",
       "<text text-anchor=\"start\" x=\"2309\" y=\"-422.8\" font-family=\"Helvetica,sans-Serif\" font-size=\"14.00\">node #144</text>\r\n",
       "<text text-anchor=\"start\" x=\"2248.5\" y=\"-407.8\" font-family=\"Helvetica,sans-Serif\" font-size=\"14.00\">Education_Not Graduate ≤ 0.5</text>\r\n",
       "<text text-anchor=\"start\" x=\"2306.5\" y=\"-392.8\" font-family=\"Helvetica,sans-Serif\" font-size=\"14.00\">gini = 0.123</text>\r\n",
       "<text text-anchor=\"start\" x=\"2300.5\" y=\"-377.8\" font-family=\"Helvetica,sans-Serif\" font-size=\"14.00\">samples = 76</text>\r\n",
       "<text text-anchor=\"start\" x=\"2299.5\" y=\"-362.8\" font-family=\"Helvetica,sans-Serif\" font-size=\"14.00\">value = [5, 71]</text>\r\n",
       "<text text-anchor=\"start\" x=\"2314.5\" y=\"-347.8\" font-family=\"Helvetica,sans-Serif\" font-size=\"14.00\">class = N</text>\r\n",
       "</g>\r\n",
       "<!-- 110&#45;&gt;144 -->\r\n",
       "<g id=\"edge56\" class=\"edge\"><title>110&#45;&gt;144</title>\r\n",
       "<path fill=\"none\" stroke=\"black\" d=\"M1976.39,-501.808C2043.93,-481.266 2149.88,-449.041 2230.72,-424.453\"/>\r\n",
       "<polygon fill=\"black\" stroke=\"black\" points=\"2231.9,-427.753 2240.45,-421.494 2229.87,-421.055 2231.9,-427.753\"/>\r\n",
       "</g>\r\n",
       "<!-- 112 -->\r\n",
       "<g id=\"node45\" class=\"node\"><title>112</title>\r\n",
       "<path fill=\"#399de5\" fill-opacity=\"0.831373\" stroke=\"black\" d=\"M1896.5,-304C1896.5,-304 1713.5,-304 1713.5,-304 1707.5,-304 1701.5,-298 1701.5,-292 1701.5,-292 1701.5,-218 1701.5,-218 1701.5,-212 1707.5,-206 1713.5,-206 1713.5,-206 1896.5,-206 1896.5,-206 1902.5,-206 1908.5,-212 1908.5,-218 1908.5,-218 1908.5,-292 1908.5,-292 1908.5,-298 1902.5,-304 1896.5,-304\"/>\r\n",
       "<text text-anchor=\"start\" x=\"1770\" y=\"-288.8\" font-family=\"Helvetica,sans-Serif\" font-size=\"14.00\">node #112</text>\r\n",
       "<text text-anchor=\"start\" x=\"1709.5\" y=\"-273.8\" font-family=\"Helvetica,sans-Serif\" font-size=\"14.00\">Education_Not Graduate ≤ 0.5</text>\r\n",
       "<text text-anchor=\"start\" x=\"1767.5\" y=\"-258.8\" font-family=\"Helvetica,sans-Serif\" font-size=\"14.00\">gini = 0.245</text>\r\n",
       "<text text-anchor=\"start\" x=\"1761.5\" y=\"-243.8\" font-family=\"Helvetica,sans-Serif\" font-size=\"14.00\">samples = 35</text>\r\n",
       "<text text-anchor=\"start\" x=\"1760.5\" y=\"-228.8\" font-family=\"Helvetica,sans-Serif\" font-size=\"14.00\">value = [5, 30]</text>\r\n",
       "<text text-anchor=\"start\" x=\"1775.5\" y=\"-213.8\" font-family=\"Helvetica,sans-Serif\" font-size=\"14.00\">class = N</text>\r\n",
       "</g>\r\n",
       "<!-- 111&#45;&gt;112 -->\r\n",
       "<g id=\"edge44\" class=\"edge\"><title>111&#45;&gt;112</title>\r\n",
       "<path fill=\"none\" stroke=\"black\" d=\"M1871.8,-339.972C1864.63,-330.963 1857.08,-321.472 1849.74,-312.24\"/>\r\n",
       "<polygon fill=\"black\" stroke=\"black\" points=\"1852.32,-309.861 1843.35,-304.214 1846.84,-314.219 1852.32,-309.861\"/>\r\n",
       "</g>\r\n",
       "<!-- 135 -->\r\n",
       "<g id=\"node52\" class=\"node\"><title>135</title>\r\n",
       "<path fill=\"#399de5\" fill-opacity=\"0.556863\" stroke=\"black\" d=\"M2091,-304C2091,-304 1939,-304 1939,-304 1933,-304 1927,-298 1927,-292 1927,-292 1927,-218 1927,-218 1927,-212 1933,-206 1939,-206 1939,-206 2091,-206 2091,-206 2097,-206 2103,-212 2103,-218 2103,-218 2103,-292 2103,-292 2103,-298 2097,-304 2091,-304\"/>\r\n",
       "<text text-anchor=\"start\" x=\"1980\" y=\"-288.8\" font-family=\"Helvetica,sans-Serif\" font-size=\"14.00\">node #135</text>\r\n",
       "<text text-anchor=\"start\" x=\"1935\" y=\"-273.8\" font-family=\"Helvetica,sans-Serif\" font-size=\"14.00\">LoanAmount_log ≤ 5.226</text>\r\n",
       "<text text-anchor=\"start\" x=\"1977.5\" y=\"-258.8\" font-family=\"Helvetica,sans-Serif\" font-size=\"14.00\">gini = 0.426</text>\r\n",
       "<text text-anchor=\"start\" x=\"1971.5\" y=\"-243.8\" font-family=\"Helvetica,sans-Serif\" font-size=\"14.00\">samples = 13</text>\r\n",
       "<text text-anchor=\"start\" x=\"1974.5\" y=\"-228.8\" font-family=\"Helvetica,sans-Serif\" font-size=\"14.00\">value = [4, 9]</text>\r\n",
       "<text text-anchor=\"start\" x=\"1985.5\" y=\"-213.8\" font-family=\"Helvetica,sans-Serif\" font-size=\"14.00\">class = N</text>\r\n",
       "</g>\r\n",
       "<!-- 111&#45;&gt;135 -->\r\n",
       "<g id=\"edge51\" class=\"edge\"><title>111&#45;&gt;135</title>\r\n",
       "<path fill=\"none\" stroke=\"black\" d=\"M1948.2,-339.972C1955.37,-330.963 1962.92,-321.472 1970.26,-312.24\"/>\r\n",
       "<polygon fill=\"black\" stroke=\"black\" points=\"1973.16,-314.219 1976.65,-304.214 1967.68,-309.861 1973.16,-314.219\"/>\r\n",
       "</g>\r\n",
       "<!-- 113 -->\r\n",
       "<g id=\"node46\" class=\"node\"><title>113</title>\r\n",
       "<path fill=\"#399de5\" fill-opacity=\"0.850980\" stroke=\"black\" d=\"M1680,-170C1680,-170 1528,-170 1528,-170 1522,-170 1516,-164 1516,-158 1516,-158 1516,-84 1516,-84 1516,-78 1522,-72 1528,-72 1528,-72 1680,-72 1680,-72 1686,-72 1692,-78 1692,-84 1692,-84 1692,-158 1692,-158 1692,-164 1686,-170 1680,-170\"/>\r\n",
       "<text text-anchor=\"start\" x=\"1569\" y=\"-154.8\" font-family=\"Helvetica,sans-Serif\" font-size=\"14.00\">node #113</text>\r\n",
       "<text text-anchor=\"start\" x=\"1524\" y=\"-139.8\" font-family=\"Helvetica,sans-Serif\" font-size=\"14.00\">LoanAmount_log ≤ 4.363</text>\r\n",
       "<text text-anchor=\"start\" x=\"1566.5\" y=\"-124.8\" font-family=\"Helvetica,sans-Serif\" font-size=\"14.00\">gini = 0.227</text>\r\n",
       "<text text-anchor=\"start\" x=\"1560.5\" y=\"-109.8\" font-family=\"Helvetica,sans-Serif\" font-size=\"14.00\">samples = 23</text>\r\n",
       "<text text-anchor=\"start\" x=\"1559.5\" y=\"-94.8\" font-family=\"Helvetica,sans-Serif\" font-size=\"14.00\">value = [3, 20]</text>\r\n",
       "<text text-anchor=\"start\" x=\"1574.5\" y=\"-79.8\" font-family=\"Helvetica,sans-Serif\" font-size=\"14.00\">class = N</text>\r\n",
       "</g>\r\n",
       "<!-- 112&#45;&gt;113 -->\r\n",
       "<g id=\"edge45\" class=\"edge\"><title>112&#45;&gt;113</title>\r\n",
       "<path fill=\"none\" stroke=\"black\" d=\"M1731.87,-205.972C1716.9,-196.144 1701.06,-185.742 1685.82,-175.73\"/>\r\n",
       "<polygon fill=\"black\" stroke=\"black\" points=\"1687.7,-172.778 1677.42,-170.214 1683.85,-178.629 1687.7,-172.778\"/>\r\n",
       "</g>\r\n",
       "<!-- 124 -->\r\n",
       "<g id=\"node49\" class=\"node\"><title>124</title>\r\n",
       "<path fill=\"#399de5\" fill-opacity=\"0.800000\" stroke=\"black\" d=\"M1889.5,-170C1889.5,-170 1722.5,-170 1722.5,-170 1716.5,-170 1710.5,-164 1710.5,-158 1710.5,-158 1710.5,-84 1710.5,-84 1710.5,-78 1716.5,-72 1722.5,-72 1722.5,-72 1889.5,-72 1889.5,-72 1895.5,-72 1901.5,-78 1901.5,-84 1901.5,-84 1901.5,-158 1901.5,-158 1901.5,-164 1895.5,-170 1889.5,-170\"/>\r\n",
       "<text text-anchor=\"start\" x=\"1771\" y=\"-154.8\" font-family=\"Helvetica,sans-Serif\" font-size=\"14.00\">node #124</text>\r\n",
       "<text text-anchor=\"start\" x=\"1718.5\" y=\"-139.8\" font-family=\"Helvetica,sans-Serif\" font-size=\"14.00\">CoapplicantIncome ≤ 651.0</text>\r\n",
       "<text text-anchor=\"start\" x=\"1768.5\" y=\"-124.8\" font-family=\"Helvetica,sans-Serif\" font-size=\"14.00\">gini = 0.278</text>\r\n",
       "<text text-anchor=\"start\" x=\"1762.5\" y=\"-109.8\" font-family=\"Helvetica,sans-Serif\" font-size=\"14.00\">samples = 12</text>\r\n",
       "<text text-anchor=\"start\" x=\"1761.5\" y=\"-94.8\" font-family=\"Helvetica,sans-Serif\" font-size=\"14.00\">value = [2, 10]</text>\r\n",
       "<text text-anchor=\"start\" x=\"1776.5\" y=\"-79.8\" font-family=\"Helvetica,sans-Serif\" font-size=\"14.00\">class = N</text>\r\n",
       "</g>\r\n",
       "<!-- 112&#45;&gt;124 -->\r\n",
       "<g id=\"edge48\" class=\"edge\"><title>112&#45;&gt;124</title>\r\n",
       "<path fill=\"none\" stroke=\"black\" d=\"M1805.36,-205.972C1805.43,-197.691 1805.49,-189.003 1805.56,-180.483\"/>\r\n",
       "<polygon fill=\"black\" stroke=\"black\" points=\"1809.06,-180.24 1805.63,-170.214 1802.06,-180.187 1809.06,-180.24\"/>\r\n",
       "</g>\r\n",
       "<!-- 114 -->\r\n",
       "<g id=\"node47\" class=\"node\"><title>114</title>\r\n",
       "<path fill=\"#c0c0c0\" stroke=\"black\" d=\"M1598,-36C1598,-36 1568,-36 1568,-36 1562,-36 1556,-30 1556,-24 1556,-24 1556,-12 1556,-12 1556,-6 1562,-0 1568,-0 1568,-0 1598,-0 1598,-0 1604,-0 1610,-6 1610,-12 1610,-12 1610,-24 1610,-24 1610,-30 1604,-36 1598,-36\"/>\r\n",
       "<text text-anchor=\"middle\" x=\"1583\" y=\"-14.3\" font-family=\"Helvetica,sans-Serif\" font-size=\"14.00\">(...)</text>\r\n",
       "</g>\r\n",
       "<!-- 113&#45;&gt;114 -->\r\n",
       "<g id=\"edge46\" class=\"edge\"><title>113&#45;&gt;114</title>\r\n",
       "<path fill=\"none\" stroke=\"black\" d=\"M1593.99,-71.8664C1592.14,-62.9639 1590.27,-53.9632 1588.61,-45.974\"/>\r\n",
       "<polygon fill=\"black\" stroke=\"black\" points=\"1592.03,-45.2257 1586.57,-36.1476 1585.17,-46.6507 1592.03,-45.2257\"/>\r\n",
       "</g>\r\n",
       "<!-- 115 -->\r\n",
       "<g id=\"node48\" class=\"node\"><title>115</title>\r\n",
       "<path fill=\"#c0c0c0\" stroke=\"black\" d=\"M1670,-36C1670,-36 1640,-36 1640,-36 1634,-36 1628,-30 1628,-24 1628,-24 1628,-12 1628,-12 1628,-6 1634,-0 1640,-0 1640,-0 1670,-0 1670,-0 1676,-0 1682,-6 1682,-12 1682,-12 1682,-24 1682,-24 1682,-30 1676,-36 1670,-36\"/>\r\n",
       "<text text-anchor=\"middle\" x=\"1655\" y=\"-14.3\" font-family=\"Helvetica,sans-Serif\" font-size=\"14.00\">(...)</text>\r\n",
       "</g>\r\n",
       "<!-- 113&#45;&gt;115 -->\r\n",
       "<g id=\"edge47\" class=\"edge\"><title>113&#45;&gt;115</title>\r\n",
       "<path fill=\"none\" stroke=\"black\" d=\"M1628.31,-71.8664C1632.95,-62.6638 1637.65,-53.3562 1641.79,-45.1696\"/>\r\n",
       "<polygon fill=\"black\" stroke=\"black\" points=\"1644.96,-46.6517 1646.34,-36.1476 1638.71,-43.4965 1644.96,-46.6517\"/>\r\n",
       "</g>\r\n",
       "<!-- 125 -->\r\n",
       "<g id=\"node50\" class=\"node\"><title>125</title>\r\n",
       "<path fill=\"#c0c0c0\" stroke=\"black\" d=\"M1771,-36C1771,-36 1741,-36 1741,-36 1735,-36 1729,-30 1729,-24 1729,-24 1729,-12 1729,-12 1729,-6 1735,-0 1741,-0 1741,-0 1771,-0 1771,-0 1777,-0 1783,-6 1783,-12 1783,-12 1783,-24 1783,-24 1783,-30 1777,-36 1771,-36\"/>\r\n",
       "<text text-anchor=\"middle\" x=\"1756\" y=\"-14.3\" font-family=\"Helvetica,sans-Serif\" font-size=\"14.00\">(...)</text>\r\n",
       "</g>\r\n",
       "<!-- 124&#45;&gt;125 -->\r\n",
       "<g id=\"edge49\" class=\"edge\"><title>124&#45;&gt;125</title>\r\n",
       "<path fill=\"none\" stroke=\"black\" d=\"M1782.17,-71.8664C1777.62,-62.6638 1773.01,-53.3562 1768.96,-45.1696\"/>\r\n",
       "<polygon fill=\"black\" stroke=\"black\" points=\"1772.06,-43.5567 1764.49,-36.1476 1765.79,-46.6624 1772.06,-43.5567\"/>\r\n",
       "</g>\r\n",
       "<!-- 134 -->\r\n",
       "<g id=\"node51\" class=\"node\"><title>134</title>\r\n",
       "<path fill=\"#c0c0c0\" stroke=\"black\" d=\"M1843,-36C1843,-36 1813,-36 1813,-36 1807,-36 1801,-30 1801,-24 1801,-24 1801,-12 1801,-12 1801,-6 1807,-0 1813,-0 1813,-0 1843,-0 1843,-0 1849,-0 1855,-6 1855,-12 1855,-12 1855,-24 1855,-24 1855,-30 1849,-36 1843,-36\"/>\r\n",
       "<text text-anchor=\"middle\" x=\"1828\" y=\"-14.3\" font-family=\"Helvetica,sans-Serif\" font-size=\"14.00\">(...)</text>\r\n",
       "</g>\r\n",
       "<!-- 124&#45;&gt;134 -->\r\n",
       "<g id=\"edge50\" class=\"edge\"><title>124&#45;&gt;134</title>\r\n",
       "<path fill=\"none\" stroke=\"black\" d=\"M1816.48,-71.8664C1818.42,-62.9639 1820.38,-53.9632 1822.12,-45.974\"/>\r\n",
       "<polygon fill=\"black\" stroke=\"black\" points=\"1825.56,-46.6634 1824.26,-36.1476 1818.72,-45.1735 1825.56,-46.6634\"/>\r\n",
       "</g>\r\n",
       "<!-- 136 -->\r\n",
       "<g id=\"node53\" class=\"node\"><title>136</title>\r\n",
       "<path fill=\"#e58139\" fill-opacity=\"0.250980\" stroke=\"black\" d=\"M2098.5,-170C2098.5,-170 1931.5,-170 1931.5,-170 1925.5,-170 1919.5,-164 1919.5,-158 1919.5,-158 1919.5,-84 1919.5,-84 1919.5,-78 1925.5,-72 1931.5,-72 1931.5,-72 2098.5,-72 2098.5,-72 2104.5,-72 2110.5,-78 2110.5,-84 2110.5,-84 2110.5,-158 2110.5,-158 2110.5,-164 2104.5,-170 2098.5,-170\"/>\r\n",
       "<text text-anchor=\"start\" x=\"1980\" y=\"-154.8\" font-family=\"Helvetica,sans-Serif\" font-size=\"14.00\">node #136</text>\r\n",
       "<text text-anchor=\"start\" x=\"1927.5\" y=\"-139.8\" font-family=\"Helvetica,sans-Serif\" font-size=\"14.00\">CoapplicantIncome ≤ 957.5</text>\r\n",
       "<text text-anchor=\"start\" x=\"1981.5\" y=\"-124.8\" font-family=\"Helvetica,sans-Serif\" font-size=\"14.00\">gini = 0.49</text>\r\n",
       "<text text-anchor=\"start\" x=\"1975.5\" y=\"-109.8\" font-family=\"Helvetica,sans-Serif\" font-size=\"14.00\">samples = 7</text>\r\n",
       "<text text-anchor=\"start\" x=\"1974.5\" y=\"-94.8\" font-family=\"Helvetica,sans-Serif\" font-size=\"14.00\">value = [4, 3]</text>\r\n",
       "<text text-anchor=\"start\" x=\"1986\" y=\"-79.8\" font-family=\"Helvetica,sans-Serif\" font-size=\"14.00\">class = Y</text>\r\n",
       "</g>\r\n",
       "<!-- 135&#45;&gt;136 -->\r\n",
       "<g id=\"edge52\" class=\"edge\"><title>135&#45;&gt;136</title>\r\n",
       "<path fill=\"none\" stroke=\"black\" d=\"M2015,-205.972C2015,-197.691 2015,-189.003 2015,-180.483\"/>\r\n",
       "<polygon fill=\"black\" stroke=\"black\" points=\"2018.5,-180.214 2015,-170.214 2011.5,-180.214 2018.5,-180.214\"/>\r\n",
       "</g>\r\n",
       "<!-- 143 -->\r\n",
       "<g id=\"node56\" class=\"node\"><title>143</title>\r\n",
       "<path fill=\"#399de5\" stroke=\"black\" d=\"M2213.5,-162.5C2213.5,-162.5 2140.5,-162.5 2140.5,-162.5 2134.5,-162.5 2128.5,-156.5 2128.5,-150.5 2128.5,-150.5 2128.5,-91.5 2128.5,-91.5 2128.5,-85.5 2134.5,-79.5 2140.5,-79.5 2140.5,-79.5 2213.5,-79.5 2213.5,-79.5 2219.5,-79.5 2225.5,-85.5 2225.5,-91.5 2225.5,-91.5 2225.5,-150.5 2225.5,-150.5 2225.5,-156.5 2219.5,-162.5 2213.5,-162.5\"/>\r\n",
       "<text text-anchor=\"start\" x=\"2142\" y=\"-147.3\" font-family=\"Helvetica,sans-Serif\" font-size=\"14.00\">node #143</text>\r\n",
       "<text text-anchor=\"start\" x=\"2148\" y=\"-132.3\" font-family=\"Helvetica,sans-Serif\" font-size=\"14.00\">gini = 0.0</text>\r\n",
       "<text text-anchor=\"start\" x=\"2137.5\" y=\"-117.3\" font-family=\"Helvetica,sans-Serif\" font-size=\"14.00\">samples = 6</text>\r\n",
       "<text text-anchor=\"start\" x=\"2136.5\" y=\"-102.3\" font-family=\"Helvetica,sans-Serif\" font-size=\"14.00\">value = [0, 6]</text>\r\n",
       "<text text-anchor=\"start\" x=\"2147.5\" y=\"-87.3\" font-family=\"Helvetica,sans-Serif\" font-size=\"14.00\">class = N</text>\r\n",
       "</g>\r\n",
       "<!-- 135&#45;&gt;143 -->\r\n",
       "<g id=\"edge55\" class=\"edge\"><title>135&#45;&gt;143</title>\r\n",
       "<path fill=\"none\" stroke=\"black\" d=\"M2074.77,-205.926C2089.27,-194.205 2104.72,-181.679 2119,-170 2119.47,-169.612 2119.95,-169.223 2120.43,-168.831\"/>\r\n",
       "<polygon fill=\"black\" stroke=\"black\" points=\"2122.79,-171.422 2128.3,-162.374 2118.35,-166.01 2122.79,-171.422\"/>\r\n",
       "</g>\r\n",
       "<!-- 137 -->\r\n",
       "<g id=\"node54\" class=\"node\"><title>137</title>\r\n",
       "<path fill=\"#c0c0c0\" stroke=\"black\" d=\"M1994,-36C1994,-36 1964,-36 1964,-36 1958,-36 1952,-30 1952,-24 1952,-24 1952,-12 1952,-12 1952,-6 1958,-0 1964,-0 1964,-0 1994,-0 1994,-0 2000,-0 2006,-6 2006,-12 2006,-12 2006,-24 2006,-24 2006,-30 2000,-36 1994,-36\"/>\r\n",
       "<text text-anchor=\"middle\" x=\"1979\" y=\"-14.3\" font-family=\"Helvetica,sans-Serif\" font-size=\"14.00\">(...)</text>\r\n",
       "</g>\r\n",
       "<!-- 136&#45;&gt;137 -->\r\n",
       "<g id=\"edge53\" class=\"edge\"><title>136&#45;&gt;137</title>\r\n",
       "<path fill=\"none\" stroke=\"black\" d=\"M1997.84,-71.8664C1994.63,-62.8639 1991.39,-53.7609 1988.52,-45.7051\"/>\r\n",
       "<polygon fill=\"black\" stroke=\"black\" points=\"1991.77,-44.392 1985.11,-36.1476 1985.17,-46.7422 1991.77,-44.392\"/>\r\n",
       "</g>\r\n",
       "<!-- 142 -->\r\n",
       "<g id=\"node55\" class=\"node\"><title>142</title>\r\n",
       "<path fill=\"#c0c0c0\" stroke=\"black\" d=\"M2066,-36C2066,-36 2036,-36 2036,-36 2030,-36 2024,-30 2024,-24 2024,-24 2024,-12 2024,-12 2024,-6 2030,-0 2036,-0 2036,-0 2066,-0 2066,-0 2072,-0 2078,-6 2078,-12 2078,-12 2078,-24 2078,-24 2078,-30 2072,-36 2066,-36\"/>\r\n",
       "<text text-anchor=\"middle\" x=\"2051\" y=\"-14.3\" font-family=\"Helvetica,sans-Serif\" font-size=\"14.00\">(...)</text>\r\n",
       "</g>\r\n",
       "<!-- 136&#45;&gt;142 -->\r\n",
       "<g id=\"edge54\" class=\"edge\"><title>136&#45;&gt;142</title>\r\n",
       "<path fill=\"none\" stroke=\"black\" d=\"M2032.16,-71.8664C2035.37,-62.8639 2038.61,-53.7609 2041.48,-45.7051\"/>\r\n",
       "<polygon fill=\"black\" stroke=\"black\" points=\"2044.83,-46.7422 2044.89,-36.1476 2038.23,-44.392 2044.83,-46.7422\"/>\r\n",
       "</g>\r\n",
       "<!-- 145 -->\r\n",
       "<g id=\"node58\" class=\"node\"><title>145</title>\r\n",
       "<path fill=\"#399de5\" fill-opacity=\"0.913725\" stroke=\"black\" d=\"M2405,-304C2405,-304 2283,-304 2283,-304 2277,-304 2271,-298 2271,-292 2271,-292 2271,-218 2271,-218 2271,-212 2277,-206 2283,-206 2283,-206 2405,-206 2405,-206 2411,-206 2417,-212 2417,-218 2417,-218 2417,-292 2417,-292 2417,-298 2411,-304 2405,-304\"/>\r\n",
       "<text text-anchor=\"start\" x=\"2309\" y=\"-288.8\" font-family=\"Helvetica,sans-Serif\" font-size=\"14.00\">node #145</text>\r\n",
       "<text text-anchor=\"start\" x=\"2279\" y=\"-273.8\" font-family=\"Helvetica,sans-Serif\" font-size=\"14.00\">Dependents_2 ≤ 0.5</text>\r\n",
       "<text text-anchor=\"start\" x=\"2306.5\" y=\"-258.8\" font-family=\"Helvetica,sans-Serif\" font-size=\"14.00\">gini = 0.144</text>\r\n",
       "<text text-anchor=\"start\" x=\"2300.5\" y=\"-243.8\" font-family=\"Helvetica,sans-Serif\" font-size=\"14.00\">samples = 64</text>\r\n",
       "<text text-anchor=\"start\" x=\"2299.5\" y=\"-228.8\" font-family=\"Helvetica,sans-Serif\" font-size=\"14.00\">value = [5, 59]</text>\r\n",
       "<text text-anchor=\"start\" x=\"2314.5\" y=\"-213.8\" font-family=\"Helvetica,sans-Serif\" font-size=\"14.00\">class = N</text>\r\n",
       "</g>\r\n",
       "<!-- 144&#45;&gt;145 -->\r\n",
       "<g id=\"edge57\" class=\"edge\"><title>144&#45;&gt;145</title>\r\n",
       "<path fill=\"none\" stroke=\"black\" d=\"M2344,-339.972C2344,-331.691 2344,-323.003 2344,-314.483\"/>\r\n",
       "<polygon fill=\"black\" stroke=\"black\" points=\"2347.5,-314.214 2344,-304.214 2340.5,-314.214 2347.5,-314.214\"/>\r\n",
       "</g>\r\n",
       "<!-- 168 -->\r\n",
       "<g id=\"node65\" class=\"node\"><title>168</title>\r\n",
       "<path fill=\"#399de5\" stroke=\"black\" d=\"M2528.5,-296.5C2528.5,-296.5 2447.5,-296.5 2447.5,-296.5 2441.5,-296.5 2435.5,-290.5 2435.5,-284.5 2435.5,-284.5 2435.5,-225.5 2435.5,-225.5 2435.5,-219.5 2441.5,-213.5 2447.5,-213.5 2447.5,-213.5 2528.5,-213.5 2528.5,-213.5 2534.5,-213.5 2540.5,-219.5 2540.5,-225.5 2540.5,-225.5 2540.5,-284.5 2540.5,-284.5 2540.5,-290.5 2534.5,-296.5 2528.5,-296.5\"/>\r\n",
       "<text text-anchor=\"start\" x=\"2453\" y=\"-281.3\" font-family=\"Helvetica,sans-Serif\" font-size=\"14.00\">node #168</text>\r\n",
       "<text text-anchor=\"start\" x=\"2459\" y=\"-266.3\" font-family=\"Helvetica,sans-Serif\" font-size=\"14.00\">gini = 0.0</text>\r\n",
       "<text text-anchor=\"start\" x=\"2444.5\" y=\"-251.3\" font-family=\"Helvetica,sans-Serif\" font-size=\"14.00\">samples = 12</text>\r\n",
       "<text text-anchor=\"start\" x=\"2443.5\" y=\"-236.3\" font-family=\"Helvetica,sans-Serif\" font-size=\"14.00\">value = [0, 12]</text>\r\n",
       "<text text-anchor=\"start\" x=\"2458.5\" y=\"-221.3\" font-family=\"Helvetica,sans-Serif\" font-size=\"14.00\">class = N</text>\r\n",
       "</g>\r\n",
       "<!-- 144&#45;&gt;168 -->\r\n",
       "<g id=\"edge64\" class=\"edge\"><title>144&#45;&gt;168</title>\r\n",
       "<path fill=\"none\" stroke=\"black\" d=\"M2396.39,-339.972C2409.3,-328.14 2423.12,-315.475 2436.01,-303.661\"/>\r\n",
       "<polygon fill=\"black\" stroke=\"black\" points=\"2438.47,-306.154 2443.47,-296.817 2433.74,-300.994 2438.47,-306.154\"/>\r\n",
       "</g>\r\n",
       "<!-- 146 -->\r\n",
       "<g id=\"node59\" class=\"node\"><title>146</title>\r\n",
       "<path fill=\"#399de5\" fill-opacity=\"0.909804\" stroke=\"black\" d=\"M2432,-170C2432,-170 2256,-170 2256,-170 2250,-170 2244,-164 2244,-158 2244,-158 2244,-84 2244,-84 2244,-78 2250,-72 2256,-72 2256,-72 2432,-72 2432,-72 2438,-72 2444,-78 2444,-84 2444,-84 2444,-158 2444,-158 2444,-164 2438,-170 2432,-170\"/>\r\n",
       "<text text-anchor=\"start\" x=\"2309\" y=\"-154.8\" font-family=\"Helvetica,sans-Serif\" font-size=\"14.00\">node #146</text>\r\n",
       "<text text-anchor=\"start\" x=\"2252\" y=\"-139.8\" font-family=\"Helvetica,sans-Serif\" font-size=\"14.00\">CoapplicantIncome ≤ 6145.5</text>\r\n",
       "<text text-anchor=\"start\" x=\"2310.5\" y=\"-124.8\" font-family=\"Helvetica,sans-Serif\" font-size=\"14.00\">gini = 0.15</text>\r\n",
       "<text text-anchor=\"start\" x=\"2300.5\" y=\"-109.8\" font-family=\"Helvetica,sans-Serif\" font-size=\"14.00\">samples = 49</text>\r\n",
       "<text text-anchor=\"start\" x=\"2299.5\" y=\"-94.8\" font-family=\"Helvetica,sans-Serif\" font-size=\"14.00\">value = [4, 45]</text>\r\n",
       "<text text-anchor=\"start\" x=\"2314.5\" y=\"-79.8\" font-family=\"Helvetica,sans-Serif\" font-size=\"14.00\">class = N</text>\r\n",
       "</g>\r\n",
       "<!-- 145&#45;&gt;146 -->\r\n",
       "<g id=\"edge58\" class=\"edge\"><title>145&#45;&gt;146</title>\r\n",
       "<path fill=\"none\" stroke=\"black\" d=\"M2344,-205.972C2344,-197.691 2344,-189.003 2344,-180.483\"/>\r\n",
       "<polygon fill=\"black\" stroke=\"black\" points=\"2347.5,-180.214 2344,-170.214 2340.5,-180.214 2347.5,-180.214\"/>\r\n",
       "</g>\r\n",
       "<!-- 163 -->\r\n",
       "<g id=\"node62\" class=\"node\"><title>163</title>\r\n",
       "<path fill=\"#399de5\" fill-opacity=\"0.929412\" stroke=\"black\" d=\"M2626,-170C2626,-170 2474,-170 2474,-170 2468,-170 2462,-164 2462,-158 2462,-158 2462,-84 2462,-84 2462,-78 2468,-72 2474,-72 2474,-72 2626,-72 2626,-72 2632,-72 2638,-78 2638,-84 2638,-84 2638,-158 2638,-158 2638,-164 2632,-170 2626,-170\"/>\r\n",
       "<text text-anchor=\"start\" x=\"2515\" y=\"-154.8\" font-family=\"Helvetica,sans-Serif\" font-size=\"14.00\">node #163</text>\r\n",
       "<text text-anchor=\"start\" x=\"2470\" y=\"-139.8\" font-family=\"Helvetica,sans-Serif\" font-size=\"14.00\">LoanAmount_log ≤ 5.311</text>\r\n",
       "<text text-anchor=\"start\" x=\"2512.5\" y=\"-124.8\" font-family=\"Helvetica,sans-Serif\" font-size=\"14.00\">gini = 0.124</text>\r\n",
       "<text text-anchor=\"start\" x=\"2506.5\" y=\"-109.8\" font-family=\"Helvetica,sans-Serif\" font-size=\"14.00\">samples = 15</text>\r\n",
       "<text text-anchor=\"start\" x=\"2505.5\" y=\"-94.8\" font-family=\"Helvetica,sans-Serif\" font-size=\"14.00\">value = [1, 14]</text>\r\n",
       "<text text-anchor=\"start\" x=\"2520.5\" y=\"-79.8\" font-family=\"Helvetica,sans-Serif\" font-size=\"14.00\">class = N</text>\r\n",
       "</g>\r\n",
       "<!-- 145&#45;&gt;163 -->\r\n",
       "<g id=\"edge61\" class=\"edge\"><title>145&#45;&gt;163</title>\r\n",
       "<path fill=\"none\" stroke=\"black\" d=\"M2417.21,-207.09C2433.16,-196.867 2450.16,-185.976 2466.48,-175.519\"/>\r\n",
       "<polygon fill=\"black\" stroke=\"black\" points=\"2468.41,-178.438 2474.94,-170.096 2464.63,-172.544 2468.41,-178.438\"/>\r\n",
       "</g>\r\n",
       "<!-- 147 -->\r\n",
       "<g id=\"node60\" class=\"node\"><title>147</title>\r\n",
       "<path fill=\"#c0c0c0\" stroke=\"black\" d=\"M2321,-36C2321,-36 2291,-36 2291,-36 2285,-36 2279,-30 2279,-24 2279,-24 2279,-12 2279,-12 2279,-6 2285,-0 2291,-0 2291,-0 2321,-0 2321,-0 2327,-0 2333,-6 2333,-12 2333,-12 2333,-24 2333,-24 2333,-30 2327,-36 2321,-36\"/>\r\n",
       "<text text-anchor=\"middle\" x=\"2306\" y=\"-14.3\" font-family=\"Helvetica,sans-Serif\" font-size=\"14.00\">(...)</text>\r\n",
       "</g>\r\n",
       "<!-- 146&#45;&gt;147 -->\r\n",
       "<g id=\"edge59\" class=\"edge\"><title>146&#45;&gt;147</title>\r\n",
       "<path fill=\"none\" stroke=\"black\" d=\"M2325.89,-71.8664C2322.5,-62.8639 2319.08,-53.7609 2316.05,-45.7051\"/>\r\n",
       "<polygon fill=\"black\" stroke=\"black\" points=\"2319.25,-44.2745 2312.45,-36.1476 2312.7,-46.7396 2319.25,-44.2745\"/>\r\n",
       "</g>\r\n",
       "<!-- 162 -->\r\n",
       "<g id=\"node61\" class=\"node\"><title>162</title>\r\n",
       "<path fill=\"#c0c0c0\" stroke=\"black\" d=\"M2393,-36C2393,-36 2363,-36 2363,-36 2357,-36 2351,-30 2351,-24 2351,-24 2351,-12 2351,-12 2351,-6 2357,-0 2363,-0 2363,-0 2393,-0 2393,-0 2399,-0 2405,-6 2405,-12 2405,-12 2405,-24 2405,-24 2405,-30 2399,-36 2393,-36\"/>\r\n",
       "<text text-anchor=\"middle\" x=\"2378\" y=\"-14.3\" font-family=\"Helvetica,sans-Serif\" font-size=\"14.00\">(...)</text>\r\n",
       "</g>\r\n",
       "<!-- 146&#45;&gt;162 -->\r\n",
       "<g id=\"edge60\" class=\"edge\"><title>146&#45;&gt;162</title>\r\n",
       "<path fill=\"none\" stroke=\"black\" d=\"M2360.2,-71.8664C2363.23,-62.8639 2366.3,-53.7609 2369.01,-45.7051\"/>\r\n",
       "<polygon fill=\"black\" stroke=\"black\" points=\"2372.35,-46.7417 2372.23,-36.1476 2365.72,-44.5083 2372.35,-46.7417\"/>\r\n",
       "</g>\r\n",
       "<!-- 164 -->\r\n",
       "<g id=\"node63\" class=\"node\"><title>164</title>\r\n",
       "<path fill=\"#c0c0c0\" stroke=\"black\" d=\"M2498,-36C2498,-36 2468,-36 2468,-36 2462,-36 2456,-30 2456,-24 2456,-24 2456,-12 2456,-12 2456,-6 2462,-0 2468,-0 2468,-0 2498,-0 2498,-0 2504,-0 2510,-6 2510,-12 2510,-12 2510,-24 2510,-24 2510,-30 2504,-36 2498,-36\"/>\r\n",
       "<text text-anchor=\"middle\" x=\"2483\" y=\"-14.3\" font-family=\"Helvetica,sans-Serif\" font-size=\"14.00\">(...)</text>\r\n",
       "</g>\r\n",
       "<!-- 163&#45;&gt;164 -->\r\n",
       "<g id=\"edge62\" class=\"edge\"><title>163&#45;&gt;164</title>\r\n",
       "<path fill=\"none\" stroke=\"black\" d=\"M2518.07,-71.8664C2511.83,-62.4638 2505.52,-52.9515 2500.01,-44.6373\"/>\r\n",
       "<polygon fill=\"black\" stroke=\"black\" points=\"2502.82,-42.546 2494.38,-36.1476 2496.99,-46.4156 2502.82,-42.546\"/>\r\n",
       "</g>\r\n",
       "<!-- 165 -->\r\n",
       "<g id=\"node64\" class=\"node\"><title>165</title>\r\n",
       "<path fill=\"#c0c0c0\" stroke=\"black\" d=\"M2570,-36C2570,-36 2540,-36 2540,-36 2534,-36 2528,-30 2528,-24 2528,-24 2528,-12 2528,-12 2528,-6 2534,-0 2540,-0 2540,-0 2570,-0 2570,-0 2576,-0 2582,-6 2582,-12 2582,-12 2582,-24 2582,-24 2582,-30 2576,-36 2570,-36\"/>\r\n",
       "<text text-anchor=\"middle\" x=\"2555\" y=\"-14.3\" font-family=\"Helvetica,sans-Serif\" font-size=\"14.00\">(...)</text>\r\n",
       "</g>\r\n",
       "<!-- 163&#45;&gt;165 -->\r\n",
       "<g id=\"edge63\" class=\"edge\"><title>163&#45;&gt;165</title>\r\n",
       "<path fill=\"none\" stroke=\"black\" d=\"M2552.38,-71.8664C2552.82,-63.064 2553.26,-54.1654 2553.65,-46.2437\"/>\r\n",
       "<polygon fill=\"black\" stroke=\"black\" points=\"2557.15,-46.3084 2554.15,-36.1476 2550.16,-45.9622 2557.15,-46.3084\"/>\r\n",
       "</g>\r\n",
       "</g>\r\n",
       "</svg>\r\n"
      ],
      "text/plain": [
       "<graphviz.files.Source at 0x2723d1175f8>"
      ]
     },
     "execution_count": 599,
     "metadata": {},
     "output_type": "execute_result"
    }
   ],
   "source": [
    "dot_data = tree.export_graphviz(DecTree, out_file=None, feature_names=chosen_cols,class_names=target['Loan_Status'], filled=True,\n",
    "                                rounded=True,special_characters=True, label='all', max_depth=5,node_ids=True, rotate=False)  \n",
    "graph = graphviz.Source(dot_data)  \n",
    "graph "
   ]
  },
  {
   "cell_type": "code",
   "execution_count": 600,
   "metadata": {},
   "outputs": [
    {
     "data": {
      "text/plain": [
       "'DecTree_Model.pdf'"
      ]
     },
     "execution_count": 600,
     "metadata": {},
     "output_type": "execute_result"
    }
   ],
   "source": [
    "# To Export the Visualization\n",
    "dot_data = tree.export_graphviz(DecTree, out_file=None, feature_names=chosen_cols,class_names=target['Loan_Status'], filled=True,\n",
    "                                rounded=True,special_characters=True, label='all', max_depth=5,node_ids=True, rotate=False) \n",
    "graph = graphviz.Source(dot_data) \n",
    "graph.render(\"DecTree_Model\") \n",
    "\n",
    "#check your working directory for the below pdf file"
   ]
  },
  {
   "cell_type": "code",
   "execution_count": null,
   "metadata": {},
   "outputs": [],
   "source": []
  },
  {
   "cell_type": "markdown",
   "metadata": {},
   "source": [
    "# Let us Complete the same task with K Nearest Neighbour (KNN)"
   ]
  },
  {
   "cell_type": "code",
   "execution_count": 601,
   "metadata": {},
   "outputs": [],
   "source": [
    "from sklearn.neighbors import KNeighborsClassifier"
   ]
  },
  {
   "cell_type": "code",
   "execution_count": 602,
   "metadata": {},
   "outputs": [],
   "source": [
    "#Instantiating the Algorithm\n",
    "knn = KNeighborsClassifier(n_neighbors =5)\n"
   ]
  },
  {
   "cell_type": "code",
   "execution_count": 603,
   "metadata": {
    "scrolled": true
   },
   "outputs": [
    {
     "data": {
      "text/plain": [
       "KNeighborsClassifier(algorithm='auto', leaf_size=30, metric='minkowski',\n",
       "           metric_params=None, n_jobs=1, n_neighbors=5, p=2,\n",
       "           weights='uniform')"
      ]
     },
     "execution_count": 603,
     "metadata": {},
     "output_type": "execute_result"
    }
   ],
   "source": [
    "#Train the Model\n",
    "knn.fit(X_train,y_train.values)"
   ]
  },
  {
   "cell_type": "code",
   "execution_count": 604,
   "metadata": {},
   "outputs": [],
   "source": [
    "# Test the model\n",
    "KNN_pred = knn.predict(X_test)"
   ]
  },
  {
   "cell_type": "code",
   "execution_count": 605,
   "metadata": {},
   "outputs": [
    {
     "data": {
      "text/plain": [
       "0.6544715447154471"
      ]
     },
     "execution_count": 605,
     "metadata": {},
     "output_type": "execute_result"
    }
   ],
   "source": [
    "accuracy_score(y_test,KNN_pred)"
   ]
  },
  {
   "cell_type": "code",
   "execution_count": 606,
   "metadata": {},
   "outputs": [
    {
     "data": {
      "text/html": [
       "<div>\n",
       "<style scoped>\n",
       "    .dataframe tbody tr th:only-of-type {\n",
       "        vertical-align: middle;\n",
       "    }\n",
       "\n",
       "    .dataframe tbody tr th {\n",
       "        vertical-align: top;\n",
       "    }\n",
       "\n",
       "    .dataframe thead th {\n",
       "        text-align: right;\n",
       "    }\n",
       "</style>\n",
       "<table border=\"1\" class=\"dataframe\">\n",
       "  <thead>\n",
       "    <tr style=\"text-align: right;\">\n",
       "      <th>Predicted</th>\n",
       "      <th>N</th>\n",
       "      <th>Y</th>\n",
       "    </tr>\n",
       "    <tr>\n",
       "      <th>Actual</th>\n",
       "      <th></th>\n",
       "      <th></th>\n",
       "    </tr>\n",
       "  </thead>\n",
       "  <tbody>\n",
       "    <tr>\n",
       "      <th>N</th>\n",
       "      <td>17</td>\n",
       "      <td>68</td>\n",
       "    </tr>\n",
       "    <tr>\n",
       "      <th>Y</th>\n",
       "      <td>17</td>\n",
       "      <td>144</td>\n",
       "    </tr>\n",
       "  </tbody>\n",
       "</table>\n",
       "</div>"
      ],
      "text/plain": [
       "Predicted   N    Y\n",
       "Actual            \n",
       "N          17   68\n",
       "Y          17  144"
      ]
     },
     "execution_count": 606,
     "metadata": {},
     "output_type": "execute_result"
    }
   ],
   "source": [
    "pd.crosstab(y_test,KNN_pred, rownames = ['Actual'], colnames = ['Predicted'])"
   ]
  },
  {
   "cell_type": "code",
   "execution_count": 607,
   "metadata": {},
   "outputs": [
    {
     "name": "stdout",
     "output_type": "stream",
     "text": [
      "KNN :  0.6544715447154471\n",
      "Decision Tree:  0.7520325203252033\n",
      "Log_Reg:  0.7967479674796748\n",
      "R_Forest:  0.7682926829268293\n"
     ]
    }
   ],
   "source": [
    "# Results From All the Models Built\n",
    "\n",
    "print('KNN : ',accuracy_score(y_test,KNN_pred)  )\n",
    "print('Decision Tree: ', accuracy_score(y_test,DecTree_pred))\n",
    "print('Log_Reg: ', accuracy_score(y_test,logReg_predict))\n",
    "print('R_Forest: ',accuracy_score(y_test,y_pred_RF))"
   ]
  },
  {
   "cell_type": "code",
   "execution_count": null,
   "metadata": {},
   "outputs": [],
   "source": []
  },
  {
   "cell_type": "markdown",
   "metadata": {},
   "source": [
    "# CROSS VALIDATION "
   ]
  },
  {
   "cell_type": "code",
   "execution_count": 608,
   "metadata": {},
   "outputs": [],
   "source": [
    "validation_size = 0.40\n",
    "seed = 7\n",
    "scoring = 'accuracy'"
   ]
  },
  {
   "cell_type": "code",
   "execution_count": 609,
   "metadata": {},
   "outputs": [],
   "source": [
    "X_train, X_validation, Y_train, Y_validation = model_selection.train_test_split(X, y, test_size=validation_size, random_state=seed)\n"
   ]
  },
  {
   "cell_type": "code",
   "execution_count": 610,
   "metadata": {},
   "outputs": [],
   "source": [
    "models = []\n",
    "models.append(('LR_cv', LogisticRegression()))\n",
    "models.append(('KNN_cv', KNeighborsClassifier()))\n",
    "models.append(('RF_cv', RandomForestClassifier()))\n",
    "models.append(('DT_cv', DecisionTreeClassifier()))"
   ]
  },
  {
   "cell_type": "code",
   "execution_count": null,
   "metadata": {},
   "outputs": [],
   "source": []
  },
  {
   "cell_type": "code",
   "execution_count": 611,
   "metadata": {},
   "outputs": [
    {
     "name": "stdout",
     "output_type": "stream",
     "text": [
      "LR_cv: 0.815315 (0.061169)\n",
      "KNN_cv: 0.706381 (0.062169)\n",
      "RF_cv: 0.733483 (0.058798)\n",
      "DT_cv: 0.700901 (0.068112)\n"
     ]
    }
   ],
   "source": [
    "# TRAIN THE MODEL WITH CROSS_VAL TRAINING Set and evaluate each sample in turn () mean and std deviation\n",
    "results = []\n",
    "names = []\n",
    "for name, model in models:\n",
    "       \n",
    "    kfold = model_selection.KFold(n_splits=10, random_state=seed)\n",
    "\n",
    "    cv_results = model_selection.cross_val_score(model, X_train, Y_train, cv=kfold, scoring=scoring)\n",
    "    results.append(cv_results)\n",
    "    names.append(name)\n",
    "    msg = \"%s: %f (%f)\" % (name, cv_results.mean(), cv_results.std())\n",
    "    print(msg)"
   ]
  },
  {
   "cell_type": "code",
   "execution_count": null,
   "metadata": {},
   "outputs": [],
   "source": []
  },
  {
   "cell_type": "code",
   "execution_count": 612,
   "metadata": {},
   "outputs": [
    {
     "name": "stdout",
     "output_type": "stream",
     "text": [
      "0.8089430894308943\n",
      "[[ 35  45]\n",
      " [  2 164]]\n",
      "             precision    recall  f1-score   support\n",
      "\n",
      "          N       0.95      0.44      0.60        80\n",
      "          Y       0.78      0.99      0.87       166\n",
      "\n",
      "avg / total       0.84      0.81      0.78       246\n",
      "\n"
     ]
    }
   ],
   "source": [
    "# Make predictions on validation dataset:\n",
    "            #Logistic Regresson was the most accurate model that we trained. Now we want to get an idea of the accuracy of \n",
    "            #the model on our validation set\n",
    "LR_cv = LogisticRegression()\n",
    "LR_cv.fit(X_train, Y_train)\n",
    "\n",
    "LR_cv_pred = LR_cv.predict(X_validation)\n",
    "print(accuracy_score(Y_validation, LR_cv_pred))\n",
    "print(confusion_matrix(Y_validation, LR_cv_pred))\n",
    "print(classification_report(Y_validation, LR_cv_pred))"
   ]
  },
  {
   "cell_type": "code",
   "execution_count": 613,
   "metadata": {},
   "outputs": [],
   "source": [
    "# print( LR_cv.predict_proba(X_validation))"
   ]
  },
  {
   "cell_type": "code",
   "execution_count": 614,
   "metadata": {},
   "outputs": [
    {
     "data": {
      "text/html": [
       "<div>\n",
       "<style scoped>\n",
       "    .dataframe tbody tr th:only-of-type {\n",
       "        vertical-align: middle;\n",
       "    }\n",
       "\n",
       "    .dataframe tbody tr th {\n",
       "        vertical-align: top;\n",
       "    }\n",
       "\n",
       "    .dataframe thead th {\n",
       "        text-align: right;\n",
       "    }\n",
       "</style>\n",
       "<table border=\"1\" class=\"dataframe\">\n",
       "  <thead>\n",
       "    <tr style=\"text-align: right;\">\n",
       "      <th>Predicted</th>\n",
       "      <th>N</th>\n",
       "      <th>Y</th>\n",
       "    </tr>\n",
       "    <tr>\n",
       "      <th>Actual</th>\n",
       "      <th></th>\n",
       "      <th></th>\n",
       "    </tr>\n",
       "  </thead>\n",
       "  <tbody>\n",
       "    <tr>\n",
       "      <th>N</th>\n",
       "      <td>35</td>\n",
       "      <td>45</td>\n",
       "    </tr>\n",
       "    <tr>\n",
       "      <th>Y</th>\n",
       "      <td>2</td>\n",
       "      <td>164</td>\n",
       "    </tr>\n",
       "  </tbody>\n",
       "</table>\n",
       "</div>"
      ],
      "text/plain": [
       "Predicted   N    Y\n",
       "Actual            \n",
       "N          35   45\n",
       "Y           2  164"
      ]
     },
     "execution_count": 614,
     "metadata": {},
     "output_type": "execute_result"
    }
   ],
   "source": [
    "# Neater Confusion Matrix\n",
    "pd.crosstab(Y_validation,LR_cv_pred, rownames = ['Actual'], colnames = ['Predicted'])"
   ]
  },
  {
   "cell_type": "code",
   "execution_count": 615,
   "metadata": {},
   "outputs": [
    {
     "data": {
      "image/png": "[encoded data removed]",
      "text/plain": [
       "<Figure size 864x576 with 2 Axes>"
      ]
     },
     "metadata": {},
     "output_type": "display_data"
    }
   ],
   "source": [
    "# Plot Normalized confusion matrix\n",
    "conf_m = confusion_matrix(Y_validation, LR_cv_pred)\n",
    "cf_mat_p = conf_m/conf_m.sum()\n",
    "\n",
    "plt.figure(figsize=(12,8))\n",
    "sns.heatmap(cf_mat_p, annot=True, linewidths=.5, cmap=cm.summer,xticklabels=['No','Yes'], yticklabels=['No','Yes'])\n",
    "plt.ylabel('Actual')\n",
    "plt.xlabel('Predicted label')\n",
    "plt.title(\"Confusion Matrix\")\n",
    "plt.show()"
   ]
  },
  {
   "cell_type": "code",
   "execution_count": null,
   "metadata": {},
   "outputs": [],
   "source": []
  },
  {
   "cell_type": "code",
   "execution_count": null,
   "metadata": {},
   "outputs": [],
   "source": []
  },
  {
   "cell_type": "code",
   "execution_count": 616,
   "metadata": {},
   "outputs": [
    {
     "name": "stdout",
     "output_type": "stream",
     "text": [
      "0.7113821138211383\n",
      "[[ 46  34]\n",
      " [ 37 129]]\n",
      "             precision    recall  f1-score   support\n",
      "\n",
      "          N       0.55      0.57      0.56        80\n",
      "          Y       0.79      0.78      0.78       166\n",
      "\n",
      "avg / total       0.71      0.71      0.71       246\n",
      "\n"
     ]
    }
   ],
   "source": [
    "# Make predictions on validation dataset:\n",
    "            #Random forest was the next most accurate model that we trained. Now we want to get an idea of the accuracy of \n",
    "            #the model on our validation set\n",
    "RF_cv = RandomForestClassifier()\n",
    "RF_cv.fit(X_train, Y_train)\n",
    "\n",
    "RF_cv_pred = RF_cv.predict(X_validation)\n",
    "print(accuracy_score(Y_validation, RF_cv_pred))\n",
    "print(confusion_matrix(Y_validation, RF_cv_pred))\n",
    "print(classification_report(Y_validation, RF_cv_pred))"
   ]
  },
  {
   "cell_type": "code",
   "execution_count": 617,
   "metadata": {},
   "outputs": [
    {
     "data": {
      "text/html": [
       "<div>\n",
       "<style scoped>\n",
       "    .dataframe tbody tr th:only-of-type {\n",
       "        vertical-align: middle;\n",
       "    }\n",
       "\n",
       "    .dataframe tbody tr th {\n",
       "        vertical-align: top;\n",
       "    }\n",
       "\n",
       "    .dataframe thead th {\n",
       "        text-align: right;\n",
       "    }\n",
       "</style>\n",
       "<table border=\"1\" class=\"dataframe\">\n",
       "  <thead>\n",
       "    <tr style=\"text-align: right;\">\n",
       "      <th>Predicted</th>\n",
       "      <th>N</th>\n",
       "      <th>Y</th>\n",
       "    </tr>\n",
       "    <tr>\n",
       "      <th>Actual</th>\n",
       "      <th></th>\n",
       "      <th></th>\n",
       "    </tr>\n",
       "  </thead>\n",
       "  <tbody>\n",
       "    <tr>\n",
       "      <th>N</th>\n",
       "      <td>46</td>\n",
       "      <td>34</td>\n",
       "    </tr>\n",
       "    <tr>\n",
       "      <th>Y</th>\n",
       "      <td>37</td>\n",
       "      <td>129</td>\n",
       "    </tr>\n",
       "  </tbody>\n",
       "</table>\n",
       "</div>"
      ],
      "text/plain": [
       "Predicted   N    Y\n",
       "Actual            \n",
       "N          46   34\n",
       "Y          37  129"
      ]
     },
     "execution_count": 617,
     "metadata": {},
     "output_type": "execute_result"
    }
   ],
   "source": [
    "# Neater Confusion Matrix\n",
    "pd.crosstab(Y_validation,RF_cv_pred, rownames = ['Actual'], colnames = ['Predicted'])"
   ]
  },
  {
   "cell_type": "code",
   "execution_count": 618,
   "metadata": {},
   "outputs": [
    {
     "data": {
      "image/png": "[encoded data removed]",
      "text/plain": [
       "<Figure size 864x576 with 2 Axes>"
      ]
     },
     "metadata": {},
     "output_type": "display_data"
    }
   ],
   "source": [
    "# Plot Normalized confusion matrix\n",
    "conf_m = confusion_matrix(Y_validation, RF_cv_pred)\n",
    "cf_mat_p = conf_m/conf_m.sum()\n",
    "\n",
    "plt.figure(figsize=(12,8))\n",
    "sns.heatmap(cf_mat_p, annot=True, linewidths=.5, cmap=cm.summer,xticklabels=['No','Yes'], yticklabels=['No','Yes'])\n",
    "plt.ylabel('Actual')\n",
    "plt.xlabel('Predicted label')\n",
    "plt.title(\"Confusion Matrix\")\n",
    "plt.show()"
   ]
  },
  {
   "cell_type": "code",
   "execution_count": null,
   "metadata": {},
   "outputs": [],
   "source": []
  },
  {
   "cell_type": "code",
   "execution_count": null,
   "metadata": {},
   "outputs": [],
   "source": []
  },
  {
   "cell_type": "markdown",
   "metadata": {},
   "source": [
    "# Using the Best Model (Logistic Regression) to Predict New Applicant Data"
   ]
  },
  {
   "cell_type": "code",
   "execution_count": 670,
   "metadata": {},
   "outputs": [],
   "source": [
    "testData = pd.read_csv('New Loan Applicants.csv')"
   ]
  },
  {
   "cell_type": "code",
   "execution_count": 671,
   "metadata": {},
   "outputs": [
    {
     "data": {
      "text/html": [
       "<div>\n",
       "<style scoped>\n",
       "    .dataframe tbody tr th:only-of-type {\n",
       "        vertical-align: middle;\n",
       "    }\n",
       "\n",
       "    .dataframe tbody tr th {\n",
       "        vertical-align: top;\n",
       "    }\n",
       "\n",
       "    .dataframe thead th {\n",
       "        text-align: right;\n",
       "    }\n",
       "</style>\n",
       "<table border=\"1\" class=\"dataframe\">\n",
       "  <thead>\n",
       "    <tr style=\"text-align: right;\">\n",
       "      <th></th>\n",
       "      <th>Loan_ID</th>\n",
       "      <th>Gender</th>\n",
       "      <th>Married</th>\n",
       "      <th>Dependents</th>\n",
       "      <th>Education</th>\n",
       "      <th>Self_Employed</th>\n",
       "      <th>ApplicantIncome</th>\n",
       "      <th>CoapplicantIncome</th>\n",
       "      <th>LoanAmount</th>\n",
       "      <th>Loan_Amount_Term</th>\n",
       "      <th>Credit_History</th>\n",
       "      <th>Property_Area</th>\n",
       "    </tr>\n",
       "  </thead>\n",
       "  <tbody>\n",
       "    <tr>\n",
       "      <th>0</th>\n",
       "      <td>LP001015</td>\n",
       "      <td>Male</td>\n",
       "      <td>Yes</td>\n",
       "      <td>0</td>\n",
       "      <td>Graduate</td>\n",
       "      <td>No</td>\n",
       "      <td>5720</td>\n",
       "      <td>0</td>\n",
       "      <td>110.0</td>\n",
       "      <td>360.0</td>\n",
       "      <td>1.0</td>\n",
       "      <td>Urban</td>\n",
       "    </tr>\n",
       "    <tr>\n",
       "      <th>1</th>\n",
       "      <td>LP001022</td>\n",
       "      <td>Male</td>\n",
       "      <td>Yes</td>\n",
       "      <td>1</td>\n",
       "      <td>Graduate</td>\n",
       "      <td>No</td>\n",
       "      <td>3076</td>\n",
       "      <td>1500</td>\n",
       "      <td>126.0</td>\n",
       "      <td>360.0</td>\n",
       "      <td>1.0</td>\n",
       "      <td>Urban</td>\n",
       "    </tr>\n",
       "  </tbody>\n",
       "</table>\n",
       "</div>"
      ],
      "text/plain": [
       "    Loan_ID Gender Married Dependents Education Self_Employed  \\\n",
       "0  LP001015   Male     Yes          0  Graduate            No   \n",
       "1  LP001022   Male     Yes          1  Graduate            No   \n",
       "\n",
       "   ApplicantIncome  CoapplicantIncome  LoanAmount  Loan_Amount_Term  \\\n",
       "0             5720                  0       110.0             360.0   \n",
       "1             3076               1500       126.0             360.0   \n",
       "\n",
       "   Credit_History Property_Area  \n",
       "0             1.0         Urban  \n",
       "1             1.0         Urban  "
      ]
     },
     "execution_count": 671,
     "metadata": {},
     "output_type": "execute_result"
    }
   ],
   "source": [
    "testData.head(2)"
   ]
  },
  {
   "cell_type": "code",
   "execution_count": 672,
   "metadata": {},
   "outputs": [
    {
     "data": {
      "text/plain": [
       "Loan_ID               0\n",
       "Gender               11\n",
       "Married               0\n",
       "Dependents           10\n",
       "Education             0\n",
       "Self_Employed        23\n",
       "ApplicantIncome       0\n",
       "CoapplicantIncome     0\n",
       "LoanAmount            5\n",
       "Loan_Amount_Term      6\n",
       "Credit_History       29\n",
       "Property_Area         0\n",
       "dtype: int64"
      ]
     },
     "execution_count": 672,
     "metadata": {},
     "output_type": "execute_result"
    }
   ],
   "source": [
    "testData.isnull().sum()"
   ]
  },
  {
   "cell_type": "code",
   "execution_count": 673,
   "metadata": {},
   "outputs": [
    {
     "data": {
      "text/plain": [
       "0"
      ]
     },
     "execution_count": 673,
     "metadata": {},
     "output_type": "execute_result"
    }
   ],
   "source": [
    "testData.Gender.fillna(\"Male\",inplace =True)\n",
    "testData.Gender.isnull().sum()"
   ]
  },
  {
   "cell_type": "code",
   "execution_count": 674,
   "metadata": {},
   "outputs": [],
   "source": [
    "testData.Married.fillna(\"Yes\",inplace=True)\n",
    "testData.Credit_History.fillna(1.0,inplace=True)\n",
    "testData.LoanAmount.fillna(testData.LoanAmount.mean(),inplace=True)\n",
    "testData.Loan_Amount_Term.fillna(testData.Loan_Amount_Term.mean(),inplace=True)\n",
    "testData.Self_Employed.fillna(\"No\",inplace=True)\n",
    "testData.Dependents.fillna(0,inplace=True)"
   ]
  },
  {
   "cell_type": "code",
   "execution_count": 675,
   "metadata": {},
   "outputs": [],
   "source": [
    "testDataNew = pd.get_dummies(testData, columns = ['Gender', 'Married', 'Dependents',\n",
    "                                    'Education', 'Self_Employed', 'Property_Area'], drop_first= True)"
   ]
  },
  {
   "cell_type": "code",
   "execution_count": 691,
   "metadata": {},
   "outputs": [],
   "source": [
    "testDataNew['LoanAmount_log10'] = np.log10(testDataNew['LoanAmount'])"
   ]
  },
  {
   "cell_type": "code",
   "execution_count": 692,
   "metadata": {},
   "outputs": [
    {
     "data": {
      "text/html": [
       "<div>\n",
       "<style scoped>\n",
       "    .dataframe tbody tr th:only-of-type {\n",
       "        vertical-align: middle;\n",
       "    }\n",
       "\n",
       "    .dataframe tbody tr th {\n",
       "        vertical-align: top;\n",
       "    }\n",
       "\n",
       "    .dataframe thead th {\n",
       "        text-align: right;\n",
       "    }\n",
       "</style>\n",
       "<table border=\"1\" class=\"dataframe\">\n",
       "  <thead>\n",
       "    <tr style=\"text-align: right;\">\n",
       "      <th></th>\n",
       "      <th>Loan_ID</th>\n",
       "      <th>ApplicantIncome</th>\n",
       "      <th>CoapplicantIncome</th>\n",
       "      <th>LoanAmount</th>\n",
       "      <th>Loan_Amount_Term</th>\n",
       "      <th>Credit_History</th>\n",
       "      <th>Gender_Male</th>\n",
       "      <th>Married_Yes</th>\n",
       "      <th>Dependents_0</th>\n",
       "      <th>Dependents_1</th>\n",
       "      <th>Dependents_2</th>\n",
       "      <th>Dependents_3+</th>\n",
       "      <th>Education_Not Graduate</th>\n",
       "      <th>Self_Employed_Yes</th>\n",
       "      <th>Property_Area_Semiurban</th>\n",
       "      <th>Property_Area_Urban</th>\n",
       "      <th>LoanAmount_log10</th>\n",
       "    </tr>\n",
       "  </thead>\n",
       "  <tbody>\n",
       "    <tr>\n",
       "      <th>0</th>\n",
       "      <td>LP001015</td>\n",
       "      <td>5720</td>\n",
       "      <td>0</td>\n",
       "      <td>110.0</td>\n",
       "      <td>360.0</td>\n",
       "      <td>1.0</td>\n",
       "      <td>1</td>\n",
       "      <td>1</td>\n",
       "      <td>1</td>\n",
       "      <td>0</td>\n",
       "      <td>0</td>\n",
       "      <td>0</td>\n",
       "      <td>0</td>\n",
       "      <td>0</td>\n",
       "      <td>0</td>\n",
       "      <td>1</td>\n",
       "      <td>2.041393</td>\n",
       "    </tr>\n",
       "    <tr>\n",
       "      <th>1</th>\n",
       "      <td>LP001022</td>\n",
       "      <td>3076</td>\n",
       "      <td>1500</td>\n",
       "      <td>126.0</td>\n",
       "      <td>360.0</td>\n",
       "      <td>1.0</td>\n",
       "      <td>1</td>\n",
       "      <td>1</td>\n",
       "      <td>0</td>\n",
       "      <td>1</td>\n",
       "      <td>0</td>\n",
       "      <td>0</td>\n",
       "      <td>0</td>\n",
       "      <td>0</td>\n",
       "      <td>0</td>\n",
       "      <td>1</td>\n",
       "      <td>2.100371</td>\n",
       "    </tr>\n",
       "  </tbody>\n",
       "</table>\n",
       "</div>"
      ],
      "text/plain": [
       "    Loan_ID  ApplicantIncome  CoapplicantIncome  LoanAmount  Loan_Amount_Term  \\\n",
       "0  LP001015             5720                  0       110.0             360.0   \n",
       "1  LP001022             3076               1500       126.0             360.0   \n",
       "\n",
       "   Credit_History  Gender_Male  Married_Yes  Dependents_0  Dependents_1  \\\n",
       "0             1.0            1            1             1             0   \n",
       "1             1.0            1            1             0             1   \n",
       "\n",
       "   Dependents_2  Dependents_3+  Education_Not Graduate  Self_Employed_Yes  \\\n",
       "0             0              0                       0                  0   \n",
       "1             0              0                       0                  0   \n",
       "\n",
       "   Property_Area_Semiurban  Property_Area_Urban  LoanAmount_log10  \n",
       "0                        0                    1          2.041393  \n",
       "1                        0                    1          2.100371  "
      ]
     },
     "execution_count": 692,
     "metadata": {},
     "output_type": "execute_result"
    }
   ],
   "source": [
    "testDataNew.head(2)"
   ]
  },
  {
   "cell_type": "code",
   "execution_count": 693,
   "metadata": {},
   "outputs": [
    {
     "data": {
      "text/plain": [
       "Index(['Loan_ID', 'ApplicantIncome', 'CoapplicantIncome', 'LoanAmount',\n",
       "       'Loan_Amount_Term', 'Credit_History', 'Gender_Male', 'Married_Yes',\n",
       "       'Dependents_0', 'Dependents_1', 'Dependents_2', 'Dependents_3+',\n",
       "       'Education_Not Graduate', 'Self_Employed_Yes',\n",
       "       'Property_Area_Semiurban', 'Property_Area_Urban', 'LoanAmount_log10'],\n",
       "      dtype='object')"
      ]
     },
     "execution_count": 693,
     "metadata": {},
     "output_type": "execute_result"
    }
   ],
   "source": [
    "testDataNew.columns"
   ]
  },
  {
   "cell_type": "code",
   "execution_count": 694,
   "metadata": {},
   "outputs": [],
   "source": [
    "feature_columns = ['CoapplicantIncome',\n",
    " 'Credit_History',\n",
    " 'LoanAmount_log10',\n",
    " 'Married_Yes',\n",
    " 'Dependents_2',\n",
    " 'Education_Not Graduate',\n",
    " 'Property_Area_Semiurban',\n",
    " 'Property_Area_Urban']"
   ]
  },
  {
   "cell_type": "code",
   "execution_count": 695,
   "metadata": {},
   "outputs": [
    {
     "data": {
      "text/plain": [
       "['CoapplicantIncome',\n",
       " 'Credit_History',\n",
       " 'LoanAmount_log10',\n",
       " 'Married_Yes',\n",
       " 'Dependents_2',\n",
       " 'Education_Not Graduate',\n",
       " 'Property_Area_Semiurban',\n",
       " 'Property_Area_Urban']"
      ]
     },
     "execution_count": 695,
     "metadata": {},
     "output_type": "execute_result"
    }
   ],
   "source": [
    "feature_columns"
   ]
  },
  {
   "cell_type": "code",
   "execution_count": 696,
   "metadata": {},
   "outputs": [],
   "source": [
    "New_App = testDataNew[feature_columns]"
   ]
  },
  {
   "cell_type": "code",
   "execution_count": 697,
   "metadata": {},
   "outputs": [
    {
     "data": {
      "text/html": [
       "<div>\n",
       "<style scoped>\n",
       "    .dataframe tbody tr th:only-of-type {\n",
       "        vertical-align: middle;\n",
       "    }\n",
       "\n",
       "    .dataframe tbody tr th {\n",
       "        vertical-align: top;\n",
       "    }\n",
       "\n",
       "    .dataframe thead th {\n",
       "        text-align: right;\n",
       "    }\n",
       "</style>\n",
       "<table border=\"1\" class=\"dataframe\">\n",
       "  <thead>\n",
       "    <tr style=\"text-align: right;\">\n",
       "      <th></th>\n",
       "      <th>CoapplicantIncome</th>\n",
       "      <th>Credit_History</th>\n",
       "      <th>LoanAmount_log10</th>\n",
       "      <th>Married_Yes</th>\n",
       "      <th>Dependents_2</th>\n",
       "      <th>Education_Not Graduate</th>\n",
       "      <th>Property_Area_Semiurban</th>\n",
       "      <th>Property_Area_Urban</th>\n",
       "    </tr>\n",
       "  </thead>\n",
       "  <tbody>\n",
       "    <tr>\n",
       "      <th>0</th>\n",
       "      <td>0</td>\n",
       "      <td>1.0</td>\n",
       "      <td>2.041393</td>\n",
       "      <td>1</td>\n",
       "      <td>0</td>\n",
       "      <td>0</td>\n",
       "      <td>0</td>\n",
       "      <td>1</td>\n",
       "    </tr>\n",
       "    <tr>\n",
       "      <th>1</th>\n",
       "      <td>1500</td>\n",
       "      <td>1.0</td>\n",
       "      <td>2.100371</td>\n",
       "      <td>1</td>\n",
       "      <td>0</td>\n",
       "      <td>0</td>\n",
       "      <td>0</td>\n",
       "      <td>1</td>\n",
       "    </tr>\n",
       "  </tbody>\n",
       "</table>\n",
       "</div>"
      ],
      "text/plain": [
       "   CoapplicantIncome  Credit_History  LoanAmount_log10  Married_Yes  \\\n",
       "0                  0             1.0          2.041393            1   \n",
       "1               1500             1.0          2.100371            1   \n",
       "\n",
       "   Dependents_2  Education_Not Graduate  Property_Area_Semiurban  \\\n",
       "0             0                       0                        0   \n",
       "1             0                       0                        0   \n",
       "\n",
       "   Property_Area_Urban  \n",
       "0                    1  \n",
       "1                    1  "
      ]
     },
     "execution_count": 697,
     "metadata": {},
     "output_type": "execute_result"
    }
   ],
   "source": [
    "New_App.head(2)"
   ]
  },
  {
   "cell_type": "code",
   "execution_count": 698,
   "metadata": {},
   "outputs": [],
   "source": [
    "New_App_Score = LR_cv.predict(New_App)"
   ]
  },
  {
   "cell_type": "code",
   "execution_count": 699,
   "metadata": {},
   "outputs": [
    {
     "data": {
      "text/plain": [
       "array(['Y', 'Y', 'Y', 'Y', 'Y', 'Y', 'Y', 'N', 'Y', 'Y', 'Y', 'Y', 'Y',\n",
       "       'Y', 'Y', 'Y', 'Y', 'Y', 'Y', 'Y', 'Y', 'Y', 'Y', 'Y', 'Y', 'N',\n",
       "       'Y', 'Y', 'Y', 'Y', 'Y', 'Y', 'Y', 'Y', 'Y', 'N', 'Y', 'Y', 'Y',\n",
       "       'Y', 'Y', 'Y', 'Y', 'Y', 'Y', 'Y', 'Y', 'Y', 'Y', 'Y', 'Y', 'Y',\n",
       "       'Y', 'Y', 'Y', 'N', 'Y', 'Y', 'Y', 'Y', 'Y', 'Y', 'Y', 'N', 'Y',\n",
       "       'Y', 'N', 'Y', 'Y', 'N', 'Y', 'Y', 'Y', 'Y', 'Y', 'Y', 'Y', 'Y',\n",
       "       'Y', 'Y', 'N', 'Y', 'N', 'Y', 'Y', 'Y', 'Y', 'Y', 'Y', 'Y', 'Y',\n",
       "       'Y', 'Y', 'Y', 'Y', 'Y', 'Y', 'Y', 'Y', 'Y', 'Y', 'Y', 'Y', 'Y',\n",
       "       'Y', 'Y', 'N', 'Y', 'Y', 'Y', 'Y', 'Y', 'Y', 'Y', 'Y', 'Y', 'Y',\n",
       "       'N', 'N', 'N', 'Y', 'Y', 'Y', 'N', 'N', 'Y', 'N', 'Y', 'Y', 'Y',\n",
       "       'Y', 'Y', 'Y', 'Y', 'Y', 'Y', 'Y', 'Y', 'Y', 'Y', 'N', 'Y', 'N',\n",
       "       'Y', 'Y', 'Y', 'Y', 'N', 'Y', 'Y', 'Y', 'Y', 'Y', 'N', 'Y', 'Y',\n",
       "       'Y', 'Y', 'Y', 'Y', 'Y', 'N', 'Y', 'Y', 'Y', 'N', 'N', 'Y', 'Y',\n",
       "       'Y', 'Y', 'Y', 'Y', 'N', 'N', 'Y', 'Y', 'Y', 'Y', 'Y', 'Y', 'Y',\n",
       "       'Y', 'Y', 'Y', 'Y', 'Y', 'Y', 'Y', 'Y', 'Y', 'Y', 'N', 'N', 'Y',\n",
       "       'Y', 'Y', 'Y', 'N', 'Y', 'Y', 'Y', 'Y', 'Y', 'Y', 'Y', 'Y', 'Y',\n",
       "       'Y', 'Y', 'Y', 'N', 'Y', 'Y', 'Y', 'Y', 'Y', 'Y', 'Y', 'Y', 'Y',\n",
       "       'Y', 'Y', 'Y', 'Y', 'Y', 'Y', 'Y', 'Y', 'N', 'Y', 'Y', 'Y', 'Y',\n",
       "       'Y', 'N', 'N', 'Y', 'Y', 'Y', 'Y', 'Y', 'Y', 'N', 'Y', 'N', 'Y',\n",
       "       'Y', 'Y', 'Y', 'N', 'Y', 'Y', 'Y', 'Y', 'N', 'Y', 'Y', 'Y', 'Y',\n",
       "       'Y', 'Y', 'Y', 'Y', 'Y', 'Y', 'N', 'Y', 'Y', 'Y', 'Y', 'Y', 'Y',\n",
       "       'Y', 'N', 'Y', 'Y', 'Y', 'N', 'Y', 'Y', 'Y', 'Y', 'Y', 'Y', 'Y',\n",
       "       'Y', 'Y', 'Y', 'Y', 'Y', 'Y', 'Y', 'N', 'Y', 'Y', 'Y', 'Y', 'Y',\n",
       "       'Y', 'Y', 'N', 'Y', 'Y', 'Y', 'Y', 'Y', 'Y', 'Y', 'Y', 'Y', 'N',\n",
       "       'Y', 'Y', 'Y', 'Y', 'Y', 'N', 'Y', 'Y', 'Y', 'Y', 'Y', 'Y', 'Y',\n",
       "       'N', 'Y', 'Y', 'Y', 'Y', 'Y', 'Y', 'Y', 'Y', 'Y', 'Y', 'Y', 'Y',\n",
       "       'Y', 'N', 'Y', 'Y', 'Y', 'Y', 'Y', 'Y', 'N', 'Y', 'Y', 'Y', 'Y',\n",
       "       'Y', 'Y', 'Y', 'N', 'Y', 'Y', 'Y', 'Y', 'Y', 'Y', 'Y', 'Y', 'Y',\n",
       "       'Y', 'Y', 'Y'], dtype=object)"
      ]
     },
     "execution_count": 699,
     "metadata": {},
     "output_type": "execute_result"
    }
   ],
   "source": [
    "New_App_Score"
   ]
  },
  {
   "cell_type": "code",
   "execution_count": 700,
   "metadata": {},
   "outputs": [],
   "source": [
    "##Store the final result in a csv file to be passed to decision makers to use.\n",
    "\n",
    "pd.DataFrame({'Loan_ID':testDataNew.Loan_ID,'Loan_Status':New_App_Score}).to_csv('Result.csv',index=False)"
   ]
  },
  {
   "cell_type": "code",
   "execution_count": 701,
   "metadata": {},
   "outputs": [],
   "source": [
    "Ne = pd.DataFrame({'Loan_ID':testDataNew.Loan_ID,'Loan_Status':New_App_Score})"
   ]
  },
  {
   "cell_type": "code",
   "execution_count": 702,
   "metadata": {},
   "outputs": [
    {
     "data": {
      "image/png": "[encoded data removed]",
      "text/plain": [
       "<Figure size 936x432 with 2 Axes>"
      ]
     },
     "metadata": {},
     "output_type": "display_data"
    }
   ],
   "source": [
    "plt.figure(figsize=(13,6))\n",
    "plt.subplot(121)\n",
    "Ne[\"Loan_Status\"].value_counts().plot.pie(autopct  = \"%1.0f%%\",\n",
    "                                        fontsize = 12,\n",
    "                                        wedgeprops = {\"linewidth\" : 2,\n",
    "                                                      \"edgecolor\" : \"w\"},\n",
    "                                       )\n",
    "plt.title(\"Proportion of Customer Loan Status\")\n",
    "plt.ylabel(\"\")\n",
    "\n",
    "plt.subplot(122)\n",
    "ax = sns.countplot(y = Ne[\"Loan_Status\"],linewidth = 2,\n",
    "                   edgecolor = \"k\"*Ne[\"Loan_Status\"].nunique())\n",
    "for i,j in enumerate(Ne[\"Loan_Status\"].value_counts().values) : \n",
    "    ax.text(.1,i,j,fontsize = 15,color = \"k\")\n",
    "plt.title(\"Proportion of Customer Loan Status\")\n",
    "plt.grid(True,alpha = .1)\n",
    "    \n",
    "plt.show()"
   ]
  },
  {
   "cell_type": "code",
   "execution_count": null,
   "metadata": {},
   "outputs": [],
   "source": []
  }
 ],
 "metadata": {
  "kernelspec": {
   "display_name": "Python 3",
   "language": "python",
   "name": "python3"
  },
  "language_info": {
   "codemirror_mode": {
    "name": "ipython",
    "version": 3
   },
   "file_extension": ".py",
   "mimetype": "text/x-python",
   "name": "python",
   "nbconvert_exporter": "python",
   "pygments_lexer": "ipython3",
   "version": "3.7.0"
  }
 },
 "nbformat": 4,
 "nbformat_minor": 2
}
